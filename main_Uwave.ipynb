{
 "cells": [
  {
   "cell_type": "code",
   "execution_count": 1,
   "metadata": {
    "colab": {},
    "colab_type": "code",
    "id": "4y7_sbSIxg6E",
    "outputId": "929e3bc6-f359-4add-ce57-077422b03c56"
   },
   "outputs": [
    {
     "name": "stderr",
     "output_type": "stream",
     "text": [
      "/home/sohee/.local/lib/python3.6/site-packages/pandas/compat/__init__.py:85: UserWarning: Could not import the lzma module. Your installed Python is incomplete. Attempting to use lzma compression will result in a RuntimeError.\n",
      "  warnings.warn(msg)\n",
      "/home/sohee/.local/lib/python3.6/site-packages/pandas/compat/__init__.py:85: UserWarning: Could not import the lzma module. Your installed Python is incomplete. Attempting to use lzma compression will result in a RuntimeError.\n",
      "  warnings.warn(msg)\n"
     ]
    }
   ],
   "source": [
    "import pandas as pd\n",
    "import numpy as np\n",
    "import matplotlib.pyplot as plt"
   ]
  },
  {
   "cell_type": "code",
   "execution_count": 2,
   "metadata": {},
   "outputs": [],
   "source": [
    "import itertools\n",
    "from itertools import groupby\n",
    "import os"
   ]
  },
  {
   "cell_type": "code",
   "execution_count": 3,
   "metadata": {},
   "outputs": [],
   "source": [
    "os.environ[\"CUDA_VISIBLE_DEVICES\"]=\"1,2,3,4\""
   ]
  },
  {
   "cell_type": "markdown",
   "metadata": {
    "colab_type": "text",
    "id": "xYklN3iMxg6M"
   },
   "source": [
    "# 1. Data Load\n",
    "### 전처리 width, height, input_channel 정의"
   ]
  },
  {
   "cell_type": "code",
   "execution_count": 4,
   "metadata": {
    "colab": {},
    "colab_type": "code",
    "id": "a2XqoXoUxg6N"
   },
   "outputs": [],
   "source": [
    "from load_data import load_data,class_breakdown"
   ]
  },
  {
   "cell_type": "code",
   "execution_count": 5,
   "metadata": {},
   "outputs": [],
   "source": [
    "def readucr(filename):\n",
    "    data = np.loadtxt(filename)\n",
    "    Y = data[:,0]\n",
    "    X = data[:,1:]\n",
    "    return X, Y"
   ]
  },
  {
   "cell_type": "code",
   "execution_count": 99,
   "metadata": {},
   "outputs": [],
   "source": [
    "data_name = 'UWave'\n",
    "full_name =\"UWaveGestureLibraryAll\"\n",
    "#Train수가 더 적어서 파일을 바꿈\n",
    "trainx, trainy = readucr('data/'+full_name+'/'+full_name+'_TEST.txt')\n",
    "testx, testy = readucr('data/'+full_name+'/'+full_name+'_TRAIN.txt')\n",
    "batch_size = min(int(trainx.shape[0]/10), 32)"
   ]
  },
  {
   "cell_type": "code",
   "execution_count": 7,
   "metadata": {},
   "outputs": [
    {
     "name": "stdout",
     "output_type": "stream",
     "text": [
      "(3582, 945)\n",
      "(896, 945)\n"
     ]
    }
   ],
   "source": [
    "print(trainx.shape)\n",
    "print(testx.shape)"
   ]
  },
  {
   "cell_type": "code",
   "execution_count": 8,
   "metadata": {
    "colab": {},
    "colab_type": "code",
    "id": "xyupyd-hxg6T",
    "outputId": "dcff2c15-b58d-4c33-989a-d54de283fa66"
   },
   "outputs": [
    {
     "name": "stdout",
     "output_type": "stream",
     "text": [
      "Class=1, total=437, percentage=12.200\n",
      "Class=2, total=452, percentage=12.619\n",
      "Class=3, total=454, percentage=12.674\n",
      "Class=4, total=450, percentage=12.563\n",
      "Class=5, total=433, percentage=12.088\n",
      "Class=6, total=449, percentage=12.535\n",
      "Class=7, total=447, percentage=12.479\n",
      "Class=8, total=460, percentage=12.842\n",
      "Class=1, total=122, percentage=13.616\n",
      "Class=2, total=108, percentage=12.054\n",
      "Class=3, total=106, percentage=11.830\n",
      "Class=4, total=110, percentage=12.277\n",
      "Class=5, total=127, percentage=14.174\n",
      "Class=6, total=111, percentage=12.388\n",
      "Class=7, total=112, percentage=12.500\n",
      "Class=8, total=100, percentage=11.161\n"
     ]
    }
   ],
   "source": [
    "class_breakdown(trainy)\n",
    "class_breakdown(testy)"
   ]
  },
  {
   "cell_type": "code",
   "execution_count": 9,
   "metadata": {
    "colab": {},
    "colab_type": "code",
    "id": "ROHthjPBxg6V"
   },
   "outputs": [
    {
     "name": "stdout",
     "output_type": "stream",
     "text": [
      "y train shape: (3582, 8)\n",
      "y test shape: (896, 8)\n"
     ]
    }
   ],
   "source": [
    "hot_encoded_y_train = np.asarray(pd.get_dummies(np.asarray(trainy.flatten())))\n",
    "hot_encoded_y_test = np.asarray(pd.get_dummies(np.asarray(testy.flatten())))\n",
    "print(\"y train shape: {}\".format(hot_encoded_y_train.shape))\n",
    "print(\"y test shape: {}\".format(hot_encoded_y_test.shape))"
   ]
  },
  {
   "cell_type": "markdown",
   "metadata": {},
   "source": [
    "## 데이터 정규화"
   ]
  },
  {
   "cell_type": "code",
   "execution_count": 10,
   "metadata": {},
   "outputs": [
    {
     "data": {
      "text/plain": [
       "[<matplotlib.lines.Line2D at 0x7f576062dda0>]"
      ]
     },
     "execution_count": 10,
     "metadata": {},
     "output_type": "execute_result"
    },
    {
     "data": {
      "image/png": "[encoded data removed]",
      "text/plain": [
       "<Figure size 432x288 with 1 Axes>"
      ]
     },
     "metadata": {},
     "output_type": "display_data"
    }
   ],
   "source": [
    "plt.plot(trainx[0])"
   ]
  },
  {
   "cell_type": "code",
   "execution_count": 11,
   "metadata": {},
   "outputs": [],
   "source": [
    "from tslearn.preprocessing import TimeSeriesScalerMeanVariance, TimeSeriesResampler\n",
    "trainx =TimeSeriesScalerMeanVariance().fit_transform(trainx)\n",
    "testx =TimeSeriesScalerMeanVariance().fit_transform(testx)"
   ]
  },
  {
   "cell_type": "code",
   "execution_count": 12,
   "metadata": {},
   "outputs": [
    {
     "data": {
      "text/plain": [
       "[<matplotlib.lines.Line2D at 0x7f575ee6e240>]"
      ]
     },
     "execution_count": 12,
     "metadata": {},
     "output_type": "execute_result"
    },
    {
     "data": {
      "image/png": "[encoded data removed]",
      "text/plain": [
       "<Figure size 432x288 with 1 Axes>"
      ]
     },
     "metadata": {},
     "output_type": "display_data"
    }
   ],
   "source": [
    "plt.plot(trainx[0])"
   ]
  },
  {
   "cell_type": "code",
   "execution_count": 13,
   "metadata": {
    "colab": {},
    "colab_type": "code",
    "id": "O6OPKVxRxg6X",
    "outputId": "8749c02f-83df-48c8-a352-86bfb8bfdcd4"
   },
   "outputs": [
    {
     "name": "stdout",
     "output_type": "stream",
     "text": [
      "trainX shape:(3582, 1, 945, 1)\n",
      "trainY shape:(3582, 8)\n",
      "validX shape:(448, 1, 945, 1)\n",
      "validY shape:(448, 8)\n",
      "testX shape:(448, 1, 945, 1)\n",
      "testY shape:(448, 8)\n"
     ]
    }
   ],
   "source": [
    "trainX = trainx[:, np.newaxis, :]\n",
    "trainY = hot_encoded_y_train\n",
    "\n",
    "validX =testx[:len(testx)//2,np.newaxis,:]\n",
    "validY= hot_encoded_y_test[:len(testx)//2]\n",
    "\n",
    "testX = testx[len(testx)//2:,np.newaxis,:]\n",
    "testY = hot_encoded_y_test[len(testx)//2:]\n",
    "\n",
    "print (\"trainX shape:{}\".format(trainX.shape))\n",
    "print (\"trainY shape:{}\".format(trainY.shape))\n",
    "print (\"validX shape:{}\".format(validX.shape))\n",
    "print (\"validY shape:{}\".format(validY.shape))\n",
    "print (\"testX shape:{}\".format(testX.shape))\n",
    "print (\"testY shape:{}\".format(testY.shape))"
   ]
  },
  {
   "cell_type": "code",
   "execution_count": 14,
   "metadata": {
    "colab": {},
    "colab_type": "code",
    "id": "8JpxKigLxg6a"
   },
   "outputs": [
    {
     "name": "stdout",
     "output_type": "stream",
     "text": [
      "height 1\n",
      "width 945\n",
      "input_channel 1\n"
     ]
    }
   ],
   "source": [
    "height = trainX.shape[1]\n",
    "width = trainX.shape[2]\n",
    "input_channel = trainX.shape[3]\n",
    "\n",
    "print (\"height {}\".format(height))\n",
    "print (\"width {}\".format(width))\n",
    "print (\"input_channel {}\".format(input_channel))"
   ]
  },
  {
   "cell_type": "markdown",
   "metadata": {
    "colab_type": "text",
    "id": "LRkT92eLxg6c"
   },
   "source": [
    "# 2. Training condition 정의"
   ]
  },
  {
   "cell_type": "code",
   "execution_count": 15,
   "metadata": {
    "colab": {},
    "colab_type": "code",
    "id": "96TudpYHxg6d"
   },
   "outputs": [],
   "source": [
    "t_loss=[]\n",
    "t_acc=[]\n",
    "\n",
    "v_loss=[]\n",
    "v_acc=[]\n",
    "\n",
    "val_freq = 1\n",
    "save_freq = 1\n",
    "num_epochs= 100\n",
    "\n",
    "\n",
    "std= 0.01\n",
    "l_rate = 1e-5"
   ]
  },
  {
   "cell_type": "code",
   "execution_count": 16,
   "metadata": {
    "colab": {},
    "colab_type": "code",
    "id": "v0CdpPI7xg6f"
   },
   "outputs": [],
   "source": [
    "train_history = pd.DataFrame(index=np.arange(0, num_epochs), columns=['epoch', 'loss', 'acc','timestamp'])\n",
    "valid_history = pd.DataFrame(index=np.arange(0, num_epochs/val_freq),columns=['epoch', 'loss', 'acc','timestamp'])"
   ]
  },
  {
   "cell_type": "markdown",
   "metadata": {
    "colab_type": "text",
    "id": "6HiU9eckxg6h"
   },
   "source": [
    "# 3. model structure 정의"
   ]
  },
  {
   "cell_type": "code",
   "execution_count": 17,
   "metadata": {
    "colab": {},
    "colab_type": "code",
    "id": "XNEeKqCOxg6K"
   },
   "outputs": [],
   "source": [
    "from FCN import CNN_MC_dropout, CNN_MC_dropout_last_conv_turnoff,CNN_MC_dropout_input_turnoff"
   ]
  },
  {
   "cell_type": "code",
   "execution_count": 18,
   "metadata": {},
   "outputs": [],
   "source": [
    "import tensorflow as tf"
   ]
  },
  {
   "cell_type": "code",
   "execution_count": 19,
   "metadata": {},
   "outputs": [],
   "source": [
    "class basic_CNN:\n",
    "    def __init__(self, std=0.01, batch_size=64,width=500, height =1, input_channel=3, nb_classes=2, l_rate =1e-6,reuse = False):\n",
    "        self.std=std\n",
    "        self.batch_size=batch_size\n",
    "        self.height = height\n",
    "        self.width = width\n",
    "        self.input_channel = input_channel\n",
    "        self.l_rate = l_rate\n",
    "        \n",
    "        self.nb_classes = nb_classes\n",
    "\n",
    "        with tf.name_scope('Classifier'):\n",
    "            self.y = tf.placeholder(tf.float32, [None, self.nb_classes], name='y')\n",
    "            self.x = tf.placeholder(tf.float32, [None, self.height,self.width,self.input_channel], name='x')\n",
    "            self.keep_prob = tf.placeholder(tf.float32,name=\"keep_probability\")\n",
    "            \n",
    "            self.threshold_weight1 = tf.placeholder(tf.float32, [None, self.height, 471, 64],name=\"threshold_weight1\")\n",
    "            self.threshold_weight2 = tf.placeholder(tf.float32, [None, self.height, 234, 128],name=\"threshold_weight2\")\n",
    "            self.threshold_weight3 = tf.placeholder(tf.float32, [None, self.height, 116, 256],name=\"threshold_weight3\")\n",
    "        \n",
    "        # keep prob가 1보다 작으면, 드랍아웃을 한다는 의미\n",
    "        #self.dropout_bool = True#tf.cond(self.keep_prob < 1.0, lambda: tf.constant(True), lambda: tf.constant(False))\n",
    "        \n",
    "        self.logits = self.build_model()\n",
    "\n",
    "        # Define loss and optimizer, minimize the squared error\n",
    "        self.cross_entropy =  tf.nn.softmax_cross_entropy_with_logits_v2(labels=self.y, logits=self.logits)\n",
    "        self.cost =tf.reduce_mean(self.cross_entropy)\n",
    "        self.optimizer = tf.train.AdamOptimizer(self.l_rate).minimize(self.cost)\n",
    "\n",
    "        self.correct_pred = tf.equal(tf.argmax(self.prediction,1),tf.argmax(self.y,1))\n",
    "        self.accuracy = tf.reduce_mean(tf.cast(self.correct_pred, tf.float32))\n",
    "\n",
    "        init = tf.global_variables_initializer()\n",
    "\n",
    "        # Launch the session\n",
    "        self.session_conf = tf.ConfigProto()\n",
    "        self.session_conf.gpu_options.allow_growth = True\n",
    "        self.sess = tf.InteractiveSession(config=self.session_conf)\n",
    "        self.sess.run(init)\n",
    "\n",
    "        self.saver = tf.train.Saver(max_to_keep=None)\n",
    "\n",
    "    def build_model(self):\n",
    "        with tf.variable_scope('layer0'):\n",
    "            #b, h, w, c\n",
    "            self.input = self.x\n",
    "        # Convolutional Layer #1 and Pooling Layer #1\n",
    "        with tf.variable_scope('layer1'):\n",
    "            self.conv1 = tf.layers.conv2d(self.input, 64, [1,7], padding='SAME')\n",
    "            self.pooling1 = tf.layers.max_pooling2d(inputs=self.conv1, pool_size=[1, 4],padding=\"VALID\", strides=2)\n",
    "            self.batch1 = tf.layers.batch_normalization(self.pooling1)\n",
    "            self.relu1 = tf.nn.relu(self.batch1)\n",
    "            self.threshold_relu1 = tf.multiply(self.relu1 , self.threshold_weight1)\n",
    "            self.dropout1 = tf.nn.dropout(self.threshold_relu1, self.keep_prob)\n",
    "\n",
    "        # Convolutional Layer #1 and Pooling Layer #2\n",
    "        with tf.variable_scope('layer2'):\n",
    "            self.conv2 = tf.layers.conv2d(self.dropout1, 128, [1,5], padding='SAME')\n",
    "            self.pooling2 = tf.layers.max_pooling2d(inputs=self.conv2, pool_size=[1, 4] ,padding=\"VALID\", strides=2)                                        \n",
    "            self.batch2 = tf.layers.batch_normalization(self.pooling2)\n",
    "            self.relu2 = tf.nn.relu(self.batch2)\n",
    "            self.threshold_relu2 = tf.multiply(self.relu2 , self.threshold_weight2)\n",
    "            self.dropout2 = tf.nn.dropout(self.threshold_relu2, self.keep_prob)\n",
    "\n",
    "        #Convolutional Layer #1 and Pooling Layer #3\n",
    "        with tf.variable_scope('layer3'):\n",
    "            self.conv3 = tf.layers.conv2d(self.dropout2, 256, [1,3], padding='SAME')\n",
    "            self.pooling3 = tf.layers.max_pooling2d(inputs=self.conv3, pool_size=[1, 4] ,padding=\"VALID\", strides=2)   \n",
    "            self.batch3 = tf.layers.batch_normalization(self.pooling3)\n",
    "            self.relu3 = tf.nn.relu(self.batch3)\n",
    "            self.threshold_relu3 = tf.multiply(self.relu3 , self.threshold_weight3)\n",
    "            self.dropout3 = tf.nn.dropout(self.threshold_relu3, self.keep_prob)\n",
    "            \n",
    "        # Dense Layer with Relu\n",
    "        with tf.variable_scope('layer4'):\n",
    "            self.flatten = tf.reshape(self.dropout3, [-1, self.dropout3.shape[-2] * self.dropout3.shape[-1]]) \n",
    "            self.dense1 = tf.layers.dense(inputs=self.flatten,\n",
    "                                     units= 256, activation=tf.nn.relu)   \n",
    "            #Global Average Pooling\n",
    "            #self.GAP = tf.reduce_mean(self.relu3, axis=[1,2])# b,h,w,c\n",
    "            self.logits = tf.layers.dense(self.dense1, self.nb_classes)\n",
    "            self.prediction = tf.nn.softmax(self.logits)\n",
    "            \n",
    "        return self.logits\n",
    "\n",
    "\n",
    "    def train(self, data, target, keep_prob):\n",
    "        opt, cost ,acc = self.sess.run((self.optimizer,self.cost, self.accuracy ), \n",
    "                             feed_dict={self.y: target,\n",
    "                                        self.x: data,\n",
    "                                       self.keep_prob: keep_prob,\n",
    "                                       self.threshold_weight1: np.ones(data.shape[0]*471*64).reshape(-1,1,471,64).astype(float),\n",
    "                                       self.threshold_weight2: np.ones(data.shape[0]*234*128).reshape(-1,1,234,128).astype(float),\n",
    "                                       self.threshold_weight3: np.ones(data.shape[0]*116*256).reshape(-1,1,116,256).astype(float)})\n",
    "        return cost,acc\n",
    "\n",
    "    def test(self, data, target, keep_prob,threshold_weight1, threshold_weight2, threshold_weight3):\n",
    "        cost,acc = self.sess.run((self.cost,self.accuracy),\n",
    "                             feed_dict={self.y: target,\n",
    "                                        self.x: data,\n",
    "                                        self.keep_prob : keep_prob,\n",
    "                                        self.threshold_weight1: threshold_weight1,\n",
    "                                        self.threshold_weight2: threshold_weight2,\n",
    "                                        self.threshold_weight3: threshold_weight3})\n",
    "        return cost,acc\n",
    "\n",
    "    def get_conv_output(self, conv_output,data, keep_prob,threshold_weight1, threshold_weight2, threshold_weight3):\n",
    "        conv_output =  self.sess.run((conv_output), \n",
    "                                     feed_dict={self.x: data,self.keep_prob: keep_prob,\n",
    "                                                self.threshold_weight1: threshold_weight1,\n",
    "                                                self.threshold_weight2: threshold_weight2,\n",
    "                                                self.threshold_weight3: threshold_weight3})\n",
    "        return conv_output\n",
    "    \n",
    "    def predict(self, data, keep_prob,threshold_weight1, threshold_weight2, threshold_weight3):\n",
    "\n",
    "        prediction =  self.sess.run((self.prediction), \n",
    "                             feed_dict={self.x: data,self.keep_prob: keep_prob,\n",
    "                                        self.threshold_weight1: threshold_weight1,\n",
    "                                        self.threshold_weight2: threshold_weight2,\n",
    "                                        self.threshold_weight3: threshold_weight3})\n",
    "        return prediction\n",
    "\n",
    "    def save(self, save_path='./model.ckpt'):\n",
    "        saved_path = self.saver.save(self.sess, save_path)\n",
    "        print(\"Model saved in file: %s\"%saved_path)\n",
    "\n",
    "    def load(self, load_path = './model.ckpt'):\n",
    "        self.saver.restore(self.sess, load_path)\n",
    "        print(\"Model restored\")\n",
    "\n",
    "    def terminate(self):\n",
    "        self.sess.close()\n",
    "        tf.reset_default_graph() "
   ]
  },
  {
   "cell_type": "code",
   "execution_count": 20,
   "metadata": {},
   "outputs": [
    {
     "name": "stdout",
     "output_type": "stream",
     "text": [
      "8\n"
     ]
    }
   ],
   "source": [
    "from numpy import unique\n",
    "nb_classes =trainY.shape[1]\n",
    "print (nb_classes)"
   ]
  },
  {
   "cell_type": "markdown",
   "metadata": {},
   "source": [
    "<font color='red'> turn off 구조는 마지막 convolution layer activation output 에 weight를 elementwise multiply 구조.\n",
    "train, test시에는 이 weight를 모두 1로 고정하며,\n",
    "prdiction 시에는 convolution layer activation output에서 상위 T%를 turn off 시키며 accuracy의 변화가 A 이상인 경우를\n",
    "threshold로 정하기 위해 이러한 모델 구조가 설정되었습니다.</font>\n",
    "\n",
    "<font color='blue'> CNN_MC_dropout_last_conv_turnoff</font> 모델은 상위 T%의 output을 가지는 last convolution output을 0으로 turn off 시키는 구조입니다.\n",
    "\n",
    "반면, <font color='blue'> CNN_MC_dropout_input_turnoff</font> 모델은 상위 T%의 output을 가지는 last convolution output에 매칭되는(하이라이트 되는 인풋)을 0으로 turn off 시키는 구조입니다."
   ]
  },
  {
   "cell_type": "code",
   "execution_count": 21,
   "metadata": {
    "colab": {},
    "colab_type": "code",
    "id": "Jny6_y8cxg6h"
   },
   "outputs": [
    {
     "name": "stdout",
     "output_type": "stream",
     "text": [
      "WARNING:tensorflow:From <ipython-input-19-38dfd6d80b75>:50: conv2d (from tensorflow.python.layers.convolutional) is deprecated and will be removed in a future version.\n",
      "Instructions for updating:\n",
      "Use `tf.keras.layers.Conv2D` instead.\n",
      "WARNING:tensorflow:From /home/sohee/.local/lib/python3.6/site-packages/tensorflow/python/ops/init_ops.py:1251: calling VarianceScaling.__init__ (from tensorflow.python.ops.init_ops) with dtype is deprecated and will be removed in a future version.\n",
      "Instructions for updating:\n",
      "Call initializer instance with the dtype argument instead of passing it to the constructor\n",
      "WARNING:tensorflow:From <ipython-input-19-38dfd6d80b75>:51: max_pooling2d (from tensorflow.python.layers.pooling) is deprecated and will be removed in a future version.\n",
      "Instructions for updating:\n",
      "Use keras.layers.MaxPooling2D instead.\n",
      "WARNING:tensorflow:From <ipython-input-19-38dfd6d80b75>:52: batch_normalization (from tensorflow.python.layers.normalization) is deprecated and will be removed in a future version.\n",
      "Instructions for updating:\n",
      "Use keras.layers.BatchNormalization instead.  In particular, `tf.control_dependencies(tf.GraphKeys.UPDATE_OPS)` should not be used (consult the `tf.keras.layers.batch_normalization` documentation).\n",
      "WARNING:tensorflow:From <ipython-input-19-38dfd6d80b75>:55: calling dropout (from tensorflow.python.ops.nn_ops) with keep_prob is deprecated and will be removed in a future version.\n",
      "Instructions for updating:\n",
      "Please use `rate` instead of `keep_prob`. Rate should be set to `rate = 1 - keep_prob`.\n",
      "WARNING:tensorflow:From <ipython-input-19-38dfd6d80b75>:79: dense (from tensorflow.python.layers.core) is deprecated and will be removed in a future version.\n",
      "Instructions for updating:\n",
      "Use keras.layers.dense instead.\n"
     ]
    }
   ],
   "source": [
    "if 'MC_dropout_model' in globals():\n",
    "    MC_dropout_model.terminate()\n",
    "    \n",
    "#MC_dropout_model =CNN_MC_dropout_input_turnoff(height=height,width= width, input_channel=input_channel ,nb_classes=nb_classes,\n",
    "#                                 std=std,batch_size=batch_size,l_rate=l_rate)\n",
    "\n",
    "MC_dropout_model =basic_CNN(height=height,width= width, input_channel=input_channel ,nb_classes=nb_classes,\n",
    "                                 std=std,batch_size=batch_size,l_rate=l_rate)\n",
    "\n",
    "#MC_dropout_model =CNN_MC_dropout(height=height,width= width, input_channel=input_channel ,nb_classes=nb_classes,\n",
    "#                                 std=std,batch_size=batch_size,l_rate=l_rate)"
   ]
  },
  {
   "cell_type": "code",
   "execution_count": 22,
   "metadata": {
    "colab": {},
    "colab_type": "code",
    "id": "8i5mZbLexg6j",
    "outputId": "eb6c9052-804c-4e42-8eb5-e09b35fe7a10",
    "scrolled": false
   },
   "outputs": [
    {
     "name": "stdout",
     "output_type": "stream",
     "text": [
      "Tensor(\"Classifier/x:0\", shape=(?, 1, 945, 1), dtype=float32)\n",
      "[layer1] - MC dropout\n",
      "Tensor(\"layer1/conv2d/BiasAdd:0\", shape=(?, 1, 945, 64), dtype=float32)\n",
      "Tensor(\"layer1/max_pooling2d/MaxPool:0\", shape=(?, 1, 471, 64), dtype=float32)\n",
      "Tensor(\"layer1/batch_normalization/FusedBatchNorm:0\", shape=(?, 1, 471, 64), dtype=float32)\n",
      "Tensor(\"layer1/Relu:0\", shape=(?, 1, 471, 64), dtype=float32)\n",
      "Tensor(\"layer1/dropout/mul_1:0\", shape=(?, 1, 471, 64), dtype=float32)\n",
      "[layer2] - MC dropout\n",
      "Tensor(\"layer2/conv2d/BiasAdd:0\", shape=(?, 1, 471, 128), dtype=float32)\n",
      "Tensor(\"layer2/max_pooling2d/MaxPool:0\", shape=(?, 1, 234, 128), dtype=float32)\n",
      "Tensor(\"layer2/batch_normalization/FusedBatchNorm:0\", shape=(?, 1, 234, 128), dtype=float32)\n",
      "Tensor(\"layer2/Relu:0\", shape=(?, 1, 234, 128), dtype=float32)\n",
      "Tensor(\"layer2/dropout/mul_1:0\", shape=(?, 1, 234, 128), dtype=float32)\n",
      "[layer3] - MC dropout\n",
      "Tensor(\"layer3/conv2d/BiasAdd:0\", shape=(?, 1, 234, 256), dtype=float32)\n",
      "Tensor(\"layer3/max_pooling2d/MaxPool:0\", shape=(?, 1, 116, 256), dtype=float32)\n",
      "Tensor(\"layer3/batch_normalization/FusedBatchNorm:0\", shape=(?, 1, 116, 256), dtype=float32)\n",
      "Tensor(\"layer3/Relu:0\", shape=(?, 1, 116, 256), dtype=float32)\n",
      "Tensor(\"layer3/dropout/mul_1:0\", shape=(?, 1, 116, 256), dtype=float32)\n",
      "[layer4]\n",
      "Tensor(\"layer4/Reshape:0\", shape=(?, 29696), dtype=float32)\n",
      "Tensor(\"layer4/dense/Relu:0\", shape=(?, 256), dtype=float32)\n",
      "Tensor(\"layer4/dense_1/BiasAdd:0\", shape=(?, 8), dtype=float32)\n"
     ]
    }
   ],
   "source": [
    "print (MC_dropout_model.input)\n",
    "\n",
    "print ('[layer1] - MC dropout')\n",
    "print (MC_dropout_model.conv1)\n",
    "print (MC_dropout_model.pooling1)\n",
    "print (MC_dropout_model.batch1)\n",
    "print (MC_dropout_model.relu1)\n",
    "print (MC_dropout_model.dropout1)\n",
    "print ('[layer2] - MC dropout')\n",
    "print (MC_dropout_model.conv2)\n",
    "print (MC_dropout_model.pooling2)\n",
    "print (MC_dropout_model.batch2)\n",
    "print (MC_dropout_model.relu2)\n",
    "print (MC_dropout_model.dropout2)\n",
    "print ('[layer3] - MC dropout')\n",
    "print (MC_dropout_model.conv3)\n",
    "print (MC_dropout_model.pooling3)\n",
    "print (MC_dropout_model.batch3)\n",
    "print (MC_dropout_model.relu3)\n",
    "print (MC_dropout_model.dropout3)\n",
    "\n",
    "print ('[layer4]')\n",
    "print (MC_dropout_model.flatten)\n",
    "print (MC_dropout_model.dense1)\n",
    "print (MC_dropout_model.logits)"
   ]
  },
  {
   "cell_type": "markdown",
   "metadata": {
    "colab_type": "text",
    "id": "LmWRfeSOxg6l"
   },
   "source": [
    "# 4. Training"
   ]
  },
  {
   "cell_type": "code",
   "execution_count": 23,
   "metadata": {
    "colab": {},
    "colab_type": "code",
    "id": "4pgl8PLBxg6m"
   },
   "outputs": [],
   "source": [
    "import time\n",
    "import os\n",
    "import numpy as np"
   ]
  },
  {
   "cell_type": "code",
   "execution_count": 24,
   "metadata": {
    "colab": {},
    "colab_type": "code",
    "id": "fLBIHIbqxg6o",
    "outputId": "47abf10c-e76a-4462-a56c-3d0dbfd77cbd"
   },
   "outputs": [
    {
     "name": "stdout",
     "output_type": "stream",
     "text": [
      "UWave_CNN_MCdropout_basic_1e-05_32\n"
     ]
    }
   ],
   "source": [
    "save_path = './model/'+data_name\n",
    "model_name = data_name+\"_CNN_MCdropout_basic_\"+str(l_rate)+'_'+str(batch_size)\n",
    "print (model_name)"
   ]
  },
  {
   "cell_type": "code",
   "execution_count": 25,
   "metadata": {
    "colab": {},
    "colab_type": "code",
    "id": "Ism3OSKnxg6u"
   },
   "outputs": [],
   "source": [
    "from training import get_batch"
   ]
  },
  {
   "cell_type": "code",
   "execution_count": 26,
   "metadata": {
    "colab": {},
    "colab_type": "code",
    "id": "nPy7CW6Ixg6w"
   },
   "outputs": [],
   "source": [
    "keep_prob =1.0"
   ]
  },
  {
   "cell_type": "code",
   "execution_count": 27,
   "metadata": {
    "colab": {},
    "colab_type": "code",
    "id": "1aSW6vp3xg6y",
    "outputId": "039e0277-40ba-439c-a344-dfbefd564aa5"
   },
   "outputs": [],
   "source": [
    "# for epoch in range(num_epochs):#range(num_epochs):##\n",
    "    \n",
    "#     loss = 0\n",
    "#     acc=0\n",
    "#     train_batches = 0\n",
    "#     start_time = time.time()   \n",
    "    \n",
    "#     for batch in get_batch(X=trainX, Y=trainY, nb_classes = nb_classes, batch_size=batch_size):\n",
    "#         train_in, train_target = batch\n",
    "#         train_batches += 1.0 \n",
    "#         loss1 ,acc1 = MC_dropout_model.train(data=train_in,target= train_target,keep_prob=keep_prob)\n",
    "#         loss = loss1+loss\n",
    "#         acc = acc1+acc\n",
    "#         if np.isnan(loss):\n",
    "#             print ('error')\n",
    "#             break\n",
    "#     t_loss.append(loss/train_batches)\n",
    "#     t_acc.append(acc/train_batches)\n",
    "    \n",
    "#     train_history.loc[epoch] = [epoch, t_loss[epoch], t_acc[epoch] ,time.strftime(\"%Y-%m-%d-%H:%M\", time.localtime())]\n",
    "#     if not os.path.exists(os.path.join(save_path, model_name)):\n",
    "#         os.mkdir( os.path.join(save_path, model_name))\n",
    "#     MC_dropout_model.save(os.path.join(save_path, model_name,str(epoch+1)+'.ckpt'))\n",
    "\n",
    "    \n",
    "#     if(epoch+1)%val_freq ==0:\n",
    "#         acc=0\n",
    "#         loss = 0\n",
    "#         val_batches=0\n",
    "#         for batch in get_batch(X=validX, Y=validY, nb_classes = nb_classes, batch_size=batch_size):\n",
    "#             val_in, val_target = batch\n",
    "#             val_batches += 1.0 \n",
    "#             loss1 ,acc1 = MC_dropout_model.test(data=val_in,target= val_target,keep_prob=keep_prob,\n",
    "#                                             threshold_weight1 = np.ones(val_in.shape[0]*471*64).reshape(-1,1,471,64).astype(float),\n",
    "#                                             threshold_weight2 = np.ones(val_in.shape[0]*234*128).reshape(-1,1,234,128).astype(float),\n",
    "#                                             threshold_weight3 = np.ones(val_in.shape[0]*116*256).reshape(-1,1,116,256).astype(float)  )\n",
    "#             loss = loss1+loss\n",
    "#             acc = acc1+acc\n",
    "        \n",
    "#         v_acc.append(acc/val_batches)\n",
    "#         v_loss.append(loss/val_batches)\n",
    "#         valid_history.loc[epoch] = [epoch, v_loss[epoch], v_acc[epoch] ,time.strftime(\"%Y-%m-%d-%H:%M\", time.localtime())]  \n",
    "        \n",
    "#         print(\"  training loss:\\t{:.6f}\".format(t_loss[epoch]))\n",
    "#         print(\"  training acc:\\t{:.3f}\".format(t_acc[epoch]))\n",
    "#         print(\"  validation loss:\\t{:.6f}\".format(v_loss[epoch]))\n",
    "#         print(\"  validation acc:\\t{:.3f}\".format(v_acc[epoch]))\n"
   ]
  },
  {
   "cell_type": "code",
   "execution_count": 28,
   "metadata": {
    "colab": {},
    "colab_type": "code",
    "id": "rP08N40exg60"
   },
   "outputs": [],
   "source": [
    "# train_history.to_csv(os.path.join(save_path,model_name,  \"history_train.csv\"))\n",
    "# valid_history.to_csv(os.path.join(save_path,model_name,  \"history_valid.csv\"))"
   ]
  },
  {
   "cell_type": "markdown",
   "metadata": {
    "colab_type": "text",
    "id": "vlFgsib-xg64"
   },
   "source": [
    "# 5.check the result"
   ]
  },
  {
   "cell_type": "markdown",
   "metadata": {
    "colab_type": "text",
    "id": "KgcHlnjVxg65"
   },
   "source": [
    "### with loss and accuracy graph"
   ]
  },
  {
   "cell_type": "code",
   "execution_count": 29,
   "metadata": {},
   "outputs": [],
   "source": [
    "from visualization import plot_train_history"
   ]
  },
  {
   "cell_type": "code",
   "execution_count": 30,
   "metadata": {
    "colab": {},
    "colab_type": "code",
    "id": "q8-lRSQsxg66"
   },
   "outputs": [],
   "source": [
    "train_history = pd.read_csv(os.path.join(save_path,model_name,\"history_train.csv\"),index_col=0)\n",
    "valid_history = pd.read_csv(os.path.join(save_path,model_name,\"history_valid.csv\"),index_col=0)"
   ]
  },
  {
   "cell_type": "code",
   "execution_count": 31,
   "metadata": {},
   "outputs": [
    {
     "name": "stdout",
     "output_type": "stream",
     "text": [
      "save ./model/UWave/UWave_CNN_MCdropout_basic_1e-05_32/loss_graph.png\n",
      "save ./model/UWave/UWave_CNN_MCdropout_basic_1e-05_32/acc_graph.png\n"
     ]
    },
    {
     "data": {
      "image/png": "[encoded data removed]",
      "text/plain": [
       "<Figure size 720x360 with 2 Axes>"
      ]
     },
     "metadata": {},
     "output_type": "display_data"
    }
   ],
   "source": [
    "plot_train_history(train_df = train_history,\n",
    "                   valid_df = valid_history,\n",
    "                   save_path = os.path.join(save_path,model_name))"
   ]
  },
  {
   "cell_type": "code",
   "execution_count": 32,
   "metadata": {
    "colab": {},
    "colab_type": "code",
    "id": "N9JDsIyvxg7B",
    "outputId": "126b0146-dbdc-4ca8-de1d-9b14572a8bf1"
   },
   "outputs": [
    {
     "name": "stdout",
     "output_type": "stream",
     "text": [
      "25\n"
     ]
    }
   ],
   "source": [
    "bestepoch = int(np.argmin(valid_history['loss'].values))\n",
    "print( bestepoch)"
   ]
  },
  {
   "cell_type": "code",
   "execution_count": 33,
   "metadata": {
    "colab": {},
    "colab_type": "code",
    "id": "6Nve8UZsxg7D",
    "outputId": "5a50e4f4-3c80-441c-fe62-3f674ca92316"
   },
   "outputs": [
    {
     "name": "stdout",
     "output_type": "stream",
     "text": [
      "error: 0.060215130054320276\n"
     ]
    }
   ],
   "source": [
    "error = valid_history.loc[bestepoch,'loss']\n",
    "print (\"error: {}\".format(error))"
   ]
  },
  {
   "cell_type": "code",
   "execution_count": 34,
   "metadata": {
    "colab": {},
    "colab_type": "code",
    "id": "ogt5Ay-kxg7F",
    "outputId": "603808f4-930e-43cb-ecd5-597125a79523"
   },
   "outputs": [
    {
     "name": "stdout",
     "output_type": "stream",
     "text": [
      "WARNING:tensorflow:From /home/sohee/.local/lib/python3.6/site-packages/tensorflow/python/training/saver.py:1276: checkpoint_exists (from tensorflow.python.training.checkpoint_management) is deprecated and will be removed in a future version.\n",
      "Instructions for updating:\n",
      "Use standard file APIs to check for files with this prefix.\n",
      "INFO:tensorflow:Restoring parameters from ./model/UWave/UWave_CNN_MCdropout_basic_1e-05_32/25.ckpt\n",
      "Model restored\n"
     ]
    }
   ],
   "source": [
    "MC_dropout_model.load(os.path.join(save_path,model_name,str(bestepoch)+'.ckpt'))"
   ]
  },
  {
   "cell_type": "code",
   "execution_count": 35,
   "metadata": {},
   "outputs": [],
   "source": [
    "import glob\n",
    "for epoch in [x+1 for x in range(num_epochs) if (x+1) !=bestepoch]:\n",
    "    for filename in glob.glob(os.path.join(save_path,model_name,str(epoch)+\".*\")):\n",
    "        os.remove(filename) "
   ]
  },
  {
   "cell_type": "markdown",
   "metadata": {
    "colab_type": "text",
    "id": "5aT9WMWZxg7H"
   },
   "source": [
    "### with confusion matrix"
   ]
  },
  {
   "cell_type": "code",
   "execution_count": 36,
   "metadata": {
    "colab": {},
    "colab_type": "code",
    "id": "KUz6EoWyxg7H"
   },
   "outputs": [],
   "source": [
    "from visualization import plot_confusion_matrix\n",
    "from sklearn.metrics import confusion_matrix"
   ]
  },
  {
   "cell_type": "code",
   "execution_count": 37,
   "metadata": {
    "colab": {},
    "colab_type": "code",
    "id": "jnYhx8ffyEfa"
   },
   "outputs": [],
   "source": [
    "class_list = np.unique(trainy, return_counts=False, return_index=True)[0].astype(int)"
   ]
  },
  {
   "cell_type": "code",
   "execution_count": 38,
   "metadata": {
    "colab": {},
    "colab_type": "code",
    "id": "USnpndL2xg7K",
    "outputId": "c81932c3-151f-4d31-9b22-2d5e56514e74"
   },
   "outputs": [
    {
     "ename": "TypeError",
     "evalue": "predict() missing 1 required positional argument: 'threshold_weight3'",
     "output_type": "error",
     "traceback": [
      "\u001b[0;31m---------------------------------------------------------------------------\u001b[0m",
      "\u001b[0;31mTypeError\u001b[0m                                 Traceback (most recent call last)",
      "\u001b[0;32m<ipython-input-38-30d2c0c5210c>\u001b[0m in \u001b[0;36m<module>\u001b[0;34m()\u001b[0m\n\u001b[1;32m      1\u001b[0m prediction = MC_dropout_model.predict(data=trainX,keep_prob=1.0,\n\u001b[1;32m      2\u001b[0m                                       \u001b[0mthreshold_weight1\u001b[0m \u001b[0;34m=\u001b[0m \u001b[0mnp\u001b[0m\u001b[0;34m.\u001b[0m\u001b[0mones\u001b[0m\u001b[0;34m(\u001b[0m\u001b[0mtrainX\u001b[0m\u001b[0;34m.\u001b[0m\u001b[0mshape\u001b[0m\u001b[0;34m[\u001b[0m\u001b[0;36m0\u001b[0m\u001b[0;34m]\u001b[0m\u001b[0;34m*\u001b[0m\u001b[0;36m28\u001b[0m\u001b[0;34m*\u001b[0m\u001b[0;36m64\u001b[0m\u001b[0;34m)\u001b[0m\u001b[0;34m.\u001b[0m\u001b[0mreshape\u001b[0m\u001b[0;34m(\u001b[0m\u001b[0;34m-\u001b[0m\u001b[0;36m1\u001b[0m\u001b[0;34m,\u001b[0m\u001b[0;36m1\u001b[0m\u001b[0;34m,\u001b[0m\u001b[0;36m28\u001b[0m\u001b[0;34m,\u001b[0m\u001b[0;36m64\u001b[0m\u001b[0;34m)\u001b[0m\u001b[0;34m.\u001b[0m\u001b[0mastype\u001b[0m\u001b[0;34m(\u001b[0m\u001b[0mfloat\u001b[0m\u001b[0;34m)\u001b[0m\u001b[0;34m,\u001b[0m\u001b[0;34m\u001b[0m\u001b[0m\n\u001b[0;32m----> 3\u001b[0;31m                                       threshold_weight2 = np.ones(trainX.shape[0]*6*128).reshape(-1,1,6,128).astype(float))\n\u001b[0m\u001b[1;32m      4\u001b[0m \u001b[0mprediction\u001b[0m \u001b[0;34m=\u001b[0m \u001b[0mnp\u001b[0m\u001b[0;34m.\u001b[0m\u001b[0margmax\u001b[0m\u001b[0;34m(\u001b[0m\u001b[0mprediction\u001b[0m\u001b[0;34m,\u001b[0m\u001b[0maxis\u001b[0m\u001b[0;34m=\u001b[0m\u001b[0;36m1\u001b[0m\u001b[0;34m)\u001b[0m\u001b[0;34m\u001b[0m\u001b[0m\n\u001b[1;32m      5\u001b[0m \u001b[0mtarget\u001b[0m \u001b[0;34m=\u001b[0m \u001b[0mnp\u001b[0m\u001b[0;34m.\u001b[0m\u001b[0margmax\u001b[0m\u001b[0;34m(\u001b[0m\u001b[0mtrainY\u001b[0m\u001b[0;34m,\u001b[0m\u001b[0maxis\u001b[0m\u001b[0;34m=\u001b[0m\u001b[0;36m1\u001b[0m\u001b[0;34m)\u001b[0m\u001b[0;34m\u001b[0m\u001b[0m\n",
      "\u001b[0;31mTypeError\u001b[0m: predict() missing 1 required positional argument: 'threshold_weight3'"
     ]
    }
   ],
   "source": [
    "prediction = MC_dropout_model.predict(data=trainX,keep_prob=1.0,\n",
    "                                      threshold_weight1 = np.ones(trainX.shape[0]*28*64).reshape(-1,1,28,64).astype(float),\n",
    "                                      threshold_weight2 = np.ones(trainX.shape[0]*6*128).reshape(-1,1,6,128).astype(float))\n",
    "prediction = np.argmax(prediction,axis=1)\n",
    "target = np.argmax(trainY,axis=1)\n",
    "\n",
    "plot_confusion_matrix(confusion_matrix(target,prediction),                      \n",
    "    classes=class_list,\n",
    "    title=data_name+'classifcation(train)')"
   ]
  },
  {
   "cell_type": "code",
   "execution_count": null,
   "metadata": {
    "colab": {},
    "colab_type": "code",
    "id": "8HbKsurAxg7M",
    "outputId": "58e5d399-c33a-4a5f-e102-ad1b74e461ec"
   },
   "outputs": [],
   "source": [
    "prediction = MC_dropout_model.predict(data=testX,keep_prob=1.0,\n",
    "                                      threshold_weight1 = np.ones(testX.shape[0]*28*64).reshape(-1,1,28,64).astype(float),\n",
    "                                      threshold_weight2 = np.ones(testX.shape[0]*6*128).reshape(-1,1,6,128).astype(float))\n",
    "prediction = np.argmax(prediction,axis=1)\n",
    "target = np.argmax(testY,axis=1)\n",
    "\n",
    "plot_confusion_matrix(confusion_matrix(target,prediction),                      \n",
    "    classes=class_list,\n",
    "    title=data_name+'classifcation(test)')"
   ]
  },
  {
   "cell_type": "markdown",
   "metadata": {
    "colab_type": "text",
    "id": "TONUyKSrxg7P"
   },
   "source": [
    "# 6. Trained 된 모델에서 Last Conv output Load하기(MC dropout적용안됨)\n",
    "기존논문에서 이미지타겟으로 p(A>T)=0.005 인것과 비교하여, 시계열에서는 조금 더 낮은 threshold가 패턴을 보기에 필요함.\n",
    "acc를 ~이상 떨어지게 하는 threshold"
   ]
  },
  {
   "cell_type": "code",
   "execution_count": null,
   "metadata": {},
   "outputs": [],
   "source": [
    "import random"
   ]
  },
  {
   "cell_type": "code",
   "execution_count": null,
   "metadata": {},
   "outputs": [],
   "source": [
    "original_cost , original_acc = MC_dropout_model.test(trainX,trainY,1.0,\n",
    "                                      threshold_weight1 = np.ones(trainX.shape[0]*28*64).reshape(-1,1,28,64).astype(float),\n",
    "                                      threshold_weight2 = np.ones(trainX.shape[0]*6*128).reshape(-1,1,6,128).astype(float))"
   ]
  },
  {
   "cell_type": "code",
   "execution_count": null,
   "metadata": {},
   "outputs": [],
   "source": [
    "conv_output1,conv_output2 = MC_dropout_model.get_conv_output(conv_output = (MC_dropout_model.relu1,MC_dropout_model.relu2),\n",
    "                                                data=trainX,keep_prob=1.0,\n",
    "                                                threshold_weight1 = np.ones(trainX.shape[0]*28*64).reshape(-1,1,28,64).astype(float),\n",
    "                                                 threshold_weight2 = np.ones(trainX.shape[0]*6*128).reshape(-1,1,6,128).astype(float))\n"
   ]
  },
  {
   "cell_type": "markdown",
   "metadata": {},
   "source": [
    "## pattern 추출"
   ]
  },
  {
   "cell_type": "code",
   "execution_count": 85,
   "metadata": {},
   "outputs": [
    {
     "data": {
      "text/plain": [
       "4"
      ]
     },
     "execution_count": 85,
     "metadata": {},
     "output_type": "execute_result"
    }
   ],
   "source": [
    "import math\n",
    "\n",
    "###### conv1\n",
    "conv_filter1 = 7\n",
    "conv_pad1 = int((conv_filter1 -1) /2)\n",
    "\n",
    "pool_size1 = 4 \n",
    "pool_pad1 = 0\n",
    "pool_stride1 = 2\n",
    "input_width = 117\n",
    "\n",
    "featuermap1 = math.floor( (input_width+(2*pool_pad1)-pool_size1)/pool_stride1 + 1 )\n",
    "\n",
    "\n",
    "###### conv2\n",
    "conv_filter2 = 5\n",
    "conv_pad2 = int((conv_filter2 -1) /2)\n",
    "\n",
    "pool_size2 = 4 \n",
    "pool_pad2 = 0\n",
    "pool_stride2 = 2\n",
    "\n",
    "featuermap2 = math.floor( (featuermap1+(2*pool_pad2)-pool_size2)/pool_stride2 + 1 )\n",
    "\n",
    "\n",
    "#######################\n",
    "# receptive filed conv2 \n",
    "(conv_filter1+pool_size1-1)+(pool_stride1+pool_stride2)*pool_size2\n",
    "\n",
    "#start point\n",
    "0-conv_pad1-pool_size2\n",
    "\n",
    "#jump\n",
    "pool_stride1*pool_stride2"
   ]
  },
  {
   "cell_type": "code",
   "execution_count": 86,
   "metadata": {},
   "outputs": [
    {
     "data": {
      "text/plain": [
       "26"
      ]
     },
     "execution_count": 86,
     "metadata": {},
     "output_type": "execute_result"
    }
   ],
   "source": [
    "(conv_filter1+pool_size1-1)+(pool_stride1+pool_stride2)*pool_size2"
   ]
  },
  {
   "cell_type": "code",
   "execution_count": 87,
   "metadata": {},
   "outputs": [
    {
     "data": {
      "text/plain": [
       "-7"
      ]
     },
     "execution_count": 87,
     "metadata": {},
     "output_type": "execute_result"
    }
   ],
   "source": [
    "0-conv_pad1-pool_size2"
   ]
  },
  {
   "cell_type": "code",
   "execution_count": 90,
   "metadata": {},
   "outputs": [
    {
     "data": {
      "text/plain": [
       "2"
      ]
     },
     "execution_count": 90,
     "metadata": {},
     "output_type": "execute_result"
    }
   ],
   "source": [
    "conv_pad2"
   ]
  },
  {
   "cell_type": "code",
   "execution_count": 63,
   "metadata": {},
   "outputs": [
    {
     "name": "stdout",
     "output_type": "stream",
     "text": [
      "1\n",
      "4\n"
     ]
    }
   ],
   "source": [
    "conv_filter3 = 3\n",
    "conv_pad3 = int((conv_filter3 -1) /2)\n",
    "\n",
    "pool_size3 = 3\n",
    "pool_pad3 = 0\n",
    "pool_stride3 = 3\n",
    "\n",
    "featuermap3 = math.floor( (featuermap2+(2*pool_pad3)-pool_size3)/pool_stride3 + 1 )"
   ]
  },
  {
   "cell_type": "code",
   "execution_count": 74,
   "metadata": {},
   "outputs": [
    {
     "name": "stdout",
     "output_type": "stream",
     "text": [
      "31\n",
      "-6\n",
      "6\n"
     ]
    }
   ],
   "source": [
    "# receptive filed conv2 \n",
    "print((conv_filter1+pool_size1-1)+(pool_stride1+pool_stride2)*pool_size2)\n",
    "\n",
    "#start point\n",
    "print(-conv_pad1-pool_stride1)\n",
    "\n",
    "#jump\n",
    "print(pool_stride1*pool_stride2)"
   ]
  },
  {
   "cell_type": "code",
   "execution_count": 73,
   "metadata": {},
   "outputs": [
    {
     "name": "stdout",
     "output_type": "stream",
     "text": [
      "55\n",
      "-10\n",
      "18\n"
     ]
    }
   ],
   "source": [
    "# receptive filed conv3\n",
    "print((conv_filter1+pool_size1-1)+(pool_stride1+pool_stride2)*pool_size2 +(pool_stride1+pool_stride2+pool_stride3)*pool_size3)\n",
    "\n",
    "#start point\n",
    "print(0-conv_pad1-pool_size2-pool_size3)\n",
    "\n",
    "#jump\n",
    "print(pool_stride1*pool_stride2*3)"
   ]
  },
  {
   "cell_type": "code",
   "execution_count": 53,
   "metadata": {},
   "outputs": [
    {
     "data": {
      "text/plain": [
       "11"
      ]
     },
     "execution_count": 53,
     "metadata": {},
     "output_type": "execute_result"
    }
   ],
   "source": [
    "conv_filter1+pool_size1-1"
   ]
  },
  {
   "cell_type": "code",
   "execution_count": null,
   "metadata": {},
   "outputs": [],
   "source": [
    "import random\n",
    "random.seed(1003)\n",
    "random_sample_idx = random.sample(range(0,len(trainX)), len(trainX)//900-1)"
   ]
  },
  {
   "cell_type": "code",
   "execution_count": null,
   "metadata": {},
   "outputs": [],
   "source": [
    "len(random_sample_idx)"
   ]
  },
  {
   "cell_type": "code",
   "execution_count": null,
   "metadata": {
    "scrolled": true
   },
   "outputs": [],
   "source": [
    "RF1 = []\n",
    "RF1_id = 0\n",
    "\n",
    "RF2 = []\n",
    "RF2_id = 0\n",
    "\n",
    "for data_idx,data in zip(random_sample_idx,trainX[random_sample_idx,0,:,:]):\n",
    "    for fm_idx in range(featuermap1):\n",
    "        for input_channel in range(trainX.shape[-1]):\n",
    "            start_point = (fm_idx * pool_stride1) - conv_pad1\n",
    "            end_point = start_point + (conv_filter1-1) + (pool_size1 - 1)\n",
    "            \n",
    "            if start_point < 1 : # zero padding 앞부분\n",
    "                zero_x = [i for i in range(start_point, 0)]\n",
    "                rest_x = list(range(1,end_point+2))\n",
    "                pattern_xs = zero_x + rest_x\n",
    "                \n",
    "                zero_y = [0 for i in range(start_point, 0)]\n",
    "                rest_y = list(data[rest_x, input_channel])\n",
    "                pattern_ys = zero_y + rest_y\n",
    "            \n",
    "            elif end_point >= input_width : # zero padding 뒷부분\n",
    "                rest_x = list(range(start_point ,117))\n",
    "                zero_x = [i for i in range(117, end_point+1)]\n",
    "                pattern_xs = rest_x + zero_x\n",
    "                \n",
    "                rest_y = list(data[rest_x,input_channel])\n",
    "                zero_y = [0 for i in range(117, end_point+1)]\n",
    "                pattern_ys = rest_y + zero_y              \n",
    "                \n",
    "            else :\n",
    "                pattern_xs = list(range(start_point,end_point+1))\n",
    "                pattern_ys = list(data[pattern_xs, input_channel])   \n",
    "            RF1.append({'RF1_id':RF1_id,'data_idx':data_idx, 'input_channel':input_channel,'featuremap_idx':fm_idx,\n",
    "                         'pattern_xs':pattern_xs, 'pattern_ys':pattern_ys})   \n",
    "            RF1_id += 1\n",
    "            \n",
    "    for fm_idx in range(featuermap2):\n",
    "        for input_channel in range(trainX.shape[-1]):\n",
    "            start_idx = (fm_idx * pool_stride2) - conv_pad2 \n",
    "            end_idx = start_idx + (conv_filter2 -1) + (pool_size2 -1)\n",
    "            if start_idx < 1 : # zero padding 앞부분\n",
    "                end_point = [x['pattern_xs'][-1] for i,x in enumerate(RF1) if x['featuremap_idx'] == end_idx][0]\n",
    "                \n",
    "                zero_x = [i for i in range(start_idx * pool_stride2  -4, 0)]\n",
    "                rest_x = list(range(1,end_point+1))\n",
    "                pattern_xs = zero_x + rest_x\n",
    "                \n",
    "                zero_y = [0 for i in range(start_idx * pool_stride2 -4, 0)]\n",
    "                rest_y = list(data[rest_x, input_channel])\n",
    "                pattern_ys = zero_y + rest_y\n",
    "            \n",
    "            elif end_idx > featuermap1 : # zero padding 뒷부분 // 다시 짜야함\n",
    "                \n",
    "                start_point = [x['pattern_xs'][0] for i,x in enumerate(RF1) if x['featuremap_idx'] == start_idx][0]\n",
    "        \n",
    "                rest_x = list(range(start_point ,28))\n",
    "                zero_x = [i for i in range(28 , end_point+1)]\n",
    "                pattern_xs = rest_x + zero_x\n",
    "                \n",
    "                rest_y = list(data[rest_x,input_channel])\n",
    "                zero_y = [0 for i in range(28, end_point* pool_stride2  -4)]\n",
    "                pattern_ys = rest_y + zero_y            \n",
    "            \n",
    "            else : \n",
    "                start_point = [x['pattern_xs'][0] for i,x in enumerate(RF1) if x['featuremap_idx'] == start_idx][0]\n",
    "                end_point = [x['pattern_xs'][-1] for i,x in enumerate(RF1) if x['featuremap_idx'] == end_idx][0]\n",
    "                pattern_xs = list(range(start_point,end_point+1))\n",
    "                pattern_ys = data[pattern_xs,input_channel]\n",
    "                \n",
    "            RF2.append({'RF2_id':RF2_id,'data_idx':data_idx, 'input_channel':input_channel,'featuremap_idx':fm_idx,\n",
    "                         'pattern_xs':pattern_xs, 'pattern_ys':pattern_ys})   \n",
    "            RF2_id += 1                         "
   ]
  },
  {
   "cell_type": "markdown",
   "metadata": {},
   "source": [
    "### weigthed k means\n",
    "\n",
    "https://www.kaggle.com/andyxie/k-means-clustering-implementation-in-python\n",
    "https://brunch.co.kr/@rlawlgy43/32"
   ]
  },
  {
   "cell_type": "code",
   "execution_count": null,
   "metadata": {},
   "outputs": [],
   "source": [
    "weight = []\n",
    "data = []\n",
    "for idx in random_sample_idx:\n",
    "    weight.append([np.repeat(conv_output2[idx,0,:,0],(45)).reshape(6,45) for i in range(128)])\n",
    "    data.append(np.tile([x['pattern_ys'] for x in RF2 if (x['data_idx']==idx) & (x['input_channel']==0)],(128,1,1)))"
   ]
  },
  {
   "cell_type": "code",
   "execution_count": null,
   "metadata": {},
   "outputs": [],
   "source": [
    "import matplotlib.pyplot as plt\n",
    "from matplotlib import style\n",
    "style.use('ggplot')\n",
    "import numpy as np\n",
    "\n",
    "colors = 10*[\"g\",\"r\",\"c\",\"b\",\"k\"]\n",
    "\n",
    "class K_Means:\n",
    "    def __init__(self, k=2, tol=0.001, max_iter=300):\n",
    "        self.k = k\n",
    "        self.tol = tol\n",
    "        self.max_iter = max_iter\n",
    "        \n",
    "    def fit(self,data):\n",
    "\n",
    "        self.centroids = {}\n",
    "\n",
    "        for i in range(self.k):\n",
    "            self.centroids[i] = data[i]\n",
    "\n",
    "        for i in range(self.max_iter):\n",
    "            self.classifications = {}\n",
    "\n",
    "            for i in range(self.k):\n",
    "                self.classifications[i] = []\n",
    "\n",
    "            for featureset in data:\n",
    "                distances = [np.linalg.norm(featureset-self.centroids[centroid]) for centroid in self.centroids]\n",
    "                classification = distances.index(min(distances))\n",
    "                self.classifications[classification].append(featureset)\n",
    "\n",
    "            prev_centroids = dict(self.centroids)\n",
    "\n",
    "            for classification in self.classifications:\n",
    "                self.centroids[classification] = np.average(self.classifications[classification],axis=0)\n",
    "\n",
    "            optimized = True\n",
    "\n",
    "            for c in self.centroids:\n",
    "                original_centroid = prev_centroids[c]\n",
    "                current_centroid = self.centroids[c]\n",
    "                if np.sum((current_centroid-original_centroid)/original_centroid*100.0) > self.tol:\n",
    "                    print(np.sum((current_centroid-original_centroid)/original_centroid*100.0))\n",
    "                    optimized = False\n",
    "\n",
    "            if optimized:\n",
    "                break\n",
    "\n",
    "    def predict(self,data):\n",
    "        distances = [np.linalg.norm(data-self.centroids[centroid]) for centroid in self.centroids]\n",
    "        classification = distances.index(min(distances))\n",
    "        return classification"
   ]
  },
  {
   "cell_type": "code",
   "execution_count": null,
   "metadata": {},
   "outputs": [],
   "source": [
    "clf = K_Means(k=5)\n",
    "clf.fit(data)\n",
    "\n",
    "for centroid in clf.centroids:\n",
    "    plt.scatter(clf.centroids[centroid][0], clf.centroids[centroid][1],\n",
    "                marker=\"o\", color=\"k\", s=150, linewidths=5)\n",
    "\n",
    "for classification in clf.classifications:\n",
    "    color = colors[classification]\n",
    "    for featureset in clf.classifications[classification]:\n",
    "        plt.scatter(featureset[0], featureset[1], marker=\"x\", color=color, s=150, linewidths=5)\n",
    "        \n",
    "plt.show()"
   ]
  },
  {
   "cell_type": "code",
   "execution_count": null,
   "metadata": {},
   "outputs": [],
   "source": [
    "data = np.reshape(data,(-1,45))"
   ]
  },
  {
   "cell_type": "code",
   "execution_count": null,
   "metadata": {},
   "outputs": [],
   "source": [
    "data.shape"
   ]
  },
  {
   "cell_type": "code",
   "execution_count": null,
   "metadata": {},
   "outputs": [],
   "source": [
    "k = 3\n",
    "# Number of training data\n",
    "n = data.shape[0]\n",
    "# Number of features in the data\n",
    "c = data.shape[1]\n",
    "\n",
    "# Generate random centers, here we use sigma and mean to ensure it represent the whole data\n",
    "mean = np.mean(data, axis = 0)\n",
    "std = np.std(data, axis = 0)\n",
    "centers = np.random.randn(k,c)*std + mean\n",
    "\n",
    "# Plot the data and the centers generated as random\n",
    "colors=['orange', 'blue', 'green']\n",
    "for i in range(n):\n",
    "    plt.scatter(data[i, 0], data[i,1], s=7)\n",
    "plt.scatter(centers[:,0], centers[:,1], marker='*', c='g', s=150)"
   ]
  },
  {
   "cell_type": "code",
   "execution_count": null,
   "metadata": {},
   "outputs": [],
   "source": [
    "distances.shape"
   ]
  },
  {
   "cell_type": "code",
   "execution_count": null,
   "metadata": {},
   "outputs": [],
   "source": [
    "from copy import deepcopy\n",
    "centers_old = np.zeros(centers.shape) # to store old centers\n",
    "centers_new = deepcopy(centers) # Store new centers\n",
    "\n",
    "data.shape\n",
    "clusters = np.zeros(n)\n",
    "distances = np.zeros((n,k))\n",
    "\n",
    "error = np.linalg.norm(centers_new - centers_old)\n",
    "\n",
    "# When, after an update, the estimate of that center stays the same, exit loop\n",
    "while error != 0:\n",
    "    # Measure the distance to every center\n",
    "    for d in range(n):\n",
    "        for i in range(k):\n",
    "            distances[d,i] = np.linalg.norm(data[d] - centers[i])\n",
    "#     # Assign all training data to closest center\n",
    "#     clusters = np.argmin(distances, axis = 1)\n",
    "    \n",
    "#     centers_old = deepcopy(centers_new)\n",
    "#     # Calculate mean for every cluster and update the center\n",
    "#     for i in range(k):\n",
    "#         centers_new[i] = np.mean(data[clusters == i], axis=0)\n",
    "#     error = np.linalg.norm(centers_new - centers_old)\n",
    "# centers_new "
   ]
  },
  {
   "cell_type": "code",
   "execution_count": null,
   "metadata": {},
   "outputs": [],
   "source": [
    "centers_new.shape"
   ]
  },
  {
   "cell_type": "code",
   "execution_count": null,
   "metadata": {},
   "outputs": [],
   "source": [
    "# Plot the data and the centers generated as random\n",
    "colors=['orange', 'blue', 'green']\n",
    "for i in range(n):\n",
    "    plt.scatter(data[i, 0], data[i,1], s=7)\n",
    "plt.scatter(centers_new[:,0], centers_new[:,1], marker='*', c='g', s=150)"
   ]
  },
  {
   "cell_type": "code",
   "execution_count": null,
   "metadata": {},
   "outputs": [],
   "source": [
    "np.array(data).shape"
   ]
  },
  {
   "cell_type": "code",
   "execution_count": null,
   "metadata": {},
   "outputs": [],
   "source": []
  },
  {
   "cell_type": "code",
   "execution_count": null,
   "metadata": {},
   "outputs": [],
   "source": []
  },
  {
   "cell_type": "code",
   "execution_count": null,
   "metadata": {},
   "outputs": [],
   "source": [
    "best_cluster_n = 20\n",
    "\n",
    "color = [\"crimson\",\"orange\",\"olive\",'seagreen',\"royalblue\",\"purple\",\"pink\",\"grey\",\n",
    "        \"crimson\",\"orange\",\"olive\",'seagreen',\"royalblue\",\"purple\",\"pink\",\"grey\"]\n",
    "\n",
    "random.seed(300)\n",
    "\n",
    "default_gmm = {'n_clusters':2, 'covariance_type': 'full'}\n",
    "default_kmeans = {'n_clusters':2,'verbose':False,'random_state':0}\n",
    "\n",
    "g_cluster_pattern_list = []\n",
    "k_cluster_pattern_list = []\n",
    "\n",
    "gmm_option = [\n",
    "    ({'n_clusters': best_cluster_n})\n",
    "]\n",
    "\n",
    "kmeans_option = [\n",
    "    ({'n_clusters': best_cluster_n})\n",
    "]\n",
    "\n",
    "for g_option,k_option in zip(gmm_option,kmeans_option):\n",
    "    g_params = default_gmm.copy()\n",
    "    g_params.update(g_option)\n",
    "\n",
    "    k_params = default_kmeans.copy()\n",
    "    k_params.update(k_option)\n",
    "\n",
    "    gmm =  mixture.GaussianMixture(\n",
    "        n_components=g_params['n_clusters'], \n",
    "        covariance_type=g_params['covariance_type'])\n",
    "\n",
    "    kmeans = cluster.KMeans(\n",
    "        n_clusters=k_params['n_clusters'], \n",
    "        random_state=k_params['random_state'])\n",
    "\n",
    "    g_pred = gmm.fit_predict(data)\n",
    "    k_pred = kmeans.fit_predict(data)\n",
    "\n",
    "    fig = plt.figure(figsize=(len(np.unique(g_pred))*3,6))\n",
    "    axes = fig.subplots(2, g_params['n_clusters'])\n",
    "\n",
    "    for class_ in range(0,g_params['n_clusters']):\n",
    "        g_class_idx = [i for i,x in enumerate(g_pred) if x ==class_]\n",
    "        k_class_idx = [i for i,x in enumerate(k_pred) if x ==class_]\n",
    "        \n",
    "        g_class_pattern = np.array([data[idx] for idx in g_class_idx])\n",
    "        k_class_pattern = np.array([data[idx] for idx in k_class_idx])\n",
    "\n",
    "        g_cluster_mean = g_class_pattern.mean(axis=0)\n",
    "        k_cluster_mean = k_class_pattern.mean(axis=0)\n",
    "\n",
    "        # visualization\n",
    "        axes[0,class_].plot(g_class_pattern.T, color =color[class_],alpha=0.6)\n",
    "        axes[1,class_].plot(k_class_pattern.T, color =color[class_],alpha=0.6)\n",
    "\n",
    "        axes[0,class_].plot(g_cluster_mean, color ='black',alpha=1,linewidth=5)\n",
    "        axes[1,class_].plot(k_cluster_mean, color ='black',alpha=1,linewidth=5)\n",
    "        \n",
    "#         # append list\n",
    "#         g_cluster_pattern_list.extend([{\"class\":class_,\"pattern_id\":idx,\"pattern_ys\":normalized_pattern_candidate[idx],\"pattern_mean\":g_cluster_mean} for idx in g_class_idx])\n",
    "#         k_cluster_pattern_list.extend([{\"class\":class_,\"pattern_id\":idx,\"pattern_ys\":normalized_pattern_candidate[idx],\"pattern_mean\":k_cluster_mean} for idx in k_class_idx])\n",
    " \n",
    "\n",
    "    #(\"KMeans: {} \\nGMM: {}\".format(k_params,g_params),y=1.5)\n",
    "    plt.tight_layout()\n",
    "    plt.show()"
   ]
  },
  {
   "cell_type": "code",
   "execution_count": null,
   "metadata": {},
   "outputs": [],
   "source": [
    "np.array(data).shape"
   ]
  },
  {
   "cell_type": "code",
   "execution_count": null,
   "metadata": {},
   "outputs": [],
   "source": []
  },
  {
   "cell_type": "code",
   "execution_count": null,
   "metadata": {},
   "outputs": [],
   "source": [
    "weight = np.reshape(weight,(-1))\n",
    "data = np.reshape(data,(-1,45))"
   ]
  },
  {
   "cell_type": "code",
   "execution_count": null,
   "metadata": {},
   "outputs": [],
   "source": [
    "KMeans(n_clusters=10, random_state=0).fit_predict(data, sample_weight=weight)"
   ]
  },
  {
   "cell_type": "code",
   "execution_count": null,
   "metadata": {},
   "outputs": [],
   "source": [
    ">>> from sklearn.cluster import KMeans\n",
    ">>> import numpy as np\n",
    ">>> X = np.array([[1, 2], [1, 4], [1, 0],\n",
    "...               [10, 2], [10, 4], [10, 0]])\n",
    ">>> kmeans = KMeans(n_clusters=2, random_state=0).fit(X)\n",
    ">>> kmeans.labels_\n",
    "array([1, 1, 1, 0, 0, 0], dtype=int32)\n",
    ">>> kmeans.predict([[0, 0], [12, 3]])\n",
    "array([1, 0], dtype=int32)\n",
    ">>> kmeans.cluster_centers_\n",
    "array([[10.,  2.],\n",
    "       [ 1.,  2.]])"
   ]
  },
  {
   "cell_type": "code",
   "execution_count": null,
   "metadata": {},
   "outputs": [],
   "source": [
    "conv_output2[0,0,:,[1]].T.shape"
   ]
  },
  {
   "cell_type": "code",
   "execution_count": null,
   "metadata": {},
   "outputs": [],
   "source": []
  },
  {
   "cell_type": "code",
   "execution_count": null,
   "metadata": {},
   "outputs": [],
   "source": [
    "A=original_acc*0.2\n",
    "\n",
    "turnoff_acc_list=[original_acc]\n",
    "turnoff_cost_list=[original_cost]\n",
    "threshold = 0\n",
    "fig = plt.figure(figsize=(15,5))\n",
    "ax = plt.subplot(1,1,1)\n",
    "\n",
    "find_threshold = False\n",
    "for T in range(990, 650, -5):\n",
    "    \n",
    "    temp_threshold1 = 0#np.percentile(conv_output1,T/10.0,[0,1,2])\n",
    "    temp_threshold2 = np.percentile(conv_output2,T/10.0,[0,1,2])\n",
    "    \n",
    "    \n",
    "    temp_conv_bool1 = conv_output1>temp_threshold1\n",
    "    temp_conv_bool2 = conv_output2>temp_threshold2\n",
    "    \n",
    "    \n",
    "    threshold_weight1 = (~temp_conv_bool1).reshape(-1,1,28,64)\n",
    "    threshold_weight2 = (~temp_conv_bool2).reshape(-1,1,6,128)\n",
    "    \n",
    "    turnoff_cost , turnoff_acc = MC_dropout_model.test(trainX,trainY,1.0,\n",
    "                                    threshold_weight1 = threshold_weight1.astype(float),\n",
    "                                    threshold_weight2 = threshold_weight2.astype(float))\n",
    "    \n",
    "    #print (\"[top {}% , threshold: {}]\\noriginal acc:{}, turnoff_acc{}\".format(100- T/10.0,threshold,original_acc,turnoff_acc))\n",
    "    turnoff_acc_list.append(turnoff_acc)\n",
    "    turnoff_cost_list.append(turnoff_cost)\n",
    "    acc_difference = original_acc - turnoff_acc\n",
    "    \n",
    "    if ((acc_difference > A)&(find_threshold==False)):\n",
    "        find_threshold = 100-(T/10.0)\n",
    "        threshold1 = temp_threshold1\n",
    "        threshold2 = temp_threshold2\n",
    "\n",
    "        conv_bool1 = temp_conv_bool1\n",
    "        conv_bool2 = temp_conv_bool2\n",
    "        ax.scatter(100-(T/10.0),turnoff_acc,s=40,c='darkcyan')\n",
    "\n",
    "ax.scatter(0,original_acc,c='darkcyan',s=40)\n",
    "ax.plot([100- (x/10.0) for x in range(995+5, 650, -5)][:-1], turnoff_acc_list ,c='black',label=\"turnoff_acc\")\n",
    "ax.axhline(original_acc, c='darkcyan',label=\"original_acc\")\n",
    "ax.legend()\n",
    "\n",
    "ax.set_xlabel(\"TOP - %\")\n",
    "ax.set_ylabel(\"ACCURACY \")\n",
    "\n",
    "ax.set_xlim(0,100- (T/10.0))\n",
    "fig.suptitle(\"ACCURACY WHEN TURN OFF TOP -% NODE IN UNIT \")"
   ]
  },
  {
   "cell_type": "code",
   "execution_count": null,
   "metadata": {},
   "outputs": [],
   "source": [
    "temp_conv_bool2[random_sample_idx].shape"
   ]
  },
  {
   "cell_type": "code",
   "execution_count": null,
   "metadata": {},
   "outputs": [],
   "source": []
  },
  {
   "cell_type": "code",
   "execution_count": null,
   "metadata": {},
   "outputs": [],
   "source": [
    "import Pycluster as pc"
   ]
  },
  {
   "cell_type": "code",
   "execution_count": null,
   "metadata": {},
   "outputs": [],
   "source": [
    "import "
   ]
  },
  {
   "cell_type": "code",
   "execution_count": null,
   "metadata": {},
   "outputs": [],
   "source": [
    "conv_output2.shape"
   ]
  },
  {
   "cell_type": "code",
   "execution_count": null,
   "metadata": {},
   "outputs": [],
   "source": [
    "# Save as npy\n",
    "np.save('consecutive_pattern{}.npy'.format(len(trainX)//3), consecutive_pattern)"
   ]
  },
  {
   "cell_type": "code",
   "execution_count": null,
   "metadata": {},
   "outputs": [],
   "source": [
    "len(consecutive_pattern)"
   ]
  },
  {
   "cell_type": "code",
   "execution_count": null,
   "metadata": {},
   "outputs": [],
   "source": [
    "consecutive_pattern = np.load('./consecutive_pattern_randomsample(0.2).npy',allow_pickle=True)"
   ]
  },
  {
   "cell_type": "code",
   "execution_count": null,
   "metadata": {},
   "outputs": [],
   "source": [
    "os.path.join(save_path,model_name,\"consecutive_pattern_randomsample(0.2).npy\")"
   ]
  },
  {
   "cell_type": "code",
   "execution_count": null,
   "metadata": {},
   "outputs": [],
   "source": [
    "len(consecutive_pattern)"
   ]
  },
  {
   "cell_type": "code",
   "execution_count": null,
   "metadata": {},
   "outputs": [],
   "source": [
    "from tslearn.preprocessing import TimeSeriesScalerMeanVariance, TimeSeriesResampler\n",
    "normalized_pattern_candidate =TimeSeriesScalerMeanVariance().fit_transform([x['pattern_ys'] for x in consecutive_pattern])\n",
    "normalized_pattern_candidate = np.asarray(normalized_pattern_candidate).squeeze()"
   ]
  },
  {
   "cell_type": "markdown",
   "metadata": {},
   "source": [
    "## pattern clustering"
   ]
  },
  {
   "cell_type": "code",
   "execution_count": null,
   "metadata": {},
   "outputs": [],
   "source": [
    "from sklearn import metrics\n",
    "from sklearn.metrics import pairwise_distances\n",
    "from sklearn import cluster, mixture\n",
    "\n",
    "pseudoF_gmm = []\n",
    "pseudoF_kmeans = []\n",
    "\n",
    "\n",
    "cut_num=20\n",
    "\n",
    "fig = plt.figure(figsize=(20,5))\n",
    "for n_clusters in range(3,cut_num):\n",
    "    gmm = mixture.GaussianMixture(n_components=n_clusters, \n",
    "            covariance_type='full')\n",
    "    labels = gmm.fit_predict(normalized_pattern_candidate)\n",
    "    pseudoF_gmm.append(metrics.calinski_harabasz_score(normalized_pattern_candidate, labels))\n",
    "    \n",
    "    kmeans = cluster.KMeans(n_clusters=n_clusters, random_state=0)\n",
    "    \n",
    "    labels = kmeans.fit_predict(normalized_pattern_candidate)\n",
    "    pseudoF_kmeans.append(metrics.calinski_harabasz_score(normalized_pattern_candidate, labels))\n",
    "\n",
    "x = np.arange(3,cut_num)\n",
    "ax = plt.subplot(1,2,1)\n",
    "ax.plot(x, pseudoF_gmm[:cut_num])\n",
    "ax.set_xticks(x)\n",
    "ax.set_title(\"GMM pseudoF score\")\n",
    "plt.grid()\n",
    "\n",
    "ax = plt.subplot(1,2,2)\n",
    "ax.plot(x, pseudoF_kmeans[:cut_num])\n",
    "ax.set_xticks(x)\n",
    "ax.set_title(\"Kmeans pseudoF score\")\n",
    "plt.grid()\n",
    "\n",
    "plt.show()"
   ]
  },
  {
   "cell_type": "code",
   "execution_count": null,
   "metadata": {},
   "outputs": [],
   "source": [
    "best_cluster_n = 9"
   ]
  },
  {
   "cell_type": "code",
   "execution_count": null,
   "metadata": {},
   "outputs": [],
   "source": [
    "color = [\"crimson\",\"orange\",\"olive\",'seagreen',\"royalblue\",\"purple\",\"pink\",\"grey\",\n",
    "        \"crimson\",\"orange\",\"olive\",'seagreen',\"royalblue\",\"purple\",\"pink\",\"grey\"]\n",
    "\n",
    "random.seed(300)\n",
    "\n",
    "default_gmm = {'n_clusters':2, 'covariance_type': 'full'}\n",
    "default_kmeans = {'n_clusters':2,'verbose':False,'random_state':0}"
   ]
  },
  {
   "cell_type": "code",
   "execution_count": null,
   "metadata": {},
   "outputs": [],
   "source": [
    "best_cluster_n = 9\n",
    "\n",
    "color = [\"crimson\",\"orange\",\"olive\",'seagreen',\"royalblue\",\"purple\",\"pink\",\"grey\",\n",
    "        \"crimson\",\"orange\",\"olive\",'seagreen',\"royalblue\",\"purple\",\"pink\",\"grey\"]\n",
    "\n",
    "random.seed(300)\n",
    "\n",
    "default_gmm = {'n_clusters':2, 'covariance_type': 'full'}\n",
    "default_kmeans = {'n_clusters':2,'verbose':False,'random_state':0}\n",
    "\n",
    "g_cluster_pattern_list = []\n",
    "k_cluster_pattern_list = []\n",
    "\n",
    "gmm_option = [\n",
    "    ({'n_clusters': best_cluster_n})\n",
    "]\n",
    "\n",
    "kmeans_option = [\n",
    "    ({'n_clusters': best_cluster_n})\n",
    "]\n",
    "\n",
    "for g_option,k_option in zip(gmm_option,kmeans_option):\n",
    "    g_params = default_gmm.copy()\n",
    "    g_params.update(g_option)\n",
    "\n",
    "    k_params = default_kmeans.copy()\n",
    "    k_params.update(k_option)\n",
    "\n",
    "    gmm =  mixture.GaussianMixture(\n",
    "        n_components=g_params['n_clusters'], \n",
    "        covariance_type=g_params['covariance_type'])\n",
    "\n",
    "    kmeans = cluster.KMeans(\n",
    "        n_clusters=k_params['n_clusters'], \n",
    "        random_state=k_params['random_state'])\n",
    "\n",
    "    g_pred = gmm.fit_predict(normalized_pattern_candidate)\n",
    "    k_pred = kmeans.fit_predict(normalized_pattern_candidate)\n",
    "\n",
    "    fig = plt.figure(figsize=(len(np.unique(g_pred))*3,6))\n",
    "    axes = fig.subplots(2, g_params['n_clusters'])\n",
    "\n",
    "    for class_ in range(0,g_params['n_clusters']):\n",
    "        g_class_idx = [i for i,x in enumerate(g_pred) if x ==class_]\n",
    "        k_class_idx = [i for i,x in enumerate(k_pred) if x ==class_]\n",
    "        \n",
    "        g_class_pattern = np.array([normalized_pattern_candidate[idx] for idx in g_class_idx])\n",
    "        k_class_pattern = np.array([normalized_pattern_candidate[idx] for idx in k_class_idx])\n",
    "\n",
    "        g_cluster_mean = g_class_pattern.mean(axis=0)\n",
    "        k_cluster_mean = k_class_pattern.mean(axis=0)\n",
    "\n",
    "        # visualization\n",
    "        axes[0,class_].plot(g_class_pattern.T, color =color[class_],alpha=0.6)\n",
    "        axes[1,class_].plot(k_class_pattern.T, color =color[class_],alpha=0.6)\n",
    "\n",
    "        axes[0,class_].plot(g_cluster_mean, color ='black',alpha=1,linewidth=5)\n",
    "        axes[1,class_].plot(k_cluster_mean, color ='black',alpha=1,linewidth=5)\n",
    "        \n",
    "        # append list\n",
    "        g_cluster_pattern_list.extend([{\"class\":class_,\"pattern_id\":idx,\"pattern_ys\":normalized_pattern_candidate[idx],\"pattern_mean\":g_cluster_mean} for idx in g_class_idx])\n",
    "        k_cluster_pattern_list.extend([{\"class\":class_,\"pattern_id\":idx,\"pattern_ys\":normalized_pattern_candidate[idx],\"pattern_mean\":k_cluster_mean} for idx in k_class_idx])\n",
    " \n",
    "\n",
    "    #(\"KMeans: {} \\nGMM: {}\".format(k_params,g_params),y=1.5)\n",
    "    plt.tight_layout()\n",
    "    plt.show()"
   ]
  },
  {
   "cell_type": "code",
   "execution_count": null,
   "metadata": {},
   "outputs": [],
   "source": [
    "g_class_pattern[random.sample(range())]"
   ]
  },
  {
   "cell_type": "markdown",
   "metadata": {},
   "source": [
    "### remove outlier pattern for better clustering"
   ]
  },
  {
   "cell_type": "markdown",
   "metadata": {},
   "source": [
    "다음 알고리즘을 짜기위해 우선 건너뜀"
   ]
  },
  {
   "cell_type": "markdown",
   "metadata": {},
   "source": [
    "각 conv2 ouput channel 마다 cluster label 모으기"
   ]
  },
  {
   "cell_type": "code",
   "execution_count": null,
   "metadata": {},
   "outputs": [],
   "source": [
    "from collections import Counter"
   ]
  },
  {
   "cell_type": "code",
   "execution_count": null,
   "metadata": {},
   "outputs": [],
   "source": [
    "for i,x in enumerate(consecutive_pattern):\n",
    "    x[\"pattern_label\"] = g_pred[i]"
   ]
  },
  {
   "cell_type": "code",
   "execution_count": null,
   "metadata": {},
   "outputs": [],
   "source": [
    "for output_channel in range(128):\n",
    "    vars()[\"output_pattern\"+str(output_channel+1)] = [x['pattern_label'] for x in consecutive_pattern if output_channel in x['output_channel']]\n",
    "    vars()[\"output_pattern_dict\"+str(output_channel+1)] = Counter(eval(\"output_pattern\"+str(output_channel+1)))"
   ]
  },
  {
   "cell_type": "code",
   "execution_count": null,
   "metadata": {},
   "outputs": [],
   "source": [
    "pattern_frequency_arr = np.zeros(best_cluster_n* 128).reshape(best_cluster_n,128)"
   ]
  },
  {
   "cell_type": "code",
   "execution_count": null,
   "metadata": {},
   "outputs": [],
   "source": [
    "for output_channel in range(128):\n",
    "    for cluster in range(best_cluster_n):\n",
    "        pattern_frequency_arr[cluster][output_channel]=eval(\"output_pattern_dict\"+str(output_channel+1))[cluster]"
   ]
  },
  {
   "cell_type": "code",
   "execution_count": null,
   "metadata": {},
   "outputs": [],
   "source": [
    "pattern_frequency_arr= pattern_frequency_arr.astype(int)"
   ]
  },
  {
   "cell_type": "code",
   "execution_count": null,
   "metadata": {},
   "outputs": [],
   "source": [
    "import seaborn as sns "
   ]
  },
  {
   "cell_type": "code",
   "execution_count": null,
   "metadata": {},
   "outputs": [],
   "source": [
    "plt.imshow(pattern_frequency_arr.T,aspect=\"auto\",cmap=\"OrRd\")"
   ]
  },
  {
   "cell_type": "code",
   "execution_count": null,
   "metadata": {},
   "outputs": [],
   "source": [
    "pattern_frequency_arr.shape"
   ]
  },
  {
   "cell_type": "code",
   "execution_count": null,
   "metadata": {},
   "outputs": [],
   "source": [
    "patt"
   ]
  },
  {
   "cell_type": "code",
   "execution_count": null,
   "metadata": {},
   "outputs": [],
   "source": [
    "np.quantile(pattern_frequency_arr,0.75,0).shape"
   ]
  },
  {
   "cell_type": "code",
   "execution_count": null,
   "metadata": {},
   "outputs": [],
   "source": [
    "#conv2_bool = (pattern_frequency_arr>np.quantile(pattern_frequency_arr,0.75,0)).T\n",
    "\n"
   ]
  },
  {
   "cell_type": "code",
   "execution_count": null,
   "metadata": {},
   "outputs": [],
   "source": [
    "plt.imshow(conv2_bool,aspect=\"auto\",cmap=\"OrRd\")"
   ]
  },
  {
   "cell_type": "markdown",
   "metadata": {},
   "source": [
    "# unit별 IOU계산"
   ]
  },
  {
   "cell_type": "code",
   "execution_count": null,
   "metadata": {},
   "outputs": [],
   "source": [
    "def conv_IOU(convbool,convbool_list):\n",
    "    IOU= [(x==convbool).sum()/len(convbool) for x in convbool_list]\n",
    "    return IOU"
   ]
  },
  {
   "cell_type": "code",
   "execution_count": null,
   "metadata": {},
   "outputs": [],
   "source": [
    "conv2_IOU = np.zeros(conv_output2.shape[3]*conv_output2.shape[3]).reshape(conv_output2.shape[3],conv_output2.shape[3])"
   ]
  },
  {
   "cell_type": "code",
   "execution_count": null,
   "metadata": {
    "scrolled": true
   },
   "outputs": [],
   "source": [
    "conv2_bool.shape"
   ]
  },
  {
   "cell_type": "code",
   "execution_count": null,
   "metadata": {},
   "outputs": [],
   "source": []
  },
  {
   "cell_type": "code",
   "execution_count": null,
   "metadata": {},
   "outputs": [],
   "source": [
    "for conv_c1 in range(conv_output2.shape[3]):\n",
    "    conv2_IOU[conv_c1][:]= conv_IOU(conv2_bool[conv_c1,:],\n",
    "                                    conv2_bool)"
   ]
  },
  {
   "cell_type": "code",
   "execution_count": null,
   "metadata": {
    "scrolled": false
   },
   "outputs": [],
   "source": [
    "f = plt.figure(figsize=(15,15))\n",
    "ax = plt.subplot(1,1,1)\n",
    "sns.heatmap(conv2_IOU, ax = ax, cmap =\"OrRd\", linewidths = 0.1) \n",
    "ax.set_title(\"IOU scores for CONV2\")\n",
    "\n",
    "#ax2 = plt.subplot(1,2,2)\n",
    "#sns.heatmap(1.0 - conv2_IOU, ax = ax2, cmap =\"OrRd\", linewidths = 0.1) \n",
    "#ax2.set_title(\"DISTANCE(1-IOU) scores for CONV2\")"
   ]
  },
  {
   "cell_type": "code",
   "execution_count": null,
   "metadata": {},
   "outputs": [],
   "source": [
    "import copy"
   ]
  },
  {
   "cell_type": "code",
   "execution_count": null,
   "metadata": {},
   "outputs": [],
   "source": [
    "find_same_bool = -np.ones(128).astype(int)"
   ]
  },
  {
   "cell_type": "code",
   "execution_count": null,
   "metadata": {},
   "outputs": [],
   "source": [
    "t=0\n",
    "while (find_same_bool >-1).sum()<128:\n",
    "    find_same_bool[[i for i,x in enumerate(conv2_IOU[t]) if x==1.0 ]]=t\n",
    "    t+=1"
   ]
  },
  {
   "cell_type": "code",
   "execution_count": null,
   "metadata": {},
   "outputs": [],
   "source": [
    "np.unique(find_same_bool)"
   ]
  },
  {
   "cell_type": "code",
   "execution_count": null,
   "metadata": {},
   "outputs": [],
   "source": [
    "unit_cluster_num = len(np.unique(find_same_bool))"
   ]
  },
  {
   "cell_type": "code",
   "execution_count": null,
   "metadata": {},
   "outputs": [],
   "source": [
    "fig = plt.figure(figsize=(5,unit_cluster_num))\n",
    "for i, same_idx in enumerate(np.unique(find_same_bool)):\n",
    "    ax = plt.subplot(unit_cluster_num,1,i+1)\n",
    "    ax.imshow(conv2_bool[same_idx].reshape(1,-1).astype(int),aspect=\"auto\",cmap=\"OrRd\",vmin=0, vmax=1)\n",
    "    ax.set_title(\"UNIT-CLSUTER{}, \\n# of unit in cluster:{}\".format((i+1), Counter(find_same_bool)[same_idx]))\n",
    "    ax.set_yticks([])\n",
    "plt.tight_layout()"
   ]
  },
  {
   "cell_type": "code",
   "execution_count": null,
   "metadata": {
    "scrolled": true
   },
   "outputs": [],
   "source": [
    "cg = sns.clustermap(conv1_IOU, cmap =\"OrRd\",\n",
    "                    linewidths = 0.1, robust=True,\n",
    "                   metric =\"correlation\"); \n",
    "plt.setp(cg.ax_heatmap.yaxis.get_majorticklabels(), rotation = 0) "
   ]
  },
  {
   "cell_type": "markdown",
   "metadata": {},
   "source": [
    "Z= cg.dendrogram_col.linkage"
   ]
  },
  {
   "cell_type": "markdown",
   "metadata": {},
   "source": [
    "from scipy.cluster.hierarchy import fcluster\n",
    "max_d = 1\n",
    "clusters = fcluster(Z, max_d, criterion='distance')\n",
    "clusters"
   ]
  },
  {
   "cell_type": "markdown",
   "metadata": {},
   "source": [
    "k=50\n",
    "clusters =fcluster(Z, k, criterion='inconsistent')"
   ]
  },
  {
   "cell_type": "markdown",
   "metadata": {},
   "source": [
    "clusters"
   ]
  },
  {
   "cell_type": "markdown",
   "metadata": {},
   "source": [
    "for idx in [i for i,x in enumerate(clusters) if x==8]:\n",
    "    plt.imshow(conv2_bool[idx].T.reshape(1,-1),aspect=\"auto\", cmap =\"OrRd\")\n",
    "    plt.show()"
   ]
  },
  {
   "cell_type": "markdown",
   "metadata": {},
   "source": [
    "## turn off unit"
   ]
  },
  {
   "cell_type": "code",
   "execution_count": null,
   "metadata": {},
   "outputs": [],
   "source": [
    "true_bool=np.ones(trainX.shape[0]*6*128).reshape(-1,1,6,128)\n",
    "false_bool = np.zeros(trainX.shape[0]*6*128).reshape(-1,1,6,128)"
   ]
  },
  {
   "cell_type": "code",
   "execution_count": null,
   "metadata": {},
   "outputs": [],
   "source": [
    "MC_dropout_model.relu2.shape"
   ]
  },
  {
   "cell_type": "code",
   "execution_count": null,
   "metadata": {},
   "outputs": [],
   "source": [
    "plt.imshow(unit_bool[0].squeeze())"
   ]
  },
  {
   "cell_type": "code",
   "execution_count": null,
   "metadata": {},
   "outputs": [],
   "source": [
    "np.unique(find_same_bool)[0]"
   ]
  },
  {
   "cell_type": "code",
   "execution_count": null,
   "metadata": {},
   "outputs": [],
   "source": [
    "each_clustering_turnoff=[original_acc]\n",
    "for same_idx in np.unique(find_same_bool):\n",
    "    unit_bool =copy.deepcopy(true_bool)\n",
    "    for idx in [i for i,x in enumerate(find_same_bool) if x==same_idx]:\n",
    "        unit_bool[:,:,:,idx] = False\n",
    "    acc =MC_dropout_model.sess.run((MC_dropout_model.accuracy), \n",
    "                          feed_dict={MC_dropout_model.x: trainX,\n",
    "                                     MC_dropout_model.y: trainY,\n",
    "                                    MC_dropout_model.keep_prob:1.0,\n",
    "                                    MC_dropout_model.threshold_weight1 :np.ones(trainX.shape[0]*28*64).reshape(-1,1,28,64).astype(float),\n",
    "                                    MC_dropout_model.threshold_weight2 :unit_bool})\n",
    "    each_clustering_turnoff.append(acc)\n",
    "    \n",
    "fig = plt.figure(figsize=(15,5))\n",
    "ax = plt.subplot(1,1,1,)\n",
    "ax.scatter(0,original_acc,c='r',s=40)\n",
    "ax.set_xticks(np.arange(0,unit_cluster_num+1))\n",
    "ax.plot(each_clustering_turnoff,c='black')\n",
    "ax.axhline(original_acc, c='r')\n",
    "ax.set_xlabel(\"UNIT CLUSTERING ID\")\n",
    "ax.set_ylabel(\"ACCURACY\")\n",
    "plt.grid()\n",
    "fig.suptitle(\"ACCURACY WHEN UNIT-CLUSTRING IS TURNED OFF \")"
   ]
  },
  {
   "cell_type": "code",
   "execution_count": null,
   "metadata": {},
   "outputs": [],
   "source": [
    "same_idx = np.unique(find_same_bool)[5]\n",
    "unit_bool =copy.deepcopy(true_bool)\n",
    "for idx in [i for i,x in enumerate(find_same_bool) if x==same_idx]:\n",
    "    unit_bool[:,:,:,idx] = False\n",
    "acc =MC_dropout_model.sess.run((MC_dropout_model.accuracy), \n",
    "                      feed_dict={MC_dropout_model.x: trainX,\n",
    "                                 MC_dropout_model.y: trainY,\n",
    "                                MC_dropout_model.keep_prob:1.0,\n",
    "                                MC_dropout_model.threshold_weight1 :np.ones(trainX.shape[0]*28*64).reshape(-1,1,28,64).astype(float),\n",
    "                                MC_dropout_model.threshold_weight2 :unit_bool})"
   ]
  },
  {
   "cell_type": "code",
   "execution_count": null,
   "metadata": {},
   "outputs": [],
   "source": [
    "each_clustering_turnon=[original_acc]\n",
    "for same_idx in np.unique(find_same_bool):\n",
    "    unit_bool =copy.deepcopy(false_bool)\n",
    "    for idx in [i for i,x in enumerate(find_same_bool) if x==same_idx]:\n",
    "        unit_bool[:,:,:,idx] = True\n",
    "    acc =MC_dropout_model.sess.run((MC_dropout_model.accuracy), \n",
    "                          feed_dict={MC_dropout_model.x: trainX,\n",
    "                                     MC_dropout_model.y: trainY,\n",
    "                                    MC_dropout_model.keep_prob:1.0,\n",
    "                                    MC_dropout_model.threshold_weight1 :np.ones(trainX.shape[0]*28*64).reshape(-1,1,28,64).astype(float),\n",
    "                                    MC_dropout_model.threshold_weight2 :unit_bool})\n",
    "    each_clustering_turnon.append(acc)\n",
    "    \n",
    "fig = plt.figure(figsize=(15,5))\n",
    "ax = plt.subplot(1,1,1,)\n",
    "ax.scatter(0,original_acc,c='r',s=40)\n",
    "ax.set_xticks(np.arange(0,unit_cluster_num+1))\n",
    "ax.plot(each_clustering_turnon,c='black')\n",
    "ax.axhline(original_acc, c='r')\n",
    "ax.set_xlabel(\"UNIT CLUSTERING ID\")\n",
    "ax.set_ylabel(\"ACCURACY\")\n",
    "plt.grid()\n",
    "fig.suptitle(\"ACCURACY WHEN UNIT-CLUSTRING IS TURNED ON \")"
   ]
  },
  {
   "cell_type": "markdown",
   "metadata": {},
   "source": [
    "# clustering"
   ]
  },
  {
   "cell_type": "code",
   "execution_count": null,
   "metadata": {},
   "outputs": [],
   "source": [
    "color = [\"crimson\",\"orange\",\"olive\",'seagreen',\"royalblue\",\"purple\",\"pink\",\"grey\",\n",
    "        \"crimson\",\"orange\",\"olive\",'seagreen',\"royalblue\",\"purple\",\"pink\",\"grey\"]"
   ]
  },
  {
   "cell_type": "code",
   "execution_count": null,
   "metadata": {},
   "outputs": [],
   "source": [
    "n_clusters = 6"
   ]
  },
  {
   "cell_type": "markdown",
   "metadata": {},
   "source": [
    "# clustering with fixed length data"
   ]
  },
  {
   "cell_type": "markdown",
   "metadata": {},
   "source": [
    "1. 패턴의 길이를 fix하고 해당 length의 패턴만을 클러스터링"
   ]
  },
  {
   "cell_type": "code",
   "execution_count": null,
   "metadata": {},
   "outputs": [],
   "source": [
    "pattern_len = 6\n",
    "specific_len_pattern_idx=[i for i,x in enumerate(consecutive_pattern) if len(x['pattern_idx']) ==pattern_len]\n",
    "specific_pattern=[x['pattern'] for i,x in enumerate(consecutive_pattern) if i in specific_len_pattern_idx]\n",
    "len(specific_len_pattern_idx)"
   ]
  },
  {
   "cell_type": "markdown",
   "metadata": {},
   "source": [
    "## pattern standardization\n",
    "1. 평균0, 분산1 형태로 standardization"
   ]
  },
  {
   "cell_type": "code",
   "execution_count": null,
   "metadata": {},
   "outputs": [],
   "source": [
    "from tslearn.preprocessing import TimeSeriesScalerMeanVariance, TimeSeriesResampler\n",
    "normalized_pattern_candidate =TimeSeriesScalerMeanVariance().fit_transform(specific_pattern)\n",
    "normalized_pattern_candidate = normalized_pattern_candidate.squeeze()\n",
    "normalized_pattern_candidate.shape"
   ]
  },
  {
   "cell_type": "markdown",
   "metadata": {},
   "source": [
    "## spectral clustering, gmm clustering,k-means,SOM"
   ]
  },
  {
   "cell_type": "code",
   "execution_count": null,
   "metadata": {},
   "outputs": [],
   "source": [
    "from sklearn import mixture,cluster\n",
    "from tslearn.clustering import TimeSeriesKMeans"
   ]
  },
  {
   "cell_type": "code",
   "execution_count": null,
   "metadata": {},
   "outputs": [],
   "source": [
    "#n_cluster : interger\n",
    "#eigen_solver{None, ‘arpack’, ‘lobpcg’, or ‘amg’}\n",
    "#affinity: ‘nearest_neighbors’‘rbf’\n",
    "default_spectral = {'n_clusters':2,\n",
    "                    'eigen_solver': 'arpack',\n",
    "                    'affinity': \"rbf\"}\n",
    "\n",
    "#covariance_type{‘full’ (default), ‘tied’, ‘diag’, ‘spherical’}\n",
    "default_gmm = {'n_clusters':2, 'covariance_type': 'full'}\n",
    "default_kmeans = {'n_clusters':2,'verbose':False,'random_state':0}\n",
    "default_hac = {'method':'single','metric':'euclidean','cut_off_level':5,'criterion':'maxclust'}\n",
    "\n",
    "spectral_option = [\n",
    "    ({'n_clusters': 6})\n",
    "]\n",
    "\n",
    "gmm_option = [\n",
    "    ({'n_clusters': 6})\n",
    "    \n",
    "]\n",
    "\n",
    "kmeans_option = [\n",
    "    ({'n_clusters': 6})\n",
    "    \n",
    "]\n",
    "\n",
    "hac_option =[\n",
    "    ({'cut_off_level': 6})\n",
    "    \n",
    "]"
   ]
  },
  {
   "cell_type": "code",
   "execution_count": null,
   "metadata": {},
   "outputs": [],
   "source": [
    "import math\n",
    "import scipy.cluster.hierarchy as hac\n",
    "import matplotlib.gridspec as gridspec"
   ]
  },
  {
   "cell_type": "code",
   "execution_count": null,
   "metadata": {
    "scrolled": true
   },
   "outputs": [],
   "source": [
    "random.seed(300)\n",
    "for g_option,k_option in zip(gmm_option,kmeans_option):\n",
    "\n",
    "    g_params = default_gmm.copy()\n",
    "    g_params.update(g_option)\n",
    "    \n",
    "    k_params = default_kmeans.copy()\n",
    "    k_params.update(k_option)\n",
    "    \n",
    "\n",
    "    gmm =  mixture.GaussianMixture(\n",
    "        n_components=g_params['n_clusters'], \n",
    "        covariance_type=g_params['covariance_type'])\n",
    "    \n",
    "    kmeans = cluster.KMeans(\n",
    "        n_clusters=k_params['n_clusters'], \n",
    "        random_state=k_params['random_state'])\n",
    "\n",
    "    g_pred = gmm.fit_predict(normalized_pattern_candidate)\n",
    "    k_pred = kmeans.fit_predict(normalized_pattern_candidate)\n",
    "    \n",
    "    g_cluster_mean_pattern =[]\n",
    "    k_cluster_mean_pattern =[]\n",
    "\n",
    "    fig = plt.figure(figsize=(len(np.unique(g_pred))*3,7))\n",
    "    axes = fig.subplots(2, g_params['n_clusters'])\n",
    "    for class_ in range(0,g_params['n_clusters']):\n",
    "        g_class_idx = [i for i,x in enumerate(g_pred) if x ==class_]\n",
    "        k_class_idx = [i for i,x in enumerate(k_pred) if x ==class_]\n",
    "\n",
    "        try:\n",
    "            axes[0,class_].plot(normalized_pattern_candidate[random.sample(g_class_idx,30)].T, color =color[class_],alpha=0.6)\n",
    "            axes[1,class_].plot(normalized_pattern_candidate[random.sample(k_class_idx,30)].T, color =color[class_],alpha=0.6)\n",
    "\n",
    "        except:\n",
    "            axes[0,class_].plot(normalized_pattern_candidate[g_class_idx].T, color =color[class_],alpha=0.6)\n",
    "            axes[1,class_].plot(normalized_pattern_candidate[k_class_idx].T, color =color[class_],alpha=0.6)\n",
    "\n",
    "        g_cluster_mean = normalized_pattern_candidate[g_class_idx].mean(axis=0)\n",
    "        g_cluster_mean_pattern.append(g_cluster_mean)\n",
    "        k_cluster_mean = normalized_pattern_candidate[k_class_idx].mean(axis=0)\n",
    "        k_cluster_mean_pattern.append(k_cluster_mean)\n",
    "        axes[0,class_].plot(g_cluster_mean, color ='black',alpha=1,linewidth=5)\n",
    "        axes[1,class_].plot(k_cluster_mean, color ='black',alpha=1,linewidth=5)\n",
    "\n",
    "    #fig.suptitle(\"Spectral Clustering: {} \\nGMM: {}\".format(s_params,g_params),y=0.98)\n",
    "    plt.tight_layout()"
   ]
  },
  {
   "cell_type": "code",
   "execution_count": null,
   "metadata": {},
   "outputs": [],
   "source": [
    "import more_itertools as mit\n",
    "from sklearn.preprocessing import MinMaxScaler"
   ]
  },
  {
   "cell_type": "code",
   "execution_count": null,
   "metadata": {},
   "outputs": [],
   "source": [
    "prediction = MC_dropout_model.predict(data=trainX,keep_prob=1.0,is_dropout=False,threshold_weight = np.ones(trainX.shape[0]*128*128).reshape(-1,1,128,128))"
   ]
  },
  {
   "cell_type": "code",
   "execution_count": null,
   "metadata": {},
   "outputs": [],
   "source": [
    "#sample_data_idx = [i for i,x in enumerate(prediction) if np.argmax(x)==1]\n",
    "sample_data_idx = [i for i,x in enumerate(prediction) if np.argmax(x)==0]"
   ]
  },
  {
   "cell_type": "code",
   "execution_count": null,
   "metadata": {
    "scrolled": true
   },
   "outputs": [],
   "source": [
    "plot_idx = 0\n",
    "\n",
    "for d_idx in sample_data_idx:\n",
    "######## 특정 샘플의 패턴 리스트 생성  \n",
    "    # sample_data_idx의 전체 패턴\n",
    "    specific_data_pattern_idx=[i for i,x in enumerate(consecutive_pattern) if x['data_idx'] ==d_idx]\n",
    "    specific_pattern_idx= list(set(specific_data_pattern_idx) & set(specific_len_pattern_idx))\n",
    "    specific_pattern_info = [consecutive_pattern[x] for x in specific_pattern_idx]\n",
    "    \n",
    "    #해당 데이터에 미리 정한 길이만큼의 패턴이 없을 경우 pass\n",
    "    if len(specific_pattern_info):\n",
    "        pass\n",
    "        \n",
    "    # 총 10개의 plot을 그릴때까지 진행\n",
    "    if plot_idx ==15:\n",
    "        break\n",
    "    \n",
    "    for p_idx,p_info in zip(specific_pattern_idx, specific_pattern_info):\n",
    "        plot_idx+=1\n",
    "        # 데이터 자체 그리기\n",
    "        fig, ax= plt.subplots(figsize=(15,3))\n",
    "        ax.set_xlim([0,int(trainX.shape[2])-1])\n",
    "        data = trainX[d_idx,0,:,input_pattern_channel]\n",
    "        ax.plot(data,color='black')\n",
    "        \n",
    "        highlight_bool = np.zeros(width).astype(bool)\n",
    "        for p_channel in p_info['pattern_channel']:\n",
    "            hightlight_bool = (highlight_bool | last_conv_bool[d_idx,:,p_channel])\n",
    "        \n",
    "        \n",
    "        ax.set_facecolor(\"grey\") # 패턴이 있는 부분만 흰색 spotlight으로 하기 위해 기본 배경을 회색으로 설정\n",
    "            \n",
    "        for spotlight_se in [(list(group)) for group in mit.consecutive_groups([i for i,x in enumerate(hightlight_bool) if x==True])]:\n",
    "            ax.axvspan(spotlight_se[0], spotlight_se[-1], color='white', alpha=1)\n",
    "\n",
    "        color_idx = g_pred[specific_len_pattern_idx.index(p_idx)]\n",
    "        pattern_idx = p_info['pattern_idx']\n",
    "        ax.plot(pattern_idx, data[pattern_idx], color = color[color_idx])\n",
    "\n",
    "        # 패턴의 평균값 굵고 투명하게 그리기\n",
    "        x = g_cluster_mean_pattern[color_idx].reshape(-1,1) #returns a numpy array\n",
    "        min_max_scaler = MinMaxScaler(feature_range=(data[pattern_idx].min(), data[pattern_idx].max()))\n",
    "        pattern_scaled = min_max_scaler.fit_transform(x)\n",
    "        ax.plot(pattern_idx, pattern_scaled, color = color[color_idx], alpha=0.4,linewidth=10)\n",
    "        fig.suptitle(\"data{} : label{}, prediction{} \\n in last conv output_channel{}\".format(d_idx, np.argmax(trainY[d_idx]),np.argmax(prediction[d_idx]),p_info['pattern_channel']),y=1.0)\n",
    "    plt.show()\n",
    "    "
   ]
  },
  {
   "cell_type": "markdown",
   "metadata": {},
   "source": [
    "## clustering with different length scale"
   ]
  },
  {
   "cell_type": "markdown",
   "metadata": {},
   "source": [
    "#### Global Alignmnet Kernel K Means"
   ]
  },
  {
   "cell_type": "code",
   "execution_count": null,
   "metadata": {},
   "outputs": [],
   "source": [
    "pattern_len = 6\n",
    "specific_len_pattern_idx=[i for i,x in enumerate(consecutive_pattern)]\n",
    "specific_pattern=[x['pattern'] for i,x in enumerate(consecutive_pattern) if i in specific_len_pattern_idx]\n",
    "len(specific_len_pattern_idx)"
   ]
  },
  {
   "cell_type": "code",
   "execution_count": null,
   "metadata": {},
   "outputs": [],
   "source": [
    "from tslearn.utils import to_time_series_dataset\n",
    "from tslearn.clustering import GlobalAlignmentKernelKMeans"
   ]
  },
  {
   "cell_type": "code",
   "execution_count": null,
   "metadata": {},
   "outputs": [],
   "source": [
    "#길이를 맞추기위해 nan으로 패딩\n",
    "X =to_time_series_dataset(specific_pattern)"
   ]
  },
  {
   "cell_type": "code",
   "execution_count": null,
   "metadata": {},
   "outputs": [],
   "source": [
    "gak_km = GlobalAlignmentKernelKMeans(n_clusters=n_clusters)\n",
    "gak_km_predict = gak_km.fit_predict(X)\n",
    "\n",
    "class_breakdown(gak_km_predict)"
   ]
  },
  {
   "cell_type": "code",
   "execution_count": null,
   "metadata": {},
   "outputs": [],
   "source": [
    "for n in range(n_clusters):\n",
    "    idx = [i for i,x in enumerate(gak_km_predict) if x==n]\n",
    "    vars()[\"pattern_\"+str(n)] = [pattern[i] for i in idx ]"
   ]
  },
  {
   "cell_type": "code",
   "execution_count": null,
   "metadata": {
    "scrolled": true
   },
   "outputs": [],
   "source": [
    "plt.figure(figsize=(20,5))\n",
    "for n in range(n_clusters):\n",
    "    ax= plt.subplot(1,n_clusters,n+1)\n",
    "    for p in eval(\"pattern_\"+str(n)):\n",
    "        ax.plot(range(len(p)),p,color = color[n])\n",
    "plt.tight_layout()"
   ]
  },
  {
   "cell_type": "code",
   "execution_count": null,
   "metadata": {},
   "outputs": [],
   "source": [
    "plt.figure(figsize=(20,5))\n",
    "for n in range(n_clusters):\n",
    "    ax= plt.subplot(1,n_clusters,n+1)\n",
    "    mindexes = [np.argmax(x) for x in eval(\"pattern_\"+str(n))]\n",
    "    vars()[\"norm_pattern_\"+str(n)] = [(x-min(x)) for x in eval(\"pattern_\"+str(n))]\n",
    "    for i,p in enumerate(eval(\"norm_pattern_\"+str(n))):\n",
    "        shifts = max(mindexes) - mindexes[i]\n",
    "        ax.plot(range(shifts,shifts+len(p)), p,color=color[n],alpha=0.2)\n",
    "\n",
    "plt.show()"
   ]
  },
  {
   "cell_type": "markdown",
   "metadata": {},
   "source": [
    "### find representative shape for each clustering"
   ]
  },
  {
   "cell_type": "markdown",
   "metadata": {},
   "source": [
    "#### 1. Using U shapelet\n",
    "ref: Clustering Time Series using Unsupervised-Shapelets"
   ]
  },
  {
   "cell_type": "code",
   "execution_count": null,
   "metadata": {},
   "outputs": [],
   "source": [
    "len(pattern)"
   ]
  },
  {
   "cell_type": "code",
   "execution_count": null,
   "metadata": {},
   "outputs": [],
   "source": [
    "import copy\n",
    "sLen = range(5,9)\n",
    "D=copy.deepcopy(pattern)"
   ]
  },
  {
   "cell_type": "code",
   "execution_count": null,
   "metadata": {},
   "outputs": [],
   "source": [
    "S_hat=[]\n",
    "ts=D[50]\n",
    "for _ in range(10):\n",
    "    cnt=0 #count of candidate u-shapelets from ts\n",
    "    s_hat ={} #set of subsequences, initially empty\n",
    "    gap = []\n",
    "    dt =[]\n",
    "        \n",
    "    for sl in sLen:#each u-shapelet length\n",
    "        for i in np.arange(0, len(ts)-sl +1):#each subsequence from ts \n",
    "            s_hat[cnt] = ts[i:i+sl] #a subsequence of length sl\n",
    "            tup = compute_gap(s_hat[cnt],D,6)\n",
    "            gap.append(tup[0])\n",
    "            dt.append(tup[1])\n",
    "            cnt+=1\n",
    "    if cnt>0:\n",
    "        index1 = np.argmax(gap)\n",
    "        S_hat.append(s_hat[index1]) #find maximum gap score\n",
    "        dis = compute_distance(s_hat[index1],D)#add the u-shapelet with max gap score\n",
    "        try:\n",
    "            dA= [dis[i] for i,x in enumerate(dis<dt[index1]) if x==True] #points to the left of dt\n",
    "        except:\n",
    "            dA = [dis[i] for i,x in enumerate(dis) if x<dt[0]]\n",
    "\n",
    "        if len(dA) ==1:\n",
    "            print(\"dA length:1\")\n",
    "            break\n",
    "        else:\n",
    "            index2 = np.argmax(dis)\n",
    "            ts = D[index2]\n",
    "            msdA= np.mean(dA) +np.std(dA)\n",
    "            D_hat = [i for i,x in enumerate(dis<msdA) if x ==True]\n",
    "            idx = [x for x in np.arange(0,len(D)) if x not in D_hat]\n",
    "            new_D=[]\n",
    "            for d_idx in idx:\n",
    "                new_D.append(D[d_idx])\n",
    "            D=new_D"
   ]
  },
  {
   "cell_type": "code",
   "execution_count": null,
   "metadata": {},
   "outputs": [],
   "source": [
    "def znorm(data):\n",
    "    return (data-min(data))/(max(data)-min(data))"
   ]
  },
  {
   "cell_type": "code",
   "execution_count": null,
   "metadata": {},
   "outputs": [],
   "source": [
    "def euclidean_d(data1,data2):\n",
    "    return np.linalg.norm(data1-data2)"
   ]
  },
  {
   "cell_type": "code",
   "execution_count": null,
   "metadata": {},
   "outputs": [],
   "source": [
    "def compute_gap(sub, data,cluster_num):\n",
    "    dis= compute_distance(sub,data)\n",
    "    dis = np.sort(dis)\n",
    "    maxGap = 0\n",
    "    dt = 0\n",
    "    for l in range(1, len(dis)-1):\n",
    "        d = (dis[l]+dis[l+1])/2\n",
    "\n",
    "        dA = dis[dis<d]\n",
    "        dB = dis[dis>d]\n",
    "        try:\n",
    "            r = len(dA)/len(dB)\n",
    "            if ((1/cluster_num < r) and (1-(1/cluster_num))):\n",
    "                mA = dA.mean()\n",
    "                mB = dB.mean()\n",
    "                sA = dA.std()\n",
    "                sB = dB.std()\n",
    "                gap = mB-sB-(mA+sA)\n",
    "                if gap > maxGap :\n",
    "                    #print(\"gap {}\".format(gap))\n",
    "                    maxGap =gap\n",
    "                    dt =d\n",
    "        except:\n",
    "            pass\n",
    "    return maxGap, dt"
   ]
  },
  {
   "cell_type": "code",
   "execution_count": null,
   "metadata": {},
   "outputs": [],
   "source": [
    "def compute_distance(sub, data):\n",
    "    dis=[10e3]*len(data)\n",
    "    sub = znorm(sub)\n",
    "    for i in range(0,len(data)):\n",
    "        ts = data[i]\n",
    "\n",
    "        for j in range(0, len(ts)-len(sub)):\n",
    "            z = znorm(ts[j:j+len(sub)])\n",
    "            d = euclidean_d(z,sub)\n",
    "            dis[i]= min(d,dis[i])/np.sqrt(len(sub))\n",
    "        #print(dis[i])\n",
    "    return dis"
   ]
  },
  {
   "cell_type": "markdown",
   "metadata": {},
   "source": [
    "#### 2. Use dtw measure"
   ]
  },
  {
   "cell_type": "code",
   "execution_count": null,
   "metadata": {},
   "outputs": [],
   "source": [
    "from dtwalign import dtw"
   ]
  },
  {
   "cell_type": "code",
   "execution_count": null,
   "metadata": {},
   "outputs": [],
   "source": [
    "x = norm_pattern_5[60]\n",
    "y = norm_pattern_5[0]\n",
    "res = dtw(x,y)\n",
    "\n",
    "# dtw distance\n",
    "print(\"dtw distance: {}\".format(res.distance))\n",
    "print(\"dtw normalized distance: {}\".format(res.normalized_distance))\n",
    "\n",
    "\"\"\"\n",
    "if you want to calculate only dtw distance (i.e. no need to gain alignment path),\n",
    "give 'distance_only' argument as True (it makes faster).\n",
    "\"\"\"\n",
    "#res = dtw(x,y,distance_only=True)"
   ]
  },
  {
   "cell_type": "code",
   "execution_count": null,
   "metadata": {},
   "outputs": [],
   "source": [
    "\n",
    "ax = plt.subplot(2,1,1)\n",
    "ax.plot(x,color=\"blue\")\n",
    "ax.plot(y,color=\"red\")\n",
    "ax.set_ylim(0,1)\n",
    "# warp both x and y by alignment path\n",
    "x_path = res.path[:,0]\n",
    "y_path = res.path[:,1]\n",
    "\n",
    "ax = plt.subplot(2,1,2)\n",
    "ax.plot(x[x_path],label=\"aligned query\",color=\"blue\")\n",
    "ax.plot(y[y_path],label=\"aligned reference\",color=\"red\")\n",
    "ax.legend()\n",
    "ax.set_ylim(0,1)"
   ]
  },
  {
   "cell_type": "markdown",
   "metadata": {},
   "source": [
    "# visualize alignment path with cumsum cost matrix\n",
    "res.plot_path()"
   ]
  },
  {
   "cell_type": "code",
   "execution_count": null,
   "metadata": {},
   "outputs": [],
   "source": [
    "prediction = MC_dropout_model.predict(data=trainX,keep_prob=1.0,is_dropout=False)"
   ]
  },
  {
   "cell_type": "code",
   "execution_count": null,
   "metadata": {},
   "outputs": [],
   "source": [
    "#sample_data_idx = [i for i,x in enumerate(prediction) if np.argmax(x)==1]\n",
    "sample_data_idx = [i for i,x in enumerate(prediction) if np.argmax(x)==0]"
   ]
  },
  {
   "cell_type": "code",
   "execution_count": null,
   "metadata": {
    "scrolled": false
   },
   "outputs": [],
   "source": [
    "plot_idx = 0\n",
    "\n",
    "for d_idx in sample_data_idx:\n",
    "######## 특정 샘플의 패턴 리스트 생성  \n",
    "    # sample_data_idx의 전체 패턴\n",
    "    specific_data_pattern_idx=[i for i,x in enumerate(consecutive_pattern) if x['data_idx'] ==d_idx]\n",
    "    specific_pattern_info = [consecutive_pattern[x] for x in specific_data_pattern_idx]\n",
    "    \n",
    "    #해당 데이터에 미리 정한 길이만큼의 패턴이 없을 경우 pass\n",
    "    if len(specific_pattern_info):\n",
    "        pass\n",
    "        \n",
    "    # 총 10개의 plot을 그릴때까지 진행\n",
    "    if plot_idx ==5:\n",
    "        break\n",
    "    \n",
    "    for p_channel in np.unique([(x['pattern_channel']) for x in specific_pattern_info if (x['data_idx']==d_idx)]):\n",
    "        plot_idx+=1\n",
    "        fig, ax= plt.subplots(figsize=(15,3))\n",
    "        ax.set_xlim([0,int(trainX.shape[2])-1])\n",
    "        spotlight = last_conv_bool[d_idx,:,p_channel]\n",
    "        \n",
    "        # 데이터 자체 그리기\n",
    "        data = trainX[d_idx,0,:,input_channel]\n",
    "        ax.plot(data,color='black')\n",
    "        ax.set_facecolor(\"grey\") # 패턴이 있는 부분만 흰색 spotlight으로 하기 위해 기본 배경을 회색으로 설정\n",
    "            \n",
    "        for spotlight_se in [(list(group)) for group in mit.consecutive_groups([i for i,x in enumerate(spotlight) if x==True])]:\n",
    "            ax.axvspan(spotlight_se[0], spotlight_se[-1], color='white', alpha=1)\n",
    "                \n",
    "        for idx,pattern_x, pattern in [(i,x['pattern_idx'],x['pattern']) for i,x in enumerate(specific_pattern_info) if (x['data_idx']==d_idx  and x['pattern_channel']== p_channel)]:\n",
    "            # 데이터의 해당 패턴 그리기\n",
    "            pattern_idx = specific_data_pattern_idx[idx]\n",
    "            color_idx = gak_km_predict[specific_data_pattern_idx.index(pattern_idx)]\n",
    "            pattern_x = consecutive_pattern[pattern_idx]['pattern_idx']\n",
    "            #pattern = consecutive_pattern[pattern_idx]['pattern']\n",
    "            ax.plot(pattern_x, data[pattern_x], color = color[color_idx])\n",
    "        fig.suptitle(\"prediction{}, data{}, output_channel{}\".format(np.argmax(prediction[d_idx]),d_idx,consecutive_pattern[pattern_idx]['pattern_channel']))\n",
    "        break\n",
    "\n",
    "        \n",
    "    plt.show()"
   ]
  },
  {
   "cell_type": "markdown",
   "metadata": {},
   "source": [
    "# Below part is still unclear"
   ]
  },
  {
   "cell_type": "markdown",
   "metadata": {},
   "source": [
    "f = open('file.txt', 'a+t')\n",
    "for i,x in enumerate(X):\n",
    "    for x_ in x:\n",
    "        f.write(str(x_[0])+\",\")\n",
    "    f.write(\":\"+str(gak_km_predict[i])+\"\\n\")\n",
    "\n",
    "f.close()      "
   ]
  },
  {
   "cell_type": "code",
   "execution_count": null,
   "metadata": {},
   "outputs": [],
   "source": [
    "X_df = pd.DataFrame(columns=[\"dim_0\"],index=range(len(X)))\n",
    "for i,x in enumerate(X):\n",
    "    X_df.iloc[i,0] = x"
   ]
  },
  {
   "cell_type": "code",
   "execution_count": null,
   "metadata": {},
   "outputs": [],
   "source": [
    "Y_df =gak_km_predict.astype('<U1')"
   ]
  },
  {
   "cell_type": "code",
   "execution_count": null,
   "metadata": {},
   "outputs": [],
   "source": [
    "from sktime.transformers.shapelets import ContractedShapeletTransform\n",
    "# How long (in minutes) to extract shapelets for.\n",
    "# This is a simple lower-bound initially; once time is up, no further shapelets will be assessed\n",
    "time_limit_in_mins = 1\n",
    "\n",
    "# The initial number of shapelet candidates to assess per training series. If all series are visited\n",
    "# and time remains on the contract then another pass of the data will occur\n",
    "initial_num_shapelets_per_case = 5\n",
    "\n",
    "# Whether or not to print on-going information about shapelet extraction. Useful for demo/debugging\n",
    "verbose = 2\n",
    "\n",
    "st = ContractedShapeletTransform(\n",
    "    time_limit_in_mins=time_limit_in_mins,\n",
    "    num_candidates_to_sample_per_case=initial_num_shapelets_per_case,\n",
    "    verbose=verbose)\n",
    "st.fit(X_df, Y_df)"
   ]
  },
  {
   "cell_type": "code",
   "execution_count": null,
   "metadata": {
    "scrolled": false
   },
   "outputs": [],
   "source": [
    "# for each extracted shapelet (in descending order of quality/information gain)\n",
    "for s in st.shapelets:\n",
    "\n",
    "    # summary info about the shapelet\n",
    "    print(s)\n",
    "\n",
    "    # plot the series that the shapelet was extracted from\n",
    "    plt.plot(\n",
    "        X[s.series_id],\n",
    "        'gray'\n",
    "    )\n",
    "\n",
    "    # overlay the shapelet onto the full series\n",
    "    plt.plot(\n",
    "        list(range(s.start_pos,(s.start_pos+s.length))),\n",
    "        X[s.series_id,s.start_pos:s.start_pos+s.length],\n",
    "        'r',\n",
    "        linewidth=3.0\n",
    "    )\n",
    "    plt.show()"
   ]
  },
  {
   "cell_type": "markdown",
   "metadata": {},
   "source": [
    "## hierarchical clustering"
   ]
  },
  {
   "cell_type": "code",
   "execution_count": null,
   "metadata": {},
   "outputs": [],
   "source": [
    "import math\n",
    "import scipy.cluster.hierarchy as hac\n",
    "import matplotlib.gridspec as gridspec\n",
    "\n",
    "D = hac.linkage(normalized_pattern_candidate[:20], method='single',metric='euclidean')\n",
    "cut_off_level = 5\n",
    "#Dendrogram\n",
    "plt.figure(figsize=(15, 5))\n",
    "plt.title('Dendrogram of time series clustering',fontsize=25, fontweight='bold')\n",
    "plt.xlabel('sample index', fontsize=25, fontweight='bold')\n",
    "plt.ylabel('distance', fontsize=25, fontweight='bold')\n",
    "hac.dendrogram(D, leaf_rotation=90., leaf_font_size=15., ) # font size for the x axis labels\n",
    "plt.show()"
   ]
  },
  {
   "cell_type": "markdown",
   "metadata": {},
   "source": [
    "특정 파라미터에 해당하는 클러스터 시각화"
   ]
  },
  {
   "cell_type": "code",
   "execution_count": null,
   "metadata": {},
   "outputs": [],
   "source": [
    "import matplotlib.patheffects as pe"
   ]
  },
  {
   "cell_type": "code",
   "execution_count": null,
   "metadata": {},
   "outputs": [],
   "source": [
    "random.seed(300)\n",
    "sample_data_idx = random.sample(range(0,len(normalized_pattern_candidate)),len(normalized_pattern_candidate))\n",
    "color = [\"crimson\",\"orange\",\"olive\",'seagreen',\"royalblue\",\"purple\",\"pink\",\"grey\",\n",
    "        \"crimson\",\"orange\",\"olive\",'seagreen',\"royalblue\",\"purple\",\"pink\",\"grey\"]"
   ]
  },
  {
   "cell_type": "code",
   "execution_count": null,
   "metadata": {},
   "outputs": [],
   "source": [
    "for s_option,g_option,k_option in zip(spectral_option[::-1],gmm_option[::-1],kmeans_option[::-1]):\n",
    "    s_params = default_spectral.copy()\n",
    "    s_params.update(s_option)\n",
    "    \n",
    "    g_params = default_gmm.copy()\n",
    "    g_params.update(g_option)\n",
    "    \n",
    "    k_params = default_kmeans.copy()\n",
    "    k_params.update(k_option)\n",
    "    \n",
    "    spectral = cluster.SpectralClustering(\n",
    "        n_clusters=s_params['n_clusters'], \n",
    "        eigen_solver=s_params['eigen_solver'],\n",
    "        affinity=s_params['affinity'])\n",
    "    \n",
    "    gmm =  mixture.GaussianMixture(\n",
    "        n_components=g_params['n_clusters'], \n",
    "        covariance_type=g_params['covariance_type'])\n",
    "    \n",
    "    kmeans = cluster.KMeans(\n",
    "        n_clusters=k_params['n_clusters'], \n",
    "        random_state=k_params['random_state'])\n",
    "    \n",
    "    spectral.fit(normalized_pattern_candidate)\n",
    "    gmm.fit(normalized_pattern_candidate)\n",
    "    kmeans.fit(normalized_pattern_candidate)\n",
    "    \n",
    "    s_pred = spectral.labels_[sample_data_idx]\n",
    "    g_pred = gmm.predict(normalized_pattern_candidate[sample_data_idx])\n",
    "    k_pred = kmeans.fit_predict(normalized_pattern_candidate[sample_data_idx])\n",
    "    \n",
    "    num_class = len(list(set(np.unique(s_pred)).union(set(np.unique(g_pred)))))\n",
    "    fig = plt.figure(figsize=(18,5))\n",
    "    axes = fig.subplots(3,num_class)    \n",
    "    \n",
    "    for class_ in range(0,num_class):\n",
    "        class_idx = [i for i,x in enumerate(s_pred) if x ==class_]\n",
    "        try:\n",
    "            axes[0][class_+1].plot(normalized_pattern_candidate[[sample_data_idx[x] for x in class_idx]].T, color =color[class_],alpha=0.6)\n",
    "            axes[0][0].plot(normalized_pattern_candidate[[sample_data_idx[x] for x in class_idx]].mean(axis=0), color = 'black',alpha=1,linewidth=3,\n",
    "                   path_effects=[pe.Stroke(linewidth=10, foreground=color[class_]), pe.Normal()])\n",
    "        except:\n",
    "            pass\n",
    "        \n",
    "        class_idx = [i for i,x in enumerate(g_pred) if x ==class_]\n",
    "        try:\n",
    "            axes[1][class_+1].plot(normalized_pattern_candidate[[sample_data_idx[x] for x in class_idx]].T, color =color[class_],alpha=0.6)\n",
    "            axes[1][0].plot(normalized_pattern_candidate[[sample_data_idx[x] for x in class_idx]].mean(axis=0), color ='black',alpha=1,linewidth=3,\n",
    "                    path_effects=[pe.Stroke(linewidth=10, foreground=color[class_]), pe.Normal()])\n",
    "        except:\n",
    "            pass\n",
    "        class_idx = [i for i,x in enumerate(k_pred) if x ==class_]\n",
    "        try:\n",
    "            axes[2][class_+1].plot(normalized_pattern_candidate[[sample_data_idx[x] for x in class_idx]].T, color =color[class_],alpha=0.6)\n",
    "            axes[2][0].plot(normalized_pattern_candidate[[sample_data_idx[x] for x in class_idx]].mean(axis=0), color ='black',alpha=1,linewidth=3,\n",
    "                    path_effects=[pe.Stroke(linewidth=10, foreground=color[class_]), pe.Normal()])\n",
    "        except:\n",
    "            pass\n",
    "    #fig.suptitle(\"Spectral Clustering: {} \\nGMM: {}\".format(s_params,g_params),y=0.98)\n",
    "    plt.tight_layout()\n",
    "    break"
   ]
  },
  {
   "cell_type": "markdown",
   "metadata": {},
   "source": [
    "# SOM"
   ]
  },
  {
   "cell_type": "code",
   "execution_count": null,
   "metadata": {},
   "outputs": [],
   "source": [
    "import sompy"
   ]
  },
  {
   "cell_type": "code",
   "execution_count": null,
   "metadata": {},
   "outputs": [],
   "source": [
    "som = sompy.SOMFactory.build(normalized_pattern_candidate, mapsize=None, normalization='var', initialization='pca', neighborhood='gaussian', training='batch', name='sompy')  # this will use the default parameters, but i can change the initialization and neighborhood methods\n",
    "som.train(n_job=1, verbose=False)  # verbose='debug' will print more, and verbose=None wont print anything"
   ]
  },
  {
   "cell_type": "code",
   "execution_count": null,
   "metadata": {},
   "outputs": [],
   "source": [
    "from sompy.visualization.hitmap import HitMapView\n",
    "som.cluster(4)\n",
    "hits  = HitMapView(20,20,\"Clustering\",text_size=12)\n",
    "a=hits.show(som)"
   ]
  },
  {
   "cell_type": "code",
   "execution_count": null,
   "metadata": {},
   "outputs": [],
   "source": [
    "from sompy.visualization.mapview import View2D\n",
    "view2D  = View2D(10,10,\"rand data\",text_size=10)\n",
    "view2D.show(som, col_sz=4, which_dim=\"all\", desnormalize=True)"
   ]
  },
  {
   "cell_type": "code",
   "execution_count": null,
   "metadata": {},
   "outputs": [],
   "source": [
    "from sompy.visualization.bmuhits import BmuHitsView\n",
    "\n",
    "vhts  = BmuHitsView(4,4,\"Hits Map\",text_size=12)\n",
    "vhts.show(som, anotate=True, onlyzeros=False, labelsize=12, cmap=\"Greys\", logaritmic=False)"
   ]
  },
  {
   "cell_type": "markdown",
   "metadata": {},
   "source": [
    "## represent as feature vector"
   ]
  },
  {
   "cell_type": "markdown",
   "metadata": {},
   "source": [
    "### 1. wavelet"
   ]
  },
  {
   "cell_type": "code",
   "execution_count": null,
   "metadata": {},
   "outputs": [],
   "source": [
    "import do_wavelet\n",
    "import matplotlib.gridspec as gridspec\n",
    "import pywt"
   ]
  },
  {
   "cell_type": "code",
   "execution_count": null,
   "metadata": {},
   "outputs": [],
   "source": [
    "N = normalized_pattern_candidate[3].shape[0]\n",
    "t0=10\n",
    "dt=1\n",
    "time = np.arange(0, N) * dt + t0\n",
    "signal = normalized_pattern_candidate[3]\n",
    " \n",
    "scales = np.arange(1, 128)"
   ]
  },
  {
   "cell_type": "code",
   "execution_count": null,
   "metadata": {},
   "outputs": [],
   "source": [
    "fig = plt.figure(figsize=(12,6))\n",
    "spec = gridspec.GridSpec(ncols=6, nrows=6)\n",
    "top_ax = fig.add_subplot(spec[:2, 0:5])\n",
    "bottom_left_ax = fig.add_subplot(spec[2:, 0:5])\n",
    "bottom_right_ax = fig.add_subplot(spec[2:, 5])\n",
    "\n",
    "plot_signal_plus_average(top_ax, time, signal, average_over = 3)\n",
    "yticks, ylim = plot_wavelet(bottom_left_ax, time, signal, scales, xlabel=xlabel, ylabel=ylabel, title=title)\n",
    "\n",
    "plot_fft_plus_power(bottom_right_ax, time, signal, plot_direction='vertical', yticks=yticks, ylim=ylim)\n",
    "bottom_right_ax.set_ylabel('Period [years]', fontsize=14)\n",
    "plt.tight_layout()\n",
    "plt.show()"
   ]
  },
  {
   "cell_type": "markdown",
   "metadata": {},
   "source": [
    "### 2. clustering time series using unsupervised shapelets"
   ]
  },
  {
   "cell_type": "code",
   "execution_count": null,
   "metadata": {},
   "outputs": [],
   "source": [
    "D =pattern.copy(deep=True)\n",
    "sLen = range(6,32)\n",
    "\n",
    "S_hat={}\n",
    "ts =D[500]"
   ]
  },
  {
   "cell_type": "code",
   "execution_count": null,
   "metadata": {},
   "outputs": [],
   "source": [
    "len(pattern)"
   ]
  },
  {
   "cell_type": "code",
   "execution_count": null,
   "metadata": {},
   "outputs": [],
   "source": [
    "s_option =spectral_option[-1]\n",
    "g_option=gmm_option[-1]\n",
    "s_params = default_spectral.copy()\n",
    "s_params.update(s_option)\n",
    "\n",
    "g_params = default_gmm.copy()\n",
    "g_params.update(g_option)\n",
    "\n",
    "spectral = cluster.SpectralClustering(\n",
    "    n_clusters=s_params['n_clusters'], \n",
    "    eigen_solver=s_params['eigen_solver'],\n",
    "    affinity=s_params['affinity'])\n",
    "\n",
    "gmm =  mixture.GaussianMixture(\n",
    "    n_components=g_params['n_clusters'], \n",
    "    covariance_type=g_params['covariance_type'])\n",
    "\n",
    "s_pred = spectral.fit_predict(normalized_pattern_candidate)\n",
    "g_pred = gmm.fit_predict(normalized_pattern_candidate)\n",
    "\n",
    "s_representative_pattern =[]\n",
    "g_representative_pattern =[]\n",
    "for class_ in np.unique(s_pred):\n",
    "\n",
    "    s_class_idx = [i for i,x in enumerate(s_pred) if x ==class_]\n",
    "    s_representative_pattern.append(normalized_pattern_candidate[s_class_idx].mean(axis=0))\n",
    "\n",
    "    g_class_idx = [i for i,x in enumerate(g_pred) if x ==class_]\n",
    "    g_representative_pattern.append(normalized_pattern_candidate[g_class_idx].mean(axis=0))\n"
   ]
  },
  {
   "cell_type": "code",
   "execution_count": null,
   "metadata": {},
   "outputs": [],
   "source": [
    "from mpl_toolkits.mplot3d import axes3d\n",
    "\n",
    "fig = plt.figure(figsize=(20,8))\n",
    "ax = fig.add_subplot(1, 2, 1,projection='3d')\n",
    "\n",
    "x = ((g_representative_pattern[0]*len(normalized_pattern_candidate)-normalized_pattern_candidate)**2).sum(axis=1)\n",
    "y = ((g_representative_pattern[1]*len(normalized_pattern_candidate)-normalized_pattern_candidate)**2).sum(axis=1)\n",
    "z = ((g_representative_pattern[2]*len(normalized_pattern_candidate)-normalized_pattern_candidate)**2).sum(axis=1)\n",
    "\n",
    "ax.scatter(x,y,z, c = g_pred)\n",
    "\n",
    "ax.set_xlabel('class1')\n",
    "ax.set_ylabel('class2')\n",
    "ax.set_zlabel('class3')\n",
    "ax.set_xticks([])\n",
    "ax.set_yticks([])\n",
    "ax.set_zticks([])\n",
    "#ax.axis('off')\n",
    "\n",
    "ax2 = fig.add_subplot(1, 2, 2,projection='3d')\n",
    "\n",
    "x = ((s_representative_pattern[0]*len(normalized_pattern_candidate)-normalized_pattern_candidate)**2).sum(axis=1)\n",
    "y = ((s_representative_pattern[1]*len(normalized_pattern_candidate)-normalized_pattern_candidate)**2).sum(axis=1)\n",
    "z = ((s_representative_pattern[2]*len(normalized_pattern_candidate)-normalized_pattern_candidate)**2).sum(axis=1)\n",
    "\n",
    "ax2.scatter(x,y,z, c = s_pred)\n",
    "\n",
    "ax2.set_xlabel('class1')\n",
    "ax2.set_ylabel('class2')\n",
    "ax2.set_zlabel('class3')\n",
    "ax2.set_xticks([])\n",
    "ax2.set_yticks([])\n",
    "ax2.set_zticks([])"
   ]
  },
  {
   "cell_type": "markdown",
   "metadata": {},
   "source": [
    "color = [\"crimson\",\"orange\",\"olive\",'seagreen',\"royalblue\",\"purple\",\"pink\",\"grey\",\n",
    "        \"crimson\",\"orange\",\"olive\",'seagreen',\"royalblue\",\"purple\",\"pink\",\"grey\"]\n",
    "random.seed(300)\n",
    "for s_option,g_option in zip(spectral_option,gmm_option):\n",
    "    s_params = default_spectral.copy()\n",
    "    s_params.update(s_option)\n",
    "    \n",
    "    g_params = default_gmm.copy()\n",
    "    g_params.update(g_option)\n",
    "    \n",
    "    spectral = cluster.SpectralClustering(\n",
    "        n_clusters=s_params['n_clusters'], \n",
    "        eigen_solver=s_params['eigen_solver'],\n",
    "        affinity=s_params['affinity'])\n",
    "    \n",
    "    gmm =  mixture.GaussianMixture(\n",
    "        n_components=g_params['n_clusters'], \n",
    "        covariance_type=g_params['covariance_type'])\n",
    "    \n",
    "    s_pred = spectral.fit(normalized_pattern_candidate)\n",
    "    g_pred = gmm.fit(normalized_pattern_candidate)\n",
    "    \n",
    "    sample_data_idx = random.sample(range(0,len(normalized_pattern_candidate)),100)\n",
    "    \n",
    "    s_pred = spectral.labels_[sample_data_idx]\n",
    "    g_pred = gmm.predict(normalized_pattern_candidate[sample_data_idx])\n",
    "    \n",
    "    fig = plt.figure(figsize=(15,3))\n",
    "    for class_ in np.unique(s_pred):\n",
    "        ax = plt.subplot(1,2,1)\n",
    "        class_idx = [sample_data_idx[i] for i,x in enumerate(s_pred) if x ==class_]\n",
    "        ax.plot(normalized_pattern_candidate[class_idx].T, color =color[class_],alpha=0.2)\n",
    "        ax.plot(normalized_pattern_candidate[class_idx].mean(axis=0), color =color[class_],alpha=1,linewidth=5)\n",
    "\n",
    "        ax2 = plt.subplot(1,2,2)\n",
    "        class_idx = [sample_data_idx[i] for i,x in enumerate(g_pred) if x ==class_]\n",
    "        try:\n",
    "            #ax2.plot(normalized_pattern_candidate[class_idx].T, color =color[class_],alpha=0.2)\n",
    "            ax2.plot(normalized_pattern_candidate[class_idx].mean(axis=0), color =color[class_],alpha=1,linewidth=5)\n",
    "        except:\n",
    "            continue\n",
    "\n",
    "    fig.suptitle(\"Spectral Clustering: {} \\nGMM: {}\".format(s_params,g_params))\n",
    "    plt.tight_layout()\n"
   ]
  },
  {
   "cell_type": "markdown",
   "metadata": {},
   "source": [
    "### plotly visualization을 위해 샘플 데이터 및 패턴 저장"
   ]
  },
  {
   "cell_type": "code",
   "execution_count": null,
   "metadata": {},
   "outputs": [],
   "source": [
    "sample_data_idx=87\n",
    "sample_output_channel = 79\n",
    "sample_data = pd.DataFrame(trainX[sample_data_idx].reshape(-1,9))"
   ]
  },
  {
   "cell_type": "code",
   "execution_count": null,
   "metadata": {},
   "outputs": [],
   "source": [
    "sample_pattern_bool =pd.DataFrame(last_conv_bool[sample_data_idx][:,sample_output_channel])\n",
    "pattern_idx = [p for p, x in enumerate(last_conv_bool[sample_data_idx][:,sample_output_channel]) if x]"
   ]
  },
  {
   "cell_type": "code",
   "execution_count": null,
   "metadata": {},
   "outputs": [],
   "source": [
    "last_conv_bool[sample_data_idx][:,sample_output_channel].sum()"
   ]
  },
  {
   "cell_type": "code",
   "execution_count": null,
   "metadata": {},
   "outputs": [],
   "source": [
    "groups = []\n",
    "for _, g in groupby(pattern_idx, key=lambda n, c=itertools.count(): n-next(c)):\n",
    "    groups.append(list(g))    # Store group iterator as a list"
   ]
  },
  {
   "cell_type": "code",
   "execution_count": null,
   "metadata": {},
   "outputs": [],
   "source": [
    "consecutive_pattern=[]\n",
    "for g in groups:\n",
    "    if len(g)>consecutive_num:\n",
    "        consecutive_pattern.extend(g)\n",
    "        \n",
    "consecutive_pattern_bool=[]\n",
    "for x in range(0,128):\n",
    "    if x in np.asarray(consecutive_pattern).flatten():\n",
    "        consecutive_pattern_bool.append(True)\n",
    "    else:\n",
    "        consecutive_pattern_bool.append(False)"
   ]
  },
  {
   "cell_type": "code",
   "execution_count": null,
   "metadata": {},
   "outputs": [],
   "source": [
    "sample_consecutive_pattern_bool= pd.DataFrame(consecutive_pattern_bool)"
   ]
  },
  {
   "cell_type": "markdown",
   "metadata": {},
   "source": [
    "sample_data.to_csv('./sample_data+pattern/'+str(sample_data_idx)+'_data.csv')\n",
    "sample_pattern_bool.to_csv('./sample_data+pattern/'+str(sample_data_idx)+'_pattern.csv')\n",
    "sample_consecutive_pattern_bool.to_csv('./sample_data+pattern/'+str(sample_data_idx)+'_consecutive_pattern.csv')"
   ]
  },
  {
   "cell_type": "markdown",
   "metadata": {},
   "source": [
    "## 2d visualization"
   ]
  },
  {
   "cell_type": "code",
   "execution_count": null,
   "metadata": {},
   "outputs": [],
   "source": [
    "import plotly\n",
    "from plotly.subplots import make_subplots\n",
    "import plotly.graph_objects as go\n",
    "\n",
    "DEFAULT_PLOTLY_COLORS=['rgba(31, 119, 180, {})', 'rgba(255, 127, 14, {})',\n",
    "                       'rgba(44, 160, 44, {})', 'rgba(214, 39, 40, {})',\n",
    "                       'rgba(148, 103, 189, {})', 'rgba(140, 86, 75, {})',\n",
    "                       'rgba(227, 119, 194, {})', 'rgba(127, 127, 127, {})',\n",
    "                       'rgba(188, 189, 34, {})', 'rgba(23, 190, 207, {})']\n",
    "\n",
    "normalized_data = (sample_data.values - sample_data.values.min(axis=0))/(sample_data.values.max(axis=0) - sample_data.values.min(axis=0))\n",
    "for cidx in range(0,sample_data.shape[1]):\n",
    "    normalized_data[:,cidx] =normalized_data[:,cidx] + cidx \n",
    "    \n",
    "    \n",
    "fig = make_subplots(\n",
    "    rows=1, cols=1, shared_xaxes=True, vertical_spacing=0.02\n",
    ")\n",
    "\n",
    "for cidx in range(sample_data.shape[-1]):\n",
    "    fig.add_trace(go.Scatter(x=np.arange(sample_data.shape[0]), \n",
    "                             y=normalized_data[:,cidx],  \n",
    "                            line_color=\"black\",\n",
    "                             line_width=1,\n",
    "                             showlegend=False,\n",
    "                             ),\n",
    "                  row=1, col=1)\n",
    "    \n",
    "    fig.add_trace(go.Scatter(x=np.arange(sample_data.shape[0])[consecutive_pattern_bool], \n",
    "                            y=normalized_data[consecutive_pattern_bool,cidx],  \n",
    "#                               fill='toself',\n",
    "                            line_color='rgba(200, 0, 200, 0.6)',\n",
    "                            line_width=5,\n",
    "                            showlegend=False,\n",
    "                            ),\n",
    "                   row=1, col=1)\n",
    "    \n",
    "fig.update_xaxes(showline=True, linewidth=2, linecolor='black',ticks=\"inside\")\n",
    "fig.update_yaxes(showline=True, linewidth=2, linecolor='black',\n",
    "                 ticks=\"inside\",nticks=sample_data.shape[1], tickwidth=2, tickcolor='black', ticklen=10,title_text='Input Channel',\n",
    "                showgrid=True, gridwidth=1, gridcolor='grey',\n",
    "                ticktext=[\"Channel1\", \"Channel2\", \"Channel3\", \"Channel4\",\"Channel5\", \"Channel6\", \"Channel7\", \"Channel8\", \"Channel9\"],\n",
    "                tickvals=[\"1\", \"2\", \"3\", \"4\", \"5\", \"6\",\"7\", \"8\", \"9\"],\n",
    "                range=[0,9])\n",
    "\n",
    "\n",
    "fig.update_layout(height=600, width=800,plot_bgcolor='rgb(256,256,256)',\n",
    "                  title_text=\"Input\")\n",
    "\n",
    "fig.show()"
   ]
  },
  {
   "cell_type": "markdown",
   "metadata": {},
   "source": [
    "## 3d visualization"
   ]
  },
  {
   "cell_type": "code",
   "execution_count": null,
   "metadata": {},
   "outputs": [],
   "source": [
    "from mpl_toolkits.mplot3d import Axes3D\n",
    "%matplotlib notebook\n",
    "%matplotlib inline\n",
    "%matplotlib qt"
   ]
  },
  {
   "cell_type": "code",
   "execution_count": null,
   "metadata": {},
   "outputs": [],
   "source": [
    "random.seed = 10005\n",
    "\n",
    "class_color= [\"cyan\",\"orange\",\"lime\",\"pink\",\"cyan\",\"orange\",\"lime\",\"pink\",\"cyan\"]\n",
    "consecutive_class_color= [\"dodgerblue\",\"coral\",\"seagreen\",\"indianred\",\"dodgerblue\",\"coral\",\"seagreen\",\"indianred\",\"dodgerblue\"]\n",
    "survived_channel = [i for i, x in enumerate(last_conv_bool.sum(axis=1).sum(axis=0)) if x>0]\n",
    "sample_channel = random.sample(survived_channel,1)\n",
    "\n",
    "consecutive_num =trainX.shape[2]//20\n",
    "\n",
    "for class_i in class_list:\n",
    "    \n",
    "    sample_data_idx =random.sample([i for i, e in enumerate(np.argmax(trainY,axis=1)) if e == (class_i-1)],1)\n",
    "    fig = plt.figure()\n",
    "    ax = fig.add_subplot(111,projection='3d')\n",
    "    fig.suptitle(\"Last Conv ({}) Consecutive ({}) ,Output(class{}) \".format(sample_channel,consecutive_num,class_i-1))\n",
    "    \n",
    "    for c in range(0,input_channel):\n",
    "        data = trainX[sample_data_idx,:,:,c].reshape(-1,1)\n",
    "        data = (data-data.min())/(data.max()-data.min())\n",
    "        pattern_idx = [p for p, x in enumerate(last_conv_bool[sample_data_idx[0],:,c]) if x]\n",
    "        #ax = fig.gca(projection='3d')\n",
    "\n",
    "        ax.plot([c]*len(data),range(0,len(data)), data.flatten())\n",
    "        # 패턴의 연속성을 찾는 구간\n",
    "        groups = []\n",
    "        for _, g in groupby(pattern_idx, key=lambda n, c=itertools.count(): n-next(c)):\n",
    "            groups.append(list(g))    # Store group iterator as a list\n",
    "        for g in groups:\n",
    "            if len(g)>consecutive_num:\n",
    "                ax.scatter([c]*len(g) ,g,data[g],color = consecutive_class_color[c], s =12,alpha=0.7)\n",
    "                #ax.add_collection3d(plt.fill_between(np.arange(g[0],g[-1]),data[g[0]:g[-1]],0), zs=1, zdir='y')\n",
    "                #ax[j].text(g[0],0,len(g))\n",
    "            #else:\n",
    "                #ax.scatter(g,[c]*len(g), data[g],color = class_color[c],s=12)\n",
    "                \n",
    "        ax.set_xticks=[]\n",
    "        ax.set_yticks=[]\n",
    "        #ax.get_proj = lambda: np.dot(Axes3D.get_proj(ax), np.diag([1, 0.8, 0.2, 1]))\n",
    "    break"
   ]
  }
 ],
 "metadata": {
  "colab": {
   "name": "model.ipynb",
   "provenance": []
  },
  "kernelspec": {
   "display_name": "Python 3",
   "language": "python",
   "name": "python3"
  },
  "language_info": {
   "codemirror_mode": {
    "name": "ipython",
    "version": 3
   },
   "file_extension": ".py",
   "mimetype": "text/x-python",
   "name": "python",
   "nbconvert_exporter": "python",
   "pygments_lexer": "ipython3",
   "version": "3.6.4"
  }
 },
 "nbformat": 4,
 "nbformat_minor": 1
}
