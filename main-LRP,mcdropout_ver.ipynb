{
 "cells": [
  {
   "cell_type": "code",
   "execution_count": 1,
   "metadata": {
    "colab": {},
    "colab_type": "code",
    "id": "4y7_sbSIxg6E",
    "outputId": "929e3bc6-f359-4add-ce57-077422b03c56"
   },
   "outputs": [],
   "source": [
    "import pandas as pd\n",
    "import numpy as np\n",
    "import matplotlib.pyplot as plt"
   ]
  },
  {
   "cell_type": "code",
   "execution_count": 2,
   "metadata": {},
   "outputs": [],
   "source": [
    "import itertools\n",
    "from itertools import groupby\n",
    "import os"
   ]
  },
  {
   "cell_type": "code",
   "execution_count": 3,
   "metadata": {},
   "outputs": [],
   "source": [
    "os.environ[\"CUDA_VISIBLE_DEVICES\"]=\"1,2\""
   ]
  },
  {
   "cell_type": "code",
   "execution_count": 4,
   "metadata": {},
   "outputs": [
    {
     "name": "stderr",
     "output_type": "stream",
     "text": [
      "Couldn't import dot_parser, loading of dot files will not be possible.\n"
     ]
    }
   ],
   "source": [
    "import tensorflow"
   ]
  },
  {
   "cell_type": "code",
   "execution_count": 5,
   "metadata": {},
   "outputs": [
    {
     "data": {
      "text/plain": [
       "'1.5.1'"
      ]
     },
     "execution_count": 5,
     "metadata": {},
     "output_type": "execute_result"
    }
   ],
   "source": [
    "tensorflow.__version__"
   ]
  },
  {
   "cell_type": "code",
   "execution_count": 6,
   "metadata": {},
   "outputs": [],
   "source": [
    "%matplotlib inline"
   ]
  },
  {
   "cell_type": "markdown",
   "metadata": {
    "colab_type": "text",
    "id": "xYklN3iMxg6M"
   },
   "source": [
    "# 1. Data Load\n",
    "### 전처리 width, height, input_channel 정의"
   ]
  },
  {
   "cell_type": "code",
   "execution_count": 7,
   "metadata": {
    "colab": {},
    "colab_type": "code",
    "id": "a2XqoXoUxg6N"
   },
   "outputs": [],
   "source": [
    "from load_data import load_data,class_breakdown"
   ]
  },
  {
   "cell_type": "code",
   "execution_count": 8,
   "metadata": {},
   "outputs": [
    {
     "name": "stdout",
     "output_type": "stream",
     "text": [
      "Load data HAR\n",
      "batch size:64\n",
      "train data (7352, 128, 9),(7352, 1)\n",
      "test data (2947, 128, 9),(2947, 1)\n"
     ]
    }
   ],
   "source": [
    "#data_name =\"EEG\"\n",
    "data_name =\"HAR\"\n",
    "\n",
    "#data_name =\"UWaveGestureLibraryAll\"\n",
    "trainx, testx,trainy,testy,batch_size = load_data(data_name =data_name)"
   ]
  },
  {
   "cell_type": "code",
   "execution_count": 9,
   "metadata": {
    "colab": {},
    "colab_type": "code",
    "id": "xyupyd-hxg6T",
    "outputId": "dcff2c15-b58d-4c33-989a-d54de283fa66"
   },
   "outputs": [
    {
     "name": "stdout",
     "output_type": "stream",
     "text": [
      "Class=1, total=1226, percentage=0.000\n",
      "Class=2, total=1073, percentage=0.000\n",
      "Class=3, total=986, percentage=0.000\n",
      "Class=4, total=1286, percentage=0.000\n",
      "Class=5, total=1374, percentage=0.000\n",
      "Class=6, total=1407, percentage=0.000\n",
      "Class=1, total=496, percentage=0.000\n",
      "Class=2, total=471, percentage=0.000\n",
      "Class=3, total=420, percentage=0.000\n",
      "Class=4, total=491, percentage=0.000\n",
      "Class=5, total=532, percentage=0.000\n",
      "Class=6, total=537, percentage=0.000\n"
     ]
    }
   ],
   "source": [
    "class_breakdown(trainy)\n",
    "class_breakdown(testy)"
   ]
  },
  {
   "cell_type": "code",
   "execution_count": 10,
   "metadata": {
    "colab": {},
    "colab_type": "code",
    "id": "ROHthjPBxg6V"
   },
   "outputs": [
    {
     "name": "stdout",
     "output_type": "stream",
     "text": [
      "y train shape: (7352, 6)\n",
      "y test shape: (2947, 6)\n"
     ]
    }
   ],
   "source": [
    "hot_encoded_y_train = np.asarray(pd.get_dummies(np.asarray(trainy.flatten())))\n",
    "hot_encoded_y_test = np.asarray(pd.get_dummies(np.asarray(testy.flatten())))\n",
    "print(\"y train shape: {}\".format(hot_encoded_y_train.shape))\n",
    "print(\"y test shape: {}\".format(hot_encoded_y_test.shape))"
   ]
  },
  {
   "cell_type": "markdown",
   "metadata": {},
   "source": [
    "## 데이터 정규화"
   ]
  },
  {
   "cell_type": "code",
   "execution_count": 11,
   "metadata": {},
   "outputs": [
    {
     "data": {
      "text/plain": [
       "[<matplotlib.lines.Line2D at 0x7fec4bc27550>,\n",
       " <matplotlib.lines.Line2D at 0x7fec4bc27750>,\n",
       " <matplotlib.lines.Line2D at 0x7fec4bc27890>,\n",
       " <matplotlib.lines.Line2D at 0x7fec4bc279d0>,\n",
       " <matplotlib.lines.Line2D at 0x7fec4bc27b10>,\n",
       " <matplotlib.lines.Line2D at 0x7fec4bc27c50>,\n",
       " <matplotlib.lines.Line2D at 0x7fec4bc27d90>,\n",
       " <matplotlib.lines.Line2D at 0x7fec4bc27ed0>,\n",
       " <matplotlib.lines.Line2D at 0x7fec4bc36050>]"
      ]
     },
     "execution_count": 11,
     "metadata": {},
     "output_type": "execute_result"
    },
    {
     "data": {
      "image/png": "[encoded data removed]",
      "text/plain": [
       "<matplotlib.figure.Figure at 0x7feca765ad50>"
      ]
     },
     "metadata": {},
     "output_type": "display_data"
    }
   ],
   "source": [
    "plt.plot(trainx[0])"
   ]
  },
  {
   "cell_type": "code",
   "execution_count": 12,
   "metadata": {},
   "outputs": [],
   "source": [
    "from tslearn.preprocessing import TimeSeriesScalerMeanVariance, TimeSeriesResampler\n",
    "trainx =TimeSeriesScalerMeanVariance().fit_transform(trainx)\n",
    "testx =TimeSeriesScalerMeanVariance().fit_transform(testx)"
   ]
  },
  {
   "cell_type": "code",
   "execution_count": 13,
   "metadata": {},
   "outputs": [
    {
     "data": {
      "text/plain": [
       "[<matplotlib.lines.Line2D at 0x7fec48e65790>,\n",
       " <matplotlib.lines.Line2D at 0x7fec48e65c50>,\n",
       " <matplotlib.lines.Line2D at 0x7fec48e5b250>,\n",
       " <matplotlib.lines.Line2D at 0x7fec48e5b0d0>,\n",
       " <matplotlib.lines.Line2D at 0x7fec48e43e50>,\n",
       " <matplotlib.lines.Line2D at 0x7fec48e50710>,\n",
       " <matplotlib.lines.Line2D at 0x7fec48e50910>,\n",
       " <matplotlib.lines.Line2D at 0x7fec48e50c90>,\n",
       " <matplotlib.lines.Line2D at 0x7fec4d634fd0>]"
      ]
     },
     "execution_count": 13,
     "metadata": {},
     "output_type": "execute_result"
    },
    {
     "data": {
      "image/png": "[encoded data removed]",
      "text/plain": [
       "<matplotlib.figure.Figure at 0x7fec48e3a0d0>"
      ]
     },
     "metadata": {},
     "output_type": "display_data"
    }
   ],
   "source": [
    "plt.plot(trainx[0])"
   ]
  },
  {
   "cell_type": "code",
   "execution_count": 14,
   "metadata": {
    "colab": {},
    "colab_type": "code",
    "id": "O6OPKVxRxg6X",
    "outputId": "8749c02f-83df-48c8-a352-86bfb8bfdcd4"
   },
   "outputs": [
    {
     "name": "stdout",
     "output_type": "stream",
     "text": [
      "trainX shape:(7352, 1, 128, 9)\n",
      "trainY shape:(7352, 6)\n",
      "validX shape:(1473, 1, 128, 9)\n",
      "validY shape:(1473, 6)\n",
      "testX shape:(1474, 1, 128, 9)\n",
      "testY shape:(1474, 6)\n"
     ]
    }
   ],
   "source": [
    "trainX = trainx[:, np.newaxis, :]\n",
    "trainY = hot_encoded_y_train\n",
    "\n",
    "validX =testx[:len(testx)//2,np.newaxis,:]\n",
    "validY= hot_encoded_y_test[:len(testx)//2]\n",
    "\n",
    "testX = testx[len(testx)//2:,np.newaxis,:]\n",
    "testY = hot_encoded_y_test[len(testx)//2:]\n",
    "\n",
    "print (\"trainX shape:{}\".format(trainX.shape))\n",
    "print (\"trainY shape:{}\".format(trainY.shape))\n",
    "print (\"validX shape:{}\".format(validX.shape))\n",
    "print (\"validY shape:{}\".format(validY.shape))\n",
    "print (\"testX shape:{}\".format(testX.shape))\n",
    "print (\"testY shape:{}\".format(testY.shape))"
   ]
  },
  {
   "cell_type": "code",
   "execution_count": 15,
   "metadata": {
    "colab": {},
    "colab_type": "code",
    "id": "8JpxKigLxg6a"
   },
   "outputs": [
    {
     "name": "stdout",
     "output_type": "stream",
     "text": [
      "height 1\n",
      "width 128\n",
      "input_channel 9\n"
     ]
    }
   ],
   "source": [
    "height = trainX.shape[1]\n",
    "width = trainX.shape[2]\n",
    "input_channel = trainX.shape[3]\n",
    "\n",
    "print (\"height {}\".format(height))\n",
    "print (\"width {}\".format(width))\n",
    "print (\"input_channel {}\".format(input_channel))"
   ]
  },
  {
   "cell_type": "markdown",
   "metadata": {
    "colab_type": "text",
    "id": "LRkT92eLxg6c"
   },
   "source": [
    "# 2. Training condition 정의"
   ]
  },
  {
   "cell_type": "code",
   "execution_count": 16,
   "metadata": {
    "colab": {},
    "colab_type": "code",
    "id": "96TudpYHxg6d"
   },
   "outputs": [],
   "source": [
    "t_loss=[]\n",
    "t_acc=[]\n",
    "\n",
    "v_loss=[]\n",
    "v_acc=[]\n",
    "\n",
    "val_freq = 1\n",
    "save_freq = 1\n",
    "num_epochs= 300\n",
    "\n",
    "\n",
    "std= 0.01\n",
    "l_rate = 1e-5"
   ]
  },
  {
   "cell_type": "code",
   "execution_count": 17,
   "metadata": {
    "colab": {},
    "colab_type": "code",
    "id": "v0CdpPI7xg6f"
   },
   "outputs": [],
   "source": [
    "train_history = pd.DataFrame(index=np.arange(0, num_epochs), columns=['epoch', 'loss', 'acc','timestamp'])\n",
    "valid_history = pd.DataFrame(index=np.arange(0, num_epochs/val_freq),columns=['epoch', 'loss', 'acc','timestamp'])"
   ]
  },
  {
   "cell_type": "markdown",
   "metadata": {
    "colab_type": "text",
    "id": "6HiU9eckxg6h"
   },
   "source": [
    "# 3. model structure 정의"
   ]
  },
  {
   "cell_type": "code",
   "execution_count": 18,
   "metadata": {
    "colab": {},
    "colab_type": "code",
    "id": "XNEeKqCOxg6K"
   },
   "outputs": [
    {
     "ename": "SyntaxError",
     "evalue": "Non-ASCII character '\\xea' in file FCN.py on line 22, but no encoding declared; see http://python.org/dev/peps/pep-0263/ for details (FCN.py, line 22)",
     "output_type": "error",
     "traceback": [
      "\u001b[0;36m  File \u001b[0;32m\"FCN.py\"\u001b[0;36m, line \u001b[0;32m22\u001b[0m\n\u001b[0;31m    # keep prob가 1보다 작으면, 드랍아웃을 한다는 의미\u001b[0m\n\u001b[0m                                      ^\u001b[0m\n\u001b[0;31mSyntaxError\u001b[0m\u001b[0;31m:\u001b[0m Non-ASCII character '\\xea' in file FCN.py on line 22, but no encoding declared; see http://python.org/dev/peps/pep-0263/ for details\n"
     ]
    }
   ],
   "source": [
    "from FCN import CNN_MC_dropout, CNN_MC_dropout_last_conv_turnoff"
   ]
  },
  {
   "cell_type": "code",
   "execution_count": 19,
   "metadata": {},
   "outputs": [],
   "source": [
    "import tensorflow as tf"
   ]
  },
  {
   "cell_type": "code",
   "execution_count": 20,
   "metadata": {},
   "outputs": [
    {
     "name": "stdout",
     "output_type": "stream",
     "text": [
      "6\n"
     ]
    }
   ],
   "source": [
    "from numpy import unique\n",
    "nb_classes =trainY.shape[1]\n",
    "print (nb_classes)"
   ]
  },
  {
   "cell_type": "markdown",
   "metadata": {},
   "source": [
    "<font color='red'> turn off 구조는 마지막 convolution layer activation output 에 weight를 elementwise multiply 구조.\n",
    "train, test시에는 이 weight를 모두 1로 고정하며,\n",
    "prdiction 시에는 convolution layer activation output에서 상위 T%를 turn off 시키며 accuracy의 변화가 A 이상인 경우를\n",
    "threshold로 정하기 위해 이러한 모델 구조가 설정되었습니다.</font>\n",
    "\n",
    "<font color='blue'> CNN_MC_dropout_last_conv_turnoff</font> 모델은 상위 T%의 output을 가지는 last convolution output을 0으로 turn off 시키는 구조입니다.\n",
    "\n",
    "반면, <font color='blue'> CNN_MC_dropout_input_turnoff</font> 모델은 상위 T%의 output을 가지는 last convolution output에 매칭되는(하이라이트 되는 인풋)을 0으로 turn off 시키는 구조입니다."
   ]
  },
  {
   "cell_type": "code",
   "execution_count": 21,
   "metadata": {},
   "outputs": [],
   "source": [
    "import math\n",
    "if data_name in [\"HAR\",\"EEG\"]:\n",
    "    conv1_channel = 32\n",
    "    conv2_channel = 64\n",
    "    conv3_channel = 128\n",
    "\n",
    "    ###### conv1\n",
    "    conv1_size = 7\n",
    "    conv1_pad = int((conv1_size -1) /2)\n",
    "    conv1_stride = 2\n",
    "\n",
    "    pool1_size = 4\n",
    "    pool1_pad = 0\n",
    "    pool1_stride = 2\n",
    "\n",
    "    ###### conv2\n",
    "    conv2_size = 5\n",
    "    conv2_pad = int((conv2_size -1) /2)\n",
    "    conv2_stride = 1\n",
    "\n",
    "    pool2_size = 4\n",
    "    pool2_pad = 0\n",
    "    pool2_stride = 2\n",
    "\n",
    "    ###### conv3\n",
    "    conv3_size = 3\n",
    "    conv3_pad = int((conv3_size -1) /2)\n",
    "    conv3_stride = 1\n",
    "\n",
    "    pool3_size = 2\n",
    "    pool3_pad = 0\n",
    "    pool3_stride = 1\n",
    "elif data_name in \"UWaveGestureLibraryAll\":\n",
    "    conv1_channel = 32\n",
    "    conv2_channel = 64\n",
    "    conv3_channel = 128\n",
    "\n",
    "    ###### conv1\n",
    "    conv1_size = 15\n",
    "    conv1_pad = int((conv1_size -1) /2)\n",
    "    conv1_stride = 2\n",
    "\n",
    "    pool1_size = 8\n",
    "    pool1_pad = 0\n",
    "    pool1_stride = 4\n",
    "\n",
    "    ###### conv2\n",
    "    conv2_size = 11\n",
    "    conv2_pad = int((conv2_size -1) /2)\n",
    "    conv2_stride = 1\n",
    "\n",
    "    pool2_size = 4\n",
    "    pool2_pad = 0\n",
    "    pool2_stride = 2\n",
    "\n",
    "    ###### conv3\n",
    "    conv3_size = 7\n",
    "    conv3_pad = int((conv3_size -1) /2)\n",
    "    conv3_stride = 1\n",
    "\n",
    "    pool3_size = 4\n",
    "    pool3_pad = 0\n",
    "    pool3_stride = 2"
   ]
  },
  {
   "cell_type": "code",
   "execution_count": 22,
   "metadata": {},
   "outputs": [
    {
     "name": "stdout",
     "output_type": "stream",
     "text": [
      "65\n",
      "31\n",
      "31\n",
      "add\n",
      "14\n",
      "14\n",
      "13\n"
     ]
    }
   ],
   "source": [
    "conv1_idx_list=[]\n",
    "for conv1_idx in range(0,trainX.shape[2],conv1_stride):\n",
    "    conv1_idx_list.append(np.arange(max(conv1_idx-(conv1_size//2),0), min(conv1_idx+(conv1_size//2) +1 ,trainX.shape[2])))\n",
    "\n",
    "if conv1_idx < (trainX.shape[2]-1):\n",
    "    for data_idx in np.arange(conv1_idx+1, trainX.shape[2]):\n",
    "        conv1_idx_list.append(data_idx)\n",
    "    \n",
    "print(len(conv1_idx_list))\n",
    "\n",
    "\n",
    "\n",
    "pool1_idx_list=[]\n",
    "for pool1_idx in range(0,len(conv1_idx_list)-(pool1_size-1), pool1_stride):\n",
    "    temp_idx = []\n",
    "    for conv1_idx in np.arange(max(pool1_idx,0), min(pool1_idx+pool1_size ,len(conv1_idx_list))):\n",
    "        temp_idx.extend(conv1_idx_list[conv1_idx])\n",
    "    if set(temp_idx):\n",
    "        pool1_idx_list.append(list(set(temp_idx)))\n",
    "        \n",
    "if (pool1_idx + pool1_size) < (len(conv1_idx_list)-1):\n",
    "    temp_idx = []\n",
    "    for conv1_idx in np.arange(pool1_idx+1, len(conv1_idx_list)):\n",
    "        temp_idx.extend(conv1_idx_list[conv1_idx])\n",
    "        pool1_idx_list.append(list(set(temp_idx)))\n",
    "print(len(pool1_idx_list))\n",
    "\n",
    "\n",
    "conv2_idx_list=[]\n",
    "for conv2_idx in range(0,len(pool1_idx_list), conv2_stride):\n",
    "    temp_idx = []\n",
    "    for pool1_idx in np.arange(max(conv2_idx-(conv2_size//2),0), min(conv2_idx+(conv2_size//2) +1 ,len(pool1_idx_list))):\n",
    "        temp_idx.extend(pool1_idx_list[pool1_idx])\n",
    "    if set(temp_idx):\n",
    "        conv2_idx_list.append(list(set(temp_idx)))\n",
    "\n",
    "if conv2_idx < (len(pool1_idx_list)-1):\n",
    "    print(\"add\")\n",
    "    temp_idx = []\n",
    "    for pool1_idx in np.arange(conv2_idx+1, len(pool1_idx_list)):\n",
    "        conv2_idx_list.append(pool1_idx_list[pool1_idx])\n",
    "print(len(conv2_idx_list))\n",
    "\n",
    "\n",
    "\n",
    "\n",
    "pool2_idx_list=[]\n",
    "for pool2_idx in range(0,len(conv2_idx_list)-(pool2_size-1), pool2_stride):\n",
    "    temp_idx = []\n",
    "    for conv2_idx in np.arange(max(pool2_idx ,0), min(pool2_idx+pool2_size ,len(conv2_idx_list))):\n",
    "        temp_idx.extend(conv2_idx_list[conv2_idx])\n",
    "    pool2_idx_list.append(list(set(temp_idx)))\n",
    "\n",
    "if (pool2_idx + pool2_size-1) < (len(conv2_idx_list)-1):\n",
    "    print('add')\n",
    "    temp_idx = []\n",
    "    for conv2_idx in np.arange(pool2_idx+ pool2_size+1, len(conv2_idx_list)):\n",
    "        pool2_idx_list.append(conv2_idx_list[conv2_idx])\n",
    "print(len(pool2_idx_list))\n",
    "\n",
    "conv3_idx_list=[]\n",
    "for conv3_idx in range(0,len(pool2_idx_list), conv3_stride):\n",
    "    temp_idx = []\n",
    "    for pool2_idx in np.arange(max(conv3_idx-(conv3_size//2),0), min(conv3_idx+(conv3_size//2) +1 ,len(pool2_idx_list))):\n",
    "        temp_idx.extend(pool2_idx_list[pool2_idx])\n",
    "    if set(temp_idx):\n",
    "        conv3_idx_list.append(list(set(temp_idx)))\n",
    "\n",
    "if conv3_idx < (len(pool2_idx_list)-1):\n",
    "    print(\"add\")\n",
    "    temp_idx = []\n",
    "    for pool2_idx in np.arange(conv3_idx+1, len(pool3_idx_list)):\n",
    "        conv3_idx_list.append(pool2_idx_list[pool2_idx])\n",
    "print(len(conv3_idx_list))\n",
    "\n",
    "\n",
    "\n",
    "pool3_idx_list=[]\n",
    "for pool3_idx in range(0,len(conv3_idx_list)-(pool3_size-1), pool3_stride):\n",
    "    temp_idx = []\n",
    "    for conv3_idx in np.arange(max(pool3_idx ,0), min(pool3_idx+pool3_size ,len(conv3_idx_list))):\n",
    "        temp_idx.extend(conv3_idx_list[conv3_idx])\n",
    "    pool3_idx_list.append(list(set(temp_idx)))\n",
    "\n",
    "if (pool3_idx + pool3_size-1) < (len(conv3_idx_list)-1):\n",
    "    print('add')\n",
    "    for conv3_idx in np.arange(pool3_idx+ pool3_size+1, len(conv3_idx_list)):\n",
    "        pool3_idx_list.append(conv3_idx_list[conv3_idx])\n",
    "print(len(pool3_idx_list))\n"
   ]
  },
  {
   "cell_type": "code",
   "execution_count": 23,
   "metadata": {},
   "outputs": [
    {
     "name": "stdout",
     "output_type": "stream",
     "text": [
      "pool pattern length : pool1(13),pool2(41),pool3(65)\n"
     ]
    }
   ],
   "source": [
    "pool1_pattern_len = np.max([len(x) for x in pool1_idx_list])\n",
    "pool2_pattern_len = np.max([len(x) for x in pool2_idx_list])\n",
    "pool3_pattern_len = np.max([len(x) for x in pool3_idx_list])\n",
    "\n",
    "print(\"pool pattern length : pool1({}),pool2({}),pool3({})\".format(pool1_pattern_len,\n",
    "                                                                     pool2_pattern_len,\n",
    "                                                                     pool3_pattern_len))"
   ]
  },
  {
   "cell_type": "code",
   "execution_count": 24,
   "metadata": {},
   "outputs": [],
   "source": [
    "pool1_output_len = len(pool1_idx_list)\n",
    "pool2_output_len = len(pool2_idx_list)\n",
    "pool3_output_len = len(pool3_idx_list)"
   ]
  },
  {
   "cell_type": "markdown",
   "metadata": {
    "colab_type": "text",
    "id": "LmWRfeSOxg6l"
   },
   "source": [
    "# 4. Training"
   ]
  },
  {
   "cell_type": "code",
   "execution_count": 25,
   "metadata": {
    "colab": {},
    "colab_type": "code",
    "id": "4pgl8PLBxg6m"
   },
   "outputs": [],
   "source": [
    "import time\n",
    "import os\n",
    "import numpy as np"
   ]
  },
  {
   "cell_type": "code",
   "execution_count": 26,
   "metadata": {
    "colab": {},
    "colab_type": "code",
    "id": "fLBIHIbqxg6o",
    "outputId": "47abf10c-e76a-4462-a56c-3d0dbfd77cbd"
   },
   "outputs": [
    {
     "name": "stdout",
     "output_type": "stream",
     "text": [
      "LRP_HAR_CNN_conv3_1e-05_64\n"
     ]
    }
   ],
   "source": [
    "save_path = './model/'+data_name\n",
    "model_name = 'LRP_'+data_name+\"_CNN_conv3_\"+str(l_rate)+'_'+str(batch_size)\n",
    "print (model_name)"
   ]
  },
  {
   "cell_type": "code",
   "execution_count": 27,
   "metadata": {
    "colab": {},
    "colab_type": "code",
    "id": "Ism3OSKnxg6u"
   },
   "outputs": [],
   "source": [
    "from training import get_batch"
   ]
  },
  {
   "cell_type": "code",
   "execution_count": 28,
   "metadata": {
    "colab": {},
    "colab_type": "code",
    "id": "nPy7CW6Ixg6w"
   },
   "outputs": [],
   "source": [
    "keep_prob =1.0"
   ]
  },
  {
   "cell_type": "code",
   "execution_count": 29,
   "metadata": {},
   "outputs": [],
   "source": [
    "true_threshold_weight1 = np.ones(pool1_output_len*conv1_channel).reshape(conv1_channel,pool1_output_len,1,-1)\n",
    "true_threshold_weight2 = np.ones(pool2_output_len*conv2_channel).reshape(conv2_channel,pool2_output_len,1,-1)\n",
    "true_threshold_weight3 = np.ones(pool3_output_len*conv3_channel).reshape(conv3_channel,pool3_output_len,1,-1)"
   ]
  },
  {
   "cell_type": "markdown",
   "metadata": {
    "colab": {},
    "colab_type": "code",
    "id": "rP08N40exg60"
   },
   "source": [
    "train_history.to_csv(os.path.join(save_path,model_name,  \"history_train.csv\"))\n",
    "valid_history.to_csv(os.path.join(save_path,model_name,  \"history_valid.csv\"))"
   ]
  },
  {
   "cell_type": "code",
   "execution_count": 30,
   "metadata": {},
   "outputs": [
    {
     "data": {
      "text/plain": [
       "13"
      ]
     },
     "execution_count": 30,
     "metadata": {},
     "output_type": "execute_result"
    }
   ],
   "source": [
    "pool3_output_len"
   ]
  },
  {
   "cell_type": "code",
   "execution_count": 31,
   "metadata": {},
   "outputs": [],
   "source": [
    "num_epochs= 300\n",
    "\n",
    "std= 0.01\n",
    "l_rate = 1e-5"
   ]
  },
  {
   "cell_type": "code",
   "execution_count": 32,
   "metadata": {},
   "outputs": [],
   "source": [
    "tf.reset_default_graph()\n",
    "x = tf.placeholder(tf.float32, [None, 1,trainX.shape[2],trainX.shape[3]])\n",
    "y_ = tf.placeholder(tf.float32, [None, nb_classes], name=\"truth\")\n",
    "keep_prob = tf.placeholder(tf.float32,name=\"keep_probability\")\n",
    "\n",
    "unit_bool = tf.placeholder(tf.float32, [None, 1,len(conv2_idx_list),conv2_channel], name=\"unit_bool\")\n",
    "#Set the weights for the network\n",
    "xavier = tf.contrib.layers.xavier_initializer_conv2d()  \n",
    "conv1_weights = tf.get_variable(name=\"c1\", initializer=xavier, shape=[1, conv1_size, trainX.shape[-1], conv1_channel])\n",
    "conv1_biases = tf.Variable(tf.zeros([conv1_channel]))\n",
    "conv2_weights = tf.get_variable(name=\"c2\", initializer=xavier, shape=[1, conv2_size, conv1_channel, conv2_channel])\n",
    "conv2_biases = tf.Variable(tf.zeros([conv2_channel]))\n",
    "conv3_weights = tf.get_variable(name=\"c3\", initializer=xavier, shape=[1, conv3_size, conv2_channel, conv3_channel])\n",
    "conv3_biases = tf.Variable(tf.zeros([conv3_channel]))\n",
    "fc1_weights = tf.Variable(tf.truncated_normal([1 * pool3_output_len  * conv3_channel, nb_classes], stddev=0.1))\n",
    "fc1_biases = tf.Variable(tf.zeros([nb_classes]))\n",
    "\n",
    "#Stack the Layers\n",
    "reshaped_input = tf.reshape(x, [-1, 1, trainX.shape[2],trainX.shape[3]], name=\"absolute_input\")\n",
    "#layer 1\n",
    "conv1 = tf.nn.conv2d(reshaped_input, conv1_weights, strides=[1, 1, conv1_stride, 1], padding='SAME')\n",
    "relu1 = tf.nn.relu(tf.nn.bias_add(conv1, conv1_biases))\n",
    "pool1 = tf.nn.max_pool(relu1, ksize=[1, 1, pool1_size, 1], strides=[1, 1, pool1_stride, 1],  padding='VALID')\n",
    "dropout1 = tf.nn.dropout(pool1, keep_prob)\n",
    "#layer 2\n",
    "conv2 = tf.nn.conv2d(dropout1, conv2_weights, strides=[1, 1, conv2_stride, 1], padding='SAME')\n",
    "relu2 = tf.multiply(tf.nn.relu(tf.nn.bias_add(conv2, conv2_biases)),unit_bool)\n",
    "pool2 = tf.nn.max_pool(relu2, ksize=[1, 1, pool2_size, 1], strides=[1, 1, pool2_stride, 1], padding='VALID')\n",
    "dropout2 = tf.nn.dropout(pool2, keep_prob)\n",
    "#layer 3\n",
    "conv3 = tf.nn.conv2d(dropout2, conv3_weights, strides=[1, 1, conv3_stride, 1], padding='SAME')\n",
    "relu3 = tf.nn.relu(tf.nn.bias_add(conv3, conv3_biases))\n",
    "pool3 = tf.nn.max_pool(relu3, ksize=[1, 1, pool3_size, 1], strides=[1, 1, pool3_stride, 1], padding='VALID')\n",
    "dropout3 = tf.nn.dropout(pool3, keep_prob)\n",
    "#layer 4    \n",
    "pool_shape = dropout3.get_shape().as_list()\n",
    "reshaped = tf.reshape(dropout3, [-1, pool_shape[1] * pool_shape[2] * pool_shape[3]])\n",
    "y = tf.add(tf.matmul(reshaped, fc1_weights), fc1_biases, name=\"absolute_output\")\n",
    "\n",
    "# Define loss and optimizer\n",
    "cross_entropy = tf.nn.softmax_cross_entropy_with_logits_v2(logits = y, labels= y_)\n",
    "cost = tf.reduce_mean(cross_entropy)\n",
    "train_step = tf.train.AdamOptimizer(learning_rate=l_rate).minimize(cost)\n"
   ]
  },
  {
   "cell_type": "code",
   "execution_count": 39,
   "metadata": {},
   "outputs": [],
   "source": [
    "true_bool =np.ones(batch_size*1*len(conv2_idx_list)*conv2_channel).reshape(-1,1,len(conv2_idx_list),conv2_channel)"
   ]
  },
  {
   "cell_type": "code",
   "execution_count": 35,
   "metadata": {},
   "outputs": [],
   "source": [
    "from tqdm import tqdm"
   ]
  },
  {
   "cell_type": "code",
   "execution_count": 40,
   "metadata": {},
   "outputs": [],
   "source": [
    "try:\n",
    "    sess.close()\n",
    "except: pass"
   ]
  },
  {
   "cell_type": "code",
   "execution_count": 41,
   "metadata": {},
   "outputs": [
    {
     "name": "stderr",
     "output_type": "stream",
     "text": [
      "100%|██████████| 300/300 [03:05<00:00,  1.73it/s]\n"
     ]
    }
   ],
   "source": [
    "sess = tf.InteractiveSession()\n",
    "tf.initialize_all_variables().run()\n",
    "for i in tqdm(range(num_epochs)):\n",
    "    loss = 0\n",
    "    acc=0\n",
    "    train_batches = 0\n",
    "    start_time = time.time()   \n",
    "    \n",
    "    for batch in get_batch(X=trainX, Y=trainY, nb_classes = nb_classes, batch_size=batch_size):\n",
    "        train_in, train_target = batch\n",
    "        train_batches += 1.0 \n",
    "        sess.run(train_step, feed_dict={x: train_in, y_: train_target, keep_prob :1.0, unit_bool:true_bool})"
   ]
  },
  {
   "cell_type": "code",
   "execution_count": 42,
   "metadata": {},
   "outputs": [
    {
     "name": "stdout",
     "output_type": "stream",
     "text": [
      "0.84375 0.8050272\n"
     ]
    }
   ],
   "source": [
    "# Test trained model\n",
    "correct_prediction = tf.equal(tf.argmax(y, 1), tf.argmax(y_, 1))\n",
    "accuracy = tf.reduce_mean(tf.cast(correct_prediction, tf.float32))\n",
    "test_acc = []\n",
    "train_acc = []\n",
    "for batch in get_batch(X=validX, Y=validY, nb_classes = nb_classes, batch_size=batch_size):\n",
    "    batch_x, batch_y = batch\n",
    "    test_acc.append(sess.run(accuracy, feed_dict={x: batch_x, y_: batch_y, keep_prob :1.0, unit_bool:true_bool}))\n",
    "for batch in get_batch(X=trainX, Y=trainY, nb_classes = nb_classes, batch_size=batch_size):\n",
    "    train_acc.append(sess.run(accuracy, feed_dict={x: batch_x, y_: batch_y, keep_prob :1.0, unit_bool:true_bool}))\n",
    "print np.mean(train_acc), np.mean(test_acc)"
   ]
  },
  {
   "cell_type": "code",
   "execution_count": 43,
   "metadata": {},
   "outputs": [],
   "source": [
    "from tensorflow.python.ops import nn_ops, gen_nn_ops"
   ]
  },
  {
   "cell_type": "code",
   "execution_count": 44,
   "metadata": {},
   "outputs": [],
   "source": [
    "def lrp(F, lowest, highest, graph=None, return_flist=False):\n",
    "    \"\"\"\n",
    "        Accepts a final output, and propagates back from there to compute LRP over a tensorflow graph. \n",
    "        Performs a Taylor Decomp at each layer to assess the relevances of each neuron at that layer\n",
    "    \"\"\"\n",
    "    #Assumptions:\n",
    "        #all conv strides are [1,1,1,1]\n",
    "        #all pool strides are [1,2,2,1]\n",
    "        #all pool/conv padding is SAME\n",
    "        #only reshaping that happens is after a pool layer (pool -> fc) or a conv layer (conv -> fc)\n",
    "    F_list = []\n",
    "    traversed, graph, graph_dict, var_dict = get_traversed(graph=graph)\n",
    "    for n in traversed:\n",
    "        val_name = next(I for I in graph_dict[n].input if I in traversed).split(\"/read\")[0] + \":0\"\n",
    "        X = graph.get_tensor_by_name(val_name)      \n",
    "        if graph_dict[n].op == \"MatMul\":\n",
    "            weight_name = next(I for I in graph_dict[n].input if not I in traversed).split(\"/read\")[0] + \":0\"\n",
    "            W = var_dict[weight_name]\n",
    "            if \"absolute_input\" in graph_dict[n].input:\n",
    "                F = fprop_first(F, W, X, lowest, highest)\n",
    "                F_list.append(F)\n",
    "                break\n",
    "            else:\n",
    "                F = fprop(F, W, X) \n",
    "                F_list.append(F)\n",
    "        elif graph_dict[n].op == \"MaxPool\" or graph_dict[n].op ==  \"MaxPoolWithArgmax\":\n",
    "            if n ==u'MaxPool_2':\n",
    "                strides=[1,1,pool3_stride,1]\n",
    "                ksize=[1,1,pool3_size,1]\n",
    "                print(\"MaxPool3 {},{}\".format(ksize,strides))\n",
    "            elif n ==u'MaxPool_1':\n",
    "                strides=[1,1,pool2_stride,1]\n",
    "                ksize=[1,1,pool2_size,1]\n",
    "                print(\"MaxPool2 {},{}\".format(ksize,strides))\n",
    "            elif n ==u'MaxPool':\n",
    "                strides=[1,1,pool1_stride,1]\n",
    "                ksize=[1,1,pool1_size,1]\n",
    "                print(\"MaxPool1 {},{}\".format(ksize,strides))\n",
    "            F = fprop_pool(F, X, strides= strides, ksize=ksize)     \n",
    "            F_list.append(F)\n",
    "        elif graph_dict[n].op == \"Conv2D\":\n",
    "            weight_name = next(I for I in graph_dict[n].input if not I in traversed).split(\"/read\")[0] + \":0\"\n",
    "            W = var_dict[weight_name]\n",
    "\n",
    "            if \"absolute_input\" in graph_dict[n].input:\n",
    "                F = fprop_conv_first(F, W, X, lowest, highest,strides = [1,1,conv1_stride,1])\n",
    "                F_list.append(F)\n",
    "                break\n",
    "            else:\n",
    "                if u'Conv2D_2' == n:\n",
    "                    strides = [1,1,conv3_stride,1]\n",
    "                elif u'Conv2D_1' == n:\n",
    "                    strides = [1,1,conv2_stride,1]\n",
    "                \n",
    "                F = fprop_conv(F, W, X, strides = strides) \n",
    "                F_list.append(F)\n",
    "    if return_flist:\n",
    "        return F_list\n",
    "    else:\n",
    "        return F\n",
    "\n",
    "def get_traversed(graph = None):\n",
    "    #Get the graph and graph traversal\n",
    "    graph = tf.get_default_graph() if graph is None else graph\n",
    "    graph_dict = {node.name:node for node in graph.as_graph_def().node}\n",
    "    var_dict = {v.name:v.value() for v in tf.get_collection(tf.GraphKeys.VARIABLES)}\n",
    "    return traverse(graph_dict[\"absolute_output\"], [], graph_dict), graph, graph_dict, var_dict\n",
    "\n",
    "\n",
    "def traverse(node, L, graph_dict):\n",
    "    #Depth First Search the Network Graph\n",
    "    L.append(node.name)\n",
    "    if \"absolute_input\" in node.name:\n",
    "        return L\n",
    "    inputs = node.input\n",
    "    for nodename in inputs:\n",
    "        if not traverse(graph_dict[nodename], L, graph_dict) is None:\n",
    "            return L\n",
    "    return None\n",
    "\n",
    "def fprop_first(F, W, X, lowest, highest):\n",
    "    #Propagate from last feedforward layer to input\n",
    "    W,V,U = W,tf.maximum(0.0,W), tf.minimum(0.0,W)\n",
    "    X,L,H = X, X*0+lowest, X*0+highest\n",
    "\n",
    "    Z = tf.matmul(X, W)-tf.matmul(L, V)-tf.matmul(H, U)+1e-9\n",
    "    S = F/Z\n",
    "    F = X*tf.matmul(S,tf.transpose(W))-L*tf.matmul(S, tf.transpose(V))-H*tf.matmul(S,tf.transpose(U))\n",
    "    return F\n",
    "\n",
    "def fprop(F, W, X):\n",
    "    #Propagate over feedforward layer\n",
    "    V = tf.maximum(0.0, W)\n",
    "    Z = tf.matmul(X, V)+1e-9;\n",
    "    S = F/Z\n",
    "    C = tf.matmul(S, tf.transpose(V))        \n",
    "    F = X*C\n",
    "    return F\n",
    "\n",
    "def fprop_conv_first(F, W, X, lowest, highest, strides=None, padding='SAME'):\n",
    "    #Propagate from last conv layer to input\n",
    "    strides = [1, 1, 1, 1] if strides is None else strides\n",
    "\n",
    "    Wn = tf.minimum(0.0, W)\n",
    "    Wp = tf.maximum(0.0, W)\n",
    "\n",
    "    X, L, H = X, X*0+lowest, X*0+highest\n",
    "\n",
    "    c  = tf.nn.conv2d(X, W, strides, padding)\n",
    "    cp = tf.nn.conv2d(H, Wp, strides, padding)\n",
    "    cn = tf.nn.conv2d(L, Wn, strides, padding)\n",
    "    Z = c - cp - cn + 1e-9\n",
    "    S = F/Z\n",
    "    \n",
    "    g  = nn_ops.conv2d_backprop_input(tf.shape(X), W,  S, strides, padding)\n",
    "    gp = nn_ops.conv2d_backprop_input(tf.shape(X), Wp, S, strides, padding)\n",
    "    gn = nn_ops.conv2d_backprop_input(tf.shape(X), Wn, S, strides, padding)\n",
    "    \n",
    "    F = X*g - L*gp - H*gn\n",
    "    \n",
    "    return F\n",
    "\n",
    "def fprop_conv(F, W, X, strides=None, padding='SAME'):\n",
    "    #Propagate over conv layer\n",
    "    \n",
    "    xshape = X.get_shape().as_list()\n",
    "    fshape = F.get_shape().as_list()\n",
    "    \n",
    "    print(fshape)\n",
    "    \n",
    "    if len(xshape) != len(fshape):\n",
    "        F = tf.reshape(F, (-1, xshape[1], xshape[2], fshape[-1]/(xshape[1]*xshape[2])))\n",
    "    strides = [1, 1, 1, 1] if strides is None else strides\n",
    "        \n",
    "    W = tf.maximum(0.0, W)\n",
    "\n",
    "    Z = tf.nn.conv2d(X, W, strides, padding) + 1e-9 \n",
    "    S = F/Z\n",
    "    \n",
    "    C = nn_ops.conv2d_backprop_input(tf.shape(X), W,  S, strides, padding)\n",
    "\n",
    "    F = X*C\n",
    "    return F\n",
    "\n",
    "def fprop_pool(F, X, strides=None, ksize=None, padding='VALID'):\n",
    "    #Propagate over pool layer\n",
    "    xshape = X.get_shape().as_list()\n",
    "    fshape = F.get_shape().as_list()\n",
    "    if len(xshape) != len(fshape):\n",
    "        F = tf.reshape(F, (-1, xshape[1], fshape[1]//xshape[3], xshape[3]))\n",
    "    ksize = [1, 2, 2, 1]  if ksize is None else ksize\n",
    "    strides = [1, 2, 2, 1]  if strides is None else strides\n",
    "    print('pool {},{}'.format(ksize,strides))\n",
    "\n",
    "    Z = tf.nn.max_pool(X, strides=strides, ksize=ksize, padding=padding) + 1e-9\n",
    "    S = F / Z\n",
    "    C = gen_nn_ops._max_pool_grad(X, Z, S, ksize, strides, padding)    \n",
    "    F = X*C\n",
    "\n",
    "    print (F.get_shape().as_list())\n",
    "    \n",
    "    return F\n",
    "\n",
    "\n",
    "def visualize(im_list, xval):\n",
    "    #Visualize the LRPs\n",
    "    for i in range(len(im_list[0])):\n",
    "        plt.figure()\n",
    "        plt.subplot(1,1+len(im_list),1)\n",
    "        plt.title(\"Image\")\n",
    "        plt.imshow(xval[i])\n",
    "        \n",
    "        for j in range(len(im_list)):\n",
    "            plt.subplot(1,1+len(im_list),2+j)\n",
    "            plt.title(\"LRP for network {}\".format(j))\n",
    "            I = np.mean(np.maximum(im_list[j][i], 0), -1)\n",
    "            I = np.minimum(I, np.percentile(I, 99))\n",
    "            I = I/np.max(I)\n",
    "            print (\"np.linalg.norm(I)\", np.linalg.norm(I))\n",
    "            plt.imshow(I, cmap=\"gray\")\n",
    "\n",
    "        plt.show()\n",
    "    return im_list\n"
   ]
  },
  {
   "cell_type": "code",
   "execution_count": 45,
   "metadata": {},
   "outputs": [
    {
     "name": "stdout",
     "output_type": "stream",
     "text": [
      "WARNING:tensorflow:VARIABLES collection name is deprecated, please use GLOBAL_VARIABLES instead; VARIABLES will be removed after 2017-03-02.\n",
      "MaxPool3 [1, 1, 2, 1],[1, 1, 1, 1]\n",
      "pool [1, 1, 2, 1],[1, 1, 1, 1]\n",
      "[None, 1, 14, 128]\n",
      "[None, 1, 14, 128]\n",
      "MaxPool2 [1, 1, 4, 1],[1, 1, 2, 1]\n",
      "pool [1, 1, 4, 1],[1, 1, 2, 1]\n",
      "[None, 1, 31, 64]\n",
      "[None, 1, 31, 64]\n",
      "MaxPool1 [1, 1, 4, 1],[1, 1, 2, 1]\n",
      "pool [1, 1, 4, 1],[1, 1, 2, 1]\n",
      "[None, 1, 64, 32]\n"
     ]
    }
   ],
   "source": [
    "F_list = lrp(y*y_, 0, 1, return_flist=True)"
   ]
  },
  {
   "cell_type": "code",
   "execution_count": 48,
   "metadata": {},
   "outputs": [],
   "source": [
    "from matplotlib.pyplot import cm"
   ]
  },
  {
   "cell_type": "code",
   "execution_count": 73,
   "metadata": {},
   "outputs": [],
   "source": [
    "\n",
    "\n",
    "temp =np.ones(len(data_idx)*len(conv2_idx_list) *conv2_channel).reshape(len(data_idx),1,len(conv2_idx_list),conv2_channel)\n",
    "\n",
    "\n",
    "pool3_im = F_list[-1].eval(session=sess, feed_dict = {x: trainX[data_idx].reshape(-1,1,trainX.shape[2],trainX.shape[3]), \n",
    "                                                       y_:trainY[data_idx].reshape(-1,nb_classes),\n",
    "                                                      unit_bool: temp, keep_prob:1.0})"
   ]
  },
  {
   "cell_type": "code",
   "execution_count": 74,
   "metadata": {
    "scrolled": true
   },
   "outputs": [
    {
     "data": {
      "text/plain": [
       "(-10, 138)"
      ]
     },
     "execution_count": 74,
     "metadata": {},
     "output_type": "execute_result"
    },
    {
     "data": {
      "image/png": "[encoded data removed]",
      "text/plain": [
       "<matplotlib.figure.Figure at 0x7feca6eb30d0>"
      ]
     },
     "metadata": {},
     "output_type": "display_data"
    }
   ],
   "source": [
    "fig = plt.figure(figsize=(15,3))\n",
    "ax = plt.subplot(1,1,1)\n",
    "ax.plot(trainX[data_idx,0,:,0].T,color='black')\n",
    "ax.scatter(range(0,trainX.shape[2]),trainX[data_idx,0,:,0],c = pool3_im.squeeze().T[input_channel],s=50,cmap=cm.Greens,vmin=-0.008,vmax=0.03 )\n",
    "\n",
    "ax.set_ylim(-8,8)\n",
    "ax.set_xlim([0-10,int(trainX.shape[2])+10])"
   ]
  },
  {
   "cell_type": "code",
   "execution_count": 160,
   "metadata": {},
   "outputs": [],
   "source": [
    "unit=58\n",
    "input_channel = 6"
   ]
  },
  {
   "cell_type": "code",
   "execution_count": 164,
   "metadata": {},
   "outputs": [
    {
     "data": {
      "text/plain": [
       "<matplotlib.text.Text at 0x7feb6b0b8ed0>"
      ]
     },
     "execution_count": 164,
     "metadata": {},
     "output_type": "execute_result"
    },
    {
     "data": {
      "image/png": "[encoded data removed]",
      "text/plain": [
       "<matplotlib.figure.Figure at 0x7feb6aa61710>"
      ]
     },
     "metadata": {},
     "output_type": "display_data"
    }
   ],
   "source": [
    "data_idx= 7033\n",
    "dropout_imlist=[]\n",
    "\n",
    "mc_num=300\n",
    "for mc_idx in range(mc_num):\n",
    "    temp =np.zeros(1*len(conv2_idx_list) *conv2_channel).reshape(1,1,len(conv2_idx_list),conv2_channel)\n",
    "    temp[:,:,:,unit]=1.0\n",
    "    pool3_im = F_list[-1].eval(session=sess, feed_dict = {x: trainX[data_idx].reshape(-1,1,trainX.shape[2],trainX.shape[3]), \n",
    "                                                           y_:trainY[data_idx].reshape(-1,nb_classes),\n",
    "                                                          unit_bool: temp, keep_prob:0.5})\n",
    "    dropout_imlist.append(pool3_im.squeeze())\n",
    "\n",
    "uncertainty = np.asarray(dropout_imlist).std(axis=0)\n",
    "mean = np.asarray(dropout_imlist).mean(axis=0)\n",
    "\n",
    "fig = plt.figure(figsize=(15,3))\n",
    "ax = plt.subplot(1,1,1)\n",
    "error = uncertainty.T[input_channel]\n",
    "ax.fill_between(np.arange(0,trainX.shape[2]), (trainX[data_idx,0,:,input_channel].squeeze()-5*error), (trainX[data_idx,0,:,input_channel].squeeze()+5*error), color='lightseagreen', alpha=0.4)\n",
    "ax.fill_between(np.arange(0,trainX.shape[2]), (trainX[data_idx,0,:,input_channel].squeeze()-10*error), (trainX[data_idx,0,:,input_channel].squeeze()+10*error),  color='lightseagreen', alpha=0.3)\n",
    "ax.fill_between(np.arange(0,trainX.shape[2]), (trainX[data_idx,0,:,input_channel].squeeze()-15*error), (trainX[data_idx,0,:,input_channel].squeeze()+15*error),  color='lightseagreen', alpha=0.2)\n",
    "\n",
    "ax.plot(trainX[data_idx,0,:,input_channel].T,color='black')\n",
    "ax.scatter(range(0,trainX.shape[2]),trainX[data_idx,0,:,input_channel],c = mean.T[input_channel],s=60, cmap=cm.Greens,vmin=0,vmax=max(  mean.T[input_channel].mean() + mean.T[input_channel].std(), 0.001))\n",
    "\n",
    "\n",
    "\n",
    "ax.set_ylim(-8,8)\n",
    "ax.set_xlim([0-10,int(trainX.shape[2])+10])\n",
    "ax.set_title( \"CNN Hidden Layer2  |  {} Data {} Inputchannel {}   |    Unit {}\".format(data_name, data_idx,input_channel, unit), loc='right')"
   ]
  }
 ],
 "metadata": {
  "colab": {
   "name": "model.ipynb",
   "provenance": []
  },
  "kernelspec": {
   "display_name": "Python 2",
   "language": "python",
   "name": "python2"
  },
  "language_info": {
   "codemirror_mode": {
    "name": "ipython",
    "version": 2
   },
   "file_extension": ".py",
   "mimetype": "text/x-python",
   "name": "python",
   "nbconvert_exporter": "python",
   "pygments_lexer": "ipython2",
   "version": "2.7.12"
  }
 },
 "nbformat": 4,
 "nbformat_minor": 1
}
