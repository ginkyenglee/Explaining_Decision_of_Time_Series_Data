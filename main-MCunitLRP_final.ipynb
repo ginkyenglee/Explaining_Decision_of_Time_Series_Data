{
 "cells": [
  {
   "cell_type": "code",
   "execution_count": 1,
   "metadata": {
    "colab": {},
    "colab_type": "code",
    "id": "4y7_sbSIxg6E",
    "outputId": "929e3bc6-f359-4add-ce57-077422b03c56"
   },
   "outputs": [],
   "source": [
    "import pandas as pd\n",
    "import numpy as np\n",
    "import matplotlib.pyplot as plt"
   ]
  },
  {
   "cell_type": "code",
   "execution_count": 2,
   "metadata": {},
   "outputs": [],
   "source": [
    "import itertools\n",
    "from itertools import groupby\n",
    "import os"
   ]
  },
  {
   "cell_type": "code",
   "execution_count": 3,
   "metadata": {},
   "outputs": [],
   "source": [
    "os.environ[\"CUDA_VISIBLE_DEVICES\"]=\"1,2\"\n",
    "%matplotlib inline"
   ]
  },
  {
   "cell_type": "markdown",
   "metadata": {
    "colab_type": "text",
    "id": "xYklN3iMxg6M"
   },
   "source": [
    "# 1. Data Load\n",
    "### 전처리 width, height, input_channel 정의"
   ]
  },
  {
   "cell_type": "code",
   "execution_count": 4,
   "metadata": {
    "colab": {},
    "colab_type": "code",
    "id": "a2XqoXoUxg6N"
   },
   "outputs": [],
   "source": [
    "from load_data import load_data,class_breakdown"
   ]
  },
  {
   "cell_type": "code",
   "execution_count": 5,
   "metadata": {},
   "outputs": [
    {
     "name": "stdout",
     "output_type": "stream",
     "text": [
      "Load data UWaveGestureLibraryAll\n",
      "batch size:64\n",
      "train data (3582, 945),(3582,)\n",
      "test data (896, 945),(896,)\n"
     ]
    }
   ],
   "source": [
    "#data_name =\"EEG\"\n",
    "#data_name =\"HAR\"\n",
    "\n",
    "data_name =\"UWaveGestureLibraryAll\"\n",
    "trainx, testx,trainy,testy,batch_size = load_data(data_name =data_name)"
   ]
  },
  {
   "cell_type": "code",
   "execution_count": 6,
   "metadata": {
    "colab": {},
    "colab_type": "code",
    "id": "xyupyd-hxg6T",
    "outputId": "dcff2c15-b58d-4c33-989a-d54de283fa66"
   },
   "outputs": [
    {
     "name": "stdout",
     "output_type": "stream",
     "text": [
      "Class=1, total=437, percentage=0.000\n",
      "Class=2, total=452, percentage=0.000\n",
      "Class=3, total=454, percentage=0.000\n",
      "Class=4, total=450, percentage=0.000\n",
      "Class=5, total=433, percentage=0.000\n",
      "Class=6, total=449, percentage=0.000\n",
      "Class=7, total=447, percentage=0.000\n",
      "Class=8, total=460, percentage=0.000\n",
      "Class=1, total=122, percentage=0.000\n",
      "Class=2, total=108, percentage=0.000\n",
      "Class=3, total=106, percentage=0.000\n",
      "Class=4, total=110, percentage=0.000\n",
      "Class=5, total=127, percentage=0.000\n",
      "Class=6, total=111, percentage=0.000\n",
      "Class=7, total=112, percentage=0.000\n",
      "Class=8, total=100, percentage=0.000\n"
     ]
    }
   ],
   "source": [
    "class_breakdown(trainy)\n",
    "class_breakdown(testy)"
   ]
  },
  {
   "cell_type": "code",
   "execution_count": 7,
   "metadata": {
    "colab": {},
    "colab_type": "code",
    "id": "ROHthjPBxg6V"
   },
   "outputs": [
    {
     "name": "stdout",
     "output_type": "stream",
     "text": [
      "y train shape: (3582, 8)\n",
      "y test shape: (896, 8)\n"
     ]
    }
   ],
   "source": [
    "hot_encoded_y_train = np.asarray(pd.get_dummies(np.asarray(trainy.flatten())))\n",
    "hot_encoded_y_test = np.asarray(pd.get_dummies(np.asarray(testy.flatten())))\n",
    "print(\"y train shape: {}\".format(hot_encoded_y_train.shape))\n",
    "print(\"y test shape: {}\".format(hot_encoded_y_test.shape))"
   ]
  },
  {
   "cell_type": "markdown",
   "metadata": {},
   "source": [
    "## 데이터 정규화"
   ]
  },
  {
   "cell_type": "code",
   "execution_count": 8,
   "metadata": {},
   "outputs": [
    {
     "data": {
      "text/plain": [
       "[<matplotlib.lines.Line2D at 0x7ff279624950>]"
      ]
     },
     "execution_count": 8,
     "metadata": {},
     "output_type": "execute_result"
    },
    {
     "data": {
      "image/png": "[encoded data removed]",
      "text/plain": [
       "<matplotlib.figure.Figure at 0x7ff27db2e2d0>"
      ]
     },
     "metadata": {},
     "output_type": "display_data"
    }
   ],
   "source": [
    "plt.plot(trainx[0])"
   ]
  },
  {
   "cell_type": "code",
   "execution_count": 9,
   "metadata": {},
   "outputs": [],
   "source": [
    "from tslearn.preprocessing import TimeSeriesScalerMeanVariance, TimeSeriesResampler\n",
    "trainx =TimeSeriesScalerMeanVariance().fit_transform(trainx)\n",
    "testx =TimeSeriesScalerMeanVariance().fit_transform(testx)"
   ]
  },
  {
   "cell_type": "code",
   "execution_count": 10,
   "metadata": {},
   "outputs": [
    {
     "data": {
      "text/plain": [
       "[<matplotlib.lines.Line2D at 0x7ff2654a6810>]"
      ]
     },
     "execution_count": 10,
     "metadata": {},
     "output_type": "execute_result"
    },
    {
     "data": {
      "image/png": "[encoded data removed]",
      "text/plain": [
       "<matplotlib.figure.Figure at 0x7ff265525190>"
      ]
     },
     "metadata": {},
     "output_type": "display_data"
    }
   ],
   "source": [
    "plt.plot(trainx[0])"
   ]
  },
  {
   "cell_type": "code",
   "execution_count": 11,
   "metadata": {
    "colab": {},
    "colab_type": "code",
    "id": "O6OPKVxRxg6X",
    "outputId": "8749c02f-83df-48c8-a352-86bfb8bfdcd4"
   },
   "outputs": [
    {
     "name": "stdout",
     "output_type": "stream",
     "text": [
      "trainX shape:(3582, 1, 945, 1)\n",
      "trainY shape:(3582, 8)\n",
      "validX shape:(448, 1, 945, 1)\n",
      "validY shape:(448, 8)\n",
      "testX shape:(448, 1, 945, 1)\n",
      "testY shape:(448, 8)\n"
     ]
    }
   ],
   "source": [
    "trainX = trainx[:, np.newaxis, :]\n",
    "trainY = hot_encoded_y_train\n",
    "\n",
    "validX =testx[:len(testx)//2,np.newaxis,:]\n",
    "validY= hot_encoded_y_test[:len(testx)//2]\n",
    "\n",
    "testX = testx[len(testx)//2:,np.newaxis,:]\n",
    "testY = hot_encoded_y_test[len(testx)//2:]\n",
    "\n",
    "print (\"trainX shape:{}\".format(trainX.shape))\n",
    "print (\"trainY shape:{}\".format(trainY.shape))\n",
    "print (\"validX shape:{}\".format(validX.shape))\n",
    "print (\"validY shape:{}\".format(validY.shape))\n",
    "print (\"testX shape:{}\".format(testX.shape))\n",
    "print (\"testY shape:{}\".format(testY.shape))"
   ]
  },
  {
   "cell_type": "code",
   "execution_count": 12,
   "metadata": {
    "colab": {},
    "colab_type": "code",
    "id": "8JpxKigLxg6a"
   },
   "outputs": [
    {
     "name": "stdout",
     "output_type": "stream",
     "text": [
      "height 1\n",
      "width 945\n",
      "input_channel 1\n"
     ]
    }
   ],
   "source": [
    "height = trainX.shape[1]\n",
    "width = trainX.shape[2]\n",
    "input_channel = trainX.shape[3]\n",
    "\n",
    "print (\"height {}\".format(height))\n",
    "print (\"width {}\".format(width))\n",
    "print (\"input_channel {}\".format(input_channel))"
   ]
  },
  {
   "cell_type": "markdown",
   "metadata": {
    "colab_type": "text",
    "id": "LRkT92eLxg6c"
   },
   "source": [
    "# 2. Training condition 정의"
   ]
  },
  {
   "cell_type": "code",
   "execution_count": 13,
   "metadata": {
    "colab": {},
    "colab_type": "code",
    "id": "96TudpYHxg6d"
   },
   "outputs": [],
   "source": [
    "t_loss=[]\n",
    "t_acc=[]\n",
    "\n",
    "v_loss=[]\n",
    "v_acc=[]\n",
    "\n",
    "val_freq = 1\n",
    "save_freq = 1\n",
    "num_epochs= 300\n",
    "\n",
    "\n",
    "std= 0.01\n",
    "l_rate = 1e-5"
   ]
  },
  {
   "cell_type": "code",
   "execution_count": 14,
   "metadata": {
    "colab": {},
    "colab_type": "code",
    "id": "v0CdpPI7xg6f"
   },
   "outputs": [],
   "source": [
    "train_history = pd.DataFrame(index=np.arange(0, num_epochs), columns=['epoch', 'loss', 'acc','timestamp'])\n",
    "valid_history = pd.DataFrame(index=np.arange(0, num_epochs/val_freq),columns=['epoch', 'loss', 'acc','timestamp'])"
   ]
  },
  {
   "cell_type": "markdown",
   "metadata": {
    "colab_type": "text",
    "id": "6HiU9eckxg6h"
   },
   "source": [
    "# 3. model structure 정의"
   ]
  },
  {
   "cell_type": "code",
   "execution_count": 15,
   "metadata": {},
   "outputs": [
    {
     "name": "stderr",
     "output_type": "stream",
     "text": [
      "Couldn't import dot_parser, loading of dot files will not be possible.\n"
     ]
    }
   ],
   "source": [
    "import tensorflow as tf"
   ]
  },
  {
   "cell_type": "code",
   "execution_count": 16,
   "metadata": {},
   "outputs": [],
   "source": [
    "import math\n",
    "if data_name in [\"HAR\",\"EEG\"]:\n",
    "    conv1_channel = 32\n",
    "    conv2_channel = 64\n",
    "    conv3_channel = 128\n",
    "\n",
    "    ###### conv1\n",
    "    conv1_size = 7\n",
    "    conv1_pad = int((conv1_size -1) /2)\n",
    "    conv1_stride = 2\n",
    "\n",
    "    pool1_size = 4\n",
    "    pool1_pad = 0\n",
    "    pool1_stride = 2\n",
    "\n",
    "    ###### conv2\n",
    "    conv2_size = 5\n",
    "    conv2_pad = int((conv2_size -1) /2)\n",
    "    conv2_stride = 1\n",
    "\n",
    "    pool2_size = 4\n",
    "    pool2_pad = 0\n",
    "    pool2_stride = 2\n",
    "\n",
    "    ###### conv3\n",
    "    conv3_size = 3\n",
    "    conv3_pad = int((conv3_size -1) /2)\n",
    "    conv3_stride = 1\n",
    "\n",
    "    pool3_size = 2\n",
    "    pool3_pad = 0\n",
    "    pool3_stride = 1\n",
    "elif data_name in \"UWaveGestureLibraryAll\":\n",
    "    conv1_channel = 32\n",
    "    conv2_channel = 64\n",
    "    conv3_channel = 128\n",
    "\n",
    "    ###### conv1\n",
    "    conv1_size = 15\n",
    "    conv1_pad = int((conv1_size -1) /2)\n",
    "    conv1_stride = 2\n",
    "\n",
    "    pool1_size = 8\n",
    "    pool1_pad = 0\n",
    "    pool1_stride = 4\n",
    "\n",
    "    ###### conv2\n",
    "    conv2_size = 11\n",
    "    conv2_pad = int((conv2_size -1) /2)\n",
    "    conv2_stride = 1\n",
    "\n",
    "    pool2_size = 4\n",
    "    pool2_pad = 0\n",
    "    pool2_stride = 2\n",
    "\n",
    "    ###### conv3\n",
    "    conv3_size = 7\n",
    "    conv3_pad = int((conv3_size -1) /2)\n",
    "    conv3_stride = 1\n",
    "\n",
    "    pool3_size = 4\n",
    "    pool3_pad = 0\n",
    "    pool3_stride = 2"
   ]
  },
  {
   "cell_type": "code",
   "execution_count": 17,
   "metadata": {},
   "outputs": [
    {
     "name": "stdout",
     "output_type": "stream",
     "text": [
      "473\n",
      "117\n",
      "117\n",
      "add\n",
      "57\n",
      "57\n",
      "add\n",
      "27\n"
     ]
    }
   ],
   "source": [
    "conv1_idx_list=[]\n",
    "for conv1_idx in range(0,trainX.shape[2],conv1_stride):\n",
    "    conv1_idx_list.append(np.arange(max(conv1_idx-(conv1_size//2),0), min(conv1_idx+(conv1_size//2) +1 ,trainX.shape[2])))\n",
    "\n",
    "if conv1_idx < (trainX.shape[2]-1):\n",
    "    for data_idx in np.arange(conv1_idx+1, trainX.shape[2]):\n",
    "        conv1_idx_list.append(data_idx)\n",
    "    \n",
    "print(len(conv1_idx_list))\n",
    "\n",
    "\n",
    "\n",
    "pool1_idx_list=[]\n",
    "for pool1_idx in range(0,len(conv1_idx_list)-(pool1_size-1), pool1_stride):\n",
    "    temp_idx = []\n",
    "    for conv1_idx in np.arange(max(pool1_idx,0), min(pool1_idx+pool1_size ,len(conv1_idx_list))):\n",
    "        temp_idx.extend(conv1_idx_list[conv1_idx])\n",
    "    if set(temp_idx):\n",
    "        pool1_idx_list.append(list(set(temp_idx)))\n",
    "        \n",
    "if (pool1_idx + pool1_size) < (len(conv1_idx_list)-1):\n",
    "    temp_idx = []\n",
    "    for conv1_idx in np.arange(pool1_idx+1, len(conv1_idx_list)):\n",
    "        temp_idx.extend(conv1_idx_list[conv1_idx])\n",
    "        pool1_idx_list.append(list(set(temp_idx)))\n",
    "print(len(pool1_idx_list))\n",
    "\n",
    "\n",
    "conv2_idx_list=[]\n",
    "for conv2_idx in range(0,len(pool1_idx_list), conv2_stride):\n",
    "    temp_idx = []\n",
    "    for pool1_idx in np.arange(max(conv2_idx-(conv2_size//2),0), min(conv2_idx+(conv2_size//2) +1 ,len(pool1_idx_list))):\n",
    "        temp_idx.extend(pool1_idx_list[pool1_idx])\n",
    "    if set(temp_idx):\n",
    "        conv2_idx_list.append(list(set(temp_idx)))\n",
    "\n",
    "if conv2_idx < (len(pool1_idx_list)-1):\n",
    "    print(\"add\")\n",
    "    temp_idx = []\n",
    "    for pool1_idx in np.arange(conv2_idx+1, len(pool1_idx_list)):\n",
    "        conv2_idx_list.append(pool1_idx_list[pool1_idx])\n",
    "print(len(conv2_idx_list))\n",
    "\n",
    "\n",
    "\n",
    "\n",
    "pool2_idx_list=[]\n",
    "for pool2_idx in range(0,len(conv2_idx_list)-(pool2_size-1), pool2_stride):\n",
    "    temp_idx = []\n",
    "    for conv2_idx in np.arange(max(pool2_idx ,0), min(pool2_idx+pool2_size ,len(conv2_idx_list))):\n",
    "        temp_idx.extend(conv2_idx_list[conv2_idx])\n",
    "    pool2_idx_list.append(list(set(temp_idx)))\n",
    "\n",
    "if (pool2_idx + pool2_size-1) < (len(conv2_idx_list)-1):\n",
    "    print('add')\n",
    "    temp_idx = []\n",
    "    for conv2_idx in np.arange(pool2_idx+ pool2_size+1, len(conv2_idx_list)):\n",
    "        pool2_idx_list.append(conv2_idx_list[conv2_idx])\n",
    "print(len(pool2_idx_list))\n",
    "\n",
    "conv3_idx_list=[]\n",
    "for conv3_idx in range(0,len(pool2_idx_list), conv3_stride):\n",
    "    temp_idx = []\n",
    "    for pool2_idx in np.arange(max(conv3_idx-(conv3_size//2),0), min(conv3_idx+(conv3_size//2) +1 ,len(pool2_idx_list))):\n",
    "        temp_idx.extend(pool2_idx_list[pool2_idx])\n",
    "    if set(temp_idx):\n",
    "        conv3_idx_list.append(list(set(temp_idx)))\n",
    "\n",
    "if conv3_idx < (len(pool2_idx_list)-1):\n",
    "    print(\"add\")\n",
    "    temp_idx = []\n",
    "    for pool2_idx in np.arange(conv3_idx+1, len(pool3_idx_list)):\n",
    "        conv3_idx_list.append(pool2_idx_list[pool2_idx])\n",
    "print(len(conv3_idx_list))\n",
    "\n",
    "\n",
    "\n",
    "pool3_idx_list=[]\n",
    "for pool3_idx in range(0,len(conv3_idx_list)-(pool3_size-1), pool3_stride):\n",
    "    temp_idx = []\n",
    "    for conv3_idx in np.arange(max(pool3_idx ,0), min(pool3_idx+pool3_size ,len(conv3_idx_list))):\n",
    "        temp_idx.extend(conv3_idx_list[conv3_idx])\n",
    "    pool3_idx_list.append(list(set(temp_idx)))\n",
    "\n",
    "if (pool3_idx + pool3_size-1) < (len(conv3_idx_list)-1):\n",
    "    print('add')\n",
    "    for conv3_idx in np.arange(pool3_idx+ pool3_size+1, len(conv3_idx_list)):\n",
    "        pool3_idx_list.append(conv3_idx_list[conv3_idx])\n",
    "print(len(pool3_idx_list))\n"
   ]
  },
  {
   "cell_type": "code",
   "execution_count": 18,
   "metadata": {},
   "outputs": [
    {
     "name": "stdout",
     "output_type": "stream",
     "text": [
      "pool pattern length : pool1(29),pool2(133),pool3(277)\n"
     ]
    }
   ],
   "source": [
    "pool1_pattern_len = np.max([len(x) for x in pool1_idx_list])\n",
    "pool2_pattern_len = np.max([len(x) for x in pool2_idx_list])\n",
    "pool3_pattern_len = np.max([len(x) for x in pool3_idx_list])\n",
    "\n",
    "print(\"pool pattern length : pool1({}),pool2({}),pool3({})\".format(pool1_pattern_len,\n",
    "                                                                     pool2_pattern_len,\n",
    "                                                                     pool3_pattern_len))"
   ]
  },
  {
   "cell_type": "code",
   "execution_count": 19,
   "metadata": {},
   "outputs": [],
   "source": [
    "pool1_output_len = len(pool1_idx_list)\n",
    "pool2_output_len = len(pool2_idx_list)\n",
    "pool3_output_len = len(pool3_idx_list)"
   ]
  },
  {
   "cell_type": "code",
   "execution_count": 47,
   "metadata": {},
   "outputs": [],
   "source": [
    "true_unit_bool1 = np.ones(pool1_output_len * conv1_channel).reshape(-1,1,pool1_output_len, conv1_channel)\n",
    "true_unit_bool2 = np.ones(pool2_output_len * conv2_channel).reshape(-1,1,pool2_output_len, conv2_channel)\n",
    "true_unit_bool3 = np.ones(pool3_output_len * conv3_channel).reshape(-1,1,pool3_output_len, conv3_channel)"
   ]
  },
  {
   "cell_type": "code",
   "execution_count": 57,
   "metadata": {},
   "outputs": [],
   "source": [
    "class conv3_basic_CNN:\n",
    "    def __init__(self, featuremap1, featuremap2, featuremap3,\n",
    "                 conv1_size, conv2_size, conv3_size,\n",
    "                 conv1_stride, conv2_stride, conv3_stride, \n",
    "                 conv1_channel, conv2_channel, conv3_channel,\n",
    "                 pool1_size, pool2_size, pool3_size,\n",
    "                 pool1_stride, pool2_stride, pool3_stride,\n",
    "                 std=0.01, batch_size=64,width=500, height =1, input_channel=3, \n",
    "                 nb_classes=2, l_rate =1e-6,\n",
    "                 reuse = False):\n",
    "        self.std=std\n",
    "        self.batch_size=batch_size\n",
    "        self.height = height\n",
    "        self.width = width\n",
    "        self.input_channel = input_channel\n",
    "        self.l_rate = l_rate\n",
    "        \n",
    "        self.feature1 = featuremap1\n",
    "        self.feature2 = featuremap2\n",
    "        self.feature3 = featuremap3\n",
    "        \n",
    "        self.conv1_size = conv1_size\n",
    "        self.conv2_size = conv2_size\n",
    "        self.conv3_size = conv3_size\n",
    "        \n",
    "        self.conv1_stride = conv1_stride\n",
    "        self.conv2_stride = conv2_stride\n",
    "        self.conv3_stride = conv3_stride\n",
    "        \n",
    "        self.conv1_channel = conv1_channel\n",
    "        self.conv2_channel = conv2_channel\n",
    "        self.conv3_channel = conv3_channel\n",
    "        \n",
    "        self.pool1_size = pool1_size\n",
    "        self.pool2_size = pool2_size\n",
    "        self.pool3_size = pool3_size\n",
    "        \n",
    "        self.pool1_stride = pool1_stride\n",
    "        self.pool2_stride = pool2_stride\n",
    "        self.pool3_stride = pool3_stride\n",
    "        \n",
    "        self.nb_classes = nb_classes\n",
    "\n",
    "        with tf.name_scope('Classifier'):\n",
    "            self.y_ = tf.placeholder(tf.float32, [None, self.nb_classes], name='truth')\n",
    "            self.x =tf.placeholder(tf.float32, [None, 1,trainX.shape[2],trainX.shape[3]],name='x')\n",
    "            self.keep_prob1 = tf.placeholder(tf.float32,name=\"keep_probability1\")\n",
    "            self.keep_prob2 = tf.placeholder(tf.float32,name=\"keep_probability2\")\n",
    "            self.keep_prob3 = tf.placeholder(tf.float32,name=\"keep_probability3\")\n",
    "            \n",
    "            self.unit_bool1 = tf.placeholder(tf.float32, [None, 1,self.feature1,self.conv1_channel], name=\"unit_bool1\")\n",
    "            self.unit_bool2 = tf.placeholder(tf.float32, [None, 1,self.feature2,self.conv2_channel], name=\"unit_bool2\")\n",
    "            self.unit_bool3 = tf.placeholder(tf.float32, [None, 1,self.feature3,self.conv3_channel], name=\"unit_bool3\")\n",
    "\n",
    "        # keep prob가 1보다 작으면, 드랍아웃을 한다는 의미\n",
    "        #self.dropout_bool = True#tf.cond(self.keep_prob < 1.0, lambda: tf.constant(True), lambda: tf.constant(False))\n",
    "        \n",
    "        self.logits = self.build_model()\n",
    "\n",
    "        # Define loss and optimizer, minimize the squared error\n",
    "        self.cross_entropy = tf.nn.softmax_cross_entropy_with_logits_v2(logits = self.y, labels= self.y_)\n",
    "        self.cost = tf.reduce_mean(self.cross_entropy)\n",
    "        self.optimizer = tf.train.AdamOptimizer(learning_rate=self.l_rate).minimize(self.cost)\n",
    "\n",
    "        self.correct_pred = tf.equal(tf.argmax(self.y, 1), tf.argmax(self.y_, 1))\n",
    "        self.accuracy = tf.reduce_mean(tf.cast(self.correct_pred, tf.float32))\n",
    "\n",
    "        init = tf.global_variables_initializer()\n",
    "\n",
    "        # Launch the session\n",
    "        self.session_conf = tf.ConfigProto()\n",
    "        self.session_conf.gpu_options.allow_growth = True\n",
    "        self.sess = tf.InteractiveSession(config=self.session_conf)\n",
    "        self.sess.run(init)\n",
    "\n",
    "        self.saver = tf.train.Saver(max_to_keep=None)\n",
    "\n",
    "    def build_model(self):\n",
    "        xavier = tf.contrib.layers.xavier_initializer_conv2d()  \n",
    "        self.conv1_weights = tf.get_variable(name=\"c1\", initializer=xavier, shape=[1, self.conv1_size, trainX.shape[-1], conv1_channel])\n",
    "        self.conv1_biases = tf.Variable(tf.zeros([conv1_channel]))\n",
    "        self.conv2_weights = tf.get_variable(name=\"c2\", initializer=xavier, shape=[1, self.conv2_size, self.conv1_channel, conv2_channel])\n",
    "        self.conv2_biases = tf.Variable(tf.zeros([conv2_channel]))\n",
    "        self.conv3_weights = tf.get_variable(name=\"c3\", initializer=xavier, shape=[1, self.conv3_size, self.conv2_channel, conv3_channel])\n",
    "        self.conv3_biases = tf.Variable(tf.zeros([conv3_channel]))\n",
    "        self.fc1_weights = tf.Variable(tf.truncated_normal([1 * self.feature3  * self.conv3_channel, self.nb_classes], stddev=0.1))\n",
    "        self.fc1_biases = tf.Variable(tf.zeros([self.nb_classes]))\n",
    "\n",
    "        with tf.variable_scope('layer0'):\n",
    "            #b, h, w, c\n",
    "            self.reshaped_input = tf.reshape(self.x, [-1, 1, trainX.shape[2],trainX.shape[3]], name=\"absolute_input\")\n",
    "        # Convolutional Layer #1 and Pooling Layer #1\n",
    "        with tf.variable_scope('layer1'):\n",
    "            self.conv1 = tf.nn.conv2d(self.reshaped_input, self.conv1_weights, strides=[1, 1, self.conv1_stride, 1], padding='SAME')\n",
    "            self.relu1 = tf.nn.relu(tf.nn.bias_add(self.conv1, self.conv1_biases))\n",
    "            self.dropout1 = tf.nn.dropout(self.relu1, self.keep_prob1)\n",
    "            self.pool1 =  tf.multiply(tf.nn.max_pool(self.dropout1, ksize=[1, 1, self.pool1_size, 1], strides=[1, 1, self.pool1_stride, 1],  padding='VALID'),\n",
    "                                      self.unit_bool1)\n",
    "            \n",
    "\n",
    "        # Convolutional Layer #1 and Pooling Layer #2\n",
    "        with tf.variable_scope('layer2'):\n",
    "            self.conv2 = tf.nn.conv2d(self.pool1, self.conv2_weights, strides=[1, 1, self.conv2_stride, 1], padding='SAME')\n",
    "            self.relu2 = tf.nn.relu(tf.nn.bias_add(self.conv2, self.conv2_biases))\n",
    "            self.dropout2 = tf.nn.dropout(self.relu2, self.keep_prob2)\n",
    "            self.pool2 =  tf.multiply(tf.nn.max_pool(self.dropout2, ksize=[1, 1, self.pool2_size, 1], strides=[1, 1, self.pool2_stride, 1],  padding='VALID'),\n",
    "                                      self.unit_bool2)\n",
    "\n",
    "        #Convolutional Layer #1 and Pooling Layer #3\n",
    "        with tf.variable_scope('layer3'):\n",
    "            self.conv3 = tf.nn.conv2d(self.pool2, self.conv3_weights, strides=[1, 1, self.conv3_stride, 1], padding='SAME')\n",
    "            self.relu3 = tf.nn.relu(tf.nn.bias_add(self.conv3, self.conv3_biases))\n",
    "            self.dropout3 = tf.nn.dropout(self.relu3, self.keep_prob3)\n",
    "            self.pool3 =  tf.multiply(tf.nn.max_pool(self.dropout3, ksize=[1, 1, self.pool3_size, 1], strides=[1, 1, self.pool3_stride, 1],  padding='VALID'),\n",
    "                                      self.unit_bool3)\n",
    "\n",
    "        # Dense Layer with Relu\n",
    "        with tf.variable_scope('layer4'):\n",
    "            self.pool_shape = self.pool3.get_shape().as_list()\n",
    "            self.reshaped = tf.reshape(self.pool3, [-1, self.pool_shape[1] * self.pool_shape[2] * self.pool_shape[3]])\n",
    "            self.y = tf.add(tf.matmul(self.reshaped, self.fc1_weights), self.fc1_biases, name=\"absolute_output\")\n",
    "            self.prediction = tf.nn.softmax(self.y)\n",
    "            \n",
    "        return self.y\n",
    "\n",
    "\n",
    "    def train(self, data, target):\n",
    "        opt, cost ,acc = self.sess.run((self.optimizer,self.cost, self.accuracy ), \n",
    "                             feed_dict={self.y_: target,\n",
    "                                        self.x: data,\n",
    "                                       self.keep_prob1: 1.0,\n",
    "                                       self.keep_prob2: 1.0,\n",
    "                                       self.keep_prob3: 1.0,\n",
    "                                       self.unit_bool1 : true_unit_bool1,\n",
    "                                       self.unit_bool2 : true_unit_bool2,\n",
    "                                       self.unit_bool3 : true_unit_bool3})\n",
    "        return cost,acc\n",
    "\n",
    "    def test(self, data, target):\n",
    "        cost,acc = self.sess.run((self.cost,self.accuracy),\n",
    "                             feed_dict={self.y_: target,\n",
    "                                        self.x: data,\n",
    "                                        self.keep_prob1: 1.0,\n",
    "                                       self.keep_prob2: 1.0,\n",
    "                                       self.keep_prob3: 1.0,\n",
    "                                       self.unit_bool1 : true_unit_bool1,\n",
    "                                       self.unit_bool2 : true_unit_bool2,\n",
    "                                       self.unit_bool3 : true_unit_bool3})\n",
    "        return cost,acc\n",
    "\n",
    "    def get_output(self, output,data, keep_prob):\n",
    "        output =  self.sess.run((output), feed_dict={self.x: data,self.keep_prob1: 1.0,\n",
    "                                       self.keep_prob2: 1.0,\n",
    "                                       self.keep_prob3: 1.0,\n",
    "                                       self.unit_bool1 : true_unit_bool1,\n",
    "                                       self.unit_bool2 : true_unit_bool2,\n",
    "                                       self.unit_bool3 : true_unit_bool3})\n",
    "        return output\n",
    "    \n",
    "    def predict(self, data, keep_prob):\n",
    "\n",
    "        prediction =  self.sess.run((self.prediction), feed_dict={self.x: data,self.keep_prob1: 1.0,\n",
    "                                       self.keep_prob2: 1.0,\n",
    "                                       self.keep_prob3: 1.0,\n",
    "                                       self.unit_bool1 : true_unit_bool1,\n",
    "                                       self.unit_bool2 : true_unit_bool2,\n",
    "                                       self.unit_bool3 : true_unit_bool3})\n",
    "        return prediction\n",
    "\n",
    "    def save(self, save_path='./model.ckpt'):\n",
    "        saved_path = self.saver.save(self.sess, save_path)\n",
    "        print(\"Model saved in file: %s\"%saved_path)\n",
    "\n",
    "    def load(self, load_path = './model.ckpt'):\n",
    "        self.saver.restore(self.sess, load_path)\n",
    "        print(\"Model restored\")\n",
    "\n",
    "    def terminate(self):\n",
    "        self.sess.close()\n",
    "        tf.reset_default_graph()"
   ]
  },
  {
   "cell_type": "code",
   "execution_count": 58,
   "metadata": {},
   "outputs": [
    {
     "name": "stdout",
     "output_type": "stream",
     "text": [
      "8\n"
     ]
    }
   ],
   "source": [
    "from numpy import unique\n",
    "nb_classes =trainY.shape[1]\n",
    "print (nb_classes)"
   ]
  },
  {
   "cell_type": "markdown",
   "metadata": {},
   "source": [
    "<font color='red'> turn off 구조는 마지막 convolution layer activation output 에 weight를 elementwise multiply 구조.\n",
    "train, test시에는 이 weight를 모두 1로 고정하며,\n",
    "prdiction 시에는 convolution layer activation output에서 상위 T%를 turn off 시키며 accuracy의 변화가 A 이상인 경우를\n",
    "threshold로 정하기 위해 이러한 모델 구조가 설정되었습니다.</font>\n",
    "\n",
    "<font color='blue'> CNN_MC_dropout_last_conv_turnoff</font> 모델은 상위 T%의 output을 가지는 last convolution output을 0으로 turn off 시키는 구조입니다.\n",
    "\n",
    "반면, <font color='blue'> CNN_MC_dropout_input_turnoff</font> 모델은 상위 T%의 output을 가지는 last convolution output에 매칭되는(하이라이트 되는 인풋)을 0으로 turn off 시키는 구조입니다."
   ]
  },
  {
   "cell_type": "code",
   "execution_count": 59,
   "metadata": {},
   "outputs": [],
   "source": [
    "\n",
    "tf.reset_default_graph()"
   ]
  },
  {
   "cell_type": "code",
   "execution_count": 60,
   "metadata": {
    "colab": {},
    "colab_type": "code",
    "id": "Jny6_y8cxg6h"
   },
   "outputs": [],
   "source": [
    "#if 'MC_dropout_model' in globals()\n",
    "try:\n",
    "    MC_dropout_model.sess.close()\n",
    "except:\n",
    "    pass\n",
    "tf.reset_default_graph()\n",
    "MC_dropout_model = conv3_basic_CNN(featuremap1=pool1_output_len, featuremap2=pool2_output_len, featuremap3=pool3_output_len,\n",
    "                                      conv1_size=conv1_size, conv2_size=conv2_size, conv3_size=conv3_size,\n",
    "                                      conv1_channel=conv1_channel, conv2_channel=conv2_channel, conv3_channel=conv3_channel,\n",
    "                                       conv1_stride=conv1_stride, conv2_stride=conv2_stride, conv3_stride=conv3_stride,\n",
    "                                       pool1_size=pool1_size, pool2_size=pool2_size, pool3_size=pool3_size,\n",
    "                                       pool1_stride=pool1_stride, pool2_stride=pool2_stride, pool3_stride=pool3_stride,\n",
    "                                       \n",
    "                                      height=height,width= width, input_channel=input_channel ,nb_classes=nb_classes,\n",
    "                                 std=std,batch_size=batch_size,l_rate=l_rate)\n"
   ]
  },
  {
   "cell_type": "code",
   "execution_count": 61,
   "metadata": {
    "colab": {},
    "colab_type": "code",
    "id": "8i5mZbLexg6j",
    "outputId": "eb6c9052-804c-4e42-8eb5-e09b35fe7a10",
    "scrolled": true
   },
   "outputs": [
    {
     "name": "stdout",
     "output_type": "stream",
     "text": [
      "Tensor(\"layer0/absolute_input:0\", shape=(?, 1, 945, 1), dtype=float32)\n",
      "[layer1] - MC dropout\n",
      "Tensor(\"layer1/Conv2D:0\", shape=(?, 1, 473, 32), dtype=float32)\n",
      "Tensor(\"layer1/Relu:0\", shape=(?, 1, 473, 32), dtype=float32)\n",
      "Tensor(\"layer1/dropout/mul:0\", shape=(?, 1, 473, 32), dtype=float32)\n",
      "Tensor(\"layer1/Mul:0\", shape=(?, 1, 117, 32), dtype=float32)\n",
      "[layer2] - MC dropout\n",
      "Tensor(\"layer2/Conv2D:0\", shape=(?, 1, 117, 64), dtype=float32)\n",
      "Tensor(\"layer2/Relu:0\", shape=(?, 1, 117, 64), dtype=float32)\n",
      "Tensor(\"layer2/dropout/mul:0\", shape=(?, 1, 117, 64), dtype=float32)\n",
      "Tensor(\"layer2/Mul:0\", shape=(?, 1, 57, 64), dtype=float32)\n",
      "[layer3] - MC dropout\n",
      "Tensor(\"layer3/Conv2D:0\", shape=(?, 1, 57, 128), dtype=float32)\n",
      "Tensor(\"layer3/Relu:0\", shape=(?, 1, 57, 128), dtype=float32)\n",
      "Tensor(\"layer3/dropout/mul:0\", shape=(?, 1, 57, 128), dtype=float32)\n",
      "Tensor(\"layer3/Mul:0\", shape=(?, 1, 27, 128), dtype=float32)\n",
      "[layer4]\n",
      "Tensor(\"layer4/Reshape:0\", shape=(?, 3456), dtype=float32)\n",
      "Tensor(\"layer4/absolute_output:0\", shape=(?, 8), dtype=float32)\n"
     ]
    }
   ],
   "source": [
    "print (MC_dropout_model.reshaped_input)\n",
    "\n",
    "print ('[layer1] - MC dropout')\n",
    "print (MC_dropout_model.conv1)\n",
    "print (MC_dropout_model.relu1)\n",
    "print (MC_dropout_model.dropout1)\n",
    "print (MC_dropout_model.pool1)\n",
    "\n",
    "print ('[layer2] - MC dropout')\n",
    "print (MC_dropout_model.conv2)\n",
    "print (MC_dropout_model.relu2)\n",
    "print (MC_dropout_model.dropout2)\n",
    "print (MC_dropout_model.pool2)\n",
    "print ('[layer3] - MC dropout')\n",
    "print (MC_dropout_model.conv3)\n",
    "print (MC_dropout_model.relu3)\n",
    "print (MC_dropout_model.dropout3)\n",
    "print (MC_dropout_model.pool3)\n",
    "\n",
    "\n",
    "print ('[layer4]')\n",
    "print (MC_dropout_model.reshaped)\n",
    "print (MC_dropout_model.y)"
   ]
  },
  {
   "cell_type": "markdown",
   "metadata": {
    "colab_type": "text",
    "id": "LmWRfeSOxg6l"
   },
   "source": [
    "# 4. Training"
   ]
  },
  {
   "cell_type": "code",
   "execution_count": 62,
   "metadata": {
    "colab": {},
    "colab_type": "code",
    "id": "4pgl8PLBxg6m"
   },
   "outputs": [],
   "source": [
    "import time\n",
    "import os\n",
    "import numpy as np"
   ]
  },
  {
   "cell_type": "code",
   "execution_count": 63,
   "metadata": {
    "colab": {},
    "colab_type": "code",
    "id": "fLBIHIbqxg6o",
    "outputId": "47abf10c-e76a-4462-a56c-3d0dbfd77cbd"
   },
   "outputs": [
    {
     "name": "stdout",
     "output_type": "stream",
     "text": [
      "UWaveGestureLibraryAll_CNN_conv3_1e-05_64\n"
     ]
    }
   ],
   "source": [
    "save_path = './model/'+data_name\n",
    "model_name = data_name+\"_CNN_conv3_\"+str(l_rate)+'_'+str(batch_size)\n",
    "print (model_name)"
   ]
  },
  {
   "cell_type": "markdown",
   "metadata": {
    "colab_type": "text",
    "id": "vlFgsib-xg64"
   },
   "source": [
    "# 5.check the result"
   ]
  },
  {
   "cell_type": "markdown",
   "metadata": {
    "colab_type": "text",
    "id": "KgcHlnjVxg65"
   },
   "source": [
    "### with loss and accuracy graph"
   ]
  },
  {
   "cell_type": "code",
   "execution_count": 66,
   "metadata": {},
   "outputs": [],
   "source": [
    "from visualization import plot_train_history"
   ]
  },
  {
   "cell_type": "code",
   "execution_count": 67,
   "metadata": {
    "colab": {},
    "colab_type": "code",
    "id": "q8-lRSQsxg66"
   },
   "outputs": [],
   "source": [
    "train_history = pd.read_csv(os.path.join(save_path,model_name,\"history_train.csv\"),index_col=0)\n",
    "valid_history = pd.read_csv(os.path.join(save_path,model_name,\"history_valid.csv\"),index_col=0)"
   ]
  },
  {
   "cell_type": "code",
   "execution_count": 68,
   "metadata": {},
   "outputs": [
    {
     "name": "stdout",
     "output_type": "stream",
     "text": [
      "save ./model/UWaveGestureLibraryAll/UWaveGestureLibraryAll_CNN_conv3_1e-05_64/loss_graph.png\n",
      "save ./model/UWaveGestureLibraryAll/UWaveGestureLibraryAll_CNN_conv3_1e-05_64/acc_graph.png\n"
     ]
    },
    {
     "data": {
      "image/png": "[encoded data removed]",
      "text/plain": [
       "<matplotlib.figure.Figure at 0x7ff1ec772750>"
      ]
     },
     "metadata": {},
     "output_type": "display_data"
    }
   ],
   "source": [
    "plot_train_history(train_df = train_history,\n",
    "                   valid_df = valid_history,\n",
    "                   save_path = os.path.join(save_path,model_name))"
   ]
  },
  {
   "cell_type": "code",
   "execution_count": 69,
   "metadata": {},
   "outputs": [
    {
     "name": "stdout",
     "output_type": "stream",
     "text": [
      "save ./model/UWaveGestureLibraryAll/UWaveGestureLibraryAll_CNN_conv3_1e-05_64/loss_graph.png\n",
      "save ./model/UWaveGestureLibraryAll/UWaveGestureLibraryAll_CNN_conv3_1e-05_64/acc_graph.png\n"
     ]
    },
    {
     "data": {
      "image/png": "[encoded data removed]",
      "text/plain": [
       "<matplotlib.figure.Figure at 0x7ff1f4774390>"
      ]
     },
     "metadata": {},
     "output_type": "display_data"
    }
   ],
   "source": [
    "plot_train_history(train_df = train_history,\n",
    "                   valid_df = valid_history,\n",
    "                   save_path = os.path.join(save_path,model_name))"
   ]
  },
  {
   "cell_type": "code",
   "execution_count": 70,
   "metadata": {
    "colab": {},
    "colab_type": "code",
    "id": "N9JDsIyvxg7B",
    "outputId": "126b0146-dbdc-4ca8-de1d-9b14572a8bf1"
   },
   "outputs": [
    {
     "name": "stdout",
     "output_type": "stream",
     "text": [
      "168\n",
      "error: 0.0880859587342\n",
      "INFO:tensorflow:Restoring parameters from ./model/UWaveGestureLibraryAll/UWaveGestureLibraryAll_CNN_conv3_1e-05_64/168.ckpt\n",
      "Model restored\n"
     ]
    }
   ],
   "source": [
    "bestepoch = int(np.argmin(valid_history['loss'].values))\n",
    "print( bestepoch)\n",
    "\n",
    "error = valid_history.loc[bestepoch,'loss']\n",
    "print (\"error: {}\".format(error))\n",
    "\n",
    "MC_dropout_model.load(os.path.join(save_path,model_name,str(bestepoch)+'.ckpt'))"
   ]
  },
  {
   "cell_type": "markdown",
   "metadata": {},
   "source": [
    "# MC LRP"
   ]
  },
  {
   "cell_type": "code",
   "execution_count": 75,
   "metadata": {},
   "outputs": [],
   "source": [
    "from tensorflow.python.ops import nn_ops, gen_nn_ops"
   ]
  },
  {
   "cell_type": "code",
   "execution_count": 76,
   "metadata": {},
   "outputs": [],
   "source": [
    "def lrp(F, lowest, highest, graph=None, return_flist=False):\n",
    "    \"\"\"\n",
    "        Accepts a final output, and propagates back from there to compute LRP over a tensorflow graph. \n",
    "        Performs a Taylor Decomp at each layer to assess the relevances of each neuron at that layer\n",
    "    \"\"\"\n",
    "    #Assumptions:\n",
    "        #all conv strides are [1,1,1,1]\n",
    "        #all pool strides are [1,2,2,1]\n",
    "        #all pool/conv padding is SAME\n",
    "        #only reshaping that happens is after a pool layer (pool -> fc) or a conv layer (conv -> fc)\n",
    "    F_list = []\n",
    "    traversed, graph, graph_dict, var_dict = get_traversed(graph=graph)\n",
    "    for n in traversed:\n",
    "        val_name = next(I for I in graph_dict[n].input if I in traversed).split(\"/read\")[0] + \":0\"\n",
    "        X = graph.get_tensor_by_name(val_name)      \n",
    "        if graph_dict[n].op == \"MatMul\":\n",
    "            weight_name = next(I for I in graph_dict[n].input if not I in traversed).split(\"/read\")[0] + \":0\"\n",
    "            W = var_dict[weight_name]\n",
    "            if \"layer0/absolute_input\" in graph_dict[n].input:\n",
    "                F = fprop_first(F, W, X, lowest, highest)\n",
    "                F_list.append(F)\n",
    "                break\n",
    "            else:\n",
    "                F = fprop(F, W, X) \n",
    "                F_list.append(F)\n",
    "        elif graph_dict[n].op == \"MaxPool\" or graph_dict[n].op ==  \"MaxPoolWithArgmax\":\n",
    "            if n ==u'layer3/MaxPool':\n",
    "                strides=[1,1,pool3_stride,1]\n",
    "                ksize=[1,1,pool3_size,1]\n",
    "                print(\"MaxPool3 {},{}\".format(ksize,strides))\n",
    "            elif n ==u'layer2/MaxPool':\n",
    "                strides=[1,1,pool2_stride,1]\n",
    "                ksize=[1,1,pool2_size,1]\n",
    "                print(\"MaxPool2 {},{}\".format(ksize,strides))\n",
    "            elif n ==u'layer1/MaxPool':\n",
    "                strides=[1,1,pool1_stride,1]\n",
    "                ksize=[1,1,pool1_size,1]\n",
    "                print(\"MaxPool1 {},{}\".format(ksize,strides))\n",
    "            F = fprop_pool(F, X, strides= strides, ksize=ksize)     \n",
    "            F_list.append(F)\n",
    "        elif graph_dict[n].op == \"Conv2D\":\n",
    "            weight_name = next(I for I in graph_dict[n].input if not I in traversed).split(\"/read\")[0] + \":0\"\n",
    "            W = var_dict[weight_name]\n",
    "\n",
    "            if \"layer0/absolute_input\" in graph_dict[n].input:\n",
    "                print(\"layer1/Conv2D {}\".format([1,1,conv1_stride,1]))\n",
    "                F = fprop_conv_first(F, W, X, lowest, highest,strides = [1,1,conv1_stride,1])\n",
    "                #F = fprop_conv_first2(F, W, X,strides = [1,1,conv1_stride,1])\n",
    "                F_list.append(F)\n",
    "                break\n",
    "            else:\n",
    "                if u'layer3/Conv2D' == n:\n",
    "                    strides = [1,1,conv3_stride,1]\n",
    "                    print(\"layer3/Conv2D {}\".format(strides))\n",
    "                elif u'layer2/Conv2D' == n:\n",
    "                    strides = [1,1,conv2_stride,1]\n",
    "                    print(\"layer2/Conv2D {}\".format(strides))\n",
    "                \n",
    "                F = fprop_conv(F, W, X, strides = strides) \n",
    "                F_list.append(F)\n",
    "    if return_flist:\n",
    "        return F_list\n",
    "    else:\n",
    "        return F\n",
    "\n",
    "def get_traversed(graph = None):\n",
    "    #Get the graph and graph traversal\n",
    "    graph = tf.get_default_graph() if graph is None else graph\n",
    "    graph_dict = {node.name:node for node in graph.as_graph_def().node}\n",
    "    var_dict = {v.name:v.value() for v in tf.get_collection(tf.GraphKeys.VARIABLES)}\n",
    "    return traverse(graph_dict[\"layer4/absolute_output\"], [], graph_dict), graph, graph_dict, var_dict\n",
    "\n",
    "\n",
    "def traverse(node, L, graph_dict):\n",
    "    #Depth First Search the Network Graph\n",
    "    L.append(node.name)\n",
    "    if \"layer0/absolute_input\" in node.name:\n",
    "        return L\n",
    "    inputs = node.input\n",
    "    for nodename in inputs:\n",
    "        if not traverse(graph_dict[nodename], L, graph_dict) is None:\n",
    "            return L\n",
    "    return None\n",
    "\n",
    "def fprop_first(F, W, X, lowest, highest):\n",
    "    #Propagate from last feedforward layer to input\n",
    "    W,V,U = W,tf.maximum(0.0,W), tf.minimum(0.0,W)\n",
    "    X,L,H = X, X*0+lowest, X*0+highest\n",
    "\n",
    "    Z = tf.matmul(X, W)-tf.matmul(L, V)-tf.matmul(H, U)+1e-9\n",
    "    print(Z.shape)\n",
    "    S = F/Z\n",
    "    print(S.shape)\n",
    "    F = X*tf.matmul(S,tf.transpose(W))-L*tf.matmul(S, tf.transpose(V))-H*tf.matmul(S,tf.transpose(U))\n",
    "    print(F.shape)\n",
    "    return F\n",
    "\n",
    "def fprop(F, W, X):\n",
    "    #Propagate over feedforward layer\n",
    "    V = tf.maximum(0.0, W)\n",
    "    \n",
    "    Z = tf.matmul(X, V)+1e-9;\n",
    "    S = F/Z\n",
    "    C = tf.matmul(S, tf.transpose(V))        \n",
    "    F = X*C\n",
    "    return F\n",
    "\n",
    "def fprop_conv_first(F, W, X, lowest, highest, strides=None, padding='SAME'):\n",
    "    #Propagate from last conv layer to input\n",
    "    strides = [1, 1, 1, 1] if strides is None else strides\n",
    "\n",
    "    Wn = tf.minimum(0.0, W)\n",
    "    Wp = tf.maximum(0.0, W)\n",
    "    \n",
    "    print(Wp.shape)\n",
    "\n",
    "    X, L, H = X, X*0+lowest, X*0+highest\n",
    "\n",
    "    c  = tf.nn.conv2d(X, W, strides, padding)\n",
    "    cp = tf.nn.conv2d(H, Wp, strides, padding)\n",
    "    cn = tf.nn.conv2d(L, Wn, strides, padding)\n",
    "    Z = c - cp - cn + 1e-9\n",
    "    print(Z.shape)\n",
    "    S = F/Z\n",
    "    print(S.shape)\n",
    "    g  = nn_ops.conv2d_backprop_input(tf.shape(X), W,  S, strides, padding)\n",
    "    gp = nn_ops.conv2d_backprop_input(tf.shape(X), Wp, S, strides, padding)\n",
    "    gn = nn_ops.conv2d_backprop_input(tf.shape(X), Wn, S, strides, padding)\n",
    "    print(g.shape)\n",
    "    F = X*g - L*gp - H*gn\n",
    "    \n",
    "    return F\n",
    "\n",
    "def fprop_conv_first2(F, W, X, strides=None, padding='SAME'):\n",
    "    #Propagate from last conv layer to input\n",
    "\n",
    "    S = F/tf.multiply(W,W)\n",
    "    print(S.shape)\n",
    "    g  = nn_ops.conv2d_backprop_input(tf.shape(X), W,  S, strides, padding)\n",
    "    print(g.shape)\n",
    "\n",
    "    F = X*g\n",
    "    \n",
    "    return F\n",
    "\n",
    "\n",
    "def fprop_conv(F, W, X, strides=None, padding='SAME'):\n",
    "    #Propagate over conv layer\n",
    "    \n",
    "    xshape = X.get_shape().as_list()\n",
    "    fshape = F.get_shape().as_list()\n",
    "\n",
    "    if len(xshape) != len(fshape):\n",
    "        F = tf.reshape(F, (-1, xshape[1], xshape[2], fshape[-1]/(xshape[1]*xshape[2])))\n",
    "    strides = [1, 1, 1, 1] if strides is None else strides\n",
    "        \n",
    "    W = tf.maximum(0.0, W)\n",
    "\n",
    "    Z = tf.nn.conv2d(X, W, strides, padding) + 1e-9 \n",
    "    S = F/Z\n",
    "    \n",
    "    C = nn_ops.conv2d_backprop_input(tf.shape(X), W,  S, strides, padding)\n",
    "\n",
    "    F = X*C\n",
    "    return F\n",
    "\n",
    "def fprop_pool(F, X, strides=None, ksize=None, padding='VALID'):\n",
    "    #Propagate over pool layer\n",
    "    xshape = X.get_shape().as_list()\n",
    "    fshape = F.get_shape().as_list()\n",
    "    if len(xshape) != len(fshape):\n",
    "        F = tf.reshape(F, (-1, xshape[1], fshape[1]//xshape[3], xshape[3]))\n",
    "    ksize = [1, 2, 2, 1]  if ksize is None else ksize\n",
    "    strides = [1, 2, 2, 1]  if strides is None else strides\n",
    "    \n",
    "    Z = tf.nn.max_pool(X, strides=strides, ksize=ksize, padding=padding) + 1e-9\n",
    "    S = F / Z\n",
    "    C = gen_nn_ops._max_pool_grad(X, Z, S, ksize, strides, padding)    \n",
    "    F = X*C\n",
    "\n",
    "    print (F.get_shape().as_list())\n",
    "    \n",
    "    return F\n",
    "\n",
    "\n",
    "def visualize(im_list, xval):\n",
    "    #Visualize the LRPs\n",
    "    for i in range(len(im_list[0])):\n",
    "        plt.figure()\n",
    "        plt.subplot(1,1+len(im_list),1)\n",
    "        plt.title(\"Image\")\n",
    "        plt.imshow(xval[i])\n",
    "        \n",
    "        for j in range(len(im_list)):\n",
    "            plt.subplot(1,1+len(im_list),2+j)\n",
    "            plt.title(\"LRP for network {}\".format(j))\n",
    "            I = np.mean(np.maximum(im_list[j][i], 0), -1)\n",
    "            I = np.minimum(I, np.percentile(I, 99))\n",
    "            I = I/np.max(I)\n",
    "            print (\"np.linalg.norm(I)\", np.linalg.norm(I))\n",
    "            plt.imshow(I, cmap=\"gray\")\n",
    "\n",
    "        plt.show()\n",
    "    return im_list\n"
   ]
  },
  {
   "cell_type": "code",
   "execution_count": 77,
   "metadata": {},
   "outputs": [],
   "source": [
    "from matplotlib.pyplot import cm"
   ]
  },
  {
   "cell_type": "markdown",
   "metadata": {},
   "source": [
    "# original LRP"
   ]
  },
  {
   "cell_type": "markdown",
   "metadata": {},
   "source": [
    "# MC unit LRP"
   ]
  },
  {
   "cell_type": "code",
   "execution_count": 78,
   "metadata": {},
   "outputs": [
    {
     "name": "stdout",
     "output_type": "stream",
     "text": [
      "WARNING:tensorflow:VARIABLES collection name is deprecated, please use GLOBAL_VARIABLES instead; VARIABLES will be removed after 2017-03-02.\n",
      "MaxPool3 [1, 1, 4, 1],[1, 1, 2, 1]\n",
      "[None, 1, 57, 128]\n",
      "layer3/Conv2D [1, 1, 1, 1]\n",
      "MaxPool2 [1, 1, 4, 1],[1, 1, 2, 1]\n",
      "[None, 1, 117, 64]\n",
      "layer2/Conv2D [1, 1, 1, 1]\n",
      "MaxPool1 [1, 1, 8, 1],[1, 1, 4, 1]\n",
      "[None, 1, 473, 32]\n",
      "layer1/Conv2D [1, 1, 2, 1]\n",
      "(1, 15, 1, 32)\n",
      "(?, 1, 473, 32)\n",
      "(?, 1, 473, 32)\n",
      "(?, 1, 945, 1)\n"
     ]
    }
   ],
   "source": [
    "F_list = lrp(MC_dropout_model.y*MC_dropout_model.y_, -1, 1, return_flist=True)"
   ]
  },
  {
   "cell_type": "code",
   "execution_count": 79,
   "metadata": {},
   "outputs": [],
   "source": [
    "import random\n",
    "random.seed(1003)"
   ]
  },
  {
   "cell_type": "code",
   "execution_count": 80,
   "metadata": {},
   "outputs": [],
   "source": [
    "from sklearn.preprocessing import MinMaxScaler"
   ]
  },
  {
   "cell_type": "markdown",
   "metadata": {},
   "source": [
    "whole_lrp_score = F_list[-1].eval(session=MC_dropout_model.sess, feed_dict = {MC_dropout_model.x: trainX[data_idx].reshape(-1,1,trainX.shape[2],trainX.shape[3]), \n",
    "                                                                        MC_dropout_model.y_:trainY[data_idx].reshape(-1,nb_classes),\n",
    "                                                                        MC_dropout_model.keep_prob1 :1.0,\n",
    "                                                                        MC_dropout_model.keep_prob2 :1.0,\n",
    "                                                                        MC_dropout_model.keep_prob3 :1.0,\n",
    "                                                                        MC_dropout_model.unit_bool1: true_unit_bool1,\n",
    "                                                                        MC_dropout_model.unit_bool2: true_unit_bool2,\n",
    "                                                                        MC_dropout_model.unit_bool3: true_unit_bool3})"
   ]
  },
  {
   "cell_type": "markdown",
   "metadata": {},
   "source": [
    "scaler = MinMaxScaler(feature_range=(0,1))"
   ]
  },
  {
   "cell_type": "markdown",
   "metadata": {},
   "source": [
    "whole_lrp_score = scaler.fit_transform(whole_lrp_score.reshape(-1,1))"
   ]
  },
  {
   "cell_type": "markdown",
   "metadata": {},
   "source": [
    "fig = plt.figure(figsize=(15,3))\n",
    "ax = plt.subplot(1,1,1)\n",
    "ax.plot(trainX[data_idx,0,:,input_channel].T,color='black')\n",
    "ax.scatter(range(0,trainX.shape[2]),trainX[data_idx,0,:,input_channel],c = whole_lrp_score.squeeze().T,s=20,cmap=cm.Greens,vmin=0,vmax=0.1 )\n",
    "\n",
    "ax.set_ylim(-8,8)\n",
    "ax.set_xlim([0-10,int(trainX.shape[2])+10])"
   ]
  },
  {
   "cell_type": "code",
   "execution_count": 171,
   "metadata": {},
   "outputs": [],
   "source": [
    "data_idx, input_channel =random.sample(range(len(trainX)),1),0\n",
    "unit = 3"
   ]
  },
  {
   "cell_type": "code",
   "execution_count": 172,
   "metadata": {},
   "outputs": [
    {
     "data": {
      "text/plain": [
       "<matplotlib.text.Text at 0x7ff16c6552d0>"
      ]
     },
     "execution_count": 172,
     "metadata": {},
     "output_type": "execute_result"
    },
    {
     "data": {
      "image/png": "[encoded data removed]",
      "text/plain": [
       "<matplotlib.figure.Figure at 0x7ff16cb5e3d0>"
      ]
     },
     "metadata": {},
     "output_type": "display_data"
    },
    {
     "data": {
      "image/png": "[encoded data removed]",
      "text/plain": [
       "<matplotlib.figure.Figure at 0x7ff16c69af10>"
      ]
     },
     "metadata": {},
     "output_type": "display_data"
    }
   ],
   "source": [
    "false_unit_bool1 = np.zeros(pool1_output_len * conv1_channel).reshape(-1,1,pool1_output_len, conv1_channel)\n",
    "false_unit_bool2 = np.zeros(pool2_output_len * conv2_channel).reshape(-1,1,pool2_output_len, conv2_channel)\n",
    "false_unit_bool3 = np.zeros(pool3_output_len * conv3_channel).reshape(-1,1,pool3_output_len, conv3_channel)\n",
    "false_unit_bool1[:,:,:,unit]=1.0\n",
    "\n",
    "unit_lrp_score =  F_list[-1].eval(session=MC_dropout_model.sess, feed_dict = {MC_dropout_model.x: trainX[data_idx].reshape(-1,1,trainX.shape[2],trainX.shape[3]), \n",
    "                                                                    MC_dropout_model.y_:trainY[data_idx].reshape(-1,nb_classes),\n",
    "                                                                    MC_dropout_model.keep_prob1 :1.0,\n",
    "                                                                    MC_dropout_model.keep_prob2 :1.0,\n",
    "                                                                    MC_dropout_model.keep_prob3 :1.0,\n",
    "                                                                    MC_dropout_model.unit_bool1: false_unit_bool1,\n",
    "                                                                    MC_dropout_model.unit_bool2: true_unit_bool2,\n",
    "                                                                    MC_dropout_model.unit_bool3: true_unit_bool3})\n",
    "\n",
    "\n",
    "fig = plt.figure(figsize=(15,3))\n",
    "ax = plt.subplot(1,1,1)\n",
    "error = uncertainty.T[input_channel].squeeze()\n",
    "#normalized_mean = scaler.fit_transform(unit_lrp_score.T[input_channel].reshape(-1,1))\n",
    "\n",
    "ax.plot(trainX[data_idx,0,:,input_channel].T,color='grey')\n",
    "ax.scatter(range(0,trainX.shape[2]),trainX[data_idx,0,:,input_channel],c = np.abs(unit_lrp_score),s=20, cmap=cm.Reds,vmin=0,vmax=0.1)\n",
    "\n",
    "\n",
    "ax.set_ylim(-8,8)\n",
    "ax.set_xlim([0-10,int(trainX.shape[2])+10])\n",
    "ax.set_title( \"CNN Hidden Layer1  |  {} Data {} Inputchannel {}   |    Unit {}\".format(data_name, data_idx,input_channel, unit), loc='right')\n",
    "\n",
    "###################3\n",
    "###################\n",
    "dropout_imlist=[]\n",
    "mc_num=300\n",
    "for mc_idx in range(mc_num):\n",
    "    unit_lrp_score =  F_list[-1].eval(session=MC_dropout_model.sess, feed_dict = {MC_dropout_model.x: trainX[data_idx].reshape(-1,1,trainX.shape[2],trainX.shape[3]), \n",
    "                                                                        MC_dropout_model.y_:trainY[data_idx].reshape(-1,nb_classes),\n",
    "                                                                        MC_dropout_model.keep_prob1 :0.5,\n",
    "                                                                        MC_dropout_model.keep_prob2 :1.0,\n",
    "                                                                        MC_dropout_model.keep_prob3 :1.0,\n",
    "                                                                        MC_dropout_model.unit_bool1: false_unit_bool1,\n",
    "                                                                        MC_dropout_model.unit_bool2: true_unit_bool2,\n",
    "                                                                        MC_dropout_model.unit_bool3: true_unit_bool3})\n",
    "    dropout_imlist.append(unit_lrp_score)\n",
    "uncertainty = np.asarray(dropout_imlist).std(axis=0)\n",
    "mean = np.abs(np.asarray(dropout_imlist).mean(axis=0))\n",
    "\n",
    "fig = plt.figure(figsize=(15,3))\n",
    "ax = plt.subplot(1,1,1)\n",
    "error = uncertainty.T[input_channel].squeeze()\n",
    "normalized_mean = scaler.fit_transform(mean.T[input_channel].reshape(-1,1))\n",
    "ax.fill_between(np.arange(0,trainX.shape[2]), (trainX[data_idx,0,:,input_channel].squeeze()-0.5*error), (trainX[data_idx,0,:,input_channel].squeeze()+0.5*error), color='lightseagreen', alpha=0.4)\n",
    "ax.fill_between(np.arange(0,trainX.shape[2]), (trainX[data_idx,0,:,input_channel].squeeze()-1*error), (trainX[data_idx,0,:,input_channel].squeeze()+1*error),  color='lightseagreen', alpha=0.3)\n",
    "ax.fill_between(np.arange(0,trainX.shape[2]), (trainX[data_idx,0,:,input_channel].squeeze()-2*error), (trainX[data_idx,0,:,input_channel].squeeze()+2*error),  color='lightseagreen', alpha=0.2)\n",
    "\n",
    "ax.plot(trainX[data_idx,0,:,input_channel].T,color='grey')\n",
    "ax.scatter(range(0,trainX.shape[2]),trainX[data_idx,0,:,input_channel],c = normalized_mean,s=20, cmap=cm.Reds,vmin=0,vmax=0.1)\n",
    "\n",
    "\n",
    "\n",
    "ax.set_ylim(-8,8)\n",
    "ax.set_xlim([0-10,int(trainX.shape[2])+10])\n",
    "ax.set_title( \"CNN Hidden Layer1  |  {} Data {} Inputchannel {}   |    Unit {}\".format(data_name, data_idx,input_channel, unit), loc='right')"
   ]
  }
 ],
 "metadata": {
  "colab": {
   "name": "model.ipynb",
   "provenance": []
  },
  "kernelspec": {
   "display_name": "Python 2",
   "language": "python",
   "name": "python2"
  },
  "language_info": {
   "codemirror_mode": {
    "name": "ipython",
    "version": 2
   },
   "file_extension": ".py",
   "mimetype": "text/x-python",
   "name": "python",
   "nbconvert_exporter": "python",
   "pygments_lexer": "ipython2",
   "version": "2.7.12"
  }
 },
 "nbformat": 4,
 "nbformat_minor": 1
}
