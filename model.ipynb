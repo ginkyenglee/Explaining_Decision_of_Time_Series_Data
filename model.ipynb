{
 "cells": [
  {
   "cell_type": "code",
   "execution_count": 1,
   "metadata": {
    "colab": {},
    "colab_type": "code",
    "id": "4y7_sbSIxg6E",
    "outputId": "929e3bc6-f359-4add-ce57-077422b03c56"
   },
   "outputs": [
    {
     "name": "stderr",
     "output_type": "stream",
     "text": [
      "/home/gin908/paper_ready/py_36_env/lib/python3.6/site-packages/tensorflow/python/framework/dtypes.py:519: FutureWarning: Passing (type, 1) or '1type' as a synonym of type is deprecated; in a future version of numpy, it will be understood as (type, (1,)) / '(1,)type'.\n",
      "  _np_qint8 = np.dtype([(\"qint8\", np.int8, 1)])\n",
      "/home/gin908/paper_ready/py_36_env/lib/python3.6/site-packages/tensorflow/python/framework/dtypes.py:520: FutureWarning: Passing (type, 1) or '1type' as a synonym of type is deprecated; in a future version of numpy, it will be understood as (type, (1,)) / '(1,)type'.\n",
      "  _np_quint8 = np.dtype([(\"quint8\", np.uint8, 1)])\n",
      "/home/gin908/paper_ready/py_36_env/lib/python3.6/site-packages/tensorflow/python/framework/dtypes.py:521: FutureWarning: Passing (type, 1) or '1type' as a synonym of type is deprecated; in a future version of numpy, it will be understood as (type, (1,)) / '(1,)type'.\n",
      "  _np_qint16 = np.dtype([(\"qint16\", np.int16, 1)])\n",
      "/home/gin908/paper_ready/py_36_env/lib/python3.6/site-packages/tensorflow/python/framework/dtypes.py:522: FutureWarning: Passing (type, 1) or '1type' as a synonym of type is deprecated; in a future version of numpy, it will be understood as (type, (1,)) / '(1,)type'.\n",
      "  _np_quint16 = np.dtype([(\"quint16\", np.uint16, 1)])\n",
      "/home/gin908/paper_ready/py_36_env/lib/python3.6/site-packages/tensorflow/python/framework/dtypes.py:523: FutureWarning: Passing (type, 1) or '1type' as a synonym of type is deprecated; in a future version of numpy, it will be understood as (type, (1,)) / '(1,)type'.\n",
      "  _np_qint32 = np.dtype([(\"qint32\", np.int32, 1)])\n",
      "/home/gin908/paper_ready/py_36_env/lib/python3.6/site-packages/tensorflow/python/framework/dtypes.py:528: FutureWarning: Passing (type, 1) or '1type' as a synonym of type is deprecated; in a future version of numpy, it will be understood as (type, (1,)) / '(1,)type'.\n",
      "  np_resource = np.dtype([(\"resource\", np.ubyte, 1)])\n"
     ]
    }
   ],
   "source": [
    "import pandas as pd\n",
    "import numpy as np\n",
    "from tensorflow.python.ops import nn_ops, gen_nn_ops\n",
    "import tensorflow as tf"
   ]
  },
  {
   "cell_type": "code",
   "execution_count": 2,
   "metadata": {
    "colab": {},
    "colab_type": "code",
    "id": "XNEeKqCOxg6K"
   },
   "outputs": [],
   "source": [
    "class CNN_MC_dropout:\n",
    "    def __init__(self, std=0.01, batch_size=64,width=500, height =1, input_channel=3, nb_classes=2, l_rate =1e-6,reuse = False):\n",
    "        self.std=std\n",
    "        self.batch_size=batch_size\n",
    "        self.height = height\n",
    "        self.width = width\n",
    "        self.input_channel = input_channel\n",
    "        self.l_rate = l_rate\n",
    "        \n",
    "        self.nb_classes = nb_classes\n",
    "\n",
    "        with tf.name_scope('Classifier'):\n",
    "            self.y = tf.placeholder(tf.float32, [None, self.nb_classes], name='y')\n",
    "            self.x = tf.placeholder(tf.float32, [None, self.height,self.width,self.input_channel], name='x')\n",
    "            self.keep_prob = tf.placeholder(tf.float32)\n",
    "            self.is_dropout = tf.placeholder(tf.bool)\n",
    "        \n",
    "        # keep prob가 1보다 작으면, 드랍아웃을 한다는 의미\n",
    "        #self.dropout_bool = True#tf.cond(self.keep_prob < 1.0, lambda: tf.constant(True), lambda: tf.constant(False))\n",
    "        \n",
    "        self.logits = self.build_model()\n",
    "\n",
    "        # Define loss and optimizer, minimize the squared error\n",
    "        self.cross_entropy =  tf.nn.softmax_cross_entropy_with_logits_v2(labels=self.y, logits=self.logits)\n",
    "        self.cost =tf.reduce_mean(self.cross_entropy)\n",
    "        self.optimizer = tf.train.AdamOptimizer(self.l_rate).minimize(self.cost)\n",
    "\n",
    "        self.correct_pred = tf.equal(tf.round(self.prediction),self.y)\n",
    "        self.accuracy = tf.reduce_mean(tf.cast(self.correct_pred, tf.float32))\n",
    "\n",
    "        init = tf.global_variables_initializer()\n",
    "\n",
    "        # Launch the session\n",
    "        self.session_conf = tf.ConfigProto()\n",
    "        self.session_conf.gpu_options.allow_growth = True\n",
    "        self.sess = tf.InteractiveSession(config=self.session_conf)\n",
    "        self.sess.run(init)\n",
    "\n",
    "        self.saver = tf.train.Saver(max_to_keep=None)\n",
    "\n",
    "    def build_model(self):\n",
    "        with tf.variable_scope('layer0'):\n",
    "            #b, h, w, c\n",
    "            self.input = self.x\n",
    "        # Convolutional Layer #1 and Pooling Layer #1\n",
    "        with tf.variable_scope('layer1'):\n",
    "            self.conv1 = tf.layers.conv2d(self.input, 128, [8,1], padding='SAME')\n",
    "            self.batch1 = tf.layers.batch_normalization(self.conv1)\n",
    "            self.relu1 = tf.nn.relu(self.batch1)\n",
    "            self.dropout1 = tf.nn.dropout(self.relu1, self.keep_prob)\n",
    "\n",
    "        # Convolutional Layer #1 and Pooling Layer #2\n",
    "        with tf.variable_scope('layer2'):\n",
    "            self.conv2 = tf.layers.conv2d(self.dropout1, 256, [5,1], padding='SAME')\n",
    "            self.batch2 = tf.layers.batch_normalization(self.conv2)\n",
    "            self.relu2 = tf.nn.relu(self.batch2)\n",
    "            self.dropout2 = tf.nn.dropout(self.relu2, self.keep_prob)\n",
    "\n",
    "        # Convolutional Layer #1 and Pooling Layer #3\n",
    "        with tf.variable_scope('layer3'):\n",
    "            self.conv3 = tf.layers.conv2d(self.dropout2, 128, [3,1], padding='SAME')\n",
    "            self.batch3 = tf.layers.batch_normalization(self.conv3)\n",
    "            self.relu3 = tf.nn.relu(self.batch3)\n",
    "\n",
    "        # Dense Layer with Relu\n",
    "        with tf.variable_scope('layer4'):\n",
    "            #Global Average Pooling\n",
    "            self.GAP = tf.reduce_mean(self.relu3, axis=[1,2])# b,h,w,c\n",
    "            self.logits = tf.layers.dense(self.GAP,self.nb_classes)\n",
    "            self.prediction = tf.nn.softmax(self.logits)\n",
    "            \n",
    "        return self.logits\n",
    "\n",
    "\n",
    "    def train(self, data, target, keep_prob,is_dropout):\n",
    "        opt, cost ,acc = self.sess.run((self.optimizer, self.cost, self.accuracy ), \n",
    "                             feed_dict={self.y: target,\n",
    "                                        self.x: data,\n",
    "                                       self.keep_prob: keep_prob,\n",
    "                                       self.is_dropout : is_dropout})\n",
    "        return cost,acc\n",
    "\n",
    "    def test(self, data, target, keep_prob,is_dropout):\n",
    "        cost,acc = self.sess.run((self.cost,self.accuracy),\n",
    "                             feed_dict={self.y: target,\n",
    "                                        self.x: data,\n",
    "                                       self.keep_prob: keep_prob,\n",
    "                                       self.is_dropout : is_dropout})\n",
    "        return cost,acc\n",
    "\n",
    "    def get_last_conv_output(self, data, keep_prob,is_dropout):\n",
    "        relu3 =  self.sess.run((self.relu3), \n",
    "                             feed_dict={self.x: data,\n",
    "                                       self.keep_prob: keep_prob,\n",
    "                                       self.is_dropout : is_dropout})\n",
    "        return relu3\n",
    "    \n",
    "    def predict(self, data, keep_prob,is_dropout):\n",
    "\n",
    "        prediction =  self.sess.run((self.prediction), \n",
    "                             feed_dict={self.x: data,\n",
    "                                       self.keep_prob: keep_prob,\n",
    "                                       self.is_dropout : is_dropout})\n",
    "        return prediction\n",
    "\n",
    "    def save(self, save_path='./model.ckpt'):\n",
    "        saved_path = self.saver.save(self.sess, save_path)\n",
    "        print(\"Model saved in file: %s\"%saved_path)\n",
    "\n",
    "    def load(self, load_path = './model.ckpt'):\n",
    "        self.saver.restore(self.sess, load_path)\n",
    "        print(\"Model restored\")\n",
    "\n",
    "    def terminate(self):\n",
    "        self.sess.close()\n",
    "        tf.reset_default_graph() "
   ]
  },
  {
   "cell_type": "markdown",
   "metadata": {
    "colab_type": "text",
    "id": "xYklN3iMxg6M"
   },
   "source": [
    "# 1. Data Load\n",
    "### 전처리 width, height, input_channel 정의"
   ]
  },
  {
   "cell_type": "code",
   "execution_count": 3,
   "metadata": {
    "colab": {},
    "colab_type": "code",
    "id": "a2XqoXoUxg6N"
   },
   "outputs": [],
   "source": [
    "import os"
   ]
  },
  {
   "cell_type": "code",
   "execution_count": 4,
   "metadata": {
    "colab": {},
    "colab_type": "code",
    "id": "0ff2wEdexg6P"
   },
   "outputs": [],
   "source": [
    "def readucr(filename):\n",
    "    data = np.loadtxt(filename, delimiter = ',')\n",
    "    Y = data[:,0]\n",
    "    X = data[:,1:]\n",
    "    return X, Y"
   ]
  },
  {
   "cell_type": "code",
   "execution_count": 5,
   "metadata": {
    "colab": {},
    "colab_type": "code",
    "id": "WKzwJVP_xg6R"
   },
   "outputs": [],
   "source": [
    "from pandas import read_csv\n",
    "from numpy import dstack\n",
    "\n",
    "\n",
    "    \n",
    "# load a single file as a numpy array\n",
    "def load_file(filepath):\n",
    "    dataframe = read_csv(filepath, header=None, delim_whitespace=True)\n",
    "    return dataframe.values\n",
    "\n",
    "# load a list of files, such as x, y, z data for a given variable\n",
    "def load_group(filenames, prefix=''):\n",
    "    loaded = list()\n",
    "    for name in filenames:\n",
    "        data = load_file(prefix + name)\n",
    "        loaded.append(data)\n",
    "    # stack group so that features are the 3rd dimension\n",
    "    loaded = dstack(loaded)\n",
    "    return loaded\n",
    "\n",
    "# load a dataset group, such as train or test\n",
    "def load_dataset(group, prefix=''):\n",
    "    filepath = prefix + group + '/Inertial Signals/'\n",
    "    # load all 9 files as a single array\n",
    "    filenames = list()\n",
    "    # total acceleration\n",
    "    filenames += ['total_acc_x_'+group+'.txt', 'total_acc_y_'+group+'.txt', 'total_acc_z_'+group+'.txt']\n",
    "    # body acceleration\n",
    "    filenames += ['body_acc_x_'+group+'.txt', 'body_acc_y_'+group+'.txt', 'body_acc_z_'+group+'.txt']\n",
    "    # body gyroscope\n",
    "    filenames += ['body_gyro_x_'+group+'.txt', 'body_gyro_y_'+group+'.txt', 'body_gyro_z_'+group+'.txt']\n",
    "    # load input data\n",
    "    X = load_group(filenames, filepath)\n",
    "    # load class output\n",
    "    y = load_file(prefix + group + '/y_'+group+'.txt')\n",
    "    return X, y"
   ]
  },
  {
   "cell_type": "code",
   "execution_count": 6,
   "metadata": {},
   "outputs": [
    {
     "name": "stdout",
     "output_type": "stream",
     "text": [
      "batch size:16\n",
      "(7352, 128, 9) (7352, 1)\n",
      "(2947, 128, 9) (2947, 1)\n"
     ]
    }
   ],
   "source": [
    "data_path =\"/home/gin908/data/UCI HAR Dataset/\"\n",
    "\n",
    "# load all train\n",
    "trainx, trainy = load_dataset('train', data_path)\n",
    "batch_size = min(int(trainx.shape[0]/10), 16)\n",
    "print (\"batch size:{}\".format(batch_size))\n",
    "\n",
    "print(trainx.shape, trainy.shape)\n",
    "# load all test\n",
    "testx, testy = load_dataset('test', data_path)\n",
    "print(testx.shape, testy.shape)"
   ]
  },
  {
   "cell_type": "code",
   "execution_count": 7,
   "metadata": {},
   "outputs": [],
   "source": [
    "from pandas import DataFrame\n",
    "# summarize the balance of classes in an output variable column\n",
    "def class_breakdown(data):\n",
    "    # convert the numpy array into a dataframe\n",
    "    df = DataFrame(data)\n",
    "    # group data by the class value and calculate the number of rows\n",
    "    counts = df.groupby(0).size()\n",
    "    # retrieve raw rows\n",
    "    counts = counts.values\n",
    "    # summarize\n",
    "    for i in range(len(counts)):\n",
    "        percent = counts[i] / len(df) * 100\n",
    "        print('Class=%d, total=%d, percentage=%.3f' % (i+1, counts[i], percent))"
   ]
  },
  {
   "cell_type": "code",
   "execution_count": 8,
   "metadata": {
    "colab": {},
    "colab_type": "code",
    "id": "xyupyd-hxg6T",
    "outputId": "dcff2c15-b58d-4c33-989a-d54de283fa66"
   },
   "outputs": [
    {
     "name": "stdout",
     "output_type": "stream",
     "text": [
      "Class=1, total=1226, percentage=16.676\n",
      "Class=2, total=1073, percentage=14.595\n",
      "Class=3, total=986, percentage=13.411\n",
      "Class=4, total=1286, percentage=17.492\n",
      "Class=5, total=1374, percentage=18.689\n",
      "Class=6, total=1407, percentage=19.138\n",
      "Class=1, total=496, percentage=16.831\n",
      "Class=2, total=471, percentage=15.982\n",
      "Class=3, total=420, percentage=14.252\n",
      "Class=4, total=491, percentage=16.661\n",
      "Class=5, total=532, percentage=18.052\n",
      "Class=6, total=537, percentage=18.222\n"
     ]
    }
   ],
   "source": [
    "class_breakdown(trainy)\n",
    "class_breakdown(testy)"
   ]
  },
  {
   "cell_type": "code",
   "execution_count": 9,
   "metadata": {
    "colab": {},
    "colab_type": "code",
    "id": "ROHthjPBxg6V"
   },
   "outputs": [
    {
     "name": "stdout",
     "output_type": "stream",
     "text": [
      "y train shape: (7352, 6)\n",
      "y test shape: (2947, 6)\n"
     ]
    }
   ],
   "source": [
    "hot_encoded_y_train = np.asarray(pd.get_dummies(np.asarray(trainy.flatten())))\n",
    "hot_encoded_y_test = np.asarray(pd.get_dummies(np.asarray(testy.flatten())))\n",
    "print(\"y train shape: {}\".format(hot_encoded_y_train.shape))\n",
    "print(\"y test shape: {}\".format(hot_encoded_y_test.shape))"
   ]
  },
  {
   "cell_type": "code",
   "execution_count": 10,
   "metadata": {
    "colab": {},
    "colab_type": "code",
    "id": "O6OPKVxRxg6X",
    "outputId": "8749c02f-83df-48c8-a352-86bfb8bfdcd4"
   },
   "outputs": [
    {
     "name": "stdout",
     "output_type": "stream",
     "text": [
      "trainX shape:(7352, 1, 128, 9)\n",
      "trainY shape:(7352, 6)\n",
      "validX shape:(1473, 1, 128, 9)\n",
      "validY shape:(1473, 6)\n",
      "testX shape:(1474, 1, 128, 9)\n",
      "testY shape:(1474, 6)\n"
     ]
    }
   ],
   "source": [
    "trainX = trainx[:, np.newaxis, :]\n",
    "trainY = hot_encoded_y_train\n",
    "\n",
    "validX =testx[:len(testx)//2,np.newaxis,:]\n",
    "validY= hot_encoded_y_test[:len(testx)//2]\n",
    "\n",
    "testX = testx[len(testx)//2:,np.newaxis,:]\n",
    "testY = hot_encoded_y_test[len(testx)//2:]\n",
    "\n",
    "print (\"trainX shape:{}\".format(trainX.shape))\n",
    "print (\"trainY shape:{}\".format(trainY.shape))\n",
    "print (\"validX shape:{}\".format(validX.shape))\n",
    "print (\"validY shape:{}\".format(validY.shape))\n",
    "print (\"testX shape:{}\".format(testX.shape))\n",
    "print (\"testY shape:{}\".format(testY.shape))"
   ]
  },
  {
   "cell_type": "code",
   "execution_count": 11,
   "metadata": {
    "colab": {},
    "colab_type": "code",
    "id": "8JpxKigLxg6a"
   },
   "outputs": [
    {
     "name": "stdout",
     "output_type": "stream",
     "text": [
      "height 1\n",
      "width 128\n",
      "input_channel 9\n"
     ]
    }
   ],
   "source": [
    "height = trainX.shape[1]\n",
    "width = trainX.shape[2]\n",
    "input_channel = trainX.shape[3]\n",
    "\n",
    "print (\"height {}\".format(height))\n",
    "print (\"width {}\".format(width))\n",
    "print (\"input_channel {}\".format(input_channel))"
   ]
  },
  {
   "cell_type": "markdown",
   "metadata": {
    "colab_type": "text",
    "id": "LRkT92eLxg6c"
   },
   "source": [
    "# 2. Training condition 정의"
   ]
  },
  {
   "cell_type": "code",
   "execution_count": 12,
   "metadata": {
    "colab": {},
    "colab_type": "code",
    "id": "96TudpYHxg6d"
   },
   "outputs": [],
   "source": [
    "t_loss=[]\n",
    "t_acc=[]\n",
    "\n",
    "v_loss=[]\n",
    "v_acc=[]\n",
    "\n",
    "val_freq = 1\n",
    "save_freq = 1\n",
    "num_epochs= 500\n",
    "\n",
    "\n",
    "std= 0.01\n",
    "l_rate = 1e-5"
   ]
  },
  {
   "cell_type": "code",
   "execution_count": 13,
   "metadata": {
    "colab": {},
    "colab_type": "code",
    "id": "v0CdpPI7xg6f"
   },
   "outputs": [],
   "source": [
    "train_history = pd.DataFrame(index=np.arange(0, num_epochs), columns=['epoch', 'loss', 'acc','timestamp'])\n",
    "valid_history = pd.DataFrame(index=np.arange(0, num_epochs/val_freq),columns=['epoch', 'loss', 'acc','timestamp'])"
   ]
  },
  {
   "cell_type": "markdown",
   "metadata": {
    "colab_type": "text",
    "id": "6HiU9eckxg6h"
   },
   "source": [
    "# 3. model structure 정의"
   ]
  },
  {
   "cell_type": "code",
   "execution_count": 14,
   "metadata": {},
   "outputs": [
    {
     "name": "stdout",
     "output_type": "stream",
     "text": [
      "6\n"
     ]
    }
   ],
   "source": [
    "from numpy import unique\n",
    "nb_classes =trainY.shape[1]\n",
    "print (nb_classes)"
   ]
  },
  {
   "cell_type": "code",
   "execution_count": 15,
   "metadata": {
    "colab": {},
    "colab_type": "code",
    "id": "Jny6_y8cxg6h"
   },
   "outputs": [],
   "source": [
    "if 'MC_dropout_model' in globals():\n",
    "    MC_dropout_model.terminate()\n",
    "    \n",
    "MC_dropout_model =CNN_MC_dropout(height=height,width= width, input_channel=input_channel ,nb_classes=nb_classes,\n",
    "                                 std=std,batch_size=batch_size,l_rate=l_rate)"
   ]
  },
  {
   "cell_type": "code",
   "execution_count": 16,
   "metadata": {
    "colab": {},
    "colab_type": "code",
    "id": "8i5mZbLexg6j",
    "outputId": "eb6c9052-804c-4e42-8eb5-e09b35fe7a10"
   },
   "outputs": [
    {
     "name": "stdout",
     "output_type": "stream",
     "text": [
      "Tensor(\"Classifier/x:0\", shape=(?, 1, 128, 9), dtype=float32)\n",
      "[layer1] - MC dropout\n",
      "Tensor(\"layer1/conv2d/BiasAdd:0\", shape=(?, 1, 128, 128), dtype=float32)\n",
      "Tensor(\"layer1/batch_normalization/FusedBatchNorm:0\", shape=(?, 1, 128, 128), dtype=float32)\n",
      "Tensor(\"layer1/Relu:0\", shape=(?, 1, 128, 128), dtype=float32)\n",
      "Tensor(\"layer1/dropout/mul:0\", shape=(?, 1, 128, 128), dtype=float32)\n",
      "[layer2] - MC dropout\n",
      "Tensor(\"layer2/conv2d/BiasAdd:0\", shape=(?, 1, 128, 256), dtype=float32)\n",
      "Tensor(\"layer2/batch_normalization/FusedBatchNorm:0\", shape=(?, 1, 128, 256), dtype=float32)\n",
      "Tensor(\"layer2/Relu:0\", shape=(?, 1, 128, 256), dtype=float32)\n",
      "Tensor(\"layer2/dropout/mul:0\", shape=(?, 1, 128, 256), dtype=float32)\n",
      "[layer3]\n",
      "Tensor(\"layer3/conv2d/BiasAdd:0\", shape=(?, 1, 128, 128), dtype=float32)\n",
      "Tensor(\"layer3/batch_normalization/FusedBatchNorm:0\", shape=(?, 1, 128, 128), dtype=float32)\n",
      "Tensor(\"layer3/Relu:0\", shape=(?, 1, 128, 128), dtype=float32)\n",
      "[layer4]\n",
      "Tensor(\"layer4/Mean:0\", shape=(?, 128), dtype=float32)\n",
      "Tensor(\"layer4/dense/BiasAdd:0\", shape=(?, 6), dtype=float32)\n"
     ]
    }
   ],
   "source": [
    "print (MC_dropout_model.input)\n",
    "print ('[layer1] - MC dropout')\n",
    "print (MC_dropout_model.conv1)\n",
    "print (MC_dropout_model.batch1)\n",
    "print (MC_dropout_model.relu1)\n",
    "print (MC_dropout_model.dropout1)\n",
    "print ('[layer2] - MC dropout')\n",
    "print (MC_dropout_model.conv2)\n",
    "print (MC_dropout_model.batch2)\n",
    "print (MC_dropout_model.relu2)\n",
    "print (MC_dropout_model.dropout2)\n",
    "print ('[layer3]')\n",
    "print (MC_dropout_model.conv3)\n",
    "print (MC_dropout_model.batch3)\n",
    "print (MC_dropout_model.relu3)\n",
    "\n",
    "print ('[layer4]')\n",
    "print (MC_dropout_model.GAP)\n",
    "print (MC_dropout_model.logits)"
   ]
  },
  {
   "cell_type": "markdown",
   "metadata": {
    "colab_type": "text",
    "id": "LmWRfeSOxg6l"
   },
   "source": [
    "# 4. Training"
   ]
  },
  {
   "cell_type": "code",
   "execution_count": 17,
   "metadata": {
    "colab": {},
    "colab_type": "code",
    "id": "4pgl8PLBxg6m"
   },
   "outputs": [],
   "source": [
    "import time"
   ]
  },
  {
   "cell_type": "code",
   "execution_count": 18,
   "metadata": {
    "colab": {},
    "colab_type": "code",
    "id": "fLBIHIbqxg6o",
    "outputId": "47abf10c-e76a-4462-a56c-3d0dbfd77cbd"
   },
   "outputs": [
    {
     "name": "stdout",
     "output_type": "stream",
     "text": [
      "ICML(UCR-HAR)_CNN_MCdropout_1e-05_16\n"
     ]
    }
   ],
   "source": [
    "save_path = '/data2/gin/savedmodel'\n",
    "model_name = 'ICML(UCR-HAR)_CNN_MCdropout_'+str(l_rate)+'_'+str(batch_size)\n",
    "print (model_name)"
   ]
  },
  {
   "cell_type": "code",
   "execution_count": 19,
   "metadata": {
    "colab": {},
    "colab_type": "code",
    "id": "Ism3OSKnxg6u"
   },
   "outputs": [],
   "source": [
    "def get_batch(X, Y,  batch_size=1024, shuffle=False):\n",
    "    \"\"\"\n",
    "    dataset: numpy ndarray. dim=2\n",
    "    \n",
    "    dataset_input = normalized_data[:, input_idx]\n",
    "    dataset_target = normalized_data[:, target_idx]\n",
    "    interested_indices = train_indices\n",
    "    \"\"\"    \n",
    "    assert np.isnan(X).any()==False\n",
    "    assert np.isnan(Y).any()==False\n",
    "    \n",
    "    interested_indices = range(0,len(X))\n",
    "\n",
    "    if shuffle:\n",
    "        np.random.shuffle(interested_indices)\n",
    "        \n",
    "    for i in range(0, len(X)-batch_size, batch_size):\n",
    "        batch_Xlist = []\n",
    "        batch_Ylist = [] \n",
    "        \n",
    "        batch_indices = interested_indices[i:i+batch_size]\n",
    "\n",
    "        batch_Xlist.append(X[batch_indices])\n",
    "        batch_Ylist.append(Y[batch_indices])\n",
    "\n",
    "            \n",
    "        batch_Xlist = np.asarray(batch_Xlist)\n",
    "        batch_Xlist = batch_Xlist.reshape(-1,X.shape[1],X.shape[2],X.shape[3])\n",
    "        \n",
    "        batch_Ylist = np.asarray(batch_Ylist)\n",
    "        batch_Ylist = batch_Ylist.reshape(-1,nb_classes)\n",
    "\n",
    "        yield batch_Xlist, batch_Ylist"
   ]
  },
  {
   "cell_type": "code",
   "execution_count": 20,
   "metadata": {
    "colab": {},
    "colab_type": "code",
    "id": "nPy7CW6Ixg6w"
   },
   "outputs": [],
   "source": [
    "keep_prob =1.0"
   ]
  },
  {
   "cell_type": "markdown",
   "metadata": {
    "colab": {},
    "colab_type": "code",
    "id": "1aSW6vp3xg6y",
    "outputId": "039e0277-40ba-439c-a344-dfbefd564aa5"
   },
   "source": [
    "for epoch in range(num_epochs):#range(num_epochs):##\n",
    "    \n",
    "    loss = 0\n",
    "    acc=0\n",
    "    train_batches = 0\n",
    "    start_time = time.time()   \n",
    "    \n",
    "    for batch in get_batch(X=trainX, Y=trainY, batch_size=batch_size):\n",
    "        train_in, train_target = batch\n",
    "        train_batches += 1.0 \n",
    "        loss1 ,acc1 = MC_dropout_model.train(data=train_in,target= train_target,keep_prob=keep_prob,is_dropout=False)\n",
    "        loss = loss1+loss\n",
    "        acc = acc1+acc\n",
    "        if np.isnan(loss):\n",
    "            print ('error')\n",
    "            break\n",
    "    t_loss.append(loss/train_batches)\n",
    "    t_acc.append(acc/train_batches)\n",
    "    \n",
    "    train_history.loc[epoch] = [epoch+1, t_loss[epoch], t_acc[epoch] ,time.strftime(\"%Y-%m-%d-%H:%M\", time.localtime())]\n",
    "    if not os.path.exists(os.path.join(save_path, model_name)):\n",
    "        os.mkdir( os.path.join(save_path, model_name))\n",
    "    MC_dropout_model.save(os.path.join(save_path, model_name,str(epoch+1)+'.ckpt'))\n",
    "\n",
    "    \n",
    "    if(epoch+1)%val_freq ==0:\n",
    "        acc=0\n",
    "        loss = 0\n",
    "        val_batches=0\n",
    "        for batch in get_batch(X=validX, Y=validY, batch_size=batch_size):\n",
    "            val_in, val_target = batch\n",
    "            val_batches += 1.0 \n",
    "            loss1 ,acc1 = MC_dropout_model.test(data=val_in,target= val_target,keep_prob=keep_prob,is_dropout=False)\n",
    "            loss = loss1+loss\n",
    "            acc = acc1+acc\n",
    "        \n",
    "        v_acc.append(acc/val_batches)\n",
    "        v_loss.append(loss/val_batches)\n",
    "        valid_history.loc[epoch] = [epoch+1, v_loss[epoch], v_acc[epoch] ,time.strftime(\"%Y-%m-%d-%H:%M\", time.localtime())]  \n",
    "        \n",
    "        print(\"  training loss:\\t{:.6f}\".format(t_loss[epoch]))\n",
    "        print(\"  training acc:\\t{:.3f}\".format(t_acc[epoch]))\n",
    "        print(\"  validation loss:\\t{:.6f}\".format(v_loss[epoch]))\n",
    "        print(\"  validation acc:\\t{:.3f}\".format(v_acc[epoch]))\n"
   ]
  },
  {
   "cell_type": "markdown",
   "metadata": {
    "colab": {},
    "colab_type": "code",
    "id": "rP08N40exg60"
   },
   "source": [
    "train_history.to_csv(os.path.join(save_path, model_name, \"history_train.csv\"))\n",
    "valid_history.to_csv(os.path.join(save_path, model_name, \"history_valid.csv\"))"
   ]
  },
  {
   "cell_type": "markdown",
   "metadata": {
    "colab_type": "text",
    "id": "vlFgsib-xg64"
   },
   "source": [
    "# 5.check the result"
   ]
  },
  {
   "cell_type": "markdown",
   "metadata": {
    "colab_type": "text",
    "id": "KgcHlnjVxg65"
   },
   "source": [
    "### with loss and accuracy graph"
   ]
  },
  {
   "cell_type": "code",
   "execution_count": 21,
   "metadata": {
    "colab": {},
    "colab_type": "code",
    "id": "q8-lRSQsxg66"
   },
   "outputs": [],
   "source": [
    "train_history = pd.read_csv(os.path.join(save_path, model_name, \"history_train.csv\"),index_col=0)\n",
    "valid_history = pd.read_csv(os.path.join(save_path, model_name, \"history_valid.csv\"),index_col=0)"
   ]
  },
  {
   "cell_type": "code",
   "execution_count": 22,
   "metadata": {
    "colab": {},
    "colab_type": "code",
    "id": "H3JLFNJZxg69"
   },
   "outputs": [],
   "source": [
    "import matplotlib.pyplot as plt "
   ]
  },
  {
   "cell_type": "code",
   "execution_count": 23,
   "metadata": {
    "colab": {},
    "colab_type": "code",
    "id": "it_9O0Y0xg6_",
    "outputId": "7e684e94-35ca-4ab0-b0b7-7865d434fa4a"
   },
   "outputs": [
    {
     "data": {
      "image/png": "[encoded data removed]",
      "text/plain": [
       "<Figure size 720x360 with 2 Axes>"
      ]
     },
     "metadata": {
      "needs_background": "light"
     },
     "output_type": "display_data"
    }
   ],
   "source": [
    "#Loss graph\n",
    "%matplotlib inline\n",
    "\n",
    "fig = plt.figure(figsize=(10,5))\n",
    "ax = fig.add_subplot(1,2,1)\n",
    "ax.plot(train_history['loss'].tolist(), label='train loss')\n",
    "ax.plot(valid_history['loss'].tolist(), label='valid loss', color='Red')\n",
    "\n",
    "#ax.plot( range(val_freq, len(train_history)+val_freq, val_freq), valid_history['loss'], label='valid loss', marker='o', color='Red')\n",
    "#ax.axis([0, len(train_history), 0, 1.0])\n",
    "plt.xlim(0,None)\n",
    "plt.legend(fontsize=12, loc='upper right')\n",
    "plt.title('Loss graph', fontsize=15)\n",
    "plt.xlabel('epoch', fontsize=13)\n",
    "plt.ylabel('loss', fontsize=13)\n",
    "\n",
    "plt.savefig(os.path.join(save_path, model_name, 'loss_graph.png'))\n",
    "\n",
    "ax = fig.add_subplot(1,2,2)\n",
    "ax.plot(train_history['acc'].tolist(), label='train acc')\n",
    "ax.plot(valid_history['acc'].tolist(), label='valid acc', color='Red')\n",
    "\n",
    "#ax.plot( range(val_freq, len(train_history)+val_freq, val_freq), valid_history['loss'], label='valid loss', marker='o', color='Red')\n",
    "#ax.axis([0, len(train_history), 0, 1.0])\n",
    "plt.xlim(0,None)\n",
    "plt.legend(fontsize=12, loc='upper right')\n",
    "plt.title('Acc graph', fontsize=15)\n",
    "plt.xlabel('epoch', fontsize=13)\n",
    "plt.ylabel('acc', fontsize=13)\n",
    "\n",
    "\n",
    "plt.savefig(os.path.join(save_path, model_name, 'acc_graph.png'))\n"
   ]
  },
  {
   "cell_type": "code",
   "execution_count": 24,
   "metadata": {
    "colab": {},
    "colab_type": "code",
    "id": "N9JDsIyvxg7B",
    "outputId": "126b0146-dbdc-4ca8-de1d-9b14572a8bf1"
   },
   "outputs": [
    {
     "name": "stderr",
     "output_type": "stream",
     "text": [
      "/home/gin908/paper_ready/py_36_env/lib/python3.6/site-packages/numpy/core/fromnumeric.py:61: FutureWarning: \n",
      "The current behaviour of 'Series.argmin' is deprecated, use 'idxmin'\n",
      "instead.\n",
      "The behavior of 'argmin' will be corrected to return the positional\n",
      "minimum in the future. For now, use 'series.values.argmin' or\n",
      "'np.argmin(np.array(values))' to get the position of the minimum\n",
      "row.\n",
      "  return bound(*args, **kwds)\n"
     ]
    }
   ],
   "source": [
    "bestepoch = int(np.argmin(valid_history['loss']))"
   ]
  },
  {
   "cell_type": "code",
   "execution_count": 25,
   "metadata": {
    "colab": {},
    "colab_type": "code",
    "id": "6Nve8UZsxg7D",
    "outputId": "5a50e4f4-3c80-441c-fe62-3f674ca92316"
   },
   "outputs": [
    {
     "name": "stdout",
     "output_type": "stream",
     "text": [
      "error: 0.7950858847238835\n"
     ]
    }
   ],
   "source": [
    "error = valid_history.loc[bestepoch,'loss']\n",
    "print (\"error: {}\".format(error))"
   ]
  },
  {
   "cell_type": "code",
   "execution_count": 26,
   "metadata": {
    "colab": {},
    "colab_type": "code",
    "id": "ogt5Ay-kxg7F",
    "outputId": "603808f4-930e-43cb-ecd5-597125a79523"
   },
   "outputs": [
    {
     "name": "stdout",
     "output_type": "stream",
     "text": [
      "INFO:tensorflow:Restoring parameters from /data2/gin/savedmodel/ICML(UCR-HAR)_CNN_MCdropout_1e-05_16/346.ckpt\n",
      "Model restored\n"
     ]
    }
   ],
   "source": [
    "bestepoch=bestepoch\n",
    "MC_dropout_model.load(os.path.join(save_path, model_name,str(bestepoch)+'.ckpt'))"
   ]
  },
  {
   "cell_type": "markdown",
   "metadata": {
    "colab_type": "text",
    "id": "5aT9WMWZxg7H"
   },
   "source": [
    "### with confusion matrix"
   ]
  },
  {
   "cell_type": "code",
   "execution_count": 27,
   "metadata": {
    "colab": {},
    "colab_type": "code",
    "id": "KUz6EoWyxg7H"
   },
   "outputs": [],
   "source": [
    "import itertools\n",
    "from sklearn.metrics import confusion_matrix\n",
    "\n",
    "def plot_confusion_matrix(cm, classes,\n",
    "                          title='Confusion matrix',\n",
    "                          cmap=plt.cm.Blues):\n",
    "    \"\"\"\n",
    "    This function prints and plots the confusion matrix.\n",
    "    Normalization can be applied by setting `normalize=True`.\n",
    "    \"\"\"\n",
    "    fig=plt.figure(figsize=(10,5))\n",
    "    plt.subplot(121)\n",
    "    plt.imshow(cm, interpolation='nearest', cmap=cmap)\n",
    "\n",
    "    plt.title(title)\n",
    "    plt.colorbar()\n",
    "    tick_marks = np.arange(len(classes))\n",
    "    plt.xticks(tick_marks, classes, rotation=45)\n",
    "    plt.yticks(tick_marks, classes)\n",
    "\n",
    "    fmt =  'd'\n",
    "    thresh = cm.max() / 2.\n",
    "    for i, j in itertools.product(range(cm.shape[0]), range(cm.shape[1])):\n",
    "        plt.text(j, i, format(cm[i, j], fmt),\n",
    "                 horizontalalignment=\"center\",\n",
    "                 color=\"white\" if cm[i, j] > thresh else \"black\")\n",
    "\n",
    "    plt.ylabel('True label')\n",
    "    plt.xlabel('Predicted label')\n",
    "    \n",
    "    \n",
    "    plt.subplot(122)\n",
    "    cm = cm.astype('float') / cm.sum(axis=1)[:, np.newaxis]\n",
    "    plt.imshow(cm, interpolation='nearest', cmap=cmap)\n",
    "    plt.title(title)\n",
    "    plt.colorbar()\n",
    "    tick_marks = np.arange(len(classes))\n",
    "    plt.xticks(tick_marks, classes, rotation=45)\n",
    "    plt.yticks(tick_marks, classes)\n",
    "\n",
    "    fmt = '.2f' \n",
    "    thresh = cm.max() / 2.\n",
    "    for i, j in itertools.product(range(cm.shape[0]), range(cm.shape[1])):\n",
    "        plt.text(j, i, format(cm[i, j], fmt),\n",
    "                 horizontalalignment=\"center\",\n",
    "                 color=\"white\" if cm[i, j] > thresh else \"black\")\n",
    "\n",
    "    plt.ylabel('True label')\n",
    "    plt.xlabel('Predicted label')\n",
    "    \n",
    "    plt.tight_layout()\n",
    "    plt.show()"
   ]
  },
  {
   "cell_type": "code",
   "execution_count": 28,
   "metadata": {
    "colab": {},
    "colab_type": "code",
    "id": "jnYhx8ffyEfa"
   },
   "outputs": [],
   "source": [
    "class_list = np.unique(trainy, return_counts=False, return_index=True)[0].astype(int)"
   ]
  },
  {
   "cell_type": "code",
   "execution_count": 29,
   "metadata": {
    "colab": {},
    "colab_type": "code",
    "id": "USnpndL2xg7K",
    "outputId": "c81932c3-151f-4d31-9b22-2d5e56514e74"
   },
   "outputs": [
    {
     "data": {
      "image/png": "[encoded data removed]",
      "text/plain": [
       "<Figure size 720x360 with 4 Axes>"
      ]
     },
     "metadata": {
      "needs_background": "light"
     },
     "output_type": "display_data"
    }
   ],
   "source": [
    "prediction = MC_dropout_model.predict(data=trainX,keep_prob=1.0,is_dropout=False)\n",
    "prediction = np.argmax(prediction,axis=1)\n",
    "target = np.argmax(trainY,axis=1)\n",
    "\n",
    "plot_confusion_matrix(confusion_matrix(prediction,target),                      \n",
    "    classes=class_list,\n",
    "    title='HAR classifcation(train)')"
   ]
  },
  {
   "cell_type": "code",
   "execution_count": 30,
   "metadata": {
    "colab": {},
    "colab_type": "code",
    "id": "8HbKsurAxg7M",
    "outputId": "58e5d399-c33a-4a5f-e102-ad1b74e461ec"
   },
   "outputs": [
    {
     "data": {
      "image/png": "[encoded data removed]",
      "text/plain": [
       "<Figure size 720x360 with 4 Axes>"
      ]
     },
     "metadata": {
      "needs_background": "light"
     },
     "output_type": "display_data"
    }
   ],
   "source": [
    "prediction = MC_dropout_model.predict(data=testX,keep_prob=1.0,is_dropout=False)\n",
    "prediction = np.argmax(prediction,axis=1)\n",
    "target = np.argmax(testY,axis=1)\n",
    "\n",
    "plot_confusion_matrix(confusion_matrix(prediction,target),                      \n",
    "    classes=class_list,\n",
    "    title='HAR classifcation(test)')"
   ]
  },
  {
   "cell_type": "markdown",
   "metadata": {
    "colab_type": "text",
    "id": "TONUyKSrxg7P"
   },
   "source": [
    "# 6. Trained 된 모델에서 Last Conv output Load하기(MC dropout적용안됨)\n",
    "기존논문에서 이미지타겟으로 p(A>T)=0.005 인것과 비교하여, 시계열에서는 조금 더 낮은 threshold가 패턴을 보기에 필요함.\n",
    "현재 p(A>T) = 0.05로 조정되어있음"
   ]
  },
  {
   "cell_type": "code",
   "execution_count": 31,
   "metadata": {},
   "outputs": [],
   "source": [
    "import random"
   ]
  },
  {
   "cell_type": "code",
   "execution_count": 32,
   "metadata": {},
   "outputs": [
    {
     "name": "stdout",
     "output_type": "stream",
     "text": [
      "threshold: 3.712264060974121\n"
     ]
    }
   ],
   "source": [
    "last_conv_output = MC_dropout_model.get_last_conv_output(data=trainX,keep_prob=1.0,is_dropout=False)[:,0,:,:]\n",
    "last_conv_output.shape\n",
    "threshold = np.percentile(last_conv_output,95)\n",
    "print (\"threshold: {}\".format(threshold))"
   ]
  },
  {
   "cell_type": "code",
   "execution_count": 33,
   "metadata": {
    "colab": {},
    "colab_type": "code",
    "id": "gR_K6BVpxg7V"
   },
   "outputs": [
    {
     "name": "stdout",
     "output_type": "stream",
     "text": [
      "(7352, 128, 128)\n"
     ]
    }
   ],
   "source": [
    "#trainX를 인풋으로 넣었을 때, last conv layer 의 focused_conv_channel output 보기\n",
    "last_conv_bool = last_conv_output>threshold\n",
    "print (last_conv_bool.shape)"
   ]
  },
  {
   "cell_type": "markdown",
   "metadata": {},
   "source": [
    "# 7.Result Visualization\n",
    "세로축(데이터) , 가로축(마지막 컨볼루션 채널) : 데이터와 별개로 각 채널마다 일관성있게 threshold를 넘은 구간이 존재함"
   ]
  },
  {
   "cell_type": "code",
   "execution_count": 34,
   "metadata": {},
   "outputs": [
    {
     "data": {
      "text/plain": [
       "<matplotlib.image.AxesImage at 0x7fdc69d9b198>"
      ]
     },
     "execution_count": 34,
     "metadata": {},
     "output_type": "execute_result"
    },
    {
     "data": {
      "image/png": "[encoded data removed]",
      "text/plain": [
       "<Figure size 432x288 with 1 Axes>"
      ]
     },
     "metadata": {
      "needs_background": "light"
     },
     "output_type": "display_data"
    }
   ],
   "source": [
    "plt.imshow(last_conv_bool.sum(axis=1),aspect =\"auto\")"
   ]
  },
  {
   "cell_type": "markdown",
   "metadata": {},
   "source": [
    "## 패턴의 연속성"
   ]
  },
  {
   "cell_type": "code",
   "execution_count": 35,
   "metadata": {},
   "outputs": [],
   "source": [
    "from pylab import rcParams\n",
    "rcParams['figure.figsize'] = 20, 12"
   ]
  },
  {
   "cell_type": "code",
   "execution_count": 36,
   "metadata": {},
   "outputs": [],
   "source": [
    "from itertools import groupby\n",
    "from operator import itemgetter"
   ]
  },
  {
   "cell_type": "code",
   "execution_count": 37,
   "metadata": {},
   "outputs": [
    {
     "data": {
      "text/plain": [
       "6"
      ]
     },
     "execution_count": 37,
     "metadata": {},
     "output_type": "execute_result"
    }
   ],
   "source": [
    "consecutive_num =trainX.shape[2]//20\n",
    "consecutive_num"
   ]
  },
  {
   "cell_type": "markdown",
   "metadata": {},
   "source": [
    "### plotly visualization을 위해 샘플 데이터 및 패턴 저장"
   ]
  },
  {
   "cell_type": "code",
   "execution_count": 51,
   "metadata": {},
   "outputs": [],
   "source": [
    "survived_channel = [i for i, x in enumerate(last_conv_bool.sum(axis=1).sum(axis=0)) if x>0]"
   ]
  },
  {
   "cell_type": "code",
   "execution_count": 74,
   "metadata": {},
   "outputs": [],
   "source": [
    "sample_data_idx=87\n",
    "sample_output_channel = 79\n",
    "sample_data = pd.DataFrame(trainX[sample_data_idx].reshape(-1,9))"
   ]
  },
  {
   "cell_type": "code",
   "execution_count": 75,
   "metadata": {},
   "outputs": [],
   "source": [
    "sample_pattern_bool =pd.DataFrame(last_conv_bool[sample_data_idx][:,sample_output_channel])\n",
    "pattern_idx = [p for p, x in enumerate(last_conv_bool[sample_data_idx][:,sample_output_channel]) if x]"
   ]
  },
  {
   "cell_type": "code",
   "execution_count": 76,
   "metadata": {},
   "outputs": [
    {
     "data": {
      "text/plain": [
       "24"
      ]
     },
     "execution_count": 76,
     "metadata": {},
     "output_type": "execute_result"
    }
   ],
   "source": [
    "last_conv_bool[sample_data_idx][:,sample_output_channel].sum()"
   ]
  },
  {
   "cell_type": "code",
   "execution_count": 77,
   "metadata": {},
   "outputs": [],
   "source": [
    "groups = []\n",
    "for _, g in groupby(pattern_idx, key=lambda n, c=itertools.count(): n-next(c)):\n",
    "    groups.append(list(g))    # Store group iterator as a list"
   ]
  },
  {
   "cell_type": "code",
   "execution_count": 78,
   "metadata": {},
   "outputs": [],
   "source": [
    "consecutive_pattern=[]\n",
    "for g in groups:\n",
    "    if len(g)>consecutive_num:\n",
    "        consecutive_pattern.extend(g)\n",
    "        \n",
    "consecutive_pattern_bool=[]\n",
    "for x in range(0,128):\n",
    "    if x in np.asarray(consecutive_pattern).flatten():\n",
    "        consecutive_pattern_bool.append(True)\n",
    "    else:\n",
    "        consecutive_pattern_bool.append(False)"
   ]
  },
  {
   "cell_type": "code",
   "execution_count": 79,
   "metadata": {},
   "outputs": [],
   "source": [
    "sample_consecutive_pattern_bool= pd.DataFrame(consecutive_pattern_bool)"
   ]
  },
  {
   "cell_type": "markdown",
   "metadata": {},
   "source": [
    "sample_data.to_csv('./sample_data+pattern/'+str(sample_data_idx)+'_data.csv')\n",
    "sample_pattern_bool.to_csv('./sample_data+pattern/'+str(sample_data_idx)+'_pattern.csv')\n",
    "sample_consecutive_pattern_bool.to_csv('./sample_data+pattern/'+str(sample_data_idx)+'_consecutive_pattern.csv')"
   ]
  },
  {
   "cell_type": "code",
   "execution_count": 86,
   "metadata": {},
   "outputs": [
    {
     "data": {
      "application/vnd.plotly.v1+json": {
       "config": {
        "plotlyServerURL": "https://plot.ly"
       },
       "data": [
        {
         "line": {
          "color": "black",
          "width": 1
         },
         "showlegend": false,
         "type": "scatter",
         "x": [
          0,
          1,
          2,
          3,
          4,
          5,
          6,
          7,
          8,
          9,
          10,
          11,
          12,
          13,
          14,
          15,
          16,
          17,
          18,
          19,
          20,
          21,
          22,
          23,
          24,
          25,
          26,
          27,
          28,
          29,
          30,
          31,
          32,
          33,
          34,
          35,
          36,
          37,
          38,
          39,
          40,
          41,
          42,
          43,
          44,
          45,
          46,
          47,
          48,
          49,
          50,
          51,
          52,
          53,
          54,
          55,
          56,
          57,
          58,
          59,
          60,
          61,
          62,
          63,
          64,
          65,
          66,
          67,
          68,
          69,
          70,
          71,
          72,
          73,
          74,
          75,
          76,
          77,
          78,
          79,
          80,
          81,
          82,
          83,
          84,
          85,
          86,
          87,
          88,
          89,
          90,
          91,
          92,
          93,
          94,
          95,
          96,
          97,
          98,
          99,
          100,
          101,
          102,
          103,
          104,
          105,
          106,
          107,
          108,
          109,
          110,
          111,
          112,
          113,
          114,
          115,
          116,
          117,
          118,
          119,
          120,
          121,
          122,
          123,
          124,
          125,
          126,
          127
         ],
         "xaxis": "x",
         "y": [
          0.6649158942174992,
          0.6775664751249943,
          0.7379370732891903,
          0.7508063546086884,
          0.6664983773873678,
          0.40597357480059565,
          0.13954499585603977,
          0.16547584980068347,
          0.3405855559106572,
          0.39790538648798707,
          0.41692922751507017,
          0.38113354074110145,
          0.28296274273424615,
          0.19131458135479953,
          0.0374260364491058,
          0.04771805720583817,
          0.24183901875314764,
          0.36175039144278937,
          0.4602948370403398,
          0.40177493953243076,
          0.27430344434579995,
          0.33335791993625496,
          0.34662467893851073,
          0.36290300451038654,
          0.4121766199768796,
          0.3564738313609376,
          0.3815553643187802,
          0.44581521919661427,
          0.5630499876929437,
          0.7506887515569511,
          0.7658275654538356,
          0.6887387650400376,
          0.5604554993147044,
          0.34186546912373145,
          0.24815657216401787,
          0.3594796209385425,
          0.5478534038759078,
          0.7195806811610022,
          0.8297180023244142,
          0.7631350745324814,
          0.5636503822202341,
          0.38089616826562117,
          0.2538084304057119,
          0.2123528388654565,
          0.1573829029508669,
          0.10998381823272323,
          0.1000154121894119,
          0.03404402026651322,
          0.02792793945217191,
          0.030485393185171378,
          0.050908916849071735,
          0.16982613110924646,
          0.2471852122208965,
          0.38723610752055004,
          0.5841102184053729,
          0.7490546881012329,
          0.8498889889087942,
          0.7748541154775314,
          0.7540610706458036,
          0.8302688797772887,
          0.7922769044318402,
          0.5783476688702454,
          0.18795598262198276,
          0,
          0.1717295468176717,
          0.36121344066709404,
          0.4672004057098964,
          0.387900152120579,
          0.16235916260850167,
          0.14107765246977755,
          0.15590306454983924,
          0.07646571056073335,
          0.17086764024112336,
          0.27994405808517886,
          0.33377964035336205,
          0.38310401082113127,
          0.3225533974593201,
          0.3338770239330463,
          0.3740888084603223,
          0.3634519219123989,
          0.39817257236868825,
          0.4052958098445308,
          0.4907055419716008,
          0.6074637086266791,
          0.6238270385096352,
          0.6392423227386737,
          0.6262884497503822,
          0.5459191431565442,
          0.3937552366885208,
          0.32185757940320786,
          0.45770138026781715,
          0.6622894260620329,
          0.9101976907299704,
          1,
          0.7258848236975514,
          0.4227722422961233,
          0.324808384396097,
          0.22205684436350231,
          0.02606578797242635,
          8.851177051809585e-05,
          0.09087280652255413,
          0.021803399470951352,
          0.012482016533338493,
          0.06963885340738336,
          0.011773922369193956,
          0.057271241948059506,
          0.16609048048686842,
          0.26730100789941763,
          0.39963642088110257,
          0.505359501181498,
          0.69685028079276,
          0.7796975043188172,
          0.7019691083604835,
          0.7367662008004022,
          0.7674946402924974,
          0.7884568684618118,
          0.7594130411055678,
          0.4818894395141714,
          0.1773881104965263,
          0.14312270764314616,
          0.34376548053329065,
          0.4383536150455979,
          0.3382376212987792,
          0.2661916191113624,
          0.22198741729874863,
          0.15918336440873618,
          0.10927221660914092,
          0.14545516816926915
         ],
         "yaxis": "y"
        },
        {
         "line": {
          "color": "rgba(200, 0, 200, 0.6)",
          "width": 5
         },
         "showlegend": false,
         "type": "scatter",
         "x": [
          26,
          27,
          28,
          29,
          30,
          31,
          32
         ],
         "xaxis": "x",
         "y": [
          0.3815553643187802,
          0.44581521919661427,
          0.5630499876929437,
          0.7506887515569511,
          0.7658275654538356,
          0.6887387650400376,
          0.5604554993147044
         ],
         "yaxis": "y"
        },
        {
         "line": {
          "color": "black",
          "width": 1
         },
         "showlegend": false,
         "type": "scatter",
         "x": [
          0,
          1,
          2,
          3,
          4,
          5,
          6,
          7,
          8,
          9,
          10,
          11,
          12,
          13,
          14,
          15,
          16,
          17,
          18,
          19,
          20,
          21,
          22,
          23,
          24,
          25,
          26,
          27,
          28,
          29,
          30,
          31,
          32,
          33,
          34,
          35,
          36,
          37,
          38,
          39,
          40,
          41,
          42,
          43,
          44,
          45,
          46,
          47,
          48,
          49,
          50,
          51,
          52,
          53,
          54,
          55,
          56,
          57,
          58,
          59,
          60,
          61,
          62,
          63,
          64,
          65,
          66,
          67,
          68,
          69,
          70,
          71,
          72,
          73,
          74,
          75,
          76,
          77,
          78,
          79,
          80,
          81,
          82,
          83,
          84,
          85,
          86,
          87,
          88,
          89,
          90,
          91,
          92,
          93,
          94,
          95,
          96,
          97,
          98,
          99,
          100,
          101,
          102,
          103,
          104,
          105,
          106,
          107,
          108,
          109,
          110,
          111,
          112,
          113,
          114,
          115,
          116,
          117,
          118,
          119,
          120,
          121,
          122,
          123,
          124,
          125,
          126,
          127
         ],
         "xaxis": "x",
         "y": [
          1.8988758157452548,
          1.8981199627591923,
          1.6245264465408502,
          1.1575686351443308,
          1,
          1.3307866242865782,
          1.6748223304449394,
          1.7774465167948985,
          1.7770379806321361,
          1.6927825281984328,
          1.5586424157613155,
          1.3958378228228263,
          1.3583479105446055,
          1.5484419617022027,
          1.6978082315858587,
          1.7488879576012766,
          1.8028720287714037,
          1.8982309174670333,
          1.9860093406955688,
          1.9343846208418511,
          1.93208724020982,
          1.9772697149515892,
          1.9236650546388407,
          1.9127469745569812,
          1.832628097375132,
          1.7138579363628936,
          1.7289973531767884,
          1.745393165295063,
          1.758320451636728,
          1.7833968020243653,
          1.862718178499492,
          2,
          1.9446301311619767,
          1.676654390342303,
          1.3979294937685958,
          1.2730651313786452,
          1.2605482137483195,
          1.2186778995215815,
          1.277291110567075,
          1.4588160424087904,
          1.7065735557693826,
          1.9472179218754977,
          1.9044354260520897,
          1.802827925435651,
          1.8441989312601135,
          1.7767778809041097,
          1.7381058526238289,
          1.739846285092343,
          1.696863736049281,
          1.7729521303248927,
          1.8198092979092246,
          1.8256131014224377,
          1.8521493821764055,
          1.822970688544332,
          1.841598544829373,
          1.8636089192778114,
          1.8982540564470654,
          1.9410477919017455,
          1.7783083033057014,
          1.4732307473454405,
          1.241601371840978,
          1.2554092588588361,
          1.4913270423732512,
          1.70580889433316,
          1.7646299163872836,
          1.69614244492938,
          1.655203920569086,
          1.5963409942375022,
          1.4512103549647815,
          1.4399409142357615,
          1.5241286845420214,
          1.605370205416112,
          1.7294332553983003,
          1.817493933867158,
          1.9033683207987213,
          1.9794868030785693,
          1.9899220176056853,
          1.9830555741491365,
          1.9492026330693237,
          1.8944642360369481,
          1.7951947497629872,
          1.696670585429267,
          1.6828487710422237,
          1.7045901273595605,
          1.7901976341333625,
          1.9291708246684838,
          1.9715003144836611,
          1.7951023893147073,
          1.4482560423188733,
          1.1608629466362221,
          1.0840828263577516,
          1.1814181553446297,
          1.2701530895199125,
          1.3505221951014534,
          1.6252786466467497,
          1.9392650397780935,
          1.9849175730034516,
          1.874358160550778,
          1.890636762862069,
          1.898591330904164,
          1.772033168298488,
          1.697090849902922,
          1.6321354325722977,
          1.6578636815737204,
          1.7905810032956677,
          1.80509930831187,
          1.8400833936659229,
          1.8605394004113631,
          1.8087653828250785,
          1.7821110859427534,
          1.7358132121841172,
          1.8048999270266939,
          1.861066685721914,
          1.8051578276964282,
          1.7186664216589942,
          1.4071935155048698,
          1.1413033004847373,
          1.3047804387509794,
          1.6030338281503627,
          1.7395109287027553,
          1.7915206120360399,
          1.7044938574743163,
          1.5001664015192855,
          1.429511635944336,
          1.4157278163977889,
          1.5080446500216442,
          1.715076581166588,
          1.7709645481382963
         ],
         "yaxis": "y"
        },
        {
         "line": {
          "color": "rgba(200, 0, 200, 0.6)",
          "width": 5
         },
         "showlegend": false,
         "type": "scatter",
         "x": [
          26,
          27,
          28,
          29,
          30,
          31,
          32
         ],
         "xaxis": "x",
         "y": [
          1.7289973531767884,
          1.745393165295063,
          1.758320451636728,
          1.7833968020243653,
          1.862718178499492,
          2,
          1.9446301311619767
         ],
         "yaxis": "y"
        },
        {
         "line": {
          "color": "black",
          "width": 1
         },
         "showlegend": false,
         "type": "scatter",
         "x": [
          0,
          1,
          2,
          3,
          4,
          5,
          6,
          7,
          8,
          9,
          10,
          11,
          12,
          13,
          14,
          15,
          16,
          17,
          18,
          19,
          20,
          21,
          22,
          23,
          24,
          25,
          26,
          27,
          28,
          29,
          30,
          31,
          32,
          33,
          34,
          35,
          36,
          37,
          38,
          39,
          40,
          41,
          42,
          43,
          44,
          45,
          46,
          47,
          48,
          49,
          50,
          51,
          52,
          53,
          54,
          55,
          56,
          57,
          58,
          59,
          60,
          61,
          62,
          63,
          64,
          65,
          66,
          67,
          68,
          69,
          70,
          71,
          72,
          73,
          74,
          75,
          76,
          77,
          78,
          79,
          80,
          81,
          82,
          83,
          84,
          85,
          86,
          87,
          88,
          89,
          90,
          91,
          92,
          93,
          94,
          95,
          96,
          97,
          98,
          99,
          100,
          101,
          102,
          103,
          104,
          105,
          106,
          107,
          108,
          109,
          110,
          111,
          112,
          113,
          114,
          115,
          116,
          117,
          118,
          119,
          120,
          121,
          122,
          123,
          124,
          125,
          126,
          127
         ],
         "xaxis": "x",
         "y": [
          2.7766271037142687,
          2.844652909537041,
          2.6539012095736068,
          2.3103180792911595,
          2.169851878615337,
          2.2900541351381185,
          2.4090736948888907,
          2.379689801002638,
          2.326243626542245,
          2.2796777622692463,
          2.276754815819708,
          2.348574853290628,
          2.3617605153622216,
          2.4101165537950804,
          2.4967554018014297,
          2.4474517845101533,
          2.3580219374731395,
          2.261881903506506,
          2.209765646473456,
          2.3123723513517396,
          2.405888100988438,
          2.4054778122517466,
          2.386796772981253,
          2.3660168023006456,
          2.3426747715867906,
          2.3232331889603945,
          2.339552315766404,
          2.39836912874236,
          2.453668291992371,
          2.437336144498451,
          2.3339430347442196,
          2.2336319277652787,
          2.2128059343123194,
          2.2326827534120746,
          2.183595035574457,
          2.0681447427068846,
          2,
          2.0067161627828214,
          2.074631299285378,
          2.193080397127355,
          2.34049803804907,
          2.455070418612868,
          2.4470527802729545,
          2.4244673912050234,
          2.436723590536279,
          2.3933551123206573,
          2.4576352330502975,
          2.611355600542062,
          2.662866729915948,
          2.714354216957992,
          2.7324234855092087,
          2.671803966487067,
          2.6521212175713873,
          2.629386577218394,
          2.6347354009688715,
          2.678361305016105,
          2.724266010753925,
          2.8646785447869165,
          2.9282780129359818,
          2.7332154311034165,
          2.456539515401819,
          2.3419778014458954,
          2.4216529529054904,
          2.4635672072444748,
          2.398372638830891,
          2.3316482200877724,
          2.2542857528262377,
          2.29717004188754,
          2.418142501761934,
          2.386446547371038,
          2.360644263695836,
          2.368766463511832,
          2.281659221749553,
          2.251785612495219,
          2.258974331824914,
          2.2807373158527056,
          2.364524361972513,
          2.376105507459446,
          2.357517471030529,
          2.3474531624374695,
          2.303122252757414,
          2.295800092045545,
          2.332003435245321,
          2.4022014346979215,
          2.444663309262152,
          2.3685887834105674,
          2.2130114630498636,
          2.104936417357069,
          2.135735413587785,
          2.1787762061831804,
          2.139376187646432,
          2.10503896415837,
          2.070550023620575,
          2.092202483373131,
          2.2719555675008154,
          2.483516000564515,
          2.5508368587724584,
          2.4575267249002923,
          2.388930428159729,
          2.420089179455887,
          2.4402942063377986,
          2.5426495917781544,
          2.6707706660451005,
          2.6654391026473174,
          2.7144300754828583,
          2.782418024565688,
          2.7106423708588387,
          2.668352331083154,
          2.6898501728863646,
          2.6732892270886586,
          2.6715676882136306,
          2.7148913185212433,
          2.819321818985895,
          3,
          2.989887899085825,
          2.5712979770721596,
          2.168185021698004,
          2.261135792126175,
          2.503453666033642,
          2.470986256552951,
          2.382380080798757,
          2.312247902758364,
          2.2924465070485334,
          2.394138833864464,
          2.3644697960508023,
          2.352339437744736,
          2.402336834187334,
          2.3316988262815124
         ],
         "yaxis": "y"
        },
        {
         "line": {
          "color": "rgba(200, 0, 200, 0.6)",
          "width": 5
         },
         "showlegend": false,
         "type": "scatter",
         "x": [
          26,
          27,
          28,
          29,
          30,
          31,
          32
         ],
         "xaxis": "x",
         "y": [
          2.339552315766404,
          2.39836912874236,
          2.453668291992371,
          2.437336144498451,
          2.3339430347442196,
          2.2336319277652787,
          2.2128059343123194
         ],
         "yaxis": "y"
        },
        {
         "line": {
          "color": "black",
          "width": 1
         },
         "showlegend": false,
         "type": "scatter",
         "x": [
          0,
          1,
          2,
          3,
          4,
          5,
          6,
          7,
          8,
          9,
          10,
          11,
          12,
          13,
          14,
          15,
          16,
          17,
          18,
          19,
          20,
          21,
          22,
          23,
          24,
          25,
          26,
          27,
          28,
          29,
          30,
          31,
          32,
          33,
          34,
          35,
          36,
          37,
          38,
          39,
          40,
          41,
          42,
          43,
          44,
          45,
          46,
          47,
          48,
          49,
          50,
          51,
          52,
          53,
          54,
          55,
          56,
          57,
          58,
          59,
          60,
          61,
          62,
          63,
          64,
          65,
          66,
          67,
          68,
          69,
          70,
          71,
          72,
          73,
          74,
          75,
          76,
          77,
          78,
          79,
          80,
          81,
          82,
          83,
          84,
          85,
          86,
          87,
          88,
          89,
          90,
          91,
          92,
          93,
          94,
          95,
          96,
          97,
          98,
          99,
          100,
          101,
          102,
          103,
          104,
          105,
          106,
          107,
          108,
          109,
          110,
          111,
          112,
          113,
          114,
          115,
          116,
          117,
          118,
          119,
          120,
          121,
          122,
          123,
          124,
          125,
          126,
          127
         ],
         "xaxis": "x",
         "y": [
          3.6617363203062494,
          3.674598066569454,
          3.735066533532013,
          3.7481178741918693,
          3.664173565538779,
          3.404357618262078,
          3.1385984445231045,
          3.1644966068058213,
          3.3392062993921967,
          3.39636895954774,
          3.4153029027807897,
          3.3795246594685984,
          3.281496626465175,
          3.189966792160591,
          3.036336352811087,
          3.0465312202375654,
          3.2401706061369917,
          3.3598066981168295,
          3.458166140478743,
          3.3998538074867555,
          3.2727805335754487,
          3.3318492854236594,
          3.3452694808499883,
          3.361730793042894,
          3.4111475329518046,
          3.3558576074031157,
          3.381200048129392,
          3.4456605887698566,
          3.5629997374292586,
          3.750598658202783,
          3.766085185524087,
          3.6895321763409044,
          3.561865155977416,
          3.344049798069616,
          3.25079025970624,
          3.3620619965442766,
          3.55017730987372,
          3.721646811577033,
          3.8316197959194387,
          3.7652091606001434,
          3.566120428261011,
          3.383642429496771,
          3.2566243530811714,
          3.2149742107361274,
          3.159782376099496,
          3.112102267341068,
          3.1017440522992334,
          3.0355019110229997,
          3.028992091690403,
          3.0311664573957615,
          3.0512142635919988,
          3.169596922518575,
          3.2465879956280066,
          3.3862077929884453,
          3.5825988780581746,
          3.7471980017038793,
          3.84787725811095,
          3.773108721270196,
          3.752461150389219,
          3.8285787717885595,
          3.7907151650917394,
          3.5772549304578662,
          3.18766633897646,
          3,
          3.1711687444682335,
          3.3600274489868074,
          3.4655614747479717,
          3.386213307900374,
          3.1609423809042005,
          3.139468293733802,
          3.154028669925316,
          3.0745602094472564,
          3.1685749449049183,
          3.277276967461299,
          3.3309141692168076,
          3.380103786978241,
          3.319717940766058,
          3.331095652843396,
          3.371346635888284,
          3.360911790537922,
          3.395778389264881,
          3.4031520058150515,
          3.4886756460851074,
          3.605506862915737,
          3.622191375678209,
          3.6379366653845198,
          3.6253708387143524,
          3.545523395300097,
          3.394016669793979,
          3.3225656033152053,
          3.4583608298388233,
          3.662717332355375,
          3.91026081375109,
          4,
          3.726564840820476,
          3.424105877663032,
          3.3262387528682327,
          3.223505752728353,
          3.027668327556125,
          3.0014072391916526,
          3.0916125888620805,
          3.02231316074342,
          3.01263643565828,
          3.0693166171871953,
          3.0112794256010282,
          3.056433564713292,
          3.164842549676151,
          3.265744646402848,
          3.39778951151858,
          3.5033657122547868,
          3.6945927616317755,
          3.7774787588916117,
          3.7001887812610743,
          3.7351875775116343,
          3.7661249159459693,
          3.787296187310206,
          3.758534655580987,
          3.4817966014432438,
          3.178081117375915,
          3.143938069124141,
          3.3441322232557393,
          3.4384781519219283,
          3.338528833941967,
          3.2665625166937247,
          3.2223572759217074,
          3.1595853708469486,
          3.109679946748883,
          3.1456908394719063
         ],
         "yaxis": "y"
        },
        {
         "line": {
          "color": "rgba(200, 0, 200, 0.6)",
          "width": 5
         },
         "showlegend": false,
         "type": "scatter",
         "x": [
          26,
          27,
          28,
          29,
          30,
          31,
          32
         ],
         "xaxis": "x",
         "y": [
          3.381200048129392,
          3.4456605887698566,
          3.5629997374292586,
          3.750598658202783,
          3.766085185524087,
          3.6895321763409044,
          3.561865155977416
         ],
         "yaxis": "y"
        },
        {
         "line": {
          "color": "black",
          "width": 1
         },
         "showlegend": false,
         "type": "scatter",
         "x": [
          0,
          1,
          2,
          3,
          4,
          5,
          6,
          7,
          8,
          9,
          10,
          11,
          12,
          13,
          14,
          15,
          16,
          17,
          18,
          19,
          20,
          21,
          22,
          23,
          24,
          25,
          26,
          27,
          28,
          29,
          30,
          31,
          32,
          33,
          34,
          35,
          36,
          37,
          38,
          39,
          40,
          41,
          42,
          43,
          44,
          45,
          46,
          47,
          48,
          49,
          50,
          51,
          52,
          53,
          54,
          55,
          56,
          57,
          58,
          59,
          60,
          61,
          62,
          63,
          64,
          65,
          66,
          67,
          68,
          69,
          70,
          71,
          72,
          73,
          74,
          75,
          76,
          77,
          78,
          79,
          80,
          81,
          82,
          83,
          84,
          85,
          86,
          87,
          88,
          89,
          90,
          91,
          92,
          93,
          94,
          95,
          96,
          97,
          98,
          99,
          100,
          101,
          102,
          103,
          104,
          105,
          106,
          107,
          108,
          109,
          110,
          111,
          112,
          113,
          114,
          115,
          116,
          117,
          118,
          119,
          120,
          121,
          122,
          123,
          124,
          125,
          126,
          127
         ],
         "xaxis": "x",
         "y": [
          4.890536581421266,
          4.889861100249879,
          4.6188087126902575,
          4.1561287568798,
          4,
          4.3277809910882485,
          4.668728320746545,
          4.770516324249362,
          4.770256808741259,
          4.686953972131922,
          4.554255785593076,
          4.393189721355543,
          4.35633592864982,
          4.545039946600672,
          4.693447449259622,
          4.744524656152241,
          4.798532075308161,
          4.893579151987864,
          4.9811451173243,
          4.930595883341739,
          4.928922433213918,
          4.974279662278783,
          4.921723232363828,
          4.911422386608138,
          4.8325018539416025,
          4.715226301929431,
          4.730578354726395,
          4.747117535418576,
          4.760163292125754,
          4.785190680587228,
          4.863910275763373,
          5,
          4.945129744438114,
          4.679520464053144,
          4.403186358476163,
          4.279246216276482,
          4.266587360173582,
          4.224828460467041,
          4.282644685524778,
          4.462280792438678,
          4.7075891278037005,
          4.94589650030542,
          4.90340486089809,
          4.802652195713285,
          4.843588339984442,
          4.776734564226275,
          4.738369473190056,
          4.740046385461515,
          4.697405222607363,
          4.7727424220817944,
          4.8191084423283135,
          4.824784663139477,
          4.850987279890587,
          4.821961442372619,
          4.840277755920811,
          4.861912643094875,
          4.896028558084965,
          4.938174225236413,
          4.776613098669399,
          4.473961532436776,
          4.244043357659533,
          4.257296346663717,
          4.49062896981374,
          4.702736295540202,
          4.7606260572551395,
          4.6923905968663,
          4.651471641048821,
          4.592811718218308,
          4.448695510277603,
          4.437249130771944,
          4.520429310653307,
          4.600739542934091,
          4.723533146635825,
          4.810704342859716,
          4.8957531602955555,
          4.971168090947366,
          4.981518205670216,
          4.974727804088187,
          4.941185927039802,
          4.886925178233818,
          4.788507002609197,
          4.690789414750039,
          4.6769628599146476,
          4.6983397338604185,
          4.782967112782839,
          4.920440302354089,
          4.96211506954914,
          4.78701561765732,
          4.442977162683708,
          4.157810680785756,
          4.081317522393169,
          4.177362955402021,
          4.264928436522565,
          4.344268784368737,
          4.616300183832564,
          4.927286751925787,
          4.9724657895418565,
          4.8629194489913665,
          4.879096254614275,
          4.887055553363133,
          4.761750128135631,
          4.687600613404694,
          4.623354894660043,
          4.648973317041083,
          4.780612879319599,
          4.795140481925552,
          4.8299490677512456,
          4.850357678175106,
          4.799184459381429,
          4.772883958387455,
          4.727098004570514,
          4.795618923544489,
          4.851311704539209,
          4.7959222605909515,
          4.710195686169027,
          4.401509639891061,
          4.137968118741358,
          4.299870544880882,
          4.595337896745319,
          4.730538031647867,
          4.782074799734359,
          4.695873387470284,
          4.493468048651108,
          4.423542794637503,
          4.410006176173721,
          4.501648149847387,
          4.70701161561296,
          4.76266626460607
         ],
         "yaxis": "y"
        },
        {
         "line": {
          "color": "rgba(200, 0, 200, 0.6)",
          "width": 5
         },
         "showlegend": false,
         "type": "scatter",
         "x": [
          26,
          27,
          28,
          29,
          30,
          31,
          32
         ],
         "xaxis": "x",
         "y": [
          4.730578354726395,
          4.747117535418576,
          4.760163292125754,
          4.785190680587228,
          4.863910275763373,
          5,
          4.945129744438114
         ],
         "yaxis": "y"
        },
        {
         "line": {
          "color": "black",
          "width": 1
         },
         "showlegend": false,
         "type": "scatter",
         "x": [
          0,
          1,
          2,
          3,
          4,
          5,
          6,
          7,
          8,
          9,
          10,
          11,
          12,
          13,
          14,
          15,
          16,
          17,
          18,
          19,
          20,
          21,
          22,
          23,
          24,
          25,
          26,
          27,
          28,
          29,
          30,
          31,
          32,
          33,
          34,
          35,
          36,
          37,
          38,
          39,
          40,
          41,
          42,
          43,
          44,
          45,
          46,
          47,
          48,
          49,
          50,
          51,
          52,
          53,
          54,
          55,
          56,
          57,
          58,
          59,
          60,
          61,
          62,
          63,
          64,
          65,
          66,
          67,
          68,
          69,
          70,
          71,
          72,
          73,
          74,
          75,
          76,
          77,
          78,
          79,
          80,
          81,
          82,
          83,
          84,
          85,
          86,
          87,
          88,
          89,
          90,
          91,
          92,
          93,
          94,
          95,
          96,
          97,
          98,
          99,
          100,
          101,
          102,
          103,
          104,
          105,
          106,
          107,
          108,
          109,
          110,
          111,
          112,
          113,
          114,
          115,
          116,
          117,
          118,
          119,
          120,
          121,
          122,
          123,
          124,
          125,
          126,
          127
         ],
         "xaxis": "x",
         "y": [
          5.724965262132776,
          5.793977109362879,
          5.607548551429505,
          5.270215663901187,
          5.133229525269186,
          5.253391772721886,
          5.372318070618491,
          5.344737062828163,
          5.293353387879562,
          5.248706526138849,
          5.247080845479898,
          5.319173470632117,
          5.333372913795699,
          5.382249508059128,
          5.468875658187402,
          5.421323899194631,
          5.334144360671524,
          5.240313187565017,
          5.189900340823278,
          5.292151904241999,
          5.3854215319242,
          5.385996231077381,
          5.368532673633515,
          5.348988909073525,
          5.3269084929863,
          5.308670268221564,
          5.325716341482824,
          5.384696717092634,
          5.440203377545512,
          5.425019379922629,
          5.323916212894032,
          5.225847520944344,
          5.206212395936686,
          5.226747241724602,
          5.179239236413872,
          5.066263734124638,
          5,
          5.0076533518678294,
          5.075755888547983,
          5.193794646103147,
          5.340494019132592,
          5.454854556113894,
          5.4483084361919625,
          5.427442528653373,
          5.4410045240812,
          5.3997134090171315,
          5.464679976503633,
          5.617927258591146,
          5.6703224681719835,
          5.722686045825931,
          5.742045930130369,
          5.683710502314999,
          5.665710647735984,
          5.644624461756285,
          5.651165257209073,
          5.695382253945117,
          5.741741920118077,
          5.88124429981227,
          5.944814453700878,
          5.75298656916972,
          5.480461502656795,
          5.367749361206834,
          5.446556671531209,
          5.4879569238995956,
          5.423525637318918,
          5.357456861780789,
          5.280773527998979,
          5.322646369942971,
          5.441486216781467,
          5.4095915559644645,
          5.383439555538507,
          5.390698653367326,
          5.3039275832120065,
          5.273587240854366,
          5.279783849453784,
          5.300337760276369,
          5.382082302552368,
          5.392566153666469,
          5.373276117236795,
          5.362398727738137,
          5.317713077525989,
          5.309559511820607,
          5.3443747556040035,
          5.412758740574115,
          5.453797520171436,
          5.377889254476991,
          5.223553848417517,
          5.1161260994599385,
          5.1457831063181985,
          5.1875757520240136,
          5.1480819315570985,
          5.113660097340456,
          5.07917456987736,
          5.100186614055568,
          5.277318763372003,
          5.485947495009026,
          5.55234353932922,
          5.460320753463911,
          5.3927668374886135,
          5.423724732388173,
          5.443940167279935,
          5.5452811605968675,
          5.67209686182659,
          5.667255459441572,
          5.716037759074069,
          5.783566627143457,
          5.7131585380725305,
          5.671812460746353,
          5.693364108383291,
          5.677299240318483,
          5.675807100780751,
          5.718685394294115,
          5.821773844031986,
          6,
          5.989832697164234,
          5.576439624813858,
          5.17817520137085,
          5.2692938580244615,
          5.507691281553921,
          5.474824564467012,
          5.386462594459231,
          5.316242078420842,
          5.295611349249107,
          5.394806664517795,
          5.364321047168499,
          5.351098887414959,
          5.399149542009775,
          5.328129828878432
         ],
         "yaxis": "y"
        },
        {
         "line": {
          "color": "rgba(200, 0, 200, 0.6)",
          "width": 5
         },
         "showlegend": false,
         "type": "scatter",
         "x": [
          26,
          27,
          28,
          29,
          30,
          31,
          32
         ],
         "xaxis": "x",
         "y": [
          5.325716341482824,
          5.384696717092634,
          5.440203377545512,
          5.425019379922629,
          5.323916212894032,
          5.225847520944344,
          5.206212395936686
         ],
         "yaxis": "y"
        },
        {
         "line": {
          "color": "black",
          "width": 1
         },
         "showlegend": false,
         "type": "scatter",
         "x": [
          0,
          1,
          2,
          3,
          4,
          5,
          6,
          7,
          8,
          9,
          10,
          11,
          12,
          13,
          14,
          15,
          16,
          17,
          18,
          19,
          20,
          21,
          22,
          23,
          24,
          25,
          26,
          27,
          28,
          29,
          30,
          31,
          32,
          33,
          34,
          35,
          36,
          37,
          38,
          39,
          40,
          41,
          42,
          43,
          44,
          45,
          46,
          47,
          48,
          49,
          50,
          51,
          52,
          53,
          54,
          55,
          56,
          57,
          58,
          59,
          60,
          61,
          62,
          63,
          64,
          65,
          66,
          67,
          68,
          69,
          70,
          71,
          72,
          73,
          74,
          75,
          76,
          77,
          78,
          79,
          80,
          81,
          82,
          83,
          84,
          85,
          86,
          87,
          88,
          89,
          90,
          91,
          92,
          93,
          94,
          95,
          96,
          97,
          98,
          99,
          100,
          101,
          102,
          103,
          104,
          105,
          106,
          107,
          108,
          109,
          110,
          111,
          112,
          113,
          114,
          115,
          116,
          117,
          118,
          119,
          120,
          121,
          122,
          123,
          124,
          125,
          126,
          127
         ],
         "xaxis": "x",
         "y": [
          6.334665694045147,
          6.3005035628846695,
          6.371358461748738,
          6.587444517338071,
          6.808858816044152,
          6.814686941872247,
          6.679200186762047,
          6.535643603377373,
          6.34772581035122,
          6.253040259566493,
          6.39026636446655,
          6.570735585665392,
          6.728188472023529,
          6.855096999560988,
          6.850229452957982,
          6.841836408287606,
          6.823828393427984,
          6.74389678346553,
          6.723835654796863,
          6.702374260669826,
          6.681228889054651,
          6.68807098361495,
          6.662927400617999,
          6.666662223164811,
          6.676940884269166,
          6.680538564122341,
          6.703239461319804,
          6.7009747150497585,
          6.735132707139995,
          6.835890228977864,
          6.8642442098231475,
          6.657840456298302,
          6.309023344086218,
          6.069469794999949,
          6,
          6.188172030916695,
          6.53675840795882,
          6.672616752598864,
          6.712550254836256,
          6.755196805141661,
          6.588035054685665,
          6.413590025272623,
          6.331306568605494,
          6.28247044366424,
          6.325600815288862,
          6.345486393391452,
          6.4102958652397914,
          6.518058133601449,
          6.568849969231412,
          6.66122210817784,
          6.707567039215981,
          6.713620879341874,
          6.70255449018487,
          6.611788845871552,
          6.560984251107674,
          6.52248365449669,
          6.501857092841235,
          6.519517425800642,
          6.5162772536405145,
          6.643155931283156,
          6.881553801569553,
          6.998661550655876,
          6.905902647088385,
          6.738887473706781,
          6.595161363902826,
          6.41187010661795,
          6.353551551714938,
          6.479857844532383,
          6.603046747109197,
          6.723569449594537,
          6.82735924529273,
          6.900952274090671,
          6.931091004027765,
          6.867260377301447,
          6.797729710975023,
          6.727941972394741,
          6.662639676749412,
          6.639640839828149,
          6.624698619449113,
          6.6405862838230645,
          6.668768578014321,
          6.721855649565438,
          6.799111710536462,
          6.820702765537777,
          6.823579779274182,
          6.804715471763577,
          6.679389715688165,
          6.428675046724254,
          6.168756192296525,
          6.129512857526814,
          6.343235998897567,
          6.628045521134587,
          6.84446471789042,
          6.933491934706707,
          6.889935013897828,
          6.7134401099481025,
          6.459116378687855,
          6.29202544232489,
          6.281255671538502,
          6.319959442510429,
          6.370748983655801,
          6.481044003085587,
          6.591847723245927,
          6.651101258124387,
          6.698384016998261,
          6.739539152320214,
          6.739496951799717,
          6.69755309864745,
          6.645728879921703,
          6.608966877270358,
          6.6172456611071455,
          6.631289719890221,
          6.602752738152429,
          6.579161427968435,
          6.604781863350036,
          6.785546627661028,
          7,
          6.913735657559243,
          6.70948500338369,
          6.567671099041022,
          6.358407355955632,
          6.339893969617605,
          6.537371530233163,
          6.695858464313162,
          6.879407468700306,
          6.95839168147659,
          6.938226761122649,
          6.970815325753376
         ],
         "yaxis": "y"
        },
        {
         "line": {
          "color": "rgba(200, 0, 200, 0.6)",
          "width": 5
         },
         "showlegend": false,
         "type": "scatter",
         "x": [
          26,
          27,
          28,
          29,
          30,
          31,
          32
         ],
         "xaxis": "x",
         "y": [
          6.703239461319804,
          6.7009747150497585,
          6.735132707139995,
          6.835890228977864,
          6.8642442098231475,
          6.657840456298302,
          6.309023344086218
         ],
         "yaxis": "y"
        },
        {
         "line": {
          "color": "black",
          "width": 1
         },
         "showlegend": false,
         "type": "scatter",
         "x": [
          0,
          1,
          2,
          3,
          4,
          5,
          6,
          7,
          8,
          9,
          10,
          11,
          12,
          13,
          14,
          15,
          16,
          17,
          18,
          19,
          20,
          21,
          22,
          23,
          24,
          25,
          26,
          27,
          28,
          29,
          30,
          31,
          32,
          33,
          34,
          35,
          36,
          37,
          38,
          39,
          40,
          41,
          42,
          43,
          44,
          45,
          46,
          47,
          48,
          49,
          50,
          51,
          52,
          53,
          54,
          55,
          56,
          57,
          58,
          59,
          60,
          61,
          62,
          63,
          64,
          65,
          66,
          67,
          68,
          69,
          70,
          71,
          72,
          73,
          74,
          75,
          76,
          77,
          78,
          79,
          80,
          81,
          82,
          83,
          84,
          85,
          86,
          87,
          88,
          89,
          90,
          91,
          92,
          93,
          94,
          95,
          96,
          97,
          98,
          99,
          100,
          101,
          102,
          103,
          104,
          105,
          106,
          107,
          108,
          109,
          110,
          111,
          112,
          113,
          114,
          115,
          116,
          117,
          118,
          119,
          120,
          121,
          122,
          123,
          124,
          125,
          126,
          127
         ],
         "xaxis": "x",
         "y": [
          7.682072178482772,
          7.659833630882074,
          7.582059437458611,
          7.579275426863036,
          7.758608866048849,
          7.923350153550641,
          7.641347101901085,
          7.211696066547647,
          7.132613226654687,
          7.1418114328424105,
          7.1106657862838425,
          7.204960828127844,
          7.2564844454943636,
          7.1925315911564125,
          7.110875684007111,
          7.064451380793971,
          7.120733054244233,
          7.238609911664814,
          7.357215021241495,
          7.388895906994396,
          7.340249747309475,
          7.36524093702681,
          7.411221434352744,
          7.445243783425825,
          7.502755856417565,
          7.496593015285356,
          7.432732330058361,
          7.311458169552438,
          7.209452407046677,
          7.26653331835908,
          7.357066698680588,
          7.381707800682361,
          7.315710186235822,
          7.1208026457956555,
          7.053119227328529,
          7.33872523923306,
          7.772631660476878,
          7.994027596516163,
          7.963683433957733,
          7.945486618051978,
          7.927225128862486,
          7.789641857168859,
          7.730629460810701,
          7.842987518443504,
          7.944746167042959,
          7.9119297036259635,
          7.828200494924889,
          7.7468683414594475,
          7.621968081604517,
          7.529367905786129,
          7.463333382257833,
          7.4181828356330435,
          7.4516858350018005,
          7.422914925586997,
          7.380161102311586,
          7.461525251625545,
          7.6034950294515165,
          7.716470581401203,
          7.6155581072027445,
          7.491778325542849,
          7.651975749454924,
          7.735412727857145,
          7.529946634859288,
          7.240836647677765,
          7.049142401276426,
          7.160114746670487,
          7.27848943346978,
          7.100301098671293,
          7.014164998199217,
          7.073945573752716,
          7.0809883394456685,
          7.1437120915804675,
          7.1787963798451715,
          7.220237045011831,
          7.367959189996166,
          7.423290836144233,
          7.3883396780277355,
          7.3887827868376315,
          7.418895209917086,
          7.437521309266094,
          7.443132030315118,
          7.474767129706724,
          7.47436833565047,
          7.41543375635599,
          7.30215474341746,
          7.1858710561883035,
          7.211872156021393,
          7.306077662157609,
          7.340171713377301,
          7.32614047656852,
          7.341567145971862,
          7.547397887855752,
          7.832098551240991,
          7.937745187262074,
          7.973433221930052,
          8,
          7.862819058093648,
          7.73997281398492,
          7.8007399088377785,
          7.849304665383528,
          7.843783116013028,
          7.830864492043637,
          7.726357345064886,
          7.576151823438063,
          7.461883240325148,
          7.402217093110165,
          7.395775556596869,
          7.379214006606744,
          7.331461693665504,
          7.324997269780537,
          7.450055297593922,
          7.649649718651853,
          7.730015800419021,
          7.665348480565097,
          7.558149104836555,
          7.501026407612084,
          7.648646895488748,
          7.780921729836071,
          7.434857099151502,
          7,
          7.028926384763439,
          7.105972287304286,
          7.006653215656356,
          7.025157907373916,
          7.090857017825816,
          7.119356442737035,
          7.127172654431669,
          7.106541179842073
         ],
         "yaxis": "y"
        },
        {
         "line": {
          "color": "rgba(200, 0, 200, 0.6)",
          "width": 5
         },
         "showlegend": false,
         "type": "scatter",
         "x": [
          26,
          27,
          28,
          29,
          30,
          31,
          32
         ],
         "xaxis": "x",
         "y": [
          7.432732330058361,
          7.311458169552438,
          7.209452407046677,
          7.26653331835908,
          7.357066698680588,
          7.381707800682361,
          7.315710186235822
         ],
         "yaxis": "y"
        },
        {
         "line": {
          "color": "black",
          "width": 1
         },
         "showlegend": false,
         "type": "scatter",
         "x": [
          0,
          1,
          2,
          3,
          4,
          5,
          6,
          7,
          8,
          9,
          10,
          11,
          12,
          13,
          14,
          15,
          16,
          17,
          18,
          19,
          20,
          21,
          22,
          23,
          24,
          25,
          26,
          27,
          28,
          29,
          30,
          31,
          32,
          33,
          34,
          35,
          36,
          37,
          38,
          39,
          40,
          41,
          42,
          43,
          44,
          45,
          46,
          47,
          48,
          49,
          50,
          51,
          52,
          53,
          54,
          55,
          56,
          57,
          58,
          59,
          60,
          61,
          62,
          63,
          64,
          65,
          66,
          67,
          68,
          69,
          70,
          71,
          72,
          73,
          74,
          75,
          76,
          77,
          78,
          79,
          80,
          81,
          82,
          83,
          84,
          85,
          86,
          87,
          88,
          89,
          90,
          91,
          92,
          93,
          94,
          95,
          96,
          97,
          98,
          99,
          100,
          101,
          102,
          103,
          104,
          105,
          106,
          107,
          108,
          109,
          110,
          111,
          112,
          113,
          114,
          115,
          116,
          117,
          118,
          119,
          120,
          121,
          122,
          123,
          124,
          125,
          126,
          127
         ],
         "xaxis": "x",
         "y": [
          8.595363960715368,
          8.667606485409948,
          8.852787227829669,
          8.97347854454308,
          8.803046199526104,
          8.577166316103497,
          8.595820205685747,
          8.63953031315296,
          8.589720365967203,
          8.6030336245682,
          8.59857858354863,
          8.53496417209056,
          8.477532056146433,
          8.454032762922813,
          8.530053112102157,
          8.597857580662705,
          8.597176904565748,
          8.628765975339522,
          8.697904194930622,
          8.780625223430055,
          8.810683371310287,
          8.788666010798586,
          8.769061013985498,
          8.712562829154594,
          8.653909632643757,
          8.614383584545644,
          8.560328360545949,
          8.487001231244841,
          8.385442278364483,
          8.347801952409984,
          8.410523756268573,
          8.443677140215822,
          8.410883620271273,
          8.365588679849047,
          8.28926621875478,
          8.195757904592462,
          8.17363414950605,
          8.222882900079675,
          8.300992685720683,
          8.40135603246518,
          8.478254739556686,
          8.53361120513355,
          8.618888896422273,
          8.714621877100475,
          8.770268499689886,
          8.735823429974493,
          8.641115916831199,
          8.587791060294373,
          8.576654637009932,
          8.58087286897201,
          8.578894190653399,
          8.535403878383583,
          8.495355407426029,
          8.470021155483328,
          8.47965913635305,
          8.544340083883661,
          8.590539494089162,
          8.652347266560538,
          8.759941445896475,
          8.866338860114256,
          8.873060609732473,
          8.658240923328743,
          8.501469589550476,
          8.695775260352335,
          8.872931672952117,
          8.721998335817322,
          8.591079857994535,
          8.614324882092385,
          8.522889685921013,
          8.444560574470437,
          8.472449107493812,
          8.502445893056416,
          8.590931044667816,
          8.607649358483018,
          8.586065254527869,
          8.655561588058402,
          8.708124564403748,
          8.77238630803814,
          8.795435858182058,
          8.755144128430537,
          8.727623977929731,
          8.646105451510817,
          8.569109181289692,
          8.466478030708279,
          8.304071290391764,
          8.276401573225748,
          8.361449200733936,
          8.401091436807157,
          8.364673895123344,
          8.229620238009764,
          8.041442830967242,
          8,
          8.15248179543047,
          8.327377786910558,
          8.486123012410557,
          8.589605238460898,
          8.603404081669078,
          8.668240680521953,
          8.758087943460671,
          8.788195174241109,
          8.76670341220034,
          8.645395922549618,
          8.502136352064978,
          8.463930355826689,
          8.509095020844008,
          8.538484806814166,
          8.538711283544497,
          8.53273305004329,
          8.46769722213385,
          8.445080899571924,
          8.511797848685474,
          8.549565303987437,
          8.591789259467683,
          8.688556365278536,
          8.882545431091867,
          9,
          8.754244410474673,
          8.492938118052662,
          8.578277641046842,
          8.66586441912184,
          8.610093321833912,
          8.64226835087656,
          8.637402479607852,
          8.535691618918046,
          8.474872423575114,
          8.440662917011247,
          8.550231350830373,
          8.675429036412268
         ],
         "yaxis": "y"
        },
        {
         "line": {
          "color": "rgba(200, 0, 200, 0.6)",
          "width": 5
         },
         "showlegend": false,
         "type": "scatter",
         "x": [
          26,
          27,
          28,
          29,
          30,
          31,
          32
         ],
         "xaxis": "x",
         "y": [
          8.560328360545949,
          8.487001231244841,
          8.385442278364483,
          8.347801952409984,
          8.410523756268573,
          8.443677140215822,
          8.410883620271273
         ],
         "yaxis": "y"
        }
       ],
       "layout": {
        "height": 600,
        "plot_bgcolor": "rgb(256,256,256)",
        "template": {
         "data": {
          "bar": [
           {
            "error_x": {
             "color": "#2a3f5f"
            },
            "error_y": {
             "color": "#2a3f5f"
            },
            "marker": {
             "line": {
              "color": "#E5ECF6",
              "width": 0.5
             }
            },
            "type": "bar"
           }
          ],
          "barpolar": [
           {
            "marker": {
             "line": {
              "color": "#E5ECF6",
              "width": 0.5
             }
            },
            "type": "barpolar"
           }
          ],
          "carpet": [
           {
            "aaxis": {
             "endlinecolor": "#2a3f5f",
             "gridcolor": "white",
             "linecolor": "white",
             "minorgridcolor": "white",
             "startlinecolor": "#2a3f5f"
            },
            "baxis": {
             "endlinecolor": "#2a3f5f",
             "gridcolor": "white",
             "linecolor": "white",
             "minorgridcolor": "white",
             "startlinecolor": "#2a3f5f"
            },
            "type": "carpet"
           }
          ],
          "choropleth": [
           {
            "colorbar": {
             "outlinewidth": 0,
             "ticks": ""
            },
            "type": "choropleth"
           }
          ],
          "contour": [
           {
            "colorbar": {
             "outlinewidth": 0,
             "ticks": ""
            },
            "colorscale": [
             [
              0,
              "#0d0887"
             ],
             [
              0.1111111111111111,
              "#46039f"
             ],
             [
              0.2222222222222222,
              "#7201a8"
             ],
             [
              0.3333333333333333,
              "#9c179e"
             ],
             [
              0.4444444444444444,
              "#bd3786"
             ],
             [
              0.5555555555555556,
              "#d8576b"
             ],
             [
              0.6666666666666666,
              "#ed7953"
             ],
             [
              0.7777777777777778,
              "#fb9f3a"
             ],
             [
              0.8888888888888888,
              "#fdca26"
             ],
             [
              1,
              "#f0f921"
             ]
            ],
            "type": "contour"
           }
          ],
          "contourcarpet": [
           {
            "colorbar": {
             "outlinewidth": 0,
             "ticks": ""
            },
            "type": "contourcarpet"
           }
          ],
          "heatmap": [
           {
            "colorbar": {
             "outlinewidth": 0,
             "ticks": ""
            },
            "colorscale": [
             [
              0,
              "#0d0887"
             ],
             [
              0.1111111111111111,
              "#46039f"
             ],
             [
              0.2222222222222222,
              "#7201a8"
             ],
             [
              0.3333333333333333,
              "#9c179e"
             ],
             [
              0.4444444444444444,
              "#bd3786"
             ],
             [
              0.5555555555555556,
              "#d8576b"
             ],
             [
              0.6666666666666666,
              "#ed7953"
             ],
             [
              0.7777777777777778,
              "#fb9f3a"
             ],
             [
              0.8888888888888888,
              "#fdca26"
             ],
             [
              1,
              "#f0f921"
             ]
            ],
            "type": "heatmap"
           }
          ],
          "heatmapgl": [
           {
            "colorbar": {
             "outlinewidth": 0,
             "ticks": ""
            },
            "colorscale": [
             [
              0,
              "#0d0887"
             ],
             [
              0.1111111111111111,
              "#46039f"
             ],
             [
              0.2222222222222222,
              "#7201a8"
             ],
             [
              0.3333333333333333,
              "#9c179e"
             ],
             [
              0.4444444444444444,
              "#bd3786"
             ],
             [
              0.5555555555555556,
              "#d8576b"
             ],
             [
              0.6666666666666666,
              "#ed7953"
             ],
             [
              0.7777777777777778,
              "#fb9f3a"
             ],
             [
              0.8888888888888888,
              "#fdca26"
             ],
             [
              1,
              "#f0f921"
             ]
            ],
            "type": "heatmapgl"
           }
          ],
          "histogram": [
           {
            "marker": {
             "colorbar": {
              "outlinewidth": 0,
              "ticks": ""
             }
            },
            "type": "histogram"
           }
          ],
          "histogram2d": [
           {
            "colorbar": {
             "outlinewidth": 0,
             "ticks": ""
            },
            "colorscale": [
             [
              0,
              "#0d0887"
             ],
             [
              0.1111111111111111,
              "#46039f"
             ],
             [
              0.2222222222222222,
              "#7201a8"
             ],
             [
              0.3333333333333333,
              "#9c179e"
             ],
             [
              0.4444444444444444,
              "#bd3786"
             ],
             [
              0.5555555555555556,
              "#d8576b"
             ],
             [
              0.6666666666666666,
              "#ed7953"
             ],
             [
              0.7777777777777778,
              "#fb9f3a"
             ],
             [
              0.8888888888888888,
              "#fdca26"
             ],
             [
              1,
              "#f0f921"
             ]
            ],
            "type": "histogram2d"
           }
          ],
          "histogram2dcontour": [
           {
            "colorbar": {
             "outlinewidth": 0,
             "ticks": ""
            },
            "colorscale": [
             [
              0,
              "#0d0887"
             ],
             [
              0.1111111111111111,
              "#46039f"
             ],
             [
              0.2222222222222222,
              "#7201a8"
             ],
             [
              0.3333333333333333,
              "#9c179e"
             ],
             [
              0.4444444444444444,
              "#bd3786"
             ],
             [
              0.5555555555555556,
              "#d8576b"
             ],
             [
              0.6666666666666666,
              "#ed7953"
             ],
             [
              0.7777777777777778,
              "#fb9f3a"
             ],
             [
              0.8888888888888888,
              "#fdca26"
             ],
             [
              1,
              "#f0f921"
             ]
            ],
            "type": "histogram2dcontour"
           }
          ],
          "mesh3d": [
           {
            "colorbar": {
             "outlinewidth": 0,
             "ticks": ""
            },
            "type": "mesh3d"
           }
          ],
          "parcoords": [
           {
            "line": {
             "colorbar": {
              "outlinewidth": 0,
              "ticks": ""
             }
            },
            "type": "parcoords"
           }
          ],
          "pie": [
           {
            "automargin": true,
            "type": "pie"
           }
          ],
          "scatter": [
           {
            "marker": {
             "colorbar": {
              "outlinewidth": 0,
              "ticks": ""
             }
            },
            "type": "scatter"
           }
          ],
          "scatter3d": [
           {
            "line": {
             "colorbar": {
              "outlinewidth": 0,
              "ticks": ""
             }
            },
            "marker": {
             "colorbar": {
              "outlinewidth": 0,
              "ticks": ""
             }
            },
            "type": "scatter3d"
           }
          ],
          "scattercarpet": [
           {
            "marker": {
             "colorbar": {
              "outlinewidth": 0,
              "ticks": ""
             }
            },
            "type": "scattercarpet"
           }
          ],
          "scattergeo": [
           {
            "marker": {
             "colorbar": {
              "outlinewidth": 0,
              "ticks": ""
             }
            },
            "type": "scattergeo"
           }
          ],
          "scattergl": [
           {
            "marker": {
             "colorbar": {
              "outlinewidth": 0,
              "ticks": ""
             }
            },
            "type": "scattergl"
           }
          ],
          "scattermapbox": [
           {
            "marker": {
             "colorbar": {
              "outlinewidth": 0,
              "ticks": ""
             }
            },
            "type": "scattermapbox"
           }
          ],
          "scatterpolar": [
           {
            "marker": {
             "colorbar": {
              "outlinewidth": 0,
              "ticks": ""
             }
            },
            "type": "scatterpolar"
           }
          ],
          "scatterpolargl": [
           {
            "marker": {
             "colorbar": {
              "outlinewidth": 0,
              "ticks": ""
             }
            },
            "type": "scatterpolargl"
           }
          ],
          "scatterternary": [
           {
            "marker": {
             "colorbar": {
              "outlinewidth": 0,
              "ticks": ""
             }
            },
            "type": "scatterternary"
           }
          ],
          "surface": [
           {
            "colorbar": {
             "outlinewidth": 0,
             "ticks": ""
            },
            "colorscale": [
             [
              0,
              "#0d0887"
             ],
             [
              0.1111111111111111,
              "#46039f"
             ],
             [
              0.2222222222222222,
              "#7201a8"
             ],
             [
              0.3333333333333333,
              "#9c179e"
             ],
             [
              0.4444444444444444,
              "#bd3786"
             ],
             [
              0.5555555555555556,
              "#d8576b"
             ],
             [
              0.6666666666666666,
              "#ed7953"
             ],
             [
              0.7777777777777778,
              "#fb9f3a"
             ],
             [
              0.8888888888888888,
              "#fdca26"
             ],
             [
              1,
              "#f0f921"
             ]
            ],
            "type": "surface"
           }
          ],
          "table": [
           {
            "cells": {
             "fill": {
              "color": "#EBF0F8"
             },
             "line": {
              "color": "white"
             }
            },
            "header": {
             "fill": {
              "color": "#C8D4E3"
             },
             "line": {
              "color": "white"
             }
            },
            "type": "table"
           }
          ]
         },
         "layout": {
          "annotationdefaults": {
           "arrowcolor": "#2a3f5f",
           "arrowhead": 0,
           "arrowwidth": 1
          },
          "coloraxis": {
           "colorbar": {
            "outlinewidth": 0,
            "ticks": ""
           }
          },
          "colorscale": {
           "diverging": [
            [
             0,
             "#8e0152"
            ],
            [
             0.1,
             "#c51b7d"
            ],
            [
             0.2,
             "#de77ae"
            ],
            [
             0.3,
             "#f1b6da"
            ],
            [
             0.4,
             "#fde0ef"
            ],
            [
             0.5,
             "#f7f7f7"
            ],
            [
             0.6,
             "#e6f5d0"
            ],
            [
             0.7,
             "#b8e186"
            ],
            [
             0.8,
             "#7fbc41"
            ],
            [
             0.9,
             "#4d9221"
            ],
            [
             1,
             "#276419"
            ]
           ],
           "sequential": [
            [
             0,
             "#0d0887"
            ],
            [
             0.1111111111111111,
             "#46039f"
            ],
            [
             0.2222222222222222,
             "#7201a8"
            ],
            [
             0.3333333333333333,
             "#9c179e"
            ],
            [
             0.4444444444444444,
             "#bd3786"
            ],
            [
             0.5555555555555556,
             "#d8576b"
            ],
            [
             0.6666666666666666,
             "#ed7953"
            ],
            [
             0.7777777777777778,
             "#fb9f3a"
            ],
            [
             0.8888888888888888,
             "#fdca26"
            ],
            [
             1,
             "#f0f921"
            ]
           ],
           "sequentialminus": [
            [
             0,
             "#0d0887"
            ],
            [
             0.1111111111111111,
             "#46039f"
            ],
            [
             0.2222222222222222,
             "#7201a8"
            ],
            [
             0.3333333333333333,
             "#9c179e"
            ],
            [
             0.4444444444444444,
             "#bd3786"
            ],
            [
             0.5555555555555556,
             "#d8576b"
            ],
            [
             0.6666666666666666,
             "#ed7953"
            ],
            [
             0.7777777777777778,
             "#fb9f3a"
            ],
            [
             0.8888888888888888,
             "#fdca26"
            ],
            [
             1,
             "#f0f921"
            ]
           ]
          },
          "colorway": [
           "#636efa",
           "#EF553B",
           "#00cc96",
           "#ab63fa",
           "#FFA15A",
           "#19d3f3",
           "#FF6692",
           "#B6E880",
           "#FF97FF",
           "#FECB52"
          ],
          "font": {
           "color": "#2a3f5f"
          },
          "geo": {
           "bgcolor": "white",
           "lakecolor": "white",
           "landcolor": "#E5ECF6",
           "showlakes": true,
           "showland": true,
           "subunitcolor": "white"
          },
          "hoverlabel": {
           "align": "left"
          },
          "hovermode": "closest",
          "mapbox": {
           "style": "light"
          },
          "paper_bgcolor": "white",
          "plot_bgcolor": "#E5ECF6",
          "polar": {
           "angularaxis": {
            "gridcolor": "white",
            "linecolor": "white",
            "ticks": ""
           },
           "bgcolor": "#E5ECF6",
           "radialaxis": {
            "gridcolor": "white",
            "linecolor": "white",
            "ticks": ""
           }
          },
          "scene": {
           "xaxis": {
            "backgroundcolor": "#E5ECF6",
            "gridcolor": "white",
            "gridwidth": 2,
            "linecolor": "white",
            "showbackground": true,
            "ticks": "",
            "zerolinecolor": "white"
           },
           "yaxis": {
            "backgroundcolor": "#E5ECF6",
            "gridcolor": "white",
            "gridwidth": 2,
            "linecolor": "white",
            "showbackground": true,
            "ticks": "",
            "zerolinecolor": "white"
           },
           "zaxis": {
            "backgroundcolor": "#E5ECF6",
            "gridcolor": "white",
            "gridwidth": 2,
            "linecolor": "white",
            "showbackground": true,
            "ticks": "",
            "zerolinecolor": "white"
           }
          },
          "shapedefaults": {
           "line": {
            "color": "#2a3f5f"
           }
          },
          "ternary": {
           "aaxis": {
            "gridcolor": "white",
            "linecolor": "white",
            "ticks": ""
           },
           "baxis": {
            "gridcolor": "white",
            "linecolor": "white",
            "ticks": ""
           },
           "bgcolor": "#E5ECF6",
           "caxis": {
            "gridcolor": "white",
            "linecolor": "white",
            "ticks": ""
           }
          },
          "title": {
           "x": 0.05
          },
          "xaxis": {
           "automargin": true,
           "gridcolor": "white",
           "linecolor": "white",
           "ticks": "",
           "title": {
            "standoff": 15
           },
           "zerolinecolor": "white",
           "zerolinewidth": 2
          },
          "yaxis": {
           "automargin": true,
           "gridcolor": "white",
           "linecolor": "white",
           "ticks": "",
           "title": {
            "standoff": 15
           },
           "zerolinecolor": "white",
           "zerolinewidth": 2
          }
         }
        },
        "title": {
         "text": "Input"
        },
        "width": 800,
        "xaxis": {
         "anchor": "y",
         "domain": [
          0,
          1
         ],
         "linecolor": "black",
         "linewidth": 2,
         "showline": true,
         "ticks": "inside"
        },
        "yaxis": {
         "anchor": "x",
         "domain": [
          0,
          1
         ],
         "gridcolor": "grey",
         "gridwidth": 1,
         "linecolor": "black",
         "linewidth": 2,
         "nticks": 9,
         "range": [
          0,
          9
         ],
         "showgrid": true,
         "showline": true,
         "tickcolor": "black",
         "ticklen": 10,
         "ticks": "inside",
         "ticktext": [
          "Channel1",
          "Channel2",
          "Channel3",
          "Channel4",
          "Channel5",
          "Channel6",
          "Channel7",
          "Channel8",
          "Channel9"
         ],
         "tickvals": [
          "1",
          "2",
          "3",
          "4",
          "5",
          "6",
          "7",
          "8",
          "9"
         ],
         "tickwidth": 2,
         "title": {
          "text": "Input Channel"
         }
        }
       }
      },
      "text/html": [
       "<div>\n",
       "        \n",
       "        \n",
       "            <div id=\"0281d121-3007-4531-b092-21b11aa64bb0\" class=\"plotly-graph-div\" style=\"height:600px; width:800px;\"></div>\n",
       "            <script type=\"text/javascript\">\n",
       "                require([\"plotly\"], function(Plotly) {\n",
       "                    window.PLOTLYENV=window.PLOTLYENV || {};\n",
       "                    \n",
       "                if (document.getElementById(\"0281d121-3007-4531-b092-21b11aa64bb0\")) {\n",
       "                    Plotly.newPlot(\n",
       "                        '0281d121-3007-4531-b092-21b11aa64bb0',\n",
       "                        [{\"line\": {\"color\": \"black\", \"width\": 1}, \"showlegend\": false, \"type\": \"scatter\", \"x\": [0, 1, 2, 3, 4, 5, 6, 7, 8, 9, 10, 11, 12, 13, 14, 15, 16, 17, 18, 19, 20, 21, 22, 23, 24, 25, 26, 27, 28, 29, 30, 31, 32, 33, 34, 35, 36, 37, 38, 39, 40, 41, 42, 43, 44, 45, 46, 47, 48, 49, 50, 51, 52, 53, 54, 55, 56, 57, 58, 59, 60, 61, 62, 63, 64, 65, 66, 67, 68, 69, 70, 71, 72, 73, 74, 75, 76, 77, 78, 79, 80, 81, 82, 83, 84, 85, 86, 87, 88, 89, 90, 91, 92, 93, 94, 95, 96, 97, 98, 99, 100, 101, 102, 103, 104, 105, 106, 107, 108, 109, 110, 111, 112, 113, 114, 115, 116, 117, 118, 119, 120, 121, 122, 123, 124, 125, 126, 127], \"xaxis\": \"x\", \"y\": [0.6649158942174992, 0.6775664751249943, 0.7379370732891903, 0.7508063546086884, 0.6664983773873678, 0.40597357480059565, 0.13954499585603977, 0.16547584980068347, 0.3405855559106572, 0.39790538648798707, 0.41692922751507017, 0.38113354074110145, 0.28296274273424615, 0.19131458135479953, 0.0374260364491058, 0.04771805720583817, 0.24183901875314764, 0.36175039144278937, 0.4602948370403398, 0.40177493953243076, 0.27430344434579995, 0.33335791993625496, 0.34662467893851073, 0.36290300451038654, 0.4121766199768796, 0.3564738313609376, 0.3815553643187802, 0.44581521919661427, 0.5630499876929437, 0.7506887515569511, 0.7658275654538356, 0.6887387650400376, 0.5604554993147044, 0.34186546912373145, 0.24815657216401787, 0.3594796209385425, 0.5478534038759078, 0.7195806811610022, 0.8297180023244142, 0.7631350745324814, 0.5636503822202341, 0.38089616826562117, 0.2538084304057119, 0.2123528388654565, 0.1573829029508669, 0.10998381823272323, 0.1000154121894119, 0.03404402026651322, 0.02792793945217191, 0.030485393185171378, 0.050908916849071735, 0.16982613110924646, 0.2471852122208965, 0.38723610752055004, 0.5841102184053729, 0.7490546881012329, 0.8498889889087942, 0.7748541154775314, 0.7540610706458036, 0.8302688797772887, 0.7922769044318402, 0.5783476688702454, 0.18795598262198276, 0.0, 0.1717295468176717, 0.36121344066709404, 0.4672004057098964, 0.387900152120579, 0.16235916260850167, 0.14107765246977755, 0.15590306454983924, 0.07646571056073335, 0.17086764024112336, 0.27994405808517886, 0.33377964035336205, 0.38310401082113127, 0.3225533974593201, 0.3338770239330463, 0.3740888084603223, 0.3634519219123989, 0.39817257236868825, 0.4052958098445308, 0.4907055419716008, 0.6074637086266791, 0.6238270385096352, 0.6392423227386737, 0.6262884497503822, 0.5459191431565442, 0.3937552366885208, 0.32185757940320786, 0.45770138026781715, 0.6622894260620329, 0.9101976907299704, 1.0, 0.7258848236975514, 0.4227722422961233, 0.324808384396097, 0.22205684436350231, 0.02606578797242635, 8.851177051809585e-05, 0.09087280652255413, 0.021803399470951352, 0.012482016533338493, 0.06963885340738336, 0.011773922369193956, 0.057271241948059506, 0.16609048048686842, 0.26730100789941763, 0.39963642088110257, 0.505359501181498, 0.69685028079276, 0.7796975043188172, 0.7019691083604835, 0.7367662008004022, 0.7674946402924974, 0.7884568684618118, 0.7594130411055678, 0.4818894395141714, 0.1773881104965263, 0.14312270764314616, 0.34376548053329065, 0.4383536150455979, 0.3382376212987792, 0.2661916191113624, 0.22198741729874863, 0.15918336440873618, 0.10927221660914092, 0.14545516816926915], \"yaxis\": \"y\"}, {\"line\": {\"color\": \"rgba(200, 0, 200, 0.6)\", \"width\": 5}, \"showlegend\": false, \"type\": \"scatter\", \"x\": [26, 27, 28, 29, 30, 31, 32], \"xaxis\": \"x\", \"y\": [0.3815553643187802, 0.44581521919661427, 0.5630499876929437, 0.7506887515569511, 0.7658275654538356, 0.6887387650400376, 0.5604554993147044], \"yaxis\": \"y\"}, {\"line\": {\"color\": \"black\", \"width\": 1}, \"showlegend\": false, \"type\": \"scatter\", \"x\": [0, 1, 2, 3, 4, 5, 6, 7, 8, 9, 10, 11, 12, 13, 14, 15, 16, 17, 18, 19, 20, 21, 22, 23, 24, 25, 26, 27, 28, 29, 30, 31, 32, 33, 34, 35, 36, 37, 38, 39, 40, 41, 42, 43, 44, 45, 46, 47, 48, 49, 50, 51, 52, 53, 54, 55, 56, 57, 58, 59, 60, 61, 62, 63, 64, 65, 66, 67, 68, 69, 70, 71, 72, 73, 74, 75, 76, 77, 78, 79, 80, 81, 82, 83, 84, 85, 86, 87, 88, 89, 90, 91, 92, 93, 94, 95, 96, 97, 98, 99, 100, 101, 102, 103, 104, 105, 106, 107, 108, 109, 110, 111, 112, 113, 114, 115, 116, 117, 118, 119, 120, 121, 122, 123, 124, 125, 126, 127], \"xaxis\": \"x\", \"y\": [1.8988758157452548, 1.8981199627591923, 1.6245264465408502, 1.1575686351443308, 1.0, 1.3307866242865782, 1.6748223304449394, 1.7774465167948985, 1.7770379806321361, 1.6927825281984328, 1.5586424157613155, 1.3958378228228263, 1.3583479105446055, 1.5484419617022027, 1.6978082315858587, 1.7488879576012766, 1.8028720287714037, 1.8982309174670333, 1.9860093406955688, 1.9343846208418511, 1.93208724020982, 1.9772697149515892, 1.9236650546388407, 1.9127469745569812, 1.832628097375132, 1.7138579363628936, 1.7289973531767884, 1.745393165295063, 1.758320451636728, 1.7833968020243653, 1.862718178499492, 2.0, 1.9446301311619767, 1.676654390342303, 1.3979294937685958, 1.2730651313786452, 1.2605482137483195, 1.2186778995215815, 1.277291110567075, 1.4588160424087904, 1.7065735557693826, 1.9472179218754977, 1.9044354260520897, 1.802827925435651, 1.8441989312601135, 1.7767778809041097, 1.7381058526238289, 1.739846285092343, 1.696863736049281, 1.7729521303248927, 1.8198092979092246, 1.8256131014224377, 1.8521493821764055, 1.822970688544332, 1.841598544829373, 1.8636089192778114, 1.8982540564470654, 1.9410477919017455, 1.7783083033057014, 1.4732307473454405, 1.241601371840978, 1.2554092588588361, 1.4913270423732512, 1.70580889433316, 1.7646299163872836, 1.69614244492938, 1.655203920569086, 1.5963409942375022, 1.4512103549647815, 1.4399409142357615, 1.5241286845420214, 1.605370205416112, 1.7294332553983003, 1.817493933867158, 1.9033683207987213, 1.9794868030785693, 1.9899220176056853, 1.9830555741491365, 1.9492026330693237, 1.8944642360369481, 1.7951947497629872, 1.696670585429267, 1.6828487710422237, 1.7045901273595605, 1.7901976341333625, 1.9291708246684838, 1.9715003144836611, 1.7951023893147073, 1.4482560423188733, 1.1608629466362221, 1.0840828263577516, 1.1814181553446297, 1.2701530895199125, 1.3505221951014534, 1.6252786466467497, 1.9392650397780935, 1.9849175730034516, 1.874358160550778, 1.890636762862069, 1.898591330904164, 1.772033168298488, 1.697090849902922, 1.6321354325722977, 1.6578636815737204, 1.7905810032956677, 1.80509930831187, 1.8400833936659229, 1.8605394004113631, 1.8087653828250785, 1.7821110859427534, 1.7358132121841172, 1.8048999270266939, 1.861066685721914, 1.8051578276964282, 1.7186664216589942, 1.4071935155048698, 1.1413033004847373, 1.3047804387509794, 1.6030338281503627, 1.7395109287027553, 1.7915206120360399, 1.7044938574743163, 1.5001664015192855, 1.429511635944336, 1.4157278163977889, 1.5080446500216442, 1.715076581166588, 1.7709645481382963], \"yaxis\": \"y\"}, {\"line\": {\"color\": \"rgba(200, 0, 200, 0.6)\", \"width\": 5}, \"showlegend\": false, \"type\": \"scatter\", \"x\": [26, 27, 28, 29, 30, 31, 32], \"xaxis\": \"x\", \"y\": [1.7289973531767884, 1.745393165295063, 1.758320451636728, 1.7833968020243653, 1.862718178499492, 2.0, 1.9446301311619767], \"yaxis\": \"y\"}, {\"line\": {\"color\": \"black\", \"width\": 1}, \"showlegend\": false, \"type\": \"scatter\", \"x\": [0, 1, 2, 3, 4, 5, 6, 7, 8, 9, 10, 11, 12, 13, 14, 15, 16, 17, 18, 19, 20, 21, 22, 23, 24, 25, 26, 27, 28, 29, 30, 31, 32, 33, 34, 35, 36, 37, 38, 39, 40, 41, 42, 43, 44, 45, 46, 47, 48, 49, 50, 51, 52, 53, 54, 55, 56, 57, 58, 59, 60, 61, 62, 63, 64, 65, 66, 67, 68, 69, 70, 71, 72, 73, 74, 75, 76, 77, 78, 79, 80, 81, 82, 83, 84, 85, 86, 87, 88, 89, 90, 91, 92, 93, 94, 95, 96, 97, 98, 99, 100, 101, 102, 103, 104, 105, 106, 107, 108, 109, 110, 111, 112, 113, 114, 115, 116, 117, 118, 119, 120, 121, 122, 123, 124, 125, 126, 127], \"xaxis\": \"x\", \"y\": [2.7766271037142687, 2.844652909537041, 2.6539012095736068, 2.3103180792911595, 2.169851878615337, 2.2900541351381185, 2.4090736948888907, 2.379689801002638, 2.326243626542245, 2.2796777622692463, 2.276754815819708, 2.348574853290628, 2.3617605153622216, 2.4101165537950804, 2.4967554018014297, 2.4474517845101533, 2.3580219374731395, 2.261881903506506, 2.209765646473456, 2.3123723513517396, 2.405888100988438, 2.4054778122517466, 2.386796772981253, 2.3660168023006456, 2.3426747715867906, 2.3232331889603945, 2.339552315766404, 2.39836912874236, 2.453668291992371, 2.437336144498451, 2.3339430347442196, 2.2336319277652787, 2.2128059343123194, 2.2326827534120746, 2.183595035574457, 2.0681447427068846, 2.0, 2.0067161627828214, 2.074631299285378, 2.193080397127355, 2.34049803804907, 2.455070418612868, 2.4470527802729545, 2.4244673912050234, 2.436723590536279, 2.3933551123206573, 2.4576352330502975, 2.611355600542062, 2.662866729915948, 2.714354216957992, 2.7324234855092087, 2.671803966487067, 2.6521212175713873, 2.629386577218394, 2.6347354009688715, 2.678361305016105, 2.724266010753925, 2.8646785447869165, 2.9282780129359818, 2.7332154311034165, 2.456539515401819, 2.3419778014458954, 2.4216529529054904, 2.4635672072444748, 2.398372638830891, 2.3316482200877724, 2.2542857528262377, 2.29717004188754, 2.418142501761934, 2.386446547371038, 2.360644263695836, 2.368766463511832, 2.281659221749553, 2.251785612495219, 2.258974331824914, 2.2807373158527056, 2.364524361972513, 2.376105507459446, 2.357517471030529, 2.3474531624374695, 2.303122252757414, 2.295800092045545, 2.332003435245321, 2.4022014346979215, 2.444663309262152, 2.3685887834105674, 2.2130114630498636, 2.104936417357069, 2.135735413587785, 2.1787762061831804, 2.139376187646432, 2.10503896415837, 2.070550023620575, 2.092202483373131, 2.2719555675008154, 2.483516000564515, 2.5508368587724584, 2.4575267249002923, 2.388930428159729, 2.420089179455887, 2.4402942063377986, 2.5426495917781544, 2.6707706660451005, 2.6654391026473174, 2.7144300754828583, 2.782418024565688, 2.7106423708588387, 2.668352331083154, 2.6898501728863646, 2.6732892270886586, 2.6715676882136306, 2.7148913185212433, 2.819321818985895, 3.0, 2.989887899085825, 2.5712979770721596, 2.168185021698004, 2.261135792126175, 2.503453666033642, 2.470986256552951, 2.382380080798757, 2.312247902758364, 2.2924465070485334, 2.394138833864464, 2.3644697960508023, 2.352339437744736, 2.402336834187334, 2.3316988262815124], \"yaxis\": \"y\"}, {\"line\": {\"color\": \"rgba(200, 0, 200, 0.6)\", \"width\": 5}, \"showlegend\": false, \"type\": \"scatter\", \"x\": [26, 27, 28, 29, 30, 31, 32], \"xaxis\": \"x\", \"y\": [2.339552315766404, 2.39836912874236, 2.453668291992371, 2.437336144498451, 2.3339430347442196, 2.2336319277652787, 2.2128059343123194], \"yaxis\": \"y\"}, {\"line\": {\"color\": \"black\", \"width\": 1}, \"showlegend\": false, \"type\": \"scatter\", \"x\": [0, 1, 2, 3, 4, 5, 6, 7, 8, 9, 10, 11, 12, 13, 14, 15, 16, 17, 18, 19, 20, 21, 22, 23, 24, 25, 26, 27, 28, 29, 30, 31, 32, 33, 34, 35, 36, 37, 38, 39, 40, 41, 42, 43, 44, 45, 46, 47, 48, 49, 50, 51, 52, 53, 54, 55, 56, 57, 58, 59, 60, 61, 62, 63, 64, 65, 66, 67, 68, 69, 70, 71, 72, 73, 74, 75, 76, 77, 78, 79, 80, 81, 82, 83, 84, 85, 86, 87, 88, 89, 90, 91, 92, 93, 94, 95, 96, 97, 98, 99, 100, 101, 102, 103, 104, 105, 106, 107, 108, 109, 110, 111, 112, 113, 114, 115, 116, 117, 118, 119, 120, 121, 122, 123, 124, 125, 126, 127], \"xaxis\": \"x\", \"y\": [3.6617363203062494, 3.674598066569454, 3.735066533532013, 3.7481178741918693, 3.664173565538779, 3.404357618262078, 3.1385984445231045, 3.1644966068058213, 3.3392062993921967, 3.39636895954774, 3.4153029027807897, 3.3795246594685984, 3.281496626465175, 3.189966792160591, 3.036336352811087, 3.0465312202375654, 3.2401706061369917, 3.3598066981168295, 3.458166140478743, 3.3998538074867555, 3.2727805335754487, 3.3318492854236594, 3.3452694808499883, 3.361730793042894, 3.4111475329518046, 3.3558576074031157, 3.381200048129392, 3.4456605887698566, 3.5629997374292586, 3.750598658202783, 3.766085185524087, 3.6895321763409044, 3.561865155977416, 3.344049798069616, 3.25079025970624, 3.3620619965442766, 3.55017730987372, 3.721646811577033, 3.8316197959194387, 3.7652091606001434, 3.566120428261011, 3.383642429496771, 3.2566243530811714, 3.2149742107361274, 3.159782376099496, 3.112102267341068, 3.1017440522992334, 3.0355019110229997, 3.028992091690403, 3.0311664573957615, 3.0512142635919988, 3.169596922518575, 3.2465879956280066, 3.3862077929884453, 3.5825988780581746, 3.7471980017038793, 3.84787725811095, 3.773108721270196, 3.752461150389219, 3.8285787717885595, 3.7907151650917394, 3.5772549304578662, 3.18766633897646, 3.0, 3.1711687444682335, 3.3600274489868074, 3.4655614747479717, 3.386213307900374, 3.1609423809042005, 3.139468293733802, 3.154028669925316, 3.0745602094472564, 3.1685749449049183, 3.277276967461299, 3.3309141692168076, 3.380103786978241, 3.319717940766058, 3.331095652843396, 3.371346635888284, 3.360911790537922, 3.395778389264881, 3.4031520058150515, 3.4886756460851074, 3.605506862915737, 3.622191375678209, 3.6379366653845198, 3.6253708387143524, 3.545523395300097, 3.394016669793979, 3.3225656033152053, 3.4583608298388233, 3.662717332355375, 3.91026081375109, 4.0, 3.726564840820476, 3.424105877663032, 3.3262387528682327, 3.223505752728353, 3.027668327556125, 3.0014072391916526, 3.0916125888620805, 3.02231316074342, 3.01263643565828, 3.0693166171871953, 3.0112794256010282, 3.056433564713292, 3.164842549676151, 3.265744646402848, 3.39778951151858, 3.5033657122547868, 3.6945927616317755, 3.7774787588916117, 3.7001887812610743, 3.7351875775116343, 3.7661249159459693, 3.787296187310206, 3.758534655580987, 3.4817966014432438, 3.178081117375915, 3.143938069124141, 3.3441322232557393, 3.4384781519219283, 3.338528833941967, 3.2665625166937247, 3.2223572759217074, 3.1595853708469486, 3.109679946748883, 3.1456908394719063], \"yaxis\": \"y\"}, {\"line\": {\"color\": \"rgba(200, 0, 200, 0.6)\", \"width\": 5}, \"showlegend\": false, \"type\": \"scatter\", \"x\": [26, 27, 28, 29, 30, 31, 32], \"xaxis\": \"x\", \"y\": [3.381200048129392, 3.4456605887698566, 3.5629997374292586, 3.750598658202783, 3.766085185524087, 3.6895321763409044, 3.561865155977416], \"yaxis\": \"y\"}, {\"line\": {\"color\": \"black\", \"width\": 1}, \"showlegend\": false, \"type\": \"scatter\", \"x\": [0, 1, 2, 3, 4, 5, 6, 7, 8, 9, 10, 11, 12, 13, 14, 15, 16, 17, 18, 19, 20, 21, 22, 23, 24, 25, 26, 27, 28, 29, 30, 31, 32, 33, 34, 35, 36, 37, 38, 39, 40, 41, 42, 43, 44, 45, 46, 47, 48, 49, 50, 51, 52, 53, 54, 55, 56, 57, 58, 59, 60, 61, 62, 63, 64, 65, 66, 67, 68, 69, 70, 71, 72, 73, 74, 75, 76, 77, 78, 79, 80, 81, 82, 83, 84, 85, 86, 87, 88, 89, 90, 91, 92, 93, 94, 95, 96, 97, 98, 99, 100, 101, 102, 103, 104, 105, 106, 107, 108, 109, 110, 111, 112, 113, 114, 115, 116, 117, 118, 119, 120, 121, 122, 123, 124, 125, 126, 127], \"xaxis\": \"x\", \"y\": [4.890536581421266, 4.889861100249879, 4.6188087126902575, 4.1561287568798, 4.0, 4.3277809910882485, 4.668728320746545, 4.770516324249362, 4.770256808741259, 4.686953972131922, 4.554255785593076, 4.393189721355543, 4.35633592864982, 4.545039946600672, 4.693447449259622, 4.744524656152241, 4.798532075308161, 4.893579151987864, 4.9811451173243, 4.930595883341739, 4.928922433213918, 4.974279662278783, 4.921723232363828, 4.911422386608138, 4.8325018539416025, 4.715226301929431, 4.730578354726395, 4.747117535418576, 4.760163292125754, 4.785190680587228, 4.863910275763373, 5.0, 4.945129744438114, 4.679520464053144, 4.403186358476163, 4.279246216276482, 4.266587360173582, 4.224828460467041, 4.282644685524778, 4.462280792438678, 4.7075891278037005, 4.94589650030542, 4.90340486089809, 4.802652195713285, 4.843588339984442, 4.776734564226275, 4.738369473190056, 4.740046385461515, 4.697405222607363, 4.7727424220817944, 4.8191084423283135, 4.824784663139477, 4.850987279890587, 4.821961442372619, 4.840277755920811, 4.861912643094875, 4.896028558084965, 4.938174225236413, 4.776613098669399, 4.473961532436776, 4.244043357659533, 4.257296346663717, 4.49062896981374, 4.702736295540202, 4.7606260572551395, 4.6923905968663, 4.651471641048821, 4.592811718218308, 4.448695510277603, 4.437249130771944, 4.520429310653307, 4.600739542934091, 4.723533146635825, 4.810704342859716, 4.8957531602955555, 4.971168090947366, 4.981518205670216, 4.974727804088187, 4.941185927039802, 4.886925178233818, 4.788507002609197, 4.690789414750039, 4.6769628599146476, 4.6983397338604185, 4.782967112782839, 4.920440302354089, 4.96211506954914, 4.78701561765732, 4.442977162683708, 4.157810680785756, 4.081317522393169, 4.177362955402021, 4.264928436522565, 4.344268784368737, 4.616300183832564, 4.927286751925787, 4.9724657895418565, 4.8629194489913665, 4.879096254614275, 4.887055553363133, 4.761750128135631, 4.687600613404694, 4.623354894660043, 4.648973317041083, 4.780612879319599, 4.795140481925552, 4.8299490677512456, 4.850357678175106, 4.799184459381429, 4.772883958387455, 4.727098004570514, 4.795618923544489, 4.851311704539209, 4.7959222605909515, 4.710195686169027, 4.401509639891061, 4.137968118741358, 4.299870544880882, 4.595337896745319, 4.730538031647867, 4.782074799734359, 4.695873387470284, 4.493468048651108, 4.423542794637503, 4.410006176173721, 4.501648149847387, 4.70701161561296, 4.76266626460607], \"yaxis\": \"y\"}, {\"line\": {\"color\": \"rgba(200, 0, 200, 0.6)\", \"width\": 5}, \"showlegend\": false, \"type\": \"scatter\", \"x\": [26, 27, 28, 29, 30, 31, 32], \"xaxis\": \"x\", \"y\": [4.730578354726395, 4.747117535418576, 4.760163292125754, 4.785190680587228, 4.863910275763373, 5.0, 4.945129744438114], \"yaxis\": \"y\"}, {\"line\": {\"color\": \"black\", \"width\": 1}, \"showlegend\": false, \"type\": \"scatter\", \"x\": [0, 1, 2, 3, 4, 5, 6, 7, 8, 9, 10, 11, 12, 13, 14, 15, 16, 17, 18, 19, 20, 21, 22, 23, 24, 25, 26, 27, 28, 29, 30, 31, 32, 33, 34, 35, 36, 37, 38, 39, 40, 41, 42, 43, 44, 45, 46, 47, 48, 49, 50, 51, 52, 53, 54, 55, 56, 57, 58, 59, 60, 61, 62, 63, 64, 65, 66, 67, 68, 69, 70, 71, 72, 73, 74, 75, 76, 77, 78, 79, 80, 81, 82, 83, 84, 85, 86, 87, 88, 89, 90, 91, 92, 93, 94, 95, 96, 97, 98, 99, 100, 101, 102, 103, 104, 105, 106, 107, 108, 109, 110, 111, 112, 113, 114, 115, 116, 117, 118, 119, 120, 121, 122, 123, 124, 125, 126, 127], \"xaxis\": \"x\", \"y\": [5.724965262132776, 5.793977109362879, 5.607548551429505, 5.270215663901187, 5.133229525269186, 5.253391772721886, 5.372318070618491, 5.344737062828163, 5.293353387879562, 5.248706526138849, 5.247080845479898, 5.319173470632117, 5.333372913795699, 5.382249508059128, 5.468875658187402, 5.421323899194631, 5.334144360671524, 5.240313187565017, 5.189900340823278, 5.292151904241999, 5.3854215319242, 5.385996231077381, 5.368532673633515, 5.348988909073525, 5.3269084929863, 5.308670268221564, 5.325716341482824, 5.384696717092634, 5.440203377545512, 5.425019379922629, 5.323916212894032, 5.225847520944344, 5.206212395936686, 5.226747241724602, 5.179239236413872, 5.066263734124638, 5.0, 5.0076533518678294, 5.075755888547983, 5.193794646103147, 5.340494019132592, 5.454854556113894, 5.4483084361919625, 5.427442528653373, 5.4410045240812, 5.3997134090171315, 5.464679976503633, 5.617927258591146, 5.6703224681719835, 5.722686045825931, 5.742045930130369, 5.683710502314999, 5.665710647735984, 5.644624461756285, 5.651165257209073, 5.695382253945117, 5.741741920118077, 5.88124429981227, 5.944814453700878, 5.75298656916972, 5.480461502656795, 5.367749361206834, 5.446556671531209, 5.4879569238995956, 5.423525637318918, 5.357456861780789, 5.280773527998979, 5.322646369942971, 5.441486216781467, 5.4095915559644645, 5.383439555538507, 5.390698653367326, 5.3039275832120065, 5.273587240854366, 5.279783849453784, 5.300337760276369, 5.382082302552368, 5.392566153666469, 5.373276117236795, 5.362398727738137, 5.317713077525989, 5.309559511820607, 5.3443747556040035, 5.412758740574115, 5.453797520171436, 5.377889254476991, 5.223553848417517, 5.1161260994599385, 5.1457831063181985, 5.1875757520240136, 5.1480819315570985, 5.113660097340456, 5.07917456987736, 5.100186614055568, 5.277318763372003, 5.485947495009026, 5.55234353932922, 5.460320753463911, 5.3927668374886135, 5.423724732388173, 5.443940167279935, 5.5452811605968675, 5.67209686182659, 5.667255459441572, 5.716037759074069, 5.783566627143457, 5.7131585380725305, 5.671812460746353, 5.693364108383291, 5.677299240318483, 5.675807100780751, 5.718685394294115, 5.821773844031986, 6.0, 5.989832697164234, 5.576439624813858, 5.17817520137085, 5.2692938580244615, 5.507691281553921, 5.474824564467012, 5.386462594459231, 5.316242078420842, 5.295611349249107, 5.394806664517795, 5.364321047168499, 5.351098887414959, 5.399149542009775, 5.328129828878432], \"yaxis\": \"y\"}, {\"line\": {\"color\": \"rgba(200, 0, 200, 0.6)\", \"width\": 5}, \"showlegend\": false, \"type\": \"scatter\", \"x\": [26, 27, 28, 29, 30, 31, 32], \"xaxis\": \"x\", \"y\": [5.325716341482824, 5.384696717092634, 5.440203377545512, 5.425019379922629, 5.323916212894032, 5.225847520944344, 5.206212395936686], \"yaxis\": \"y\"}, {\"line\": {\"color\": \"black\", \"width\": 1}, \"showlegend\": false, \"type\": \"scatter\", \"x\": [0, 1, 2, 3, 4, 5, 6, 7, 8, 9, 10, 11, 12, 13, 14, 15, 16, 17, 18, 19, 20, 21, 22, 23, 24, 25, 26, 27, 28, 29, 30, 31, 32, 33, 34, 35, 36, 37, 38, 39, 40, 41, 42, 43, 44, 45, 46, 47, 48, 49, 50, 51, 52, 53, 54, 55, 56, 57, 58, 59, 60, 61, 62, 63, 64, 65, 66, 67, 68, 69, 70, 71, 72, 73, 74, 75, 76, 77, 78, 79, 80, 81, 82, 83, 84, 85, 86, 87, 88, 89, 90, 91, 92, 93, 94, 95, 96, 97, 98, 99, 100, 101, 102, 103, 104, 105, 106, 107, 108, 109, 110, 111, 112, 113, 114, 115, 116, 117, 118, 119, 120, 121, 122, 123, 124, 125, 126, 127], \"xaxis\": \"x\", \"y\": [6.334665694045147, 6.3005035628846695, 6.371358461748738, 6.587444517338071, 6.808858816044152, 6.814686941872247, 6.679200186762047, 6.535643603377373, 6.34772581035122, 6.253040259566493, 6.39026636446655, 6.570735585665392, 6.728188472023529, 6.855096999560988, 6.850229452957982, 6.841836408287606, 6.823828393427984, 6.74389678346553, 6.723835654796863, 6.702374260669826, 6.681228889054651, 6.68807098361495, 6.662927400617999, 6.666662223164811, 6.676940884269166, 6.680538564122341, 6.703239461319804, 6.7009747150497585, 6.735132707139995, 6.835890228977864, 6.8642442098231475, 6.657840456298302, 6.309023344086218, 6.069469794999949, 6.0, 6.188172030916695, 6.53675840795882, 6.672616752598864, 6.712550254836256, 6.755196805141661, 6.588035054685665, 6.413590025272623, 6.331306568605494, 6.28247044366424, 6.325600815288862, 6.345486393391452, 6.4102958652397914, 6.518058133601449, 6.568849969231412, 6.66122210817784, 6.707567039215981, 6.713620879341874, 6.70255449018487, 6.611788845871552, 6.560984251107674, 6.52248365449669, 6.501857092841235, 6.519517425800642, 6.5162772536405145, 6.643155931283156, 6.881553801569553, 6.998661550655876, 6.905902647088385, 6.738887473706781, 6.595161363902826, 6.41187010661795, 6.353551551714938, 6.479857844532383, 6.603046747109197, 6.723569449594537, 6.82735924529273, 6.900952274090671, 6.931091004027765, 6.867260377301447, 6.797729710975023, 6.727941972394741, 6.662639676749412, 6.639640839828149, 6.624698619449113, 6.6405862838230645, 6.668768578014321, 6.721855649565438, 6.799111710536462, 6.820702765537777, 6.823579779274182, 6.804715471763577, 6.679389715688165, 6.428675046724254, 6.168756192296525, 6.129512857526814, 6.343235998897567, 6.628045521134587, 6.84446471789042, 6.933491934706707, 6.889935013897828, 6.7134401099481025, 6.459116378687855, 6.29202544232489, 6.281255671538502, 6.319959442510429, 6.370748983655801, 6.481044003085587, 6.591847723245927, 6.651101258124387, 6.698384016998261, 6.739539152320214, 6.739496951799717, 6.69755309864745, 6.645728879921703, 6.608966877270358, 6.6172456611071455, 6.631289719890221, 6.602752738152429, 6.579161427968435, 6.604781863350036, 6.785546627661028, 7.0, 6.913735657559243, 6.70948500338369, 6.567671099041022, 6.358407355955632, 6.339893969617605, 6.537371530233163, 6.695858464313162, 6.879407468700306, 6.95839168147659, 6.938226761122649, 6.970815325753376], \"yaxis\": \"y\"}, {\"line\": {\"color\": \"rgba(200, 0, 200, 0.6)\", \"width\": 5}, \"showlegend\": false, \"type\": \"scatter\", \"x\": [26, 27, 28, 29, 30, 31, 32], \"xaxis\": \"x\", \"y\": [6.703239461319804, 6.7009747150497585, 6.735132707139995, 6.835890228977864, 6.8642442098231475, 6.657840456298302, 6.309023344086218], \"yaxis\": \"y\"}, {\"line\": {\"color\": \"black\", \"width\": 1}, \"showlegend\": false, \"type\": \"scatter\", \"x\": [0, 1, 2, 3, 4, 5, 6, 7, 8, 9, 10, 11, 12, 13, 14, 15, 16, 17, 18, 19, 20, 21, 22, 23, 24, 25, 26, 27, 28, 29, 30, 31, 32, 33, 34, 35, 36, 37, 38, 39, 40, 41, 42, 43, 44, 45, 46, 47, 48, 49, 50, 51, 52, 53, 54, 55, 56, 57, 58, 59, 60, 61, 62, 63, 64, 65, 66, 67, 68, 69, 70, 71, 72, 73, 74, 75, 76, 77, 78, 79, 80, 81, 82, 83, 84, 85, 86, 87, 88, 89, 90, 91, 92, 93, 94, 95, 96, 97, 98, 99, 100, 101, 102, 103, 104, 105, 106, 107, 108, 109, 110, 111, 112, 113, 114, 115, 116, 117, 118, 119, 120, 121, 122, 123, 124, 125, 126, 127], \"xaxis\": \"x\", \"y\": [7.682072178482772, 7.659833630882074, 7.582059437458611, 7.579275426863036, 7.758608866048849, 7.923350153550641, 7.641347101901085, 7.211696066547647, 7.132613226654687, 7.1418114328424105, 7.1106657862838425, 7.204960828127844, 7.2564844454943636, 7.1925315911564125, 7.110875684007111, 7.064451380793971, 7.120733054244233, 7.238609911664814, 7.357215021241495, 7.388895906994396, 7.340249747309475, 7.36524093702681, 7.411221434352744, 7.445243783425825, 7.502755856417565, 7.496593015285356, 7.432732330058361, 7.311458169552438, 7.209452407046677, 7.26653331835908, 7.357066698680588, 7.381707800682361, 7.315710186235822, 7.1208026457956555, 7.053119227328529, 7.33872523923306, 7.772631660476878, 7.994027596516163, 7.963683433957733, 7.945486618051978, 7.927225128862486, 7.789641857168859, 7.730629460810701, 7.842987518443504, 7.944746167042959, 7.9119297036259635, 7.828200494924889, 7.7468683414594475, 7.621968081604517, 7.529367905786129, 7.463333382257833, 7.4181828356330435, 7.4516858350018005, 7.422914925586997, 7.380161102311586, 7.461525251625545, 7.6034950294515165, 7.716470581401203, 7.6155581072027445, 7.491778325542849, 7.651975749454924, 7.735412727857145, 7.529946634859288, 7.240836647677765, 7.049142401276426, 7.160114746670487, 7.27848943346978, 7.100301098671293, 7.014164998199217, 7.073945573752716, 7.0809883394456685, 7.1437120915804675, 7.1787963798451715, 7.220237045011831, 7.367959189996166, 7.423290836144233, 7.3883396780277355, 7.3887827868376315, 7.418895209917086, 7.437521309266094, 7.443132030315118, 7.474767129706724, 7.47436833565047, 7.41543375635599, 7.30215474341746, 7.1858710561883035, 7.211872156021393, 7.306077662157609, 7.340171713377301, 7.32614047656852, 7.341567145971862, 7.547397887855752, 7.832098551240991, 7.937745187262074, 7.973433221930052, 8.0, 7.862819058093648, 7.73997281398492, 7.8007399088377785, 7.849304665383528, 7.843783116013028, 7.830864492043637, 7.726357345064886, 7.576151823438063, 7.461883240325148, 7.402217093110165, 7.395775556596869, 7.379214006606744, 7.331461693665504, 7.324997269780537, 7.450055297593922, 7.649649718651853, 7.730015800419021, 7.665348480565097, 7.558149104836555, 7.501026407612084, 7.648646895488748, 7.780921729836071, 7.434857099151502, 7.0, 7.028926384763439, 7.105972287304286, 7.006653215656356, 7.025157907373916, 7.090857017825816, 7.119356442737035, 7.127172654431669, 7.106541179842073], \"yaxis\": \"y\"}, {\"line\": {\"color\": \"rgba(200, 0, 200, 0.6)\", \"width\": 5}, \"showlegend\": false, \"type\": \"scatter\", \"x\": [26, 27, 28, 29, 30, 31, 32], \"xaxis\": \"x\", \"y\": [7.432732330058361, 7.311458169552438, 7.209452407046677, 7.26653331835908, 7.357066698680588, 7.381707800682361, 7.315710186235822], \"yaxis\": \"y\"}, {\"line\": {\"color\": \"black\", \"width\": 1}, \"showlegend\": false, \"type\": \"scatter\", \"x\": [0, 1, 2, 3, 4, 5, 6, 7, 8, 9, 10, 11, 12, 13, 14, 15, 16, 17, 18, 19, 20, 21, 22, 23, 24, 25, 26, 27, 28, 29, 30, 31, 32, 33, 34, 35, 36, 37, 38, 39, 40, 41, 42, 43, 44, 45, 46, 47, 48, 49, 50, 51, 52, 53, 54, 55, 56, 57, 58, 59, 60, 61, 62, 63, 64, 65, 66, 67, 68, 69, 70, 71, 72, 73, 74, 75, 76, 77, 78, 79, 80, 81, 82, 83, 84, 85, 86, 87, 88, 89, 90, 91, 92, 93, 94, 95, 96, 97, 98, 99, 100, 101, 102, 103, 104, 105, 106, 107, 108, 109, 110, 111, 112, 113, 114, 115, 116, 117, 118, 119, 120, 121, 122, 123, 124, 125, 126, 127], \"xaxis\": \"x\", \"y\": [8.595363960715368, 8.667606485409948, 8.852787227829669, 8.97347854454308, 8.803046199526104, 8.577166316103497, 8.595820205685747, 8.63953031315296, 8.589720365967203, 8.6030336245682, 8.59857858354863, 8.53496417209056, 8.477532056146433, 8.454032762922813, 8.530053112102157, 8.597857580662705, 8.597176904565748, 8.628765975339522, 8.697904194930622, 8.780625223430055, 8.810683371310287, 8.788666010798586, 8.769061013985498, 8.712562829154594, 8.653909632643757, 8.614383584545644, 8.560328360545949, 8.487001231244841, 8.385442278364483, 8.347801952409984, 8.410523756268573, 8.443677140215822, 8.410883620271273, 8.365588679849047, 8.28926621875478, 8.195757904592462, 8.17363414950605, 8.222882900079675, 8.300992685720683, 8.40135603246518, 8.478254739556686, 8.53361120513355, 8.618888896422273, 8.714621877100475, 8.770268499689886, 8.735823429974493, 8.641115916831199, 8.587791060294373, 8.576654637009932, 8.58087286897201, 8.578894190653399, 8.535403878383583, 8.495355407426029, 8.470021155483328, 8.47965913635305, 8.544340083883661, 8.590539494089162, 8.652347266560538, 8.759941445896475, 8.866338860114256, 8.873060609732473, 8.658240923328743, 8.501469589550476, 8.695775260352335, 8.872931672952117, 8.721998335817322, 8.591079857994535, 8.614324882092385, 8.522889685921013, 8.444560574470437, 8.472449107493812, 8.502445893056416, 8.590931044667816, 8.607649358483018, 8.586065254527869, 8.655561588058402, 8.708124564403748, 8.77238630803814, 8.795435858182058, 8.755144128430537, 8.727623977929731, 8.646105451510817, 8.569109181289692, 8.466478030708279, 8.304071290391764, 8.276401573225748, 8.361449200733936, 8.401091436807157, 8.364673895123344, 8.229620238009764, 8.041442830967242, 8.0, 8.15248179543047, 8.327377786910558, 8.486123012410557, 8.589605238460898, 8.603404081669078, 8.668240680521953, 8.758087943460671, 8.788195174241109, 8.76670341220034, 8.645395922549618, 8.502136352064978, 8.463930355826689, 8.509095020844008, 8.538484806814166, 8.538711283544497, 8.53273305004329, 8.46769722213385, 8.445080899571924, 8.511797848685474, 8.549565303987437, 8.591789259467683, 8.688556365278536, 8.882545431091867, 9.0, 8.754244410474673, 8.492938118052662, 8.578277641046842, 8.66586441912184, 8.610093321833912, 8.64226835087656, 8.637402479607852, 8.535691618918046, 8.474872423575114, 8.440662917011247, 8.550231350830373, 8.675429036412268], \"yaxis\": \"y\"}, {\"line\": {\"color\": \"rgba(200, 0, 200, 0.6)\", \"width\": 5}, \"showlegend\": false, \"type\": \"scatter\", \"x\": [26, 27, 28, 29, 30, 31, 32], \"xaxis\": \"x\", \"y\": [8.560328360545949, 8.487001231244841, 8.385442278364483, 8.347801952409984, 8.410523756268573, 8.443677140215822, 8.410883620271273], \"yaxis\": \"y\"}],\n",
       "                        {\"height\": 600, \"plot_bgcolor\": \"rgb(256,256,256)\", \"template\": {\"data\": {\"bar\": [{\"error_x\": {\"color\": \"#2a3f5f\"}, \"error_y\": {\"color\": \"#2a3f5f\"}, \"marker\": {\"line\": {\"color\": \"#E5ECF6\", \"width\": 0.5}}, \"type\": \"bar\"}], \"barpolar\": [{\"marker\": {\"line\": {\"color\": \"#E5ECF6\", \"width\": 0.5}}, \"type\": \"barpolar\"}], \"carpet\": [{\"aaxis\": {\"endlinecolor\": \"#2a3f5f\", \"gridcolor\": \"white\", \"linecolor\": \"white\", \"minorgridcolor\": \"white\", \"startlinecolor\": \"#2a3f5f\"}, \"baxis\": {\"endlinecolor\": \"#2a3f5f\", \"gridcolor\": \"white\", \"linecolor\": \"white\", \"minorgridcolor\": \"white\", \"startlinecolor\": \"#2a3f5f\"}, \"type\": \"carpet\"}], \"choropleth\": [{\"colorbar\": {\"outlinewidth\": 0, \"ticks\": \"\"}, \"type\": \"choropleth\"}], \"contour\": [{\"colorbar\": {\"outlinewidth\": 0, \"ticks\": \"\"}, \"colorscale\": [[0.0, \"#0d0887\"], [0.1111111111111111, \"#46039f\"], [0.2222222222222222, \"#7201a8\"], [0.3333333333333333, \"#9c179e\"], [0.4444444444444444, \"#bd3786\"], [0.5555555555555556, \"#d8576b\"], [0.6666666666666666, \"#ed7953\"], [0.7777777777777778, \"#fb9f3a\"], [0.8888888888888888, \"#fdca26\"], [1.0, \"#f0f921\"]], \"type\": \"contour\"}], \"contourcarpet\": [{\"colorbar\": {\"outlinewidth\": 0, \"ticks\": \"\"}, \"type\": \"contourcarpet\"}], \"heatmap\": [{\"colorbar\": {\"outlinewidth\": 0, \"ticks\": \"\"}, \"colorscale\": [[0.0, \"#0d0887\"], [0.1111111111111111, \"#46039f\"], [0.2222222222222222, \"#7201a8\"], [0.3333333333333333, \"#9c179e\"], [0.4444444444444444, \"#bd3786\"], [0.5555555555555556, \"#d8576b\"], [0.6666666666666666, \"#ed7953\"], [0.7777777777777778, \"#fb9f3a\"], [0.8888888888888888, \"#fdca26\"], [1.0, \"#f0f921\"]], \"type\": \"heatmap\"}], \"heatmapgl\": [{\"colorbar\": {\"outlinewidth\": 0, \"ticks\": \"\"}, \"colorscale\": [[0.0, \"#0d0887\"], [0.1111111111111111, \"#46039f\"], [0.2222222222222222, \"#7201a8\"], [0.3333333333333333, \"#9c179e\"], [0.4444444444444444, \"#bd3786\"], [0.5555555555555556, \"#d8576b\"], [0.6666666666666666, \"#ed7953\"], [0.7777777777777778, \"#fb9f3a\"], [0.8888888888888888, \"#fdca26\"], [1.0, \"#f0f921\"]], \"type\": \"heatmapgl\"}], \"histogram\": [{\"marker\": {\"colorbar\": {\"outlinewidth\": 0, \"ticks\": \"\"}}, \"type\": \"histogram\"}], \"histogram2d\": [{\"colorbar\": {\"outlinewidth\": 0, \"ticks\": \"\"}, \"colorscale\": [[0.0, \"#0d0887\"], [0.1111111111111111, \"#46039f\"], [0.2222222222222222, \"#7201a8\"], [0.3333333333333333, \"#9c179e\"], [0.4444444444444444, \"#bd3786\"], [0.5555555555555556, \"#d8576b\"], [0.6666666666666666, \"#ed7953\"], [0.7777777777777778, \"#fb9f3a\"], [0.8888888888888888, \"#fdca26\"], [1.0, \"#f0f921\"]], \"type\": \"histogram2d\"}], \"histogram2dcontour\": [{\"colorbar\": {\"outlinewidth\": 0, \"ticks\": \"\"}, \"colorscale\": [[0.0, \"#0d0887\"], [0.1111111111111111, \"#46039f\"], [0.2222222222222222, \"#7201a8\"], [0.3333333333333333, \"#9c179e\"], [0.4444444444444444, \"#bd3786\"], [0.5555555555555556, \"#d8576b\"], [0.6666666666666666, \"#ed7953\"], [0.7777777777777778, \"#fb9f3a\"], [0.8888888888888888, \"#fdca26\"], [1.0, \"#f0f921\"]], \"type\": \"histogram2dcontour\"}], \"mesh3d\": [{\"colorbar\": {\"outlinewidth\": 0, \"ticks\": \"\"}, \"type\": \"mesh3d\"}], \"parcoords\": [{\"line\": {\"colorbar\": {\"outlinewidth\": 0, \"ticks\": \"\"}}, \"type\": \"parcoords\"}], \"pie\": [{\"automargin\": true, \"type\": \"pie\"}], \"scatter\": [{\"marker\": {\"colorbar\": {\"outlinewidth\": 0, \"ticks\": \"\"}}, \"type\": \"scatter\"}], \"scatter3d\": [{\"line\": {\"colorbar\": {\"outlinewidth\": 0, \"ticks\": \"\"}}, \"marker\": {\"colorbar\": {\"outlinewidth\": 0, \"ticks\": \"\"}}, \"type\": \"scatter3d\"}], \"scattercarpet\": [{\"marker\": {\"colorbar\": {\"outlinewidth\": 0, \"ticks\": \"\"}}, \"type\": \"scattercarpet\"}], \"scattergeo\": [{\"marker\": {\"colorbar\": {\"outlinewidth\": 0, \"ticks\": \"\"}}, \"type\": \"scattergeo\"}], \"scattergl\": [{\"marker\": {\"colorbar\": {\"outlinewidth\": 0, \"ticks\": \"\"}}, \"type\": \"scattergl\"}], \"scattermapbox\": [{\"marker\": {\"colorbar\": {\"outlinewidth\": 0, \"ticks\": \"\"}}, \"type\": \"scattermapbox\"}], \"scatterpolar\": [{\"marker\": {\"colorbar\": {\"outlinewidth\": 0, \"ticks\": \"\"}}, \"type\": \"scatterpolar\"}], \"scatterpolargl\": [{\"marker\": {\"colorbar\": {\"outlinewidth\": 0, \"ticks\": \"\"}}, \"type\": \"scatterpolargl\"}], \"scatterternary\": [{\"marker\": {\"colorbar\": {\"outlinewidth\": 0, \"ticks\": \"\"}}, \"type\": \"scatterternary\"}], \"surface\": [{\"colorbar\": {\"outlinewidth\": 0, \"ticks\": \"\"}, \"colorscale\": [[0.0, \"#0d0887\"], [0.1111111111111111, \"#46039f\"], [0.2222222222222222, \"#7201a8\"], [0.3333333333333333, \"#9c179e\"], [0.4444444444444444, \"#bd3786\"], [0.5555555555555556, \"#d8576b\"], [0.6666666666666666, \"#ed7953\"], [0.7777777777777778, \"#fb9f3a\"], [0.8888888888888888, \"#fdca26\"], [1.0, \"#f0f921\"]], \"type\": \"surface\"}], \"table\": [{\"cells\": {\"fill\": {\"color\": \"#EBF0F8\"}, \"line\": {\"color\": \"white\"}}, \"header\": {\"fill\": {\"color\": \"#C8D4E3\"}, \"line\": {\"color\": \"white\"}}, \"type\": \"table\"}]}, \"layout\": {\"annotationdefaults\": {\"arrowcolor\": \"#2a3f5f\", \"arrowhead\": 0, \"arrowwidth\": 1}, \"coloraxis\": {\"colorbar\": {\"outlinewidth\": 0, \"ticks\": \"\"}}, \"colorscale\": {\"diverging\": [[0, \"#8e0152\"], [0.1, \"#c51b7d\"], [0.2, \"#de77ae\"], [0.3, \"#f1b6da\"], [0.4, \"#fde0ef\"], [0.5, \"#f7f7f7\"], [0.6, \"#e6f5d0\"], [0.7, \"#b8e186\"], [0.8, \"#7fbc41\"], [0.9, \"#4d9221\"], [1, \"#276419\"]], \"sequential\": [[0.0, \"#0d0887\"], [0.1111111111111111, \"#46039f\"], [0.2222222222222222, \"#7201a8\"], [0.3333333333333333, \"#9c179e\"], [0.4444444444444444, \"#bd3786\"], [0.5555555555555556, \"#d8576b\"], [0.6666666666666666, \"#ed7953\"], [0.7777777777777778, \"#fb9f3a\"], [0.8888888888888888, \"#fdca26\"], [1.0, \"#f0f921\"]], \"sequentialminus\": [[0.0, \"#0d0887\"], [0.1111111111111111, \"#46039f\"], [0.2222222222222222, \"#7201a8\"], [0.3333333333333333, \"#9c179e\"], [0.4444444444444444, \"#bd3786\"], [0.5555555555555556, \"#d8576b\"], [0.6666666666666666, \"#ed7953\"], [0.7777777777777778, \"#fb9f3a\"], [0.8888888888888888, \"#fdca26\"], [1.0, \"#f0f921\"]]}, \"colorway\": [\"#636efa\", \"#EF553B\", \"#00cc96\", \"#ab63fa\", \"#FFA15A\", \"#19d3f3\", \"#FF6692\", \"#B6E880\", \"#FF97FF\", \"#FECB52\"], \"font\": {\"color\": \"#2a3f5f\"}, \"geo\": {\"bgcolor\": \"white\", \"lakecolor\": \"white\", \"landcolor\": \"#E5ECF6\", \"showlakes\": true, \"showland\": true, \"subunitcolor\": \"white\"}, \"hoverlabel\": {\"align\": \"left\"}, \"hovermode\": \"closest\", \"mapbox\": {\"style\": \"light\"}, \"paper_bgcolor\": \"white\", \"plot_bgcolor\": \"#E5ECF6\", \"polar\": {\"angularaxis\": {\"gridcolor\": \"white\", \"linecolor\": \"white\", \"ticks\": \"\"}, \"bgcolor\": \"#E5ECF6\", \"radialaxis\": {\"gridcolor\": \"white\", \"linecolor\": \"white\", \"ticks\": \"\"}}, \"scene\": {\"xaxis\": {\"backgroundcolor\": \"#E5ECF6\", \"gridcolor\": \"white\", \"gridwidth\": 2, \"linecolor\": \"white\", \"showbackground\": true, \"ticks\": \"\", \"zerolinecolor\": \"white\"}, \"yaxis\": {\"backgroundcolor\": \"#E5ECF6\", \"gridcolor\": \"white\", \"gridwidth\": 2, \"linecolor\": \"white\", \"showbackground\": true, \"ticks\": \"\", \"zerolinecolor\": \"white\"}, \"zaxis\": {\"backgroundcolor\": \"#E5ECF6\", \"gridcolor\": \"white\", \"gridwidth\": 2, \"linecolor\": \"white\", \"showbackground\": true, \"ticks\": \"\", \"zerolinecolor\": \"white\"}}, \"shapedefaults\": {\"line\": {\"color\": \"#2a3f5f\"}}, \"ternary\": {\"aaxis\": {\"gridcolor\": \"white\", \"linecolor\": \"white\", \"ticks\": \"\"}, \"baxis\": {\"gridcolor\": \"white\", \"linecolor\": \"white\", \"ticks\": \"\"}, \"bgcolor\": \"#E5ECF6\", \"caxis\": {\"gridcolor\": \"white\", \"linecolor\": \"white\", \"ticks\": \"\"}}, \"title\": {\"x\": 0.05}, \"xaxis\": {\"automargin\": true, \"gridcolor\": \"white\", \"linecolor\": \"white\", \"ticks\": \"\", \"title\": {\"standoff\": 15}, \"zerolinecolor\": \"white\", \"zerolinewidth\": 2}, \"yaxis\": {\"automargin\": true, \"gridcolor\": \"white\", \"linecolor\": \"white\", \"ticks\": \"\", \"title\": {\"standoff\": 15}, \"zerolinecolor\": \"white\", \"zerolinewidth\": 2}}}, \"title\": {\"text\": \"Input\"}, \"width\": 800, \"xaxis\": {\"anchor\": \"y\", \"domain\": [0.0, 1.0], \"linecolor\": \"black\", \"linewidth\": 2, \"showline\": true, \"ticks\": \"inside\"}, \"yaxis\": {\"anchor\": \"x\", \"domain\": [0.0, 1.0], \"gridcolor\": \"grey\", \"gridwidth\": 1, \"linecolor\": \"black\", \"linewidth\": 2, \"nticks\": 9, \"range\": [0, 9], \"showgrid\": true, \"showline\": true, \"tickcolor\": \"black\", \"ticklen\": 10, \"ticks\": \"inside\", \"ticktext\": [\"Channel1\", \"Channel2\", \"Channel3\", \"Channel4\", \"Channel5\", \"Channel6\", \"Channel7\", \"Channel8\", \"Channel9\"], \"tickvals\": [\"1\", \"2\", \"3\", \"4\", \"5\", \"6\", \"7\", \"8\", \"9\"], \"tickwidth\": 2, \"title\": {\"text\": \"Input Channel\"}}},\n",
       "                        {\"responsive\": true}\n",
       "                    ).then(function(){\n",
       "                            \n",
       "var gd = document.getElementById('0281d121-3007-4531-b092-21b11aa64bb0');\n",
       "var x = new MutationObserver(function (mutations, observer) {{\n",
       "        var display = window.getComputedStyle(gd).display;\n",
       "        if (!display || display === 'none') {{\n",
       "            console.log([gd, 'removed!']);\n",
       "            Plotly.purge(gd);\n",
       "            observer.disconnect();\n",
       "        }}\n",
       "}});\n",
       "\n",
       "// Listen for the removal of the full notebook cells\n",
       "var notebookContainer = gd.closest('#notebook-container');\n",
       "if (notebookContainer) {{\n",
       "    x.observe(notebookContainer, {childList: true});\n",
       "}}\n",
       "\n",
       "// Listen for the clearing of the current output cell\n",
       "var outputEl = gd.closest('.output');\n",
       "if (outputEl) {{\n",
       "    x.observe(outputEl, {childList: true});\n",
       "}}\n",
       "\n",
       "                        })\n",
       "                };\n",
       "                });\n",
       "            </script>\n",
       "        </div>"
      ]
     },
     "metadata": {},
     "output_type": "display_data"
    }
   ],
   "source": [
    "import plotly\n",
    "from plotly.subplots import make_subplots\n",
    "import plotly.graph_objects as go\n",
    "\n",
    "DEFAULT_PLOTLY_COLORS=['rgba(31, 119, 180, {})', 'rgba(255, 127, 14, {})',\n",
    "                       'rgba(44, 160, 44, {})', 'rgba(214, 39, 40, {})',\n",
    "                       'rgba(148, 103, 189, {})', 'rgba(140, 86, 75, {})',\n",
    "                       'rgba(227, 119, 194, {})', 'rgba(127, 127, 127, {})',\n",
    "                       'rgba(188, 189, 34, {})', 'rgba(23, 190, 207, {})']\n",
    "\n",
    "normalized_data = (sample_data.values - sample_data.values.min(axis=0))/(sample_data.values.max(axis=0) - sample_data.values.min(axis=0))\n",
    "for cidx in range(0,sample_data.shape[1]):\n",
    "    normalized_data[:,cidx] =normalized_data[:,cidx] + cidx \n",
    "    \n",
    "    \n",
    "fig = make_subplots(\n",
    "    rows=1, cols=1, shared_xaxes=True, vertical_spacing=0.02\n",
    ")\n",
    "\n",
    "for cidx in range(sample_data.shape[-1]):\n",
    "    fig.add_trace(go.Scatter(x=np.arange(sample_data.shape[0]), \n",
    "                             y=normalized_data[:,cidx],  \n",
    "                            line_color=\"black\",\n",
    "                             line_width=1,\n",
    "                             showlegend=False,\n",
    "                             ),\n",
    "                  row=1, col=1)\n",
    "    \n",
    "    fig.add_trace(go.Scatter(x=np.arange(sample_data.shape[0])[consecutive_pattern_bool], \n",
    "                            y=normalized_data[consecutive_pattern_bool,cidx],  \n",
    "#                               fill='toself',\n",
    "                            line_color='rgba(200, 0, 200, 0.6)',\n",
    "                            line_width=5,\n",
    "                            showlegend=False,\n",
    "                            ),\n",
    "                   row=1, col=1)\n",
    "    \n",
    "fig.update_xaxes(showline=True, linewidth=2, linecolor='black',ticks=\"inside\")\n",
    "fig.update_yaxes(showline=True, linewidth=2, linecolor='black',\n",
    "                 ticks=\"inside\",nticks=sample_data.shape[1], tickwidth=2, tickcolor='black', ticklen=10,title_text='Input Channel',\n",
    "                showgrid=True, gridwidth=1, gridcolor='grey',\n",
    "                ticktext=[\"Channel1\", \"Channel2\", \"Channel3\", \"Channel4\",\"Channel5\", \"Channel6\", \"Channel7\", \"Channel8\", \"Channel9\"],\n",
    "                tickvals=[\"1\", \"2\", \"3\", \"4\", \"5\", \"6\",\"7\", \"8\", \"9\"],\n",
    "                range=[0,9])\n",
    "\n",
    "\n",
    "fig.update_layout(height=600, width=800,plot_bgcolor='rgb(256,256,256)',\n",
    "                  title_text=\"Input\")\n",
    "\n",
    "fig.show()"
   ]
  },
  {
   "cell_type": "markdown",
   "metadata": {},
   "source": [
    "3d plot? 수정필요"
   ]
  },
  {
   "cell_type": "code",
   "execution_count": null,
   "metadata": {},
   "outputs": [],
   "source": [
    "from mpl_toolkits.mplot3d import Axes3D"
   ]
  },
  {
   "cell_type": "code",
   "execution_count": null,
   "metadata": {},
   "outputs": [],
   "source": [
    "random.seed = 10005\n",
    "\n",
    "class_color= [\"cyan\",\"orange\",\"lime\",\"pink\",\"cyan\",\"orange\",\"lime\",\"pink\",\"cyan\"]\n",
    "consecutive_class_color= [\"dodgerblue\",\"coral\",\"seagreen\",\"indianred\",\"dodgerblue\",\"coral\",\"seagreen\",\"indianred\",\"dodgerblue\"]\n",
    "survived_channel = [i for i, x in enumerate(last_conv_bool.sum(axis=1).sum(axis=0)) if x>0]\n",
    "sample_channel = random.sample(survived_channel,1)\n",
    "\n",
    "consecutive_num =trainX.shape[2]//20\n",
    "\n",
    "for class_i in class_list:\n",
    "    \n",
    "    sample_data_idx =random.sample([i for i, e in enumerate(np.argmax(trainY,axis=1)) if e == (class_i-1)],1)\n",
    "    fig = plt.figure()\n",
    "    ax = fig.add_subplot(111,projection='3d')\n",
    "    fig.suptitle(\"Last Conv ({}) Consecutive ({}) ,Output(class{}) \".format(sample_channel,consecutive_num,class_i-1))\n",
    "    \n",
    "    for c in range(0,input_channel):\n",
    "        data = trainX[sample_data_idx,:,:,c].reshape(-1,1)\n",
    "        data = (data-data.min())/(data.max()-data.min())\n",
    "        pattern_idx = [p for p, x in enumerate(last_conv_bool[sample_data_idx[0],:,c]) if x]\n",
    "        #ax = fig.gca(projection='3d')\n",
    "\n",
    "        ax.plot([c]*len(data),range(0,len(data)), data.flatten())\n",
    "        # 패턴의 연속성을 찾는 구간\n",
    "        groups = []\n",
    "        for _, g in groupby(pattern_idx, key=lambda n, c=itertools.count(): n-next(c)):\n",
    "            groups.append(list(g))    # Store group iterator as a list\n",
    "        for g in groups:\n",
    "            if len(g)>consecutive_num:\n",
    "                ax.scatter([c]*len(g) ,g,data[g],color = consecutive_class_color[c], s =12,alpha=0.7)\n",
    "                ax.add_collection3d(plt.fill_between(np.arange(g[0],g[-1]),data[g[0]:g[-1]],0), zs=1, zdir='y')\n",
    "                #ax[j].text(g[0],0,len(g))\n",
    "            #else:\n",
    "                #ax.scatter(g,[c]*len(g), data[g],color = class_color[c],s=12)\n",
    "                \n",
    "        ax.set_xticks=[]\n",
    "        ax.set_yticks=[]"
   ]
  },
  {
   "cell_type": "markdown",
   "metadata": {},
   "source": [
    "### 여러개의 데이터 클래스별"
   ]
  },
  {
   "cell_type": "markdown",
   "metadata": {},
   "source": [
    "수정필요"
   ]
  },
  {
   "cell_type": "code",
   "execution_count": null,
   "metadata": {},
   "outputs": [],
   "source": [
    "random.seed = 10005\n",
    "\n",
    "class_color= [\"cyan\",\"orange\",\"lime\",\"pink\",\"cyan\",\"orange\",\"lime\",\"pink\"]\n",
    "consecutive_class_color= [\"dodgerblue\",\"coral\",\"seagreen\",\"indianred\",\"dodgerblue\",\"coral\",\"seagreen\",\"indianred\"]\n",
    "survived_channel = [i for i, x in enumerate(last_conv_bool.sum(axis=1).sum(axis=0)) if x>0]\n",
    "sample_channel = random.sample(survived_channel,10)\n",
    "\n",
    "consecutive_num =trainX.shape[2]//20\n",
    "\n",
    "for class_i in class_list:\n",
    "    \n",
    "    sample_data_idx =random.sample([i for i, e in enumerate(np.argmax(trainY,axis=1)) if e == (class_i-1)],10)\n",
    "    fig, ax = plt.subplots(len(sample_channel), len(sample_data_idx), sharex='col', sharey='row')\n",
    "    fig.suptitle(\"Last Conv ({}) Consecutive ({}) ,Output(class{}) \".format(sample_channel,consecutive_num,class_i-1))\n",
    "    \n",
    "    ax_idx = 0\n",
    "    for i, x_idx in enumerate(sample_data_idx):\n",
    "        for j,channel in enumerate(sample_channel) : \n",
    "            data = trainX[x_idx,:,:,1].reshape(-1,1)\n",
    "            pattern_idx = [p for p, x in enumerate(last_conv_bool[x_idx,:,channel]) if x]\n",
    "            \n",
    "            # 패턴의 연속성을 찾는 구간\n",
    "            groups = []\n",
    "            for _, g in groupby(pattern_idx, key=lambda n, c=itertools.count(): n-next(c)):\n",
    "                groups.append(list(g))    # Store group iterator as a list\n",
    "    \n",
    "            ax[j,i].set_xticks=[]\n",
    "            ax[j,i].set_yticks=[]\n",
    "            ax[j,i].plot(data,color='black')\n",
    "            for g in groups:\n",
    "                if len(g)>consecutive_num:\n",
    "                    ax[j,i].scatter(g, data[g],color = consecutive_class_color[class_i-1], s =12,alpha=0.7)\n",
    "                    ax[j,i].text(g[0],0,len(g))\n",
    "                else:\n",
    "                    ax[j,i].scatter(g, data[g],color = class_color[class_i-1],s=12)"
   ]
  }
 ],
 "metadata": {
  "colab": {
   "name": "model.ipynb",
   "provenance": []
  },
  "kernelspec": {
   "display_name": "py_36_env",
   "language": "python",
   "name": "py_36_env"
  },
  "language_info": {
   "codemirror_mode": {
    "name": "ipython",
    "version": 3
   },
   "file_extension": ".py",
   "mimetype": "text/x-python",
   "name": "python",
   "nbconvert_exporter": "python",
   "pygments_lexer": "ipython3",
   "version": "3.6.4"
  }
 },
 "nbformat": 4,
 "nbformat_minor": 1
}
