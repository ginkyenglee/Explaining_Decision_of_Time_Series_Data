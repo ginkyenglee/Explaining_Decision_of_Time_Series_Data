{
 "cells": [
  {
   "cell_type": "code",
   "execution_count": 1,
   "metadata": {
    "colab": {},
    "colab_type": "code",
    "id": "4y7_sbSIxg6E",
    "outputId": "929e3bc6-f359-4add-ce57-077422b03c56"
   },
   "outputs": [],
   "source": [
    "import pandas as pd\n",
    "import numpy as np"
   ]
  },
  {
   "cell_type": "markdown",
   "metadata": {
    "colab_type": "text",
    "id": "xYklN3iMxg6M"
   },
   "source": [
    "# 1. Data Load\n",
    "### 전처리 width, height, input_channel 정의"
   ]
  },
  {
   "cell_type": "code",
   "execution_count": 2,
   "metadata": {
    "colab": {},
    "colab_type": "code",
    "id": "a2XqoXoUxg6N"
   },
   "outputs": [],
   "source": [
    "from load_data import load_data,class_breakdown"
   ]
  },
  {
   "cell_type": "code",
   "execution_count": 3,
   "metadata": {},
   "outputs": [
    {
     "name": "stdout",
     "output_type": "stream",
     "text": [
      "Load data EEG\n",
      "batch size:16\n",
      "train data (9958, 117, 14),(9958, 1)\n",
      "test data (4905, 117, 14),(4905, 1)\n"
     ]
    }
   ],
   "source": [
    "data_name =\"EEG\"\n",
    "trainx, testx,trainy,testy,batch_size = load_data(data_name =data_name)"
   ]
  },
  {
   "cell_type": "code",
   "execution_count": 4,
   "metadata": {
    "colab": {},
    "colab_type": "code",
    "id": "xyupyd-hxg6T",
    "outputId": "dcff2c15-b58d-4c33-989a-d54de283fa66"
   },
   "outputs": [
    {
     "name": "stdout",
     "output_type": "stream",
     "text": [
      "Class=1, total=5466, percentage=54.891\n",
      "Class=2, total=4492, percentage=45.109\n",
      "Class=1, total=2675, percentage=54.536\n",
      "Class=2, total=2230, percentage=45.464\n"
     ]
    }
   ],
   "source": [
    "class_breakdown(trainy)\n",
    "class_breakdown(testy)"
   ]
  },
  {
   "cell_type": "code",
   "execution_count": 5,
   "metadata": {
    "colab": {},
    "colab_type": "code",
    "id": "ROHthjPBxg6V"
   },
   "outputs": [
    {
     "name": "stdout",
     "output_type": "stream",
     "text": [
      "y train shape: (9958, 2)\n",
      "y test shape: (4905, 2)\n"
     ]
    }
   ],
   "source": [
    "hot_encoded_y_train = np.asarray(pd.get_dummies(np.asarray(trainy.flatten())))\n",
    "hot_encoded_y_test = np.asarray(pd.get_dummies(np.asarray(testy.flatten())))\n",
    "print(\"y train shape: {}\".format(hot_encoded_y_train.shape))\n",
    "print(\"y test shape: {}\".format(hot_encoded_y_test.shape))"
   ]
  },
  {
   "cell_type": "code",
   "execution_count": 6,
   "metadata": {
    "colab": {},
    "colab_type": "code",
    "id": "O6OPKVxRxg6X",
    "outputId": "8749c02f-83df-48c8-a352-86bfb8bfdcd4"
   },
   "outputs": [
    {
     "name": "stdout",
     "output_type": "stream",
     "text": [
      "trainX shape:(9958, 1, 117, 14)\n",
      "trainY shape:(9958, 2)\n",
      "validX shape:(2452, 1, 117, 14)\n",
      "validY shape:(2452, 2)\n",
      "testX shape:(2453, 1, 117, 14)\n",
      "testY shape:(2453, 2)\n"
     ]
    }
   ],
   "source": [
    "trainX = trainx[:, np.newaxis, :]\n",
    "trainY = hot_encoded_y_train\n",
    "\n",
    "validX =testx[:len(testx)//2,np.newaxis,:]\n",
    "validY= hot_encoded_y_test[:len(testx)//2]\n",
    "\n",
    "testX = testx[len(testx)//2:,np.newaxis,:]\n",
    "testY = hot_encoded_y_test[len(testx)//2:]\n",
    "\n",
    "print (\"trainX shape:{}\".format(trainX.shape))\n",
    "print (\"trainY shape:{}\".format(trainY.shape))\n",
    "print (\"validX shape:{}\".format(validX.shape))\n",
    "print (\"validY shape:{}\".format(validY.shape))\n",
    "print (\"testX shape:{}\".format(testX.shape))\n",
    "print (\"testY shape:{}\".format(testY.shape))"
   ]
  },
  {
   "cell_type": "code",
   "execution_count": 7,
   "metadata": {
    "colab": {},
    "colab_type": "code",
    "id": "8JpxKigLxg6a"
   },
   "outputs": [
    {
     "name": "stdout",
     "output_type": "stream",
     "text": [
      "height 1\n",
      "width 117\n",
      "input_channel 14\n"
     ]
    }
   ],
   "source": [
    "height = trainX.shape[1]\n",
    "width = trainX.shape[2]\n",
    "input_channel = trainX.shape[3]\n",
    "\n",
    "print (\"height {}\".format(height))\n",
    "print (\"width {}\".format(width))\n",
    "print (\"input_channel {}\".format(input_channel))"
   ]
  },
  {
   "cell_type": "markdown",
   "metadata": {
    "colab_type": "text",
    "id": "LRkT92eLxg6c"
   },
   "source": [
    "# 2. Training condition 정의"
   ]
  },
  {
   "cell_type": "code",
   "execution_count": 29,
   "metadata": {
    "colab": {},
    "colab_type": "code",
    "id": "96TudpYHxg6d"
   },
   "outputs": [],
   "source": [
    "t_loss=[]\n",
    "t_acc=[]\n",
    "\n",
    "v_loss=[]\n",
    "v_acc=[]\n",
    "\n",
    "val_freq = 1\n",
    "save_freq = 1\n",
    "num_epochs= 5\n",
    "\n",
    "\n",
    "std= 0.01\n",
    "l_rate = 1e-6"
   ]
  },
  {
   "cell_type": "code",
   "execution_count": 30,
   "metadata": {
    "colab": {},
    "colab_type": "code",
    "id": "v0CdpPI7xg6f"
   },
   "outputs": [],
   "source": [
    "train_history = pd.DataFrame(index=np.arange(0, num_epochs), columns=['epoch', 'loss', 'acc','timestamp'])\n",
    "valid_history = pd.DataFrame(index=np.arange(0, num_epochs/val_freq),columns=['epoch', 'loss', 'acc','timestamp'])"
   ]
  },
  {
   "cell_type": "markdown",
   "metadata": {
    "colab_type": "text",
    "id": "6HiU9eckxg6h"
   },
   "source": [
    "# 3. model structure 정의"
   ]
  },
  {
   "cell_type": "code",
   "execution_count": 31,
   "metadata": {
    "colab": {},
    "colab_type": "code",
    "id": "XNEeKqCOxg6K"
   },
   "outputs": [],
   "source": [
    "from FCN import CNN_MC_dropout"
   ]
  },
  {
   "cell_type": "code",
   "execution_count": 32,
   "metadata": {},
   "outputs": [
    {
     "name": "stdout",
     "output_type": "stream",
     "text": [
      "2\n"
     ]
    }
   ],
   "source": [
    "from numpy import unique\n",
    "nb_classes =trainY.shape[1]\n",
    "print (nb_classes)"
   ]
  },
  {
   "cell_type": "code",
   "execution_count": 33,
   "metadata": {
    "colab": {},
    "colab_type": "code",
    "id": "Jny6_y8cxg6h"
   },
   "outputs": [],
   "source": [
    "if 'MC_dropout_model' in globals():\n",
    "    MC_dropout_model.terminate()\n",
    "    \n",
    "MC_dropout_model =CNN_MC_dropout(height=height,width= width, input_channel=input_channel ,nb_classes=nb_classes,\n",
    "                                 std=std,batch_size=batch_size,l_rate=l_rate)"
   ]
  },
  {
   "cell_type": "code",
   "execution_count": 34,
   "metadata": {
    "colab": {},
    "colab_type": "code",
    "id": "8i5mZbLexg6j",
    "outputId": "eb6c9052-804c-4e42-8eb5-e09b35fe7a10",
    "scrolled": true
   },
   "outputs": [
    {
     "name": "stdout",
     "output_type": "stream",
     "text": [
      "Tensor(\"Classifier/x:0\", shape=(?, 1, 117, 14), dtype=float32)\n",
      "[layer1] - MC dropout\n",
      "Tensor(\"layer1/conv2d/BiasAdd:0\", shape=(?, 1, 117, 128), dtype=float32)\n",
      "Tensor(\"layer1/batch_normalization/FusedBatchNorm:0\", shape=(?, 1, 117, 128), dtype=float32)\n",
      "Tensor(\"layer1/Relu:0\", shape=(?, 1, 117, 128), dtype=float32)\n",
      "Tensor(\"layer1/dropout/mul:0\", shape=(?, 1, 117, 128), dtype=float32)\n",
      "[layer2] - MC dropout\n",
      "Tensor(\"layer2/conv2d/BiasAdd:0\", shape=(?, 1, 117, 256), dtype=float32)\n",
      "Tensor(\"layer2/batch_normalization/FusedBatchNorm:0\", shape=(?, 1, 117, 256), dtype=float32)\n",
      "Tensor(\"layer2/Relu:0\", shape=(?, 1, 117, 256), dtype=float32)\n",
      "Tensor(\"layer2/dropout/mul:0\", shape=(?, 1, 117, 256), dtype=float32)\n",
      "[layer3]\n",
      "Tensor(\"layer3/conv2d/BiasAdd:0\", shape=(?, 1, 117, 128), dtype=float32)\n",
      "Tensor(\"layer3/batch_normalization/FusedBatchNorm:0\", shape=(?, 1, 117, 128), dtype=float32)\n",
      "Tensor(\"layer3/Relu:0\", shape=(?, 1, 117, 128), dtype=float32)\n",
      "[layer4]\n",
      "Tensor(\"layer4/Mean:0\", shape=(?, 128), dtype=float32)\n",
      "Tensor(\"layer4/dense/BiasAdd:0\", shape=(?, 2), dtype=float32)\n"
     ]
    }
   ],
   "source": [
    "print (MC_dropout_model.input)\n",
    "print ('[layer1] - MC dropout')\n",
    "print (MC_dropout_model.conv1)\n",
    "print (MC_dropout_model.batch1)\n",
    "print (MC_dropout_model.relu1)\n",
    "print (MC_dropout_model.dropout1)\n",
    "print ('[layer2] - MC dropout')\n",
    "print (MC_dropout_model.conv2)\n",
    "print (MC_dropout_model.batch2)\n",
    "print (MC_dropout_model.relu2)\n",
    "print (MC_dropout_model.dropout2)\n",
    "print ('[layer3]')\n",
    "print (MC_dropout_model.conv3)\n",
    "print (MC_dropout_model.batch3)\n",
    "print (MC_dropout_model.relu3)\n",
    "\n",
    "print ('[layer4]')\n",
    "print (MC_dropout_model.GAP)\n",
    "print (MC_dropout_model.logits)"
   ]
  },
  {
   "cell_type": "markdown",
   "metadata": {
    "colab_type": "text",
    "id": "LmWRfeSOxg6l"
   },
   "source": [
    "# 4. Training"
   ]
  },
  {
   "cell_type": "code",
   "execution_count": 35,
   "metadata": {
    "colab": {},
    "colab_type": "code",
    "id": "4pgl8PLBxg6m"
   },
   "outputs": [],
   "source": [
    "import time\n",
    "import os"
   ]
  },
  {
   "cell_type": "code",
   "execution_count": 36,
   "metadata": {
    "colab": {},
    "colab_type": "code",
    "id": "fLBIHIbqxg6o",
    "outputId": "47abf10c-e76a-4462-a56c-3d0dbfd77cbd"
   },
   "outputs": [
    {
     "name": "stdout",
     "output_type": "stream",
     "text": [
      "EEG_CNN_MCdropout_1e-06_16\n"
     ]
    }
   ],
   "source": [
    "save_path = './model/'+data_name\n",
    "model_name = data_name+\"_CNN_MCdropout_\"+str(l_rate)+'_'+str(batch_size)\n",
    "print (model_name)"
   ]
  },
  {
   "cell_type": "code",
   "execution_count": 37,
   "metadata": {
    "colab": {},
    "colab_type": "code",
    "id": "Ism3OSKnxg6u"
   },
   "outputs": [],
   "source": [
    "from training import get_batch"
   ]
  },
  {
   "cell_type": "code",
   "execution_count": 38,
   "metadata": {
    "colab": {},
    "colab_type": "code",
    "id": "nPy7CW6Ixg6w"
   },
   "outputs": [],
   "source": [
    "keep_prob =1.0"
   ]
  },
  {
   "cell_type": "code",
   "execution_count": 39,
   "metadata": {
    "colab": {},
    "colab_type": "code",
    "id": "1aSW6vp3xg6y",
    "outputId": "039e0277-40ba-439c-a344-dfbefd564aa5"
   },
   "outputs": [
    {
     "name": "stdout",
     "output_type": "stream",
     "text": [
      "INFO:tensorflow:./model/EEG/EEG_CNN_MCdropout_1e-06_16/1.ckpt is not in all_model_checkpoint_paths. Manually adding it.\n",
      "Model saved in file: ./model/EEG/EEG_CNN_MCdropout_1e-06_16/1.ckpt\n",
      "  training loss:\t1.379601\n",
      "  training acc:\t0.492\n",
      "  validation loss:\t0.711005\n",
      "  validation acc:\t0.509\n",
      "INFO:tensorflow:./model/EEG/EEG_CNN_MCdropout_1e-06_16/2.ckpt is not in all_model_checkpoint_paths. Manually adding it.\n",
      "Model saved in file: ./model/EEG/EEG_CNN_MCdropout_1e-06_16/2.ckpt\n",
      "  training loss:\t0.717272\n",
      "  training acc:\t0.505\n",
      "  validation loss:\t0.698627\n",
      "  validation acc:\t0.525\n",
      "INFO:tensorflow:./model/EEG/EEG_CNN_MCdropout_1e-06_16/3.ckpt is not in all_model_checkpoint_paths. Manually adding it.\n",
      "Model saved in file: ./model/EEG/EEG_CNN_MCdropout_1e-06_16/3.ckpt\n",
      "  training loss:\t0.709430\n",
      "  training acc:\t0.513\n",
      "  validation loss:\t0.695761\n",
      "  validation acc:\t0.528\n",
      "INFO:tensorflow:./model/EEG/EEG_CNN_MCdropout_1e-06_16/4.ckpt is not in all_model_checkpoint_paths. Manually adding it.\n",
      "Model saved in file: ./model/EEG/EEG_CNN_MCdropout_1e-06_16/4.ckpt\n",
      "  training loss:\t0.706224\n",
      "  training acc:\t0.517\n",
      "  validation loss:\t0.692019\n",
      "  validation acc:\t0.533\n",
      "INFO:tensorflow:./model/EEG/EEG_CNN_MCdropout_1e-06_16/5.ckpt is not in all_model_checkpoint_paths. Manually adding it.\n",
      "Model saved in file: ./model/EEG/EEG_CNN_MCdropout_1e-06_16/5.ckpt\n",
      "  training loss:\t0.703620\n",
      "  training acc:\t0.522\n",
      "  validation loss:\t0.689254\n",
      "  validation acc:\t0.533\n"
     ]
    }
   ],
   "source": [
    "for epoch in range(num_epochs):#range(num_epochs):##\n",
    "    \n",
    "    loss = 0\n",
    "    acc=0\n",
    "    train_batches = 0\n",
    "    start_time = time.time()   \n",
    "    \n",
    "    for batch in get_batch(X=trainX, Y=trainY, nb_classes = nb_classes, batch_size=batch_size):\n",
    "        train_in, train_target = batch\n",
    "        train_batches += 1.0 \n",
    "        loss1 ,acc1 = MC_dropout_model.train(data=train_in,target= train_target,keep_prob=keep_prob,is_dropout=False)\n",
    "        loss = loss1+loss\n",
    "        acc = acc1+acc\n",
    "        if np.isnan(loss):\n",
    "            print ('error')\n",
    "            break\n",
    "    t_loss.append(loss/train_batches)\n",
    "    t_acc.append(acc/train_batches)\n",
    "    \n",
    "    train_history.loc[epoch] = [epoch+1, t_loss[epoch], t_acc[epoch] ,time.strftime(\"%Y-%m-%d-%H:%M\", time.localtime())]\n",
    "    if not os.path.exists(os.path.join(save_path, model_name)):\n",
    "        os.mkdir( os.path.join(save_path, model_name))\n",
    "    MC_dropout_model.save(os.path.join(save_path, model_name,str(epoch+1)+'.ckpt'))\n",
    "\n",
    "    \n",
    "    if(epoch+1)%val_freq ==0:\n",
    "        acc=0\n",
    "        loss = 0\n",
    "        val_batches=0\n",
    "        for batch in get_batch(X=validX, Y=validY, nb_classes = nb_classes, batch_size=batch_size):\n",
    "            val_in, val_target = batch\n",
    "            val_batches += 1.0 \n",
    "            loss1 ,acc1 = MC_dropout_model.test(data=val_in,target= val_target,keep_prob=keep_prob,is_dropout=False)\n",
    "            loss = loss1+loss\n",
    "            acc = acc1+acc\n",
    "        \n",
    "        v_acc.append(acc/val_batches)\n",
    "        v_loss.append(loss/val_batches)\n",
    "        valid_history.loc[epoch] = [epoch+1, v_loss[epoch], v_acc[epoch] ,time.strftime(\"%Y-%m-%d-%H:%M\", time.localtime())]  \n",
    "        \n",
    "        print(\"  training loss:\\t{:.6f}\".format(t_loss[epoch]))\n",
    "        print(\"  training acc:\\t{:.3f}\".format(t_acc[epoch]))\n",
    "        print(\"  validation loss:\\t{:.6f}\".format(v_loss[epoch]))\n",
    "        print(\"  validation acc:\\t{:.3f}\".format(v_acc[epoch]))\n"
   ]
  },
  {
   "cell_type": "code",
   "execution_count": 40,
   "metadata": {
    "colab": {},
    "colab_type": "code",
    "id": "rP08N40exg60"
   },
   "outputs": [],
   "source": [
    "train_history.to_csv(os.path.join(save_path,model_name,  \"history_train.csv\"))\n",
    "valid_history.to_csv(os.path.join(save_path,model_name,  \"history_valid.csv\"))"
   ]
  },
  {
   "cell_type": "markdown",
   "metadata": {
    "colab_type": "text",
    "id": "vlFgsib-xg64"
   },
   "source": [
    "# 5.check the result"
   ]
  },
  {
   "cell_type": "markdown",
   "metadata": {
    "colab_type": "text",
    "id": "KgcHlnjVxg65"
   },
   "source": [
    "### with loss and accuracy graph"
   ]
  },
  {
   "cell_type": "code",
   "execution_count": 41,
   "metadata": {},
   "outputs": [],
   "source": [
    "from visualization import plot_train_history"
   ]
  },
  {
   "cell_type": "code",
   "execution_count": 42,
   "metadata": {
    "colab": {},
    "colab_type": "code",
    "id": "q8-lRSQsxg66"
   },
   "outputs": [],
   "source": [
    "train_history = pd.read_csv(os.path.join(save_path,model_name,\"history_train.csv\"),index_col=0)\n",
    "valid_history = pd.read_csv(os.path.join(save_path,model_name,\"history_valid.csv\"),index_col=0)"
   ]
  },
  {
   "cell_type": "code",
   "execution_count": 43,
   "metadata": {},
   "outputs": [
    {
     "name": "stdout",
     "output_type": "stream",
     "text": [
      "save ./model/EEG/EEG_CNN_MCdropout_1e-06_16/loss_graph.png\n",
      "save ./model/EEG/EEG_CNN_MCdropout_1e-06_16/acc_graph.png\n"
     ]
    },
    {
     "data": {
      "image/png": "[encoded data removed]",
      "text/plain": [
       "<Figure size 720x360 with 2 Axes>"
      ]
     },
     "metadata": {
      "needs_background": "light"
     },
     "output_type": "display_data"
    }
   ],
   "source": [
    "plot_train_history(train_df = train_history,\n",
    "                   valid_df = valid_history,\n",
    "                   save_path = os.path.join(save_path,model_name))"
   ]
  },
  {
   "cell_type": "code",
   "execution_count": 44,
   "metadata": {
    "colab": {},
    "colab_type": "code",
    "id": "N9JDsIyvxg7B",
    "outputId": "126b0146-dbdc-4ca8-de1d-9b14572a8bf1"
   },
   "outputs": [
    {
     "name": "stderr",
     "output_type": "stream",
     "text": [
      "/home/gin908/paper_ready/py_36_env/lib/python3.6/site-packages/numpy/core/fromnumeric.py:61: FutureWarning: \n",
      "The current behaviour of 'Series.argmin' is deprecated, use 'idxmin'\n",
      "instead.\n",
      "The behavior of 'argmin' will be corrected to return the positional\n",
      "minimum in the future. For now, use 'series.values.argmin' or\n",
      "'np.argmin(np.array(values))' to get the position of the minimum\n",
      "row.\n",
      "  return bound(*args, **kwds)\n"
     ]
    }
   ],
   "source": [
    "bestepoch = int(np.argmin(valid_history['loss']))"
   ]
  },
  {
   "cell_type": "code",
   "execution_count": 45,
   "metadata": {
    "colab": {},
    "colab_type": "code",
    "id": "6Nve8UZsxg7D",
    "outputId": "5a50e4f4-3c80-441c-fe62-3f674ca92316"
   },
   "outputs": [
    {
     "name": "stdout",
     "output_type": "stream",
     "text": [
      "error: 0.6892536266956454\n"
     ]
    }
   ],
   "source": [
    "error = valid_history.loc[bestepoch,'loss']\n",
    "print (\"error: {}\".format(error))"
   ]
  },
  {
   "cell_type": "code",
   "execution_count": 47,
   "metadata": {
    "colab": {},
    "colab_type": "code",
    "id": "ogt5Ay-kxg7F",
    "outputId": "603808f4-930e-43cb-ecd5-597125a79523"
   },
   "outputs": [
    {
     "name": "stdout",
     "output_type": "stream",
     "text": [
      "INFO:tensorflow:Restoring parameters from ./model/EEG/EEG_CNN_MCdropout_1e-06_16/4.ckpt\n",
      "Model restored\n"
     ]
    }
   ],
   "source": [
    "bestepoch=bestepoch\n",
    "MC_dropout_model.load(os.path.join(save_path,model_name,str(bestepoch)+'.ckpt'))"
   ]
  },
  {
   "cell_type": "markdown",
   "metadata": {
    "colab_type": "text",
    "id": "5aT9WMWZxg7H"
   },
   "source": [
    "### with confusion matrix"
   ]
  },
  {
   "cell_type": "code",
   "execution_count": 52,
   "metadata": {
    "colab": {},
    "colab_type": "code",
    "id": "KUz6EoWyxg7H"
   },
   "outputs": [],
   "source": [
    "from visualization import plot_confusion_matrix"
   ]
  },
  {
   "cell_type": "code",
   "execution_count": 53,
   "metadata": {},
   "outputs": [],
   "source": [
    "from sklearn.metrics import confusion_matrix"
   ]
  },
  {
   "cell_type": "code",
   "execution_count": 54,
   "metadata": {
    "colab": {},
    "colab_type": "code",
    "id": "jnYhx8ffyEfa"
   },
   "outputs": [],
   "source": [
    "class_list = np.unique(trainy, return_counts=False, return_index=True)[0].astype(int)"
   ]
  },
  {
   "cell_type": "code",
   "execution_count": 55,
   "metadata": {
    "colab": {},
    "colab_type": "code",
    "id": "USnpndL2xg7K",
    "outputId": "c81932c3-151f-4d31-9b22-2d5e56514e74"
   },
   "outputs": [
    {
     "ename": "NameError",
     "evalue": "name 'np' is not defined",
     "output_type": "error",
     "traceback": [
      "\u001b[0;31m--------------------------------------\u001b[0m",
      "\u001b[0;31mNameError\u001b[0mTraceback (most recent call last)",
      "\u001b[0;32m<ipython-input-55-3e5cc5992298>\u001b[0m in \u001b[0;36m<module>\u001b[0;34m\u001b[0m\n\u001b[1;32m      5\u001b[0m plot_confusion_matrix(confusion_matrix(prediction,target),                      \n\u001b[1;32m      6\u001b[0m     \u001b[0mclasses\u001b[0m\u001b[0;34m=\u001b[0m\u001b[0mclass_list\u001b[0m\u001b[0;34m,\u001b[0m\u001b[0;34m\u001b[0m\u001b[0m\n\u001b[0;32m----> 7\u001b[0;31m     title=data_name+'classifcation(train)')\n\u001b[0m",
      "\u001b[0;32m~/paper_ready/MC_LRP_NetworkDissection/Explaining_Decision_of_Time_Series_Data/visualization.py\u001b[0m in \u001b[0;36mplot_confusion_matrix\u001b[0;34m(cm, classes, title, cmap)\u001b[0m\n\u001b[1;32m     51\u001b[0m     \u001b[0mplt\u001b[0m\u001b[0;34m.\u001b[0m\u001b[0mtitle\u001b[0m\u001b[0;34m(\u001b[0m\u001b[0mtitle\u001b[0m\u001b[0;34m)\u001b[0m\u001b[0;34m\u001b[0m\u001b[0m\n\u001b[1;32m     52\u001b[0m     \u001b[0mplt\u001b[0m\u001b[0;34m.\u001b[0m\u001b[0mcolorbar\u001b[0m\u001b[0;34m(\u001b[0m\u001b[0;34m)\u001b[0m\u001b[0;34m\u001b[0m\u001b[0m\n\u001b[0;32m---> 53\u001b[0;31m     \u001b[0mtick_marks\u001b[0m \u001b[0;34m=\u001b[0m \u001b[0mnp\u001b[0m\u001b[0;34m.\u001b[0m\u001b[0marange\u001b[0m\u001b[0;34m(\u001b[0m\u001b[0mlen\u001b[0m\u001b[0;34m(\u001b[0m\u001b[0mclasses\u001b[0m\u001b[0;34m)\u001b[0m\u001b[0;34m)\u001b[0m\u001b[0;34m\u001b[0m\u001b[0m\n\u001b[0m\u001b[1;32m     54\u001b[0m     \u001b[0mplt\u001b[0m\u001b[0;34m.\u001b[0m\u001b[0mxticks\u001b[0m\u001b[0;34m(\u001b[0m\u001b[0mtick_marks\u001b[0m\u001b[0;34m,\u001b[0m \u001b[0mclasses\u001b[0m\u001b[0;34m,\u001b[0m \u001b[0mrotation\u001b[0m\u001b[0;34m=\u001b[0m\u001b[0;36m45\u001b[0m\u001b[0;34m)\u001b[0m\u001b[0;34m\u001b[0m\u001b[0m\n\u001b[1;32m     55\u001b[0m     \u001b[0mplt\u001b[0m\u001b[0;34m.\u001b[0m\u001b[0myticks\u001b[0m\u001b[0;34m(\u001b[0m\u001b[0mtick_marks\u001b[0m\u001b[0;34m,\u001b[0m \u001b[0mclasses\u001b[0m\u001b[0;34m)\u001b[0m\u001b[0;34m\u001b[0m\u001b[0m\n",
      "\u001b[0;31mNameError\u001b[0m: name 'np' is not defined"
     ]
    },
    {
     "data": {
      "image/png": "[encoded data removed]",
      "text/plain": [
       "<Figure size 720x360 with 2 Axes>"
      ]
     },
     "metadata": {
      "needs_background": "light"
     },
     "output_type": "display_data"
    }
   ],
   "source": [
    "prediction = MC_dropout_model.predict(data=trainX,keep_prob=1.0,is_dropout=False)\n",
    "prediction = np.argmax(prediction,axis=1)\n",
    "target = np.argmax(trainY,axis=1)\n",
    "\n",
    "plot_confusion_matrix(confusion_matrix(prediction,target),                      \n",
    "    classes=class_list,\n",
    "    title=data_name+'classifcation(train)')"
   ]
  },
  {
   "cell_type": "code",
   "execution_count": null,
   "metadata": {
    "colab": {},
    "colab_type": "code",
    "id": "8HbKsurAxg7M",
    "outputId": "58e5d399-c33a-4a5f-e102-ad1b74e461ec"
   },
   "outputs": [],
   "source": [
    "prediction = MC_dropout_model.predict(data=testX,keep_prob=1.0,is_dropout=False)\n",
    "prediction = np.argmax(prediction,axis=1)\n",
    "target = np.argmax(testY,axis=1)\n",
    "\n",
    "plot_confusion_matrix(confusion_matrix(prediction,target),                      \n",
    "    classes=class_list,\n",
    "    title=data_name+'classifcation(test)')"
   ]
  },
  {
   "cell_type": "markdown",
   "metadata": {
    "colab_type": "text",
    "id": "TONUyKSrxg7P"
   },
   "source": [
    "# 6. Trained 된 모델에서 Last Conv output Load하기(MC dropout적용안됨)\n",
    "기존논문에서 이미지타겟으로 p(A>T)=0.005 인것과 비교하여, 시계열에서는 조금 더 낮은 threshold가 패턴을 보기에 필요함.\n",
    "현재 p(A>T) = 0.05로 조정되어있음"
   ]
  },
  {
   "cell_type": "code",
   "execution_count": 56,
   "metadata": {},
   "outputs": [],
   "source": [
    "import random"
   ]
  },
  {
   "cell_type": "code",
   "execution_count": 57,
   "metadata": {},
   "outputs": [
    {
     "name": "stdout",
     "output_type": "stream",
     "text": [
      "(9958, 117, 128)\n",
      "threshold: 220.81045532226562\n"
     ]
    }
   ],
   "source": [
    "last_conv_output = MC_dropout_model.get_last_conv_output(data=trainX,keep_prob=1.0,is_dropout=False)[:,0,:,:]\n",
    "print (last_conv_output.shape)\n",
    "threshold = np.percentile(last_conv_output,99.5)\n",
    "print (\"threshold: {}\".format(threshold))"
   ]
  },
  {
   "cell_type": "code",
   "execution_count": 58,
   "metadata": {},
   "outputs": [],
   "source": [
    "last_conv_bool = last_conv_output>threshold"
   ]
  },
  {
   "cell_type": "markdown",
   "metadata": {},
   "source": [
    "# 7.Result Visualization\n",
    "세로축(데이터) , 가로축(마지막 컨볼루션 채널) : 데이터와 별개로 각 채널마다 일관성있게 threshold를 넘은 구간이 존재함"
   ]
  },
  {
   "cell_type": "code",
   "execution_count": 60,
   "metadata": {},
   "outputs": [],
   "source": [
    "import matplotlib.pyplot as plt "
   ]
  },
  {
   "cell_type": "code",
   "execution_count": 61,
   "metadata": {},
   "outputs": [
    {
     "data": {
      "text/plain": [
       "<matplotlib.image.AxesImage at 0x7f923e416198>"
      ]
     },
     "execution_count": 61,
     "metadata": {},
     "output_type": "execute_result"
    },
    {
     "data": {
      "image/png": "[encoded data removed]",
      "text/plain": [
       "<Figure size 432x288 with 1 Axes>"
      ]
     },
     "metadata": {
      "needs_background": "light"
     },
     "output_type": "display_data"
    }
   ],
   "source": [
    "plt.imshow(last_conv_bool.sum(axis=1),aspect =\"auto\")"
   ]
  },
  {
   "cell_type": "markdown",
   "metadata": {},
   "source": [
    "## pattern candidate 추출(전체길이의 10퍼센트 이상이 highlight 된 부분)"
   ]
  },
  {
   "cell_type": "markdown",
   "metadata": {},
   "source": [
    "## 패턴의 연속성"
   ]
  },
  {
   "cell_type": "code",
   "execution_count": 62,
   "metadata": {},
   "outputs": [],
   "source": [
    "from pylab import rcParams\n",
    "rcParams['figure.figsize'] = 20, 12"
   ]
  },
  {
   "cell_type": "code",
   "execution_count": 63,
   "metadata": {},
   "outputs": [],
   "source": [
    "from itertools import groupby\n",
    "from operator import itemgetter"
   ]
  },
  {
   "cell_type": "code",
   "execution_count": 64,
   "metadata": {},
   "outputs": [
    {
     "data": {
      "text/plain": [
       "5"
      ]
     },
     "execution_count": 64,
     "metadata": {},
     "output_type": "execute_result"
    }
   ],
   "source": [
    "consecutive_num =trainX.shape[2]//20\n",
    "consecutive_num"
   ]
  },
  {
   "cell_type": "code",
   "execution_count": 65,
   "metadata": {},
   "outputs": [],
   "source": [
    "survived_channel = [i for i, x in enumerate(last_conv_bool.sum(axis=1).sum(axis=0)) if x>0]"
   ]
  },
  {
   "cell_type": "code",
   "execution_count": 66,
   "metadata": {},
   "outputs": [],
   "source": [
    "import itertools"
   ]
  },
  {
   "cell_type": "code",
   "execution_count": 157,
   "metadata": {},
   "outputs": [],
   "source": [
    "input_channel = 3\n",
    "consecutive_pattern=[]\n",
    "for data_idx,data in enumerate(trainX[:100,:,:,[input_channel]]):\n",
    "    for output_channel_idx in survived_channel:\n",
    "        pattern_bool =pd.DataFrame(last_conv_bool[data_idx][:,output_channel_idx])\n",
    "        pattern_idx = [p for p, x in enumerate(last_conv_bool[data_idx][:,output_channel_idx]) if x]\n",
    "        if pattern_idx:\n",
    "            groups = []\n",
    "            for _, g in groupby(pattern_idx, key=lambda n, c=itertools.count(): n-next(c)):\n",
    "                groups.append(list(g))    # Store group iterator as a list\n",
    "            for g in groups:\n",
    "                if len(g)>=consecutive_num:\n",
    "                    for c in range(0,data.shape[2]):\n",
    "                        consecutive_pattern.append({\"data_idx\":data_idx, \"pattern_idx\":g, \"pattern\":data[0,g,c], \"pattern_channel\":output_channel_idx})   "
   ]
  },
  {
   "cell_type": "code",
   "execution_count": 72,
   "metadata": {},
   "outputs": [
    {
     "data": {
      "text/plain": [
       "372"
      ]
     },
     "execution_count": 72,
     "metadata": {},
     "output_type": "execute_result"
    }
   ],
   "source": [
    "len(consecutive_pattern)"
   ]
  },
  {
   "cell_type": "markdown",
   "metadata": {},
   "source": [
    "l_pattern_dict :패턴의 길이와 해당 길이의 패턴의 수를 매칭시켜놓은 변수"
   ]
  },
  {
   "cell_type": "code",
   "execution_count": 74,
   "metadata": {},
   "outputs": [],
   "source": [
    "l_pattern=[]\n",
    "for l in np.unique([len(x) for x in pattern_candidate]):\n",
    "    l_pattern.append(len([x for x in pattern_candidate if len(x)==l]))"
   ]
  },
  {
   "cell_type": "code",
   "execution_count": null,
   "metadata": {},
   "outputs": [],
   "source": [
    "l_pattern_dict=dict()\n",
    "for i,l in enumerate(l_pattern):\n",
    "    l_pattern_dict[str(np.unique([len(x) for x in pattern_candidate])[i])]=l"
   ]
  },
  {
   "cell_type": "markdown",
   "metadata": {},
   "source": [
    "# clustering for pattern_candidate"
   ]
  },
  {
   "cell_type": "markdown",
   "metadata": {},
   "source": [
    "consecutive_pattern 에는 (data_idx, pattern_idx, pattern) 이 dictionary 형태로 들어가있습니다.\n",
    "여기서 pattern만 모아 pattern_candidate에 저장되어있습니다.\n",
    "pattern_candidate을 클러스터링 하면 될 것 같습니다."
   ]
  },
  {
   "cell_type": "markdown",
   "metadata": {},
   "source": [
    "pattern candidate의 길이가 매우 다양하여 이것을 어떻게 deal하면 좋을지 의논을 할 필요가 있는듯?"
   ]
  },
  {
   "cell_type": "code",
   "execution_count": 75,
   "metadata": {},
   "outputs": [],
   "source": [
    "pattern_len = 6\n",
    "specific_len_pattern_idx=[i for i,x in enumerate(consecutive_pattern) if len(x['pattern_idx']) ==pattern_len]"
   ]
  },
  {
   "cell_type": "code",
   "execution_count": 77,
   "metadata": {},
   "outputs": [
    {
     "data": {
      "text/plain": [
       "37"
      ]
     },
     "execution_count": 77,
     "metadata": {},
     "output_type": "execute_result"
    }
   ],
   "source": [
    "pattern_candidate =  np.asarray([consecutive_pattern[idx]['pattern'] for idx in specific_len_pattern_idx])\n",
    "len(pattern_candidate)"
   ]
  },
  {
   "cell_type": "markdown",
   "metadata": {},
   "source": [
    "## pattern standardization\n",
    "\n",
    "1. pattern 원본 그대로 사용\n",
    "2. 평균0, 분산1 형태로 standardization\n",
    "3. 각 패턴이 0~1 사이로 min,max normalization \n",
    "\n",
    "1,2,3 방법 혹은 어떤 방법으로 정규화 할지를 같이 정하면 될것 같습니다.\n",
    "저는 우선 2번,3번 방법으로 진행해보았습"
   ]
  },
  {
   "cell_type": "markdown",
   "metadata": {},
   "source": [
    "#1. pattern 원본 그대로 사용\n",
    "normalized_pattern_candidate =l_pattern_candidate"
   ]
  },
  {
   "cell_type": "markdown",
   "metadata": {},
   "source": [
    "#2. 평균0, 분산1 형태로 standardization\n",
    "from sklearn.preprocessing import StandardScaler\n",
    "normalized_pattern_candidate =StandardScaler().fit_transform(np.asarray(l_pattern_candidate))"
   ]
  },
  {
   "cell_type": "code",
   "execution_count": 78,
   "metadata": {},
   "outputs": [
    {
     "data": {
      "text/plain": [
       "(37, 6)"
      ]
     },
     "execution_count": 78,
     "metadata": {},
     "output_type": "execute_result"
    }
   ],
   "source": [
    "from tslearn.preprocessing import TimeSeriesScalerMeanVariance, TimeSeriesResampler\n",
    "normalized_pattern_candidate =TimeSeriesScalerMeanVariance().fit_transform(pattern_candidate)\n",
    "normalized_pattern_candidate = normalized_pattern_candidate.squeeze()\n",
    "normalized_pattern_candidate.shape"
   ]
  },
  {
   "cell_type": "markdown",
   "metadata": {},
   "source": [
    "#3.각 패턴이 0~1 사이로 min,max normalization\n",
    "normalized_pattern_candidate = (l_pattern_candidate.T - l_pattern_candidate.min(axis=1))/(l_pattern_candidate.max(axis=1)- l_pattern_candidate.min(axis=1))\n",
    "normalized_pattern_candidate = normalized_pattern_candidate.T"
   ]
  },
  {
   "cell_type": "markdown",
   "metadata": {},
   "source": [
    "## spectral clustering, gmm clustering,k-means,SOM"
   ]
  },
  {
   "cell_type": "code",
   "execution_count": 79,
   "metadata": {},
   "outputs": [],
   "source": [
    "from sklearn import mixture,cluster\n",
    "from tslearn.clustering import TimeSeriesKMeans"
   ]
  },
  {
   "cell_type": "code",
   "execution_count": 80,
   "metadata": {},
   "outputs": [],
   "source": [
    "#n_cluster : interger\n",
    "#eigen_solver{None, ‘arpack’, ‘lobpcg’, or ‘amg’}\n",
    "#affinity: ‘nearest_neighbors’‘rbf’\n",
    "default_spectral = {'n_clusters':2,\n",
    "                    'eigen_solver': 'arpack',\n",
    "                    'affinity': \"rbf\"}\n",
    "\n",
    "#covariance_type{‘full’ (default), ‘tied’, ‘diag’, ‘spherical’}\n",
    "default_gmm = {'n_clusters':2, 'covariance_type': 'full'}\n",
    "default_kmeans = {'n_clusters':2,'verbose':False,'random_state':0}\n",
    "default_hac = {'method':'single','metric':'euclidean','cut_off_level':5,'criterion':'maxclust'}\n",
    "\n",
    "spectral_option = [\n",
    "    ({'n_clusters': 6})\n",
    "]\n",
    "\n",
    "gmm_option = [\n",
    "    ({'n_clusters': 6})\n",
    "    \n",
    "]\n",
    "\n",
    "kmeans_option = [\n",
    "    ({'n_clusters': 6})\n",
    "    \n",
    "]\n",
    "\n",
    "hac_option =[\n",
    "    ({'cut_off_level': 6})\n",
    "    \n",
    "]"
   ]
  },
  {
   "cell_type": "markdown",
   "metadata": {},
   "source": [
    "parameter 조절하며 시각화"
   ]
  },
  {
   "cell_type": "code",
   "execution_count": 81,
   "metadata": {},
   "outputs": [],
   "source": [
    "import math\n",
    "import scipy.cluster.hierarchy as hac\n",
    "import matplotlib.gridspec as gridspec"
   ]
  },
  {
   "cell_type": "code",
   "execution_count": 83,
   "metadata": {
    "scrolled": true
   },
   "outputs": [
    {
     "data": {
      "image/png": "[encoded data removed]",
      "text/plain": [
       "<Figure size 1296x504 with 12 Axes>"
      ]
     },
     "metadata": {
      "needs_background": "light"
     },
     "output_type": "display_data"
    }
   ],
   "source": [
    "color = [\"crimson\",\"orange\",\"olive\",'seagreen',\"royalblue\",\"purple\",\"pink\",\"grey\",\n",
    "        \"crimson\",\"orange\",\"olive\",'seagreen',\"royalblue\",\"purple\",\"pink\",\"grey\"]\n",
    "random.seed(300)\n",
    "for g_option,k_option in zip(gmm_option,kmeans_option):\n",
    "\n",
    "    g_params = default_gmm.copy()\n",
    "    g_params.update(g_option)\n",
    "    \n",
    "    k_params = default_kmeans.copy()\n",
    "    k_params.update(k_option)\n",
    "    \n",
    "\n",
    "    gmm =  mixture.GaussianMixture(\n",
    "        n_components=g_params['n_clusters'], \n",
    "        covariance_type=g_params['covariance_type'])\n",
    "    \n",
    "    kmeans = cluster.KMeans(\n",
    "        n_clusters=k_params['n_clusters'], \n",
    "        random_state=k_params['random_state'])\n",
    "\n",
    "    g_pred = gmm.fit_predict(normalized_pattern_candidate)\n",
    "    k_pred = kmeans.fit_predict(normalized_pattern_candidate)\n",
    "    \n",
    "    g_cluster_mean_pattern =[]\n",
    "    k_cluster_mean_pattern =[]\n",
    "\n",
    "    fig = plt.figure(figsize=(len(np.unique(s_pred))*3,7))\n",
    "    axes = fig.subplots(2, s_params['n_clusters'])\n",
    "    for class_ in range(0,s_params['n_clusters']):\n",
    "        g_class_idx = [i for i,x in enumerate(g_pred) if x ==class_]\n",
    "        k_class_idx = [i for i,x in enumerate(k_pred) if x ==class_]\n",
    "\n",
    "        try:\n",
    "            axes[1,class_].plot(normalized_pattern_candidate[random.sample(g_class_idx,30)].T, color =color[class_],alpha=0.6)\n",
    "            axes[2,class_].plot(normalized_pattern_candidate[random.sample(k_class_idx,30)].T, color =color[class_],alpha=0.6)\n",
    "\n",
    "        except:\n",
    "            axes[0,class_].plot(normalized_pattern_candidate[g_class_idx].T, color =color[class_],alpha=0.6)\n",
    "            axes[1,class_].plot(normalized_pattern_candidate[k_class_idx].T, color =color[class_],alpha=0.6)\n",
    "\n",
    "        g_cluster_mean = normalized_pattern_candidate[g_class_idx].mean(axis=0)\n",
    "        g_cluster_mean_pattern.append(g_cluster_mean)\n",
    "        k_cluster_mean = normalized_pattern_candidate[k_class_idx].mean(axis=0)\n",
    "        k_cluster_mean_pattern.append(k_cluster_mean)\n",
    "        axes[0,class_].plot(normalized_pattern_candidate[g_class_idx].mean(axis=0), color ='black',alpha=1,linewidth=5)\n",
    "        axes[1,class_].plot(normalized_pattern_candidate[k_class_idx].mean(axis=0), color ='black',alpha=1,linewidth=5)\n",
    "\n",
    "    #fig.suptitle(\"Spectral Clustering: {} \\nGMM: {}\".format(s_params,g_params),y=0.98)\n",
    "    plt.tight_layout()"
   ]
  },
  {
   "cell_type": "code",
   "execution_count": 229,
   "metadata": {},
   "outputs": [],
   "source": [
    "import more_itertools as mit\n",
    "from sklearn.preprocessing import MinMaxScaler"
   ]
  },
  {
   "cell_type": "code",
   "execution_count": 232,
   "metadata": {},
   "outputs": [],
   "source": [
    "sample_data_idx = [51,10]#random.sample(range(0,len(trainX)),10)"
   ]
  },
  {
   "cell_type": "code",
   "execution_count": 233,
   "metadata": {},
   "outputs": [
    {
     "data": {
      "image/png": "[encoded data removed]",
      "text/plain": [
       "<Figure size 1080x216 with 1 Axes>"
      ]
     },
     "metadata": {
      "needs_background": "light"
     },
     "output_type": "display_data"
    }
   ],
   "source": [
    "for d_idx in sample_data_idx:\n",
    "######## 특정 샘플의 패턴 리스트 생성  \n",
    "    # sample_data_idx의 전체 패턴\n",
    "    specific_data_pattern_idx=[i for i,x in enumerate(consecutive_pattern) if x['data_idx'] ==d_idx]\n",
    "    specific_pattern_idx= list(set(specific_data_pattern_idx) & set(specific_len_pattern_idx))\n",
    "    specific_pattern_info = [consecutive_pattern[x] for x in specific_pattern_idx]\n",
    "    \n",
    "    for idx, p_info in enumerate(specific_pattern_info):\n",
    "        pattern_idx = specific_pattern_idx[idx]\n",
    "        for p_channel in np.unique([x['pattern_channel'] for x in specific_pattern_info]):\n",
    "\n",
    "            fig, ax= plt.subplots(figsize=(15,3))\n",
    "            ax.set_xlim([0,int(trainX.shape[2])-1])\n",
    "            \n",
    "            spotlight = last_conv_bool[d_idx,:,p_channel]\n",
    "            for spotlight_se in [(list(group)) for group in mit.consecutive_groups([i for i,x in enumerate(spotlight) if x==True])]:\n",
    "                ax.axvspan(spotlight_se[0], spotlight_se[-1], color='white', alpha=1)\n",
    "\n",
    "            # 데이터 자체 그리기\n",
    "            data = trainX[d_idx,0,:,input_channel]\n",
    "            ax.plot(data,color='black')\n",
    "            ax.set_facecolor(\"grey\") # 패턴이 있는 부분만 흰색 spotlight으로 하기 위해 기본 배경을 회색으로 설정\n",
    "        \n",
    "            # 데이터의 해당 패턴 그리기\n",
    "            color_idx = g_pred[specific_len_pattern_idx.index(pattern_idx)]\n",
    "            pattern_x = consecutive_pattern[pattern_idx]['pattern_idx']\n",
    "            #pattern = consecutive_pattern[pattern_idx]['pattern']\n",
    "            ax.plot(pattern_x, data[pattern_x], color = color[color_idx])\n",
    "\n",
    "            # 패턴의 평균값 굵고 투명하게 그리기\n",
    "            x = g_cluster_mean_pattern[g_pred[color_idx]].reshape(-1,1) #returns a numpy array\n",
    "            min_max_scaler = MinMaxScaler(feature_range=(data[pattern_x].min(), data[pattern_x].max()))\n",
    "            x_scaled = min_max_scaler.fit_transform(x)\n",
    "            ax.plot(pattern_x, x_scaled, color = color[g_pred[color_idx]], alpha=0.3,linewidth=10)\n",
    "        fig.suptitle(\"data{}, output_channel{}\".format(d_idx,p_info['pattern_channel']))\n",
    "    plt.show()"
   ]
  },
  {
   "cell_type": "markdown",
   "metadata": {},
   "source": [
    "# Below part is still unclear"
   ]
  },
  {
   "cell_type": "markdown",
   "metadata": {},
   "source": [
    "## hierarchical clustering"
   ]
  },
  {
   "cell_type": "code",
   "execution_count": null,
   "metadata": {},
   "outputs": [],
   "source": [
    "import math\n",
    "import scipy.cluster.hierarchy as hac\n",
    "import matplotlib.gridspec as gridspec\n",
    "\n",
    "D = hac.linkage(normalized_pattern_candidate[:20], method='single',metric='euclidean')\n",
    "cut_off_level = 5\n",
    "#Dendrogram\n",
    "plt.figure(figsize=(15, 5))\n",
    "plt.title('Dendrogram of time series clustering',fontsize=25, fontweight='bold')\n",
    "plt.xlabel('sample index', fontsize=25, fontweight='bold')\n",
    "plt.ylabel('distance', fontsize=25, fontweight='bold')\n",
    "hac.dendrogram(D, leaf_rotation=90., leaf_font_size=15., ) # font size for the x axis labels\n",
    "plt.show()"
   ]
  },
  {
   "cell_type": "markdown",
   "metadata": {},
   "source": [
    "특정 파라미터에 해당하는 클러스터 시각화"
   ]
  },
  {
   "cell_type": "code",
   "execution_count": null,
   "metadata": {},
   "outputs": [],
   "source": [
    "import matplotlib.patheffects as pe"
   ]
  },
  {
   "cell_type": "code",
   "execution_count": null,
   "metadata": {},
   "outputs": [],
   "source": [
    "random.seed(300)\n",
    "sample_data_idx = random.sample(range(0,len(normalized_pattern_candidate)),len(normalized_pattern_candidate))\n",
    "color = [\"crimson\",\"orange\",\"olive\",'seagreen',\"royalblue\",\"purple\",\"pink\",\"grey\",\n",
    "        \"crimson\",\"orange\",\"olive\",'seagreen',\"royalblue\",\"purple\",\"pink\",\"grey\"]"
   ]
  },
  {
   "cell_type": "code",
   "execution_count": null,
   "metadata": {},
   "outputs": [],
   "source": [
    "for s_option,g_option,k_option in zip(spectral_option[::-1],gmm_option[::-1],kmeans_option[::-1]):\n",
    "    s_params = default_spectral.copy()\n",
    "    s_params.update(s_option)\n",
    "    \n",
    "    g_params = default_gmm.copy()\n",
    "    g_params.update(g_option)\n",
    "    \n",
    "    k_params = default_kmeans.copy()\n",
    "    k_params.update(k_option)\n",
    "    \n",
    "    spectral = cluster.SpectralClustering(\n",
    "        n_clusters=s_params['n_clusters'], \n",
    "        eigen_solver=s_params['eigen_solver'],\n",
    "        affinity=s_params['affinity'])\n",
    "    \n",
    "    gmm =  mixture.GaussianMixture(\n",
    "        n_components=g_params['n_clusters'], \n",
    "        covariance_type=g_params['covariance_type'])\n",
    "    \n",
    "    kmeans = cluster.KMeans(\n",
    "        n_clusters=k_params['n_clusters'], \n",
    "        random_state=k_params['random_state'])\n",
    "    \n",
    "    spectral.fit(normalized_pattern_candidate)\n",
    "    gmm.fit(normalized_pattern_candidate)\n",
    "    kmeans.fit(normalized_pattern_candidate)\n",
    "    \n",
    "    s_pred = spectral.labels_[sample_data_idx]\n",
    "    g_pred = gmm.predict(normalized_pattern_candidate[sample_data_idx])\n",
    "    k_pred = kmeans.fit_predict(normalized_pattern_candidate[sample_data_idx])\n",
    "    \n",
    "    num_class = len(list(set(np.unique(s_pred)).union(set(np.unique(g_pred)))))\n",
    "    fig = plt.figure(figsize=(18,5))\n",
    "    axes = fig.subplots(3,num_class)    \n",
    "    \n",
    "    for class_ in range(0,num_class):\n",
    "        class_idx = [i for i,x in enumerate(s_pred) if x ==class_]\n",
    "        try:\n",
    "            axes[0][class_+1].plot(normalized_pattern_candidate[[sample_data_idx[x] for x in class_idx]].T, color =color[class_],alpha=0.6)\n",
    "            axes[0][0].plot(normalized_pattern_candidate[[sample_data_idx[x] for x in class_idx]].mean(axis=0), color = 'black',alpha=1,linewidth=3,\n",
    "                   path_effects=[pe.Stroke(linewidth=10, foreground=color[class_]), pe.Normal()])\n",
    "        except:\n",
    "            pass\n",
    "        \n",
    "        class_idx = [i for i,x in enumerate(g_pred) if x ==class_]\n",
    "        try:\n",
    "            axes[1][class_+1].plot(normalized_pattern_candidate[[sample_data_idx[x] for x in class_idx]].T, color =color[class_],alpha=0.6)\n",
    "            axes[1][0].plot(normalized_pattern_candidate[[sample_data_idx[x] for x in class_idx]].mean(axis=0), color ='black',alpha=1,linewidth=3,\n",
    "                    path_effects=[pe.Stroke(linewidth=10, foreground=color[class_]), pe.Normal()])\n",
    "        except:\n",
    "            pass\n",
    "        class_idx = [i for i,x in enumerate(k_pred) if x ==class_]\n",
    "        try:\n",
    "            axes[2][class_+1].plot(normalized_pattern_candidate[[sample_data_idx[x] for x in class_idx]].T, color =color[class_],alpha=0.6)\n",
    "            axes[2][0].plot(normalized_pattern_candidate[[sample_data_idx[x] for x in class_idx]].mean(axis=0), color ='black',alpha=1,linewidth=3,\n",
    "                    path_effects=[pe.Stroke(linewidth=10, foreground=color[class_]), pe.Normal()])\n",
    "        except:\n",
    "            pass\n",
    "    #fig.suptitle(\"Spectral Clustering: {} \\nGMM: {}\".format(s_params,g_params),y=0.98)\n",
    "    plt.tight_layout()\n",
    "    break"
   ]
  },
  {
   "cell_type": "markdown",
   "metadata": {},
   "source": [
    "# SOM"
   ]
  },
  {
   "cell_type": "code",
   "execution_count": null,
   "metadata": {},
   "outputs": [],
   "source": [
    "import sompy"
   ]
  },
  {
   "cell_type": "code",
   "execution_count": null,
   "metadata": {},
   "outputs": [],
   "source": [
    "som = sompy.SOMFactory.build(normalized_pattern_candidate, mapsize=None, normalization='var', initialization='pca', neighborhood='gaussian', training='batch', name='sompy')  # this will use the default parameters, but i can change the initialization and neighborhood methods\n",
    "som.train(n_job=1, verbose=False)  # verbose='debug' will print more, and verbose=None wont print anything"
   ]
  },
  {
   "cell_type": "code",
   "execution_count": null,
   "metadata": {},
   "outputs": [],
   "source": [
    "from sompy.visualization.hitmap import HitMapView\n",
    "som.cluster(4)\n",
    "hits  = HitMapView(20,20,\"Clustering\",text_size=12)\n",
    "a=hits.show(som)"
   ]
  },
  {
   "cell_type": "code",
   "execution_count": null,
   "metadata": {},
   "outputs": [],
   "source": [
    "from sompy.visualization.mapview import View2D\n",
    "view2D  = View2D(10,10,\"rand data\",text_size=10)\n",
    "view2D.show(som, col_sz=4, which_dim=\"all\", desnormalize=True)"
   ]
  },
  {
   "cell_type": "code",
   "execution_count": null,
   "metadata": {},
   "outputs": [],
   "source": [
    "from sompy.visualization.bmuhits import BmuHitsView\n",
    "\n",
    "vhts  = BmuHitsView(4,4,\"Hits Map\",text_size=12)\n",
    "vhts.show(som, anotate=True, onlyzeros=False, labelsize=12, cmap=\"Greys\", logaritmic=False)"
   ]
  },
  {
   "cell_type": "markdown",
   "metadata": {},
   "source": [
    "## represent as feature vector"
   ]
  },
  {
   "cell_type": "markdown",
   "metadata": {},
   "source": [
    "### 1. wavelet"
   ]
  },
  {
   "cell_type": "code",
   "execution_count": null,
   "metadata": {},
   "outputs": [],
   "source": [
    "import do_wavelet\n",
    "import matplotlib.gridspec as gridspec\n",
    "import pywt"
   ]
  },
  {
   "cell_type": "code",
   "execution_count": null,
   "metadata": {},
   "outputs": [],
   "source": [
    "N = normalized_pattern_candidate[3].shape[0]\n",
    "t0=10\n",
    "dt=1\n",
    "time = np.arange(0, N) * dt + t0\n",
    "signal = normalized_pattern_candidate[3]\n",
    " \n",
    "scales = np.arange(1, 128)"
   ]
  },
  {
   "cell_type": "code",
   "execution_count": null,
   "metadata": {},
   "outputs": [],
   "source": [
    "fig = plt.figure(figsize=(12,6))\n",
    "spec = gridspec.GridSpec(ncols=6, nrows=6)\n",
    "top_ax = fig.add_subplot(spec[:2, 0:5])\n",
    "bottom_left_ax = fig.add_subplot(spec[2:, 0:5])\n",
    "bottom_right_ax = fig.add_subplot(spec[2:, 5])\n",
    "\n",
    "plot_signal_plus_average(top_ax, time, signal, average_over = 3)\n",
    "yticks, ylim = plot_wavelet(bottom_left_ax, time, signal, scales, xlabel=xlabel, ylabel=ylabel, title=title)\n",
    "\n",
    "plot_fft_plus_power(bottom_right_ax, time, signal, plot_direction='vertical', yticks=yticks, ylim=ylim)\n",
    "bottom_right_ax.set_ylabel('Period [years]', fontsize=14)\n",
    "plt.tight_layout()\n",
    "plt.show()"
   ]
  },
  {
   "cell_type": "markdown",
   "metadata": {},
   "source": [
    "### 2. clustering time series using unsupervised shapelets"
   ]
  },
  {
   "cell_type": "code",
   "execution_count": null,
   "metadata": {},
   "outputs": [],
   "source": [
    "D =pattern_candidate\n",
    "sLen = range(6,64)"
   ]
  },
  {
   "cell_type": "code",
   "execution_count": null,
   "metadata": {},
   "outputs": [],
   "source": [
    "S_hat={}\n",
    "ts =D[15]\n",
    "\n",
    "while True:\n",
    "    cnt=0\n",
    "    s_hat ={}\n",
    "    gap = {} \n",
    "    dt ={}\n",
    "    for sl in sLen:#each u-shapelet length\n",
    "        for i in range(0, len(ts)-sl):#each subsequence from ts \n",
    "            if i+sl-1> len(ts)-1: \n",
    "                continue\n",
    "            else:\n",
    "                s_hat[cnt] = ts[i:i+sl-1] #a subsequence of length sl\n",
    "                tup = compute_gap(s_hat[cnt],D)\n",
    "                gap[cnt],dt[cnt] = tup[0],tup[1]\n",
    "                cnt+=1\n",
    "        try:\n",
    "            index1 = np.argmax(list(gap.values()))\n",
    "            S_hat = s_hat[index1] #find maximum gap score\n",
    "            dis = compute_distance(s_hat[index1],D)#add the u-shapelet with max gap score\n",
    "            dA= dis<dt\n",
    "            if len(dA) ==1:\n",
    "                break\n",
    "            else:\n",
    "                index2 = np.argmax(dis)\n",
    "                ts = D[index2]\n",
    "                msdA= np.mean(dA) +np.std(dA)\n",
    "                D_hat = dis<msdA\n",
    "        except:\n",
    "            continue\n",
    "    break"
   ]
  },
  {
   "cell_type": "code",
   "execution_count": null,
   "metadata": {},
   "outputs": [],
   "source": [
    "np.argmax(list(gap.values()))"
   ]
  },
  {
   "cell_type": "code",
   "execution_count": null,
   "metadata": {},
   "outputs": [],
   "source": []
  },
  {
   "cell_type": "code",
   "execution_count": null,
   "metadata": {},
   "outputs": [],
   "source": [
    "s_hat"
   ]
  },
  {
   "cell_type": "code",
   "execution_count": null,
   "metadata": {},
   "outputs": [],
   "source": []
  },
  {
   "cell_type": "code",
   "execution_count": null,
   "metadata": {},
   "outputs": [],
   "source": [
    "S_hat={}\n",
    "ts =D[15]\n",
    "cnt=0\n",
    "s_hat ={}\n",
    "gap = {} \n",
    "\n",
    "sl = 6"
   ]
  },
  {
   "cell_type": "code",
   "execution_count": null,
   "metadata": {},
   "outputs": [],
   "source": [
    "i=1\n",
    "s_hat[cnt] = ts[i:i+sl-1]"
   ]
  },
  {
   "cell_type": "code",
   "execution_count": null,
   "metadata": {},
   "outputs": [],
   "source": []
  },
  {
   "cell_type": "code",
   "execution_count": null,
   "metadata": {},
   "outputs": [],
   "source": [
    "s_hat"
   ]
  },
  {
   "cell_type": "code",
   "execution_count": null,
   "metadata": {},
   "outputs": [],
   "source": [
    "gap = [1e6]*(len(ts)-sl)"
   ]
  },
  {
   "cell_type": "code",
   "execution_count": null,
   "metadata": {},
   "outputs": [],
   "source": [
    "set(pattern_candidate [:10]) -set(pattern_candidate[0])"
   ]
  },
  {
   "cell_type": "code",
   "execution_count": null,
   "metadata": {},
   "outputs": [],
   "source": []
  },
  {
   "cell_type": "code",
   "execution_count": null,
   "metadata": {},
   "outputs": [],
   "source": [
    "normalized_s = (sub-sub.min())/(sub.max()-sub.min())"
   ]
  },
  {
   "cell_type": "code",
   "execution_count": null,
   "metadata": {},
   "outputs": [],
   "source": [
    "ts =pattern_candidate[1]"
   ]
  },
  {
   "cell_type": "code",
   "execution_count": null,
   "metadata": {},
   "outputs": [],
   "source": [
    "dis = 10e6"
   ]
  },
  {
   "cell_type": "code",
   "execution_count": null,
   "metadata": {},
   "outputs": [],
   "source": [
    "for j in range(0, len(ts)-len(sub)):"
   ]
  },
  {
   "cell_type": "code",
   "execution_count": null,
   "metadata": {},
   "outputs": [],
   "source": [
    "znorm(ts[0:len(sub)])"
   ]
  },
  {
   "cell_type": "code",
   "execution_count": null,
   "metadata": {},
   "outputs": [],
   "source": [
    "def znorm(data):\n",
    "    return (data-data.min())/(data.max()-data.min())"
   ]
  },
  {
   "cell_type": "code",
   "execution_count": null,
   "metadata": {},
   "outputs": [],
   "source": [
    "def euclidean_d(data1,data2):\n",
    "    return np.linalg.norm(data1-data2)"
   ]
  },
  {
   "cell_type": "code",
   "execution_count": null,
   "metadata": {},
   "outputs": [],
   "source": [
    "dis =compute_distance(sub,data)"
   ]
  },
  {
   "cell_type": "code",
   "execution_count": null,
   "metadata": {},
   "outputs": [],
   "source": [
    "np.sort(dis)[::-1]"
   ]
  },
  {
   "cell_type": "code",
   "execution_count": null,
   "metadata": {},
   "outputs": [],
   "source": [
    "compute_gap(sub,data)"
   ]
  },
  {
   "cell_type": "code",
   "execution_count": null,
   "metadata": {},
   "outputs": [],
   "source": [
    "k=6"
   ]
  },
  {
   "cell_type": "code",
   "execution_count": null,
   "metadata": {},
   "outputs": [],
   "source": [
    "def compute_gap(sub, data):\n",
    "    dis= compute_distance(sub,data)\n",
    "    dis = np.sort(dis)[::-1]\n",
    "    maxGap = 0\n",
    "    dt = 0\n",
    "    for l in range(1, len(dis)-1-1):\n",
    "        d = (dis[l]+dis[l+1])/2\n",
    "        \n",
    "        dA = dis[dis<d]\n",
    "        dB = dis[dis>d]\n",
    "        if len(dB)>0:\n",
    "            r = len(dA)/len(dB)\n",
    "            if ((1/k < r) and (1-(1/k))):\n",
    "                mA = np.mean(dA)\n",
    "                mB = np.mean(dB)\n",
    "                sA = np.std(dA)\n",
    "                sB = np.std(dB)\n",
    "                gap = mB-sB-(mA+sA)\n",
    "                if gap>maxGap :\n",
    "                    maxGap =gap\n",
    "                    dt =d\n",
    "    return maxGap, dt"
   ]
  },
  {
   "cell_type": "code",
   "execution_count": null,
   "metadata": {},
   "outputs": [],
   "source": [
    "def compute_distance(sub, data):\n",
    "    dis=[10e6]*len(data)\n",
    "    sub = znorm(sub)\n",
    "    for i in range(0,len(data)):\n",
    "        ts = data[i]\n",
    "        if len(ts)<len(sub):\n",
    "            continue\n",
    "        else:\n",
    "            for j in range(0, len(ts)-len(sub)):\n",
    "                z = znorm(ts[j:j+len(sub)])\n",
    "                d = euclidean_d(z,sub)\n",
    "                dis[i]= min(d,dis[i])/np.sqrt(len(sub))\n",
    "    return dis"
   ]
  },
  {
   "cell_type": "code",
   "execution_count": null,
   "metadata": {},
   "outputs": [],
   "source": []
  },
  {
   "cell_type": "code",
   "execution_count": null,
   "metadata": {},
   "outputs": [],
   "source": []
  },
  {
   "cell_type": "code",
   "execution_count": null,
   "metadata": {},
   "outputs": [],
   "source": []
  },
  {
   "cell_type": "code",
   "execution_count": null,
   "metadata": {},
   "outputs": [],
   "source": []
  },
  {
   "cell_type": "code",
   "execution_count": null,
   "metadata": {},
   "outputs": [],
   "source": [
    "s_option =spectral_option[-1]\n",
    "g_option=gmm_option[-1]\n",
    "s_params = default_spectral.copy()\n",
    "s_params.update(s_option)\n",
    "\n",
    "g_params = default_gmm.copy()\n",
    "g_params.update(g_option)\n",
    "\n",
    "spectral = cluster.SpectralClustering(\n",
    "    n_clusters=s_params['n_clusters'], \n",
    "    eigen_solver=s_params['eigen_solver'],\n",
    "    affinity=s_params['affinity'])\n",
    "\n",
    "gmm =  mixture.GaussianMixture(\n",
    "    n_components=g_params['n_clusters'], \n",
    "    covariance_type=g_params['covariance_type'])\n",
    "\n",
    "s_pred = spectral.fit_predict(normalized_pattern_candidate)\n",
    "g_pred = gmm.fit_predict(normalized_pattern_candidate)\n",
    "\n",
    "s_representative_pattern =[]\n",
    "g_representative_pattern =[]\n",
    "for class_ in np.unique(s_pred):\n",
    "\n",
    "    s_class_idx = [i for i,x in enumerate(s_pred) if x ==class_]\n",
    "    s_representative_pattern.append(normalized_pattern_candidate[s_class_idx].mean(axis=0))\n",
    "\n",
    "    g_class_idx = [i for i,x in enumerate(g_pred) if x ==class_]\n",
    "    g_representative_pattern.append(normalized_pattern_candidate[g_class_idx].mean(axis=0))\n"
   ]
  },
  {
   "cell_type": "code",
   "execution_count": null,
   "metadata": {},
   "outputs": [],
   "source": [
    "from mpl_toolkits.mplot3d import axes3d\n",
    "\n",
    "fig = plt.figure(figsize=(20,8))\n",
    "ax = fig.add_subplot(1, 2, 1,projection='3d')\n",
    "\n",
    "x = ((g_representative_pattern[0]*len(normalized_pattern_candidate)-normalized_pattern_candidate)**2).sum(axis=1)\n",
    "y = ((g_representative_pattern[1]*len(normalized_pattern_candidate)-normalized_pattern_candidate)**2).sum(axis=1)\n",
    "z = ((g_representative_pattern[2]*len(normalized_pattern_candidate)-normalized_pattern_candidate)**2).sum(axis=1)\n",
    "\n",
    "ax.scatter(x,y,z, c = g_pred)\n",
    "\n",
    "ax.set_xlabel('class1')\n",
    "ax.set_ylabel('class2')\n",
    "ax.set_zlabel('class3')\n",
    "ax.set_xticks([])\n",
    "ax.set_yticks([])\n",
    "ax.set_zticks([])\n",
    "#ax.axis('off')\n",
    "\n",
    "ax2 = fig.add_subplot(1, 2, 2,projection='3d')\n",
    "\n",
    "x = ((s_representative_pattern[0]*len(normalized_pattern_candidate)-normalized_pattern_candidate)**2).sum(axis=1)\n",
    "y = ((s_representative_pattern[1]*len(normalized_pattern_candidate)-normalized_pattern_candidate)**2).sum(axis=1)\n",
    "z = ((s_representative_pattern[2]*len(normalized_pattern_candidate)-normalized_pattern_candidate)**2).sum(axis=1)\n",
    "\n",
    "ax2.scatter(x,y,z, c = s_pred)\n",
    "\n",
    "ax2.set_xlabel('class1')\n",
    "ax2.set_ylabel('class2')\n",
    "ax2.set_zlabel('class3')\n",
    "ax2.set_xticks([])\n",
    "ax2.set_yticks([])\n",
    "ax2.set_zticks([])"
   ]
  },
  {
   "cell_type": "markdown",
   "metadata": {},
   "source": [
    "color = [\"crimson\",\"orange\",\"olive\",'seagreen',\"royalblue\",\"purple\",\"pink\",\"grey\",\n",
    "        \"crimson\",\"orange\",\"olive\",'seagreen',\"royalblue\",\"purple\",\"pink\",\"grey\"]\n",
    "random.seed(300)\n",
    "for s_option,g_option in zip(spectral_option,gmm_option):\n",
    "    s_params = default_spectral.copy()\n",
    "    s_params.update(s_option)\n",
    "    \n",
    "    g_params = default_gmm.copy()\n",
    "    g_params.update(g_option)\n",
    "    \n",
    "    spectral = cluster.SpectralClustering(\n",
    "        n_clusters=s_params['n_clusters'], \n",
    "        eigen_solver=s_params['eigen_solver'],\n",
    "        affinity=s_params['affinity'])\n",
    "    \n",
    "    gmm =  mixture.GaussianMixture(\n",
    "        n_components=g_params['n_clusters'], \n",
    "        covariance_type=g_params['covariance_type'])\n",
    "    \n",
    "    s_pred = spectral.fit(normalized_pattern_candidate)\n",
    "    g_pred = gmm.fit(normalized_pattern_candidate)\n",
    "    \n",
    "    sample_data_idx = random.sample(range(0,len(normalized_pattern_candidate)),100)\n",
    "    \n",
    "    s_pred = spectral.labels_[sample_data_idx]\n",
    "    g_pred = gmm.predict(normalized_pattern_candidate[sample_data_idx])\n",
    "    \n",
    "    fig = plt.figure(figsize=(15,3))\n",
    "    for class_ in np.unique(s_pred):\n",
    "        ax = plt.subplot(1,2,1)\n",
    "        class_idx = [sample_data_idx[i] for i,x in enumerate(s_pred) if x ==class_]\n",
    "        ax.plot(normalized_pattern_candidate[class_idx].T, color =color[class_],alpha=0.2)\n",
    "        ax.plot(normalized_pattern_candidate[class_idx].mean(axis=0), color =color[class_],alpha=1,linewidth=5)\n",
    "\n",
    "        ax2 = plt.subplot(1,2,2)\n",
    "        class_idx = [sample_data_idx[i] for i,x in enumerate(g_pred) if x ==class_]\n",
    "        try:\n",
    "            #ax2.plot(normalized_pattern_candidate[class_idx].T, color =color[class_],alpha=0.2)\n",
    "            ax2.plot(normalized_pattern_candidate[class_idx].mean(axis=0), color =color[class_],alpha=1,linewidth=5)\n",
    "        except:\n",
    "            continue\n",
    "\n",
    "    fig.suptitle(\"Spectral Clustering: {} \\nGMM: {}\".format(s_params,g_params))\n",
    "    plt.tight_layout()\n"
   ]
  },
  {
   "cell_type": "markdown",
   "metadata": {},
   "source": [
    "### plotly visualization을 위해 샘플 데이터 및 패턴 저장"
   ]
  },
  {
   "cell_type": "code",
   "execution_count": null,
   "metadata": {},
   "outputs": [],
   "source": [
    "sample_data_idx=87\n",
    "sample_output_channel = 79\n",
    "sample_data = pd.DataFrame(trainX[sample_data_idx].reshape(-1,9))"
   ]
  },
  {
   "cell_type": "code",
   "execution_count": null,
   "metadata": {},
   "outputs": [],
   "source": [
    "sample_pattern_bool =pd.DataFrame(last_conv_bool[sample_data_idx][:,sample_output_channel])\n",
    "pattern_idx = [p for p, x in enumerate(last_conv_bool[sample_data_idx][:,sample_output_channel]) if x]"
   ]
  },
  {
   "cell_type": "code",
   "execution_count": null,
   "metadata": {},
   "outputs": [],
   "source": [
    "last_conv_bool[sample_data_idx][:,sample_output_channel].sum()"
   ]
  },
  {
   "cell_type": "code",
   "execution_count": null,
   "metadata": {},
   "outputs": [],
   "source": [
    "groups = []\n",
    "for _, g in groupby(pattern_idx, key=lambda n, c=itertools.count(): n-next(c)):\n",
    "    groups.append(list(g))    # Store group iterator as a list"
   ]
  },
  {
   "cell_type": "code",
   "execution_count": null,
   "metadata": {},
   "outputs": [],
   "source": [
    "consecutive_pattern=[]\n",
    "for g in groups:\n",
    "    if len(g)>consecutive_num:\n",
    "        consecutive_pattern.extend(g)\n",
    "        \n",
    "consecutive_pattern_bool=[]\n",
    "for x in range(0,128):\n",
    "    if x in np.asarray(consecutive_pattern).flatten():\n",
    "        consecutive_pattern_bool.append(True)\n",
    "    else:\n",
    "        consecutive_pattern_bool.append(False)"
   ]
  },
  {
   "cell_type": "code",
   "execution_count": null,
   "metadata": {},
   "outputs": [],
   "source": [
    "sample_consecutive_pattern_bool= pd.DataFrame(consecutive_pattern_bool)"
   ]
  },
  {
   "cell_type": "markdown",
   "metadata": {},
   "source": [
    "sample_data.to_csv('./sample_data+pattern/'+str(sample_data_idx)+'_data.csv')\n",
    "sample_pattern_bool.to_csv('./sample_data+pattern/'+str(sample_data_idx)+'_pattern.csv')\n",
    "sample_consecutive_pattern_bool.to_csv('./sample_data+pattern/'+str(sample_data_idx)+'_consecutive_pattern.csv')"
   ]
  },
  {
   "cell_type": "markdown",
   "metadata": {},
   "source": [
    "## 2d visualization"
   ]
  },
  {
   "cell_type": "code",
   "execution_count": null,
   "metadata": {},
   "outputs": [],
   "source": [
    "import plotly\n",
    "from plotly.subplots import make_subplots\n",
    "import plotly.graph_objects as go\n",
    "\n",
    "DEFAULT_PLOTLY_COLORS=['rgba(31, 119, 180, {})', 'rgba(255, 127, 14, {})',\n",
    "                       'rgba(44, 160, 44, {})', 'rgba(214, 39, 40, {})',\n",
    "                       'rgba(148, 103, 189, {})', 'rgba(140, 86, 75, {})',\n",
    "                       'rgba(227, 119, 194, {})', 'rgba(127, 127, 127, {})',\n",
    "                       'rgba(188, 189, 34, {})', 'rgba(23, 190, 207, {})']\n",
    "\n",
    "normalized_data = (sample_data.values - sample_data.values.min(axis=0))/(sample_data.values.max(axis=0) - sample_data.values.min(axis=0))\n",
    "for cidx in range(0,sample_data.shape[1]):\n",
    "    normalized_data[:,cidx] =normalized_data[:,cidx] + cidx \n",
    "    \n",
    "    \n",
    "fig = make_subplots(\n",
    "    rows=1, cols=1, shared_xaxes=True, vertical_spacing=0.02\n",
    ")\n",
    "\n",
    "for cidx in range(sample_data.shape[-1]):\n",
    "    fig.add_trace(go.Scatter(x=np.arange(sample_data.shape[0]), \n",
    "                             y=normalized_data[:,cidx],  \n",
    "                            line_color=\"black\",\n",
    "                             line_width=1,\n",
    "                             showlegend=False,\n",
    "                             ),\n",
    "                  row=1, col=1)\n",
    "    \n",
    "    fig.add_trace(go.Scatter(x=np.arange(sample_data.shape[0])[consecutive_pattern_bool], \n",
    "                            y=normalized_data[consecutive_pattern_bool,cidx],  \n",
    "#                               fill='toself',\n",
    "                            line_color='rgba(200, 0, 200, 0.6)',\n",
    "                            line_width=5,\n",
    "                            showlegend=False,\n",
    "                            ),\n",
    "                   row=1, col=1)\n",
    "    \n",
    "fig.update_xaxes(showline=True, linewidth=2, linecolor='black',ticks=\"inside\")\n",
    "fig.update_yaxes(showline=True, linewidth=2, linecolor='black',\n",
    "                 ticks=\"inside\",nticks=sample_data.shape[1], tickwidth=2, tickcolor='black', ticklen=10,title_text='Input Channel',\n",
    "                showgrid=True, gridwidth=1, gridcolor='grey',\n",
    "                ticktext=[\"Channel1\", \"Channel2\", \"Channel3\", \"Channel4\",\"Channel5\", \"Channel6\", \"Channel7\", \"Channel8\", \"Channel9\"],\n",
    "                tickvals=[\"1\", \"2\", \"3\", \"4\", \"5\", \"6\",\"7\", \"8\", \"9\"],\n",
    "                range=[0,9])\n",
    "\n",
    "\n",
    "fig.update_layout(height=600, width=800,plot_bgcolor='rgb(256,256,256)',\n",
    "                  title_text=\"Input\")\n",
    "\n",
    "fig.show()"
   ]
  },
  {
   "cell_type": "markdown",
   "metadata": {},
   "source": [
    "## 3d visualization"
   ]
  },
  {
   "cell_type": "code",
   "execution_count": null,
   "metadata": {},
   "outputs": [],
   "source": [
    "from mpl_toolkits.mplot3d import Axes3D\n",
    "%matplotlib notebook\n",
    "%matplotlib inline\n",
    "%matplotlib qt"
   ]
  },
  {
   "cell_type": "code",
   "execution_count": null,
   "metadata": {},
   "outputs": [],
   "source": [
    "random.seed = 10005\n",
    "\n",
    "class_color= [\"cyan\",\"orange\",\"lime\",\"pink\",\"cyan\",\"orange\",\"lime\",\"pink\",\"cyan\"]\n",
    "consecutive_class_color= [\"dodgerblue\",\"coral\",\"seagreen\",\"indianred\",\"dodgerblue\",\"coral\",\"seagreen\",\"indianred\",\"dodgerblue\"]\n",
    "survived_channel = [i for i, x in enumerate(last_conv_bool.sum(axis=1).sum(axis=0)) if x>0]\n",
    "sample_channel = random.sample(survived_channel,1)\n",
    "\n",
    "consecutive_num =trainX.shape[2]//20\n",
    "\n",
    "for class_i in class_list:\n",
    "    \n",
    "    sample_data_idx =random.sample([i for i, e in enumerate(np.argmax(trainY,axis=1)) if e == (class_i-1)],1)\n",
    "    fig = plt.figure()\n",
    "    ax = fig.add_subplot(111,projection='3d')\n",
    "    fig.suptitle(\"Last Conv ({}) Consecutive ({}) ,Output(class{}) \".format(sample_channel,consecutive_num,class_i-1))\n",
    "    \n",
    "    for c in range(0,input_channel):\n",
    "        data = trainX[sample_data_idx,:,:,c].reshape(-1,1)\n",
    "        data = (data-data.min())/(data.max()-data.min())\n",
    "        pattern_idx = [p for p, x in enumerate(last_conv_bool[sample_data_idx[0],:,c]) if x]\n",
    "        #ax = fig.gca(projection='3d')\n",
    "\n",
    "        ax.plot([c]*len(data),range(0,len(data)), data.flatten())\n",
    "        # 패턴의 연속성을 찾는 구간\n",
    "        groups = []\n",
    "        for _, g in groupby(pattern_idx, key=lambda n, c=itertools.count(): n-next(c)):\n",
    "            groups.append(list(g))    # Store group iterator as a list\n",
    "        for g in groups:\n",
    "            if len(g)>consecutive_num:\n",
    "                ax.scatter([c]*len(g) ,g,data[g],color = consecutive_class_color[c], s =12,alpha=0.7)\n",
    "                #ax.add_collection3d(plt.fill_between(np.arange(g[0],g[-1]),data[g[0]:g[-1]],0), zs=1, zdir='y')\n",
    "                #ax[j].text(g[0],0,len(g))\n",
    "            #else:\n",
    "                #ax.scatter(g,[c]*len(g), data[g],color = class_color[c],s=12)\n",
    "                \n",
    "        ax.set_xticks=[]\n",
    "        ax.set_yticks=[]\n",
    "        #ax.get_proj = lambda: np.dot(Axes3D.get_proj(ax), np.diag([1, 0.8, 0.2, 1]))\n",
    "    break"
   ]
  }
 ],
 "metadata": {
  "colab": {
   "name": "model.ipynb",
   "provenance": []
  },
  "kernelspec": {
   "display_name": "py_36_env",
   "language": "python",
   "name": "py_36_env"
  },
  "language_info": {
   "codemirror_mode": {
    "name": "ipython",
    "version": 3
   },
   "file_extension": ".py",
   "mimetype": "text/x-python",
   "name": "python",
   "nbconvert_exporter": "python",
   "pygments_lexer": "ipython3",
   "version": "3.6.4"
  }
 },
 "nbformat": 4,
 "nbformat_minor": 1
}
