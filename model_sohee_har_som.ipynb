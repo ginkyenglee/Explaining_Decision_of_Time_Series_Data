{
 "cells": [
  {
   "cell_type": "code",
   "execution_count": 1,
   "metadata": {
    "colab": {},
    "colab_type": "code",
    "id": "4y7_sbSIxg6E",
    "outputId": "929e3bc6-f359-4add-ce57-077422b03c56"
   },
   "outputs": [],
   "source": [
    "import pandas as pd\n",
    "import numpy as np\n",
    "from tensorflow.python.ops import nn_ops, gen_nn_ops\n",
    "#import tensorflow as tf"
   ]
  },
  {
   "cell_type": "code",
   "execution_count": 2,
   "metadata": {},
   "outputs": [
    {
     "name": "stdout",
     "output_type": "stream",
     "text": [
      "WARNING:tensorflow:From /home/sohee/.local/lib/python3.6/site-packages/tensorflow_core/python/compat/v2_compat.py:65: disable_resource_variables (from tensorflow.python.ops.variable_scope) is deprecated and will be removed in a future version.\n",
      "Instructions for updating:\n",
      "non-resource variables are not supported in the long term\n"
     ]
    }
   ],
   "source": [
    "import tensorflow.compat.v1 as tf\n",
    "tf.disable_v2_behavior()"
   ]
  },
  {
   "cell_type": "code",
   "execution_count": 3,
   "metadata": {
    "colab": {},
    "colab_type": "code",
    "id": "XNEeKqCOxg6K"
   },
   "outputs": [],
   "source": [
    "class CNN_MC_dropout:\n",
    "    def __init__(self, std=0.01, batch_size=64,width=500, height =1, input_channel=3, nb_classes=2, l_rate =1e-6,reuse = False):\n",
    "        self.std=std\n",
    "        self.batch_size=batch_size\n",
    "        self.height = height\n",
    "        self.width = width\n",
    "        self.input_channel = input_channel\n",
    "        self.l_rate = l_rate\n",
    "        \n",
    "        self.nb_classes = nb_classes\n",
    "\n",
    "        with tf.name_scope('Classifier'):\n",
    "            self.y = tf.placeholder(tf.float32, [None, self.nb_classes], name='y')\n",
    "            self.x = tf.placeholder(tf.float32, [None, self.height,self.width,self.input_channel], name='x')\n",
    "            self.keep_prob = tf.placeholder(tf.float32)\n",
    "            self.is_dropout = tf.placeholder(tf.bool)\n",
    "        \n",
    "        # keep prob가 1보다 작으면, 드랍아웃을 한다는 의미\n",
    "        #self.dropout_bool = True#tf.cond(self.keep_prob < 1.0, lambda: tf.constant(True), lambda: tf.constant(False))\n",
    "        \n",
    "        self.logits = self.build_model()\n",
    "\n",
    "        # Define loss and optimizer, minimize the squared error\n",
    "        self.cross_entropy =  tf.nn.softmax_cross_entropy_with_logits_v2(labels=self.y, logits=self.logits)\n",
    "        self.cost =tf.reduce_mean(self.cross_entropy)\n",
    "        self.optimizer = tf.train.AdamOptimizer(self.l_rate).minimize(self.cost)\n",
    "\n",
    "        self.correct_pred = tf.equal(tf.round(self.prediction),self.y)\n",
    "        self.accuracy = tf.reduce_mean(tf.cast(self.correct_pred, tf.float32))\n",
    "\n",
    "        init = tf.global_variables_initializer()\n",
    "\n",
    "        # Launch the session\n",
    "        self.session_conf = tf.ConfigProto()\n",
    "        self.session_conf.gpu_options.allow_growth = True\n",
    "        self.sess = tf.InteractiveSession(config=self.session_conf)\n",
    "        self.sess.run(init)\n",
    "\n",
    "        self.saver = tf.train.Saver(max_to_keep=None)\n",
    "\n",
    "    def build_model(self):\n",
    "        with tf.variable_scope('layer0'):\n",
    "            #b, h, w, c\n",
    "            self.input = self.x\n",
    "        # Convolutional Layer #1 and Pooling Layer #1\n",
    "        with tf.variable_scope('layer1'):\n",
    "            self.conv1 = tf.layers.conv2d(self.input, 128, [8,1], padding='SAME')\n",
    "            self.batch1 = tf.layers.batch_normalization(self.conv1)\n",
    "            self.relu1 = tf.nn.relu(self.batch1)\n",
    "            self.dropout1 = tf.nn.dropout(self.relu1, self.keep_prob)\n",
    "\n",
    "        # Convolutional Layer #1 and Pooling Layer #2\n",
    "        with tf.variable_scope('layer2'):\n",
    "            self.conv2 = tf.layers.conv2d(self.dropout1, 256, [5,1], padding='SAME')\n",
    "            self.batch2 = tf.layers.batch_normalization(self.conv2)\n",
    "            self.relu2 = tf.nn.relu(self.batch2)\n",
    "            self.dropout2 = tf.nn.dropout(self.relu2, self.keep_prob)\n",
    "\n",
    "        # Convolutional Layer #1 and Pooling Layer #3\n",
    "        with tf.variable_scope('layer3'):\n",
    "            self.conv3 = tf.layers.conv2d(self.dropout2, 128, [3,1], padding='SAME')\n",
    "            self.batch3 = tf.layers.batch_normalization(self.conv3)\n",
    "            self.relu3 = tf.nn.relu(self.batch3)\n",
    "\n",
    "        # Dense Layer with Relu\n",
    "        with tf.variable_scope('layer4'):\n",
    "            #Global Average Pooling\n",
    "            self.GAP = tf.reduce_mean(self.relu3, axis=[1,2])# b,h,w,c\n",
    "            self.logits = tf.layers.dense(self.GAP,self.nb_classes)\n",
    "            self.prediction = tf.nn.softmax(self.logits)\n",
    "            \n",
    "        return self.logits\n",
    "\n",
    "\n",
    "    def train(self, data, target, keep_prob,is_dropout):\n",
    "        opt, cost ,acc = self.sess.run((self.optimizer, self.cost, self.accuracy ), \n",
    "                             feed_dict={self.y: target,\n",
    "                                        self.x: data,\n",
    "                                       self.keep_prob: keep_prob,\n",
    "                                       self.is_dropout : is_dropout})\n",
    "        return cost,acc\n",
    "\n",
    "    def test(self, data, target, keep_prob,is_dropout):\n",
    "        cost,acc = self.sess.run((self.cost,self.accuracy),\n",
    "                             feed_dict={self.y: target,\n",
    "                                        self.x: data,\n",
    "                                       self.keep_prob: keep_prob,\n",
    "                                       self.is_dropout : is_dropout})\n",
    "        return cost,acc\n",
    "\n",
    "    def get_last_conv_output(self, data, keep_prob,is_dropout):\n",
    "        relu3 =  self.sess.run((self.relu3), \n",
    "                             feed_dict={self.x: data,\n",
    "                                       self.keep_prob: keep_prob,\n",
    "                                       self.is_dropout : is_dropout})\n",
    "        return relu3\n",
    "    \n",
    "    def predict(self, data, keep_prob,is_dropout):\n",
    "\n",
    "        prediction =  self.sess.run((self.prediction), \n",
    "                             feed_dict={self.x: data,\n",
    "                                       self.keep_prob: keep_prob,\n",
    "                                       self.is_dropout : is_dropout})\n",
    "        return prediction\n",
    "\n",
    "    def save(self, save_path='./model.ckpt'):\n",
    "        saved_path = self.saver.save(self.sess, save_path)\n",
    "        print(\"Model saved in file: %s\"%saved_path)\n",
    "\n",
    "    def load(self, load_path = './model.ckpt'):\n",
    "        self.saver.restore(self.sess, load_path)\n",
    "        print(\"Model restored\")\n",
    "\n",
    "    def terminate(self):\n",
    "        self.sess.close()\n",
    "        tf.reset_default_graph() "
   ]
  },
  {
   "cell_type": "markdown",
   "metadata": {
    "colab_type": "text",
    "id": "xYklN3iMxg6M"
   },
   "source": [
    "# 1. Data Load\n",
    "### 전처리 width, height, input_channel 정의"
   ]
  },
  {
   "cell_type": "code",
   "execution_count": 4,
   "metadata": {
    "colab": {},
    "colab_type": "code",
    "id": "a2XqoXoUxg6N"
   },
   "outputs": [],
   "source": [
    "import os"
   ]
  },
  {
   "cell_type": "code",
   "execution_count": 5,
   "metadata": {
    "colab": {},
    "colab_type": "code",
    "id": "WKzwJVP_xg6R"
   },
   "outputs": [],
   "source": [
    "from pandas import read_csv\n",
    "from numpy import dstack\n",
    "\n",
    "\n",
    "# load a single file as a umpy array\n",
    "def load_file(filepath):\n",
    "    dataframe = read_csv(filepath, header=None, delim_whitespace=True)\n",
    "    return dataframe.values\n",
    "\n",
    "# load a list of files, such as x, y, z data for a given variable\n",
    "def load_group(filenames, prefix=''):\n",
    "    loaded = list()\n",
    "    for name in filenames:\n",
    "        data = load_file(prefix + name)\n",
    "        ##normalize\n",
    "        #data = (data - data.min(axis=0))/(data.max(axis=0) - data.min(axis=0))\n",
    "        loaded.append(data)\n",
    "    # stack group so that features are the 3rd dimension\n",
    "    loaded = dstack(loaded)\n",
    "    return loaded\n",
    "\n",
    "# load a dataset group, such as train or test\n",
    "def load_dataset(group, prefix=''):\n",
    "    filepath = prefix + group + '/Inertial Signals/'\n",
    "    # load all 9 files as a single array\n",
    "    filenames = list()\n",
    "    # total acceleration\n",
    "    filenames += ['total_acc_x_'+group+'.txt', 'total_acc_y_'+group+'.txt', 'total_acc_z_'+group+'.txt']\n",
    "    # body acceleration\n",
    "    filenames += ['body_acc_x_'+group+'.txt', 'body_acc_y_'+group+'.txt', 'body_acc_z_'+group+'.txt']\n",
    "    # body gyroscope\n",
    "    filenames += ['body_gyro_x_'+group+'.txt', 'body_gyro_y_'+group+'.txt', 'body_gyro_z_'+group+'.txt']\n",
    "    # load input data\n",
    "    X = load_group(filenames, filepath)\n",
    "    # load class output\n",
    "    y = load_file(prefix + group + '/y_'+group+'.txt')\n",
    "    \n",
    "    \n",
    "    \n",
    "    return X, y"
   ]
  },
  {
   "cell_type": "code",
   "execution_count": 6,
   "metadata": {},
   "outputs": [
    {
     "name": "stdout",
     "output_type": "stream",
     "text": [
      "batch size:16\n",
      "(7352, 128, 9) (7352, 1)\n",
      "(2947, 128, 9) (2947, 1)\n"
     ]
    }
   ],
   "source": [
    "data_path =\"HARDataset/\"\n",
    "\n",
    "# load all train\n",
    "trainx, trainy = load_dataset('train', data_path)\n",
    "batch_size = min(int(trainx.shape[0]/10), 16)\n",
    "print (\"batch size:{}\".format(batch_size))\n",
    "\n",
    "print(trainx.shape, trainy.shape)\n",
    "# load all test\n",
    "testx, testy = load_dataset('test', data_path)\n",
    "print(testx.shape, testy.shape)"
   ]
  },
  {
   "cell_type": "code",
   "execution_count": 7,
   "metadata": {},
   "outputs": [],
   "source": [
    "from pandas import DataFrame\n",
    "# summarize the balance of classes in an output variable column\n",
    "def class_breakdown(data):\n",
    "    # convert the numpy array into a dataframe\n",
    "    df = DataFrame(data)\n",
    "    # group data by the class value and calculate the number of rows\n",
    "    counts = df.groupby(0).size()\n",
    "    # retrieve raw rows\n",
    "    counts = counts.values\n",
    "    # summarize\n",
    "    for i in range(len(counts)):\n",
    "        percent = counts[i] / len(df) * 100\n",
    "        print('Class=%d, total=%d, percentage=%.3f' % (i+1, counts[i], percent))"
   ]
  },
  {
   "cell_type": "code",
   "execution_count": 8,
   "metadata": {
    "colab": {},
    "colab_type": "code",
    "id": "xyupyd-hxg6T",
    "outputId": "dcff2c15-b58d-4c33-989a-d54de283fa66"
   },
   "outputs": [
    {
     "name": "stdout",
     "output_type": "stream",
     "text": [
      "Class=1, total=1226, percentage=16.676\n",
      "Class=2, total=1073, percentage=14.595\n",
      "Class=3, total=986, percentage=13.411\n",
      "Class=4, total=1286, percentage=17.492\n",
      "Class=5, total=1374, percentage=18.689\n",
      "Class=6, total=1407, percentage=19.138\n",
      "Class=1, total=496, percentage=16.831\n",
      "Class=2, total=471, percentage=15.982\n",
      "Class=3, total=420, percentage=14.252\n",
      "Class=4, total=491, percentage=16.661\n",
      "Class=5, total=532, percentage=18.052\n",
      "Class=6, total=537, percentage=18.222\n"
     ]
    }
   ],
   "source": [
    "class_breakdown(trainy)\n",
    "class_breakdown(testy)"
   ]
  },
  {
   "cell_type": "code",
   "execution_count": 9,
   "metadata": {
    "colab": {},
    "colab_type": "code",
    "id": "ROHthjPBxg6V"
   },
   "outputs": [
    {
     "name": "stdout",
     "output_type": "stream",
     "text": [
      "y train shape: (7352, 6)\n",
      "y test shape: (2947, 6)\n"
     ]
    }
   ],
   "source": [
    "hot_encoded_y_train = np.asarray(pd.get_dummies(np.asarray(trainy.flatten())))\n",
    "hot_encoded_y_test = np.asarray(pd.get_dummies(np.asarray(testy.flatten())))\n",
    "print(\"y train shape: {}\".format(hot_encoded_y_train.shape))\n",
    "print(\"y test shape: {}\".format(hot_encoded_y_test.shape))"
   ]
  },
  {
   "cell_type": "code",
   "execution_count": 10,
   "metadata": {
    "colab": {},
    "colab_type": "code",
    "id": "O6OPKVxRxg6X",
    "outputId": "8749c02f-83df-48c8-a352-86bfb8bfdcd4"
   },
   "outputs": [
    {
     "name": "stdout",
     "output_type": "stream",
     "text": [
      "trainX shape:(7352, 1, 128, 9)\n",
      "trainY shape:(7352, 6)\n",
      "validX shape:(1473, 1, 128, 9)\n",
      "validY shape:(1473, 6)\n",
      "testX shape:(1474, 1, 128, 9)\n",
      "testY shape:(1474, 6)\n"
     ]
    }
   ],
   "source": [
    "trainX = trainx[:, np.newaxis, :]\n",
    "trainY = hot_encoded_y_train\n",
    "\n",
    "validX =testx[:len(testx)//2,np.newaxis,:]\n",
    "validY= hot_encoded_y_test[:len(testx)//2]\n",
    "\n",
    "testX = testx[len(testx)//2:,np.newaxis,:]\n",
    "testY = hot_encoded_y_test[len(testx)//2:]\n",
    "\n",
    "print (\"trainX shape:{}\".format(trainX.shape))\n",
    "print (\"trainY shape:{}\".format(trainY.shape))\n",
    "print (\"validX shape:{}\".format(validX.shape))\n",
    "print (\"validY shape:{}\".format(validY.shape))\n",
    "print (\"testX shape:{}\".format(testX.shape))\n",
    "print (\"testY shape:{}\".format(testY.shape))"
   ]
  },
  {
   "cell_type": "code",
   "execution_count": 11,
   "metadata": {
    "colab": {},
    "colab_type": "code",
    "id": "8JpxKigLxg6a"
   },
   "outputs": [
    {
     "name": "stdout",
     "output_type": "stream",
     "text": [
      "height 1\n",
      "width 128\n",
      "input_channel 9\n"
     ]
    }
   ],
   "source": [
    "height = trainX.shape[1]\n",
    "width = trainX.shape[2]\n",
    "input_channel = trainX.shape[3]\n",
    "\n",
    "print (\"height {}\".format(height))\n",
    "print (\"width {}\".format(width))\n",
    "print (\"input_channel {}\".format(input_channel))"
   ]
  },
  {
   "cell_type": "markdown",
   "metadata": {
    "colab_type": "text",
    "id": "LRkT92eLxg6c"
   },
   "source": [
    "# 2. Training condition 정의"
   ]
  },
  {
   "cell_type": "code",
   "execution_count": 12,
   "metadata": {
    "colab": {},
    "colab_type": "code",
    "id": "96TudpYHxg6d"
   },
   "outputs": [],
   "source": [
    "t_loss=[]\n",
    "t_acc=[]\n",
    "\n",
    "v_loss=[]\n",
    "v_acc=[]\n",
    "\n",
    "val_freq = 1\n",
    "save_freq = 1\n",
    "num_epochs= 500\n",
    "\n",
    "\n",
    "std= 0.01\n",
    "l_rate = 1e-5"
   ]
  },
  {
   "cell_type": "code",
   "execution_count": 13,
   "metadata": {
    "colab": {},
    "colab_type": "code",
    "id": "v0CdpPI7xg6f"
   },
   "outputs": [],
   "source": [
    "train_history = pd.DataFrame(index=np.arange(0, num_epochs), columns=['epoch', 'loss', 'acc','timestamp'])\n",
    "valid_history = pd.DataFrame(index=np.arange(0, num_epochs/val_freq),columns=['epoch', 'loss', 'acc','timestamp'])"
   ]
  },
  {
   "cell_type": "markdown",
   "metadata": {
    "colab_type": "text",
    "id": "6HiU9eckxg6h"
   },
   "source": [
    "# 3. model structure 정의"
   ]
  },
  {
   "cell_type": "code",
   "execution_count": 14,
   "metadata": {},
   "outputs": [
    {
     "name": "stdout",
     "output_type": "stream",
     "text": [
      "6\n"
     ]
    }
   ],
   "source": [
    "from numpy import unique\n",
    "nb_classes =trainY.shape[1]\n",
    "print (nb_classes)"
   ]
  },
  {
   "cell_type": "code",
   "execution_count": 15,
   "metadata": {
    "colab": {},
    "colab_type": "code",
    "id": "Jny6_y8cxg6h"
   },
   "outputs": [
    {
     "name": "stdout",
     "output_type": "stream",
     "text": [
      "WARNING:tensorflow:From <ipython-input-3-4815b9e0ef13>:47: conv2d (from tensorflow.python.layers.convolutional) is deprecated and will be removed in a future version.\n",
      "Instructions for updating:\n",
      "Use `tf.keras.layers.Conv2D` instead.\n",
      "WARNING:tensorflow:From /home/sohee/.local/lib/python3.6/site-packages/tensorflow_core/python/layers/convolutional.py:424: Layer.apply (from tensorflow.python.keras.engine.base_layer) is deprecated and will be removed in a future version.\n",
      "Instructions for updating:\n",
      "Please use `layer.__call__` method instead.\n",
      "WARNING:tensorflow:From <ipython-input-3-4815b9e0ef13>:48: batch_normalization (from tensorflow.python.layers.normalization) is deprecated and will be removed in a future version.\n",
      "Instructions for updating:\n",
      "Use keras.layers.BatchNormalization instead.  In particular, `tf.control_dependencies(tf.GraphKeys.UPDATE_OPS)` should not be used (consult the `tf.keras.layers.batch_normalization` documentation).\n",
      "WARNING:tensorflow:From <ipython-input-3-4815b9e0ef13>:50: calling dropout (from tensorflow.python.ops.nn_ops) with keep_prob is deprecated and will be removed in a future version.\n",
      "Instructions for updating:\n",
      "Please use `rate` instead of `keep_prob`. Rate should be set to `rate = 1 - keep_prob`.\n",
      "WARNING:tensorflow:From <ipython-input-3-4815b9e0ef13>:69: dense (from tensorflow.python.layers.core) is deprecated and will be removed in a future version.\n",
      "Instructions for updating:\n",
      "Use keras.layers.Dense instead.\n"
     ]
    }
   ],
   "source": [
    "if 'MC_dropout_model' in globals():\n",
    "    MC_dropout_model.terminate()\n",
    "    \n",
    "MC_dropout_model =CNN_MC_dropout(height=height,width= width, input_channel=input_channel ,nb_classes=nb_classes,\n",
    "                                 std=std,batch_size=batch_size,l_rate=l_rate)"
   ]
  },
  {
   "cell_type": "code",
   "execution_count": 16,
   "metadata": {
    "colab": {},
    "colab_type": "code",
    "id": "8i5mZbLexg6j",
    "outputId": "eb6c9052-804c-4e42-8eb5-e09b35fe7a10"
   },
   "outputs": [
    {
     "name": "stdout",
     "output_type": "stream",
     "text": [
      "Tensor(\"Classifier/x:0\", shape=(?, 1, 128, 9), dtype=float32)\n",
      "[layer1] - MC dropout\n",
      "Tensor(\"layer1/conv2d/BiasAdd:0\", shape=(?, 1, 128, 128), dtype=float32)\n",
      "Tensor(\"layer1/batch_normalization/FusedBatchNormV3:0\", shape=(?, 1, 128, 128), dtype=float32)\n",
      "Tensor(\"layer1/Relu:0\", shape=(?, 1, 128, 128), dtype=float32)\n",
      "Tensor(\"layer1/dropout/mul_1:0\", shape=(?, 1, 128, 128), dtype=float32)\n",
      "[layer2] - MC dropout\n",
      "Tensor(\"layer2/conv2d/BiasAdd:0\", shape=(?, 1, 128, 256), dtype=float32)\n",
      "Tensor(\"layer2/batch_normalization/FusedBatchNormV3:0\", shape=(?, 1, 128, 256), dtype=float32)\n",
      "Tensor(\"layer2/Relu:0\", shape=(?, 1, 128, 256), dtype=float32)\n",
      "Tensor(\"layer2/dropout/mul_1:0\", shape=(?, 1, 128, 256), dtype=float32)\n",
      "[layer3]\n",
      "Tensor(\"layer3/conv2d/BiasAdd:0\", shape=(?, 1, 128, 128), dtype=float32)\n",
      "Tensor(\"layer3/batch_normalization/FusedBatchNormV3:0\", shape=(?, 1, 128, 128), dtype=float32)\n",
      "Tensor(\"layer3/Relu:0\", shape=(?, 1, 128, 128), dtype=float32)\n",
      "[layer4]\n",
      "Tensor(\"layer4/Mean:0\", shape=(?, 128), dtype=float32)\n",
      "Tensor(\"layer4/dense/BiasAdd:0\", shape=(?, 6), dtype=float32)\n"
     ]
    }
   ],
   "source": [
    "print (MC_dropout_model.input)\n",
    "print ('[layer1] - MC dropout')\n",
    "print (MC_dropout_model.conv1)\n",
    "print (MC_dropout_model.batch1)\n",
    "print (MC_dropout_model.relu1)\n",
    "print (MC_dropout_model.dropout1)\n",
    "print ('[layer2] - MC dropout')\n",
    "print (MC_dropout_model.conv2)\n",
    "print (MC_dropout_model.batch2)\n",
    "print (MC_dropout_model.relu2)\n",
    "print (MC_dropout_model.dropout2)\n",
    "print ('[layer3]')\n",
    "print (MC_dropout_model.conv3)\n",
    "print (MC_dropout_model.batch3)\n",
    "print (MC_dropout_model.relu3)\n",
    "\n",
    "print ('[layer4]')\n",
    "print (MC_dropout_model.GAP)\n",
    "print (MC_dropout_model.logits)"
   ]
  },
  {
   "cell_type": "markdown",
   "metadata": {
    "colab_type": "text",
    "id": "LmWRfeSOxg6l"
   },
   "source": [
    "# 4. Training"
   ]
  },
  {
   "cell_type": "code",
   "execution_count": 17,
   "metadata": {
    "colab": {},
    "colab_type": "code",
    "id": "4pgl8PLBxg6m"
   },
   "outputs": [],
   "source": [
    "import time"
   ]
  },
  {
   "cell_type": "code",
   "execution_count": 18,
   "metadata": {
    "colab": {},
    "colab_type": "code",
    "id": "fLBIHIbqxg6o",
    "outputId": "47abf10c-e76a-4462-a56c-3d0dbfd77cbd"
   },
   "outputs": [
    {
     "name": "stdout",
     "output_type": "stream",
     "text": [
      "\n"
     ]
    }
   ],
   "source": [
    "save_path = 'model/'\n",
    "model_name = ''\n",
    "print (model_name)"
   ]
  },
  {
   "cell_type": "code",
   "execution_count": 19,
   "metadata": {
    "colab": {},
    "colab_type": "code",
    "id": "Ism3OSKnxg6u"
   },
   "outputs": [],
   "source": [
    "def get_batch(X, Y,  batch_size=1024, shuffle=False):\n",
    "    \"\"\"\n",
    "    dataset: numpy ndarray. dim=2\n",
    "    \n",
    "    dataset_input = normalized_data[:, input_idx]\n",
    "    dataset_target = normalized_data[:, target_idx]\n",
    "    interested_indices = train_indices\n",
    "    \"\"\"    \n",
    "    assert np.isnan(X).any()==False\n",
    "    assert np.isnan(Y).any()==False\n",
    "    \n",
    "    interested_indices = range(0,len(X))\n",
    "\n",
    "    if shuffle:\n",
    "        np.random.shuffle(interested_indices)\n",
    "        \n",
    "    for i in range(0, len(X)-batch_size, batch_size):\n",
    "        batch_Xlist = []\n",
    "        batch_Ylist = [] \n",
    "        \n",
    "        batch_indices = interested_indices[i:i+batch_size]\n",
    "\n",
    "        batch_Xlist.append(X[batch_indices])\n",
    "        batch_Ylist.append(Y[batch_indices])\n",
    "\n",
    "            \n",
    "        batch_Xlist = np.asarray(batch_Xlist)\n",
    "        batch_Xlist = batch_Xlist.reshape(-1,X.shape[1],X.shape[2],X.shape[3])\n",
    "        \n",
    "        batch_Ylist = np.asarray(batch_Ylist)\n",
    "        batch_Ylist = batch_Ylist.reshape(-1,nb_classes)\n",
    "\n",
    "        yield batch_Xlist, batch_Ylist"
   ]
  },
  {
   "cell_type": "code",
   "execution_count": 20,
   "metadata": {
    "colab": {},
    "colab_type": "code",
    "id": "nPy7CW6Ixg6w"
   },
   "outputs": [],
   "source": [
    "keep_prob =1.0"
   ]
  },
  {
   "cell_type": "code",
   "execution_count": 21,
   "metadata": {
    "colab": {},
    "colab_type": "code",
    "id": "1aSW6vp3xg6y",
    "outputId": "039e0277-40ba-439c-a344-dfbefd564aa5"
   },
   "outputs": [],
   "source": [
    "# for epoch in range(200):#range(num_epochs):##\n",
    "    \n",
    "#     loss = 0\n",
    "#     acc=0\n",
    "#     train_batches = 0\n",
    "#     start_time = time.time()   \n",
    "    \n",
    "#     for batch in get_batch(X=trainX, Y=trainY, batch_size=batch_size):\n",
    "#         train_in, train_target = batch\n",
    "#         train_batches += 1.0 \n",
    "#         loss1 ,acc1 = MC_dropout_model.train(data=train_in,target= train_target,keep_prob=keep_prob,is_dropout=False)\n",
    "#         loss = loss1+loss\n",
    "#         acc = acc1+acc\n",
    "#         if np.isnan(loss):\n",
    "#             print ('error')\n",
    "#             break\n",
    "#     t_loss.append(loss/train_batches)\n",
    "#     t_acc.append(acc/train_batches)\n",
    "    \n",
    "#     train_history.loc[epoch] = [epoch+1, t_loss[epoch], t_acc[epoch] ,time.strftime(\"%Y-%m-%d-%H:%M\", time.localtime())]\n",
    "#     if not os.path.exists(os.path.join(save_path, model_name)):\n",
    "#         os.mkdir( os.path.join(save_path, model_name))\n",
    "#     MC_dropout_model.save(os.path.join(save_path, model_name,str(epoch+1)+'.ckpt'))\n",
    "\n",
    "    \n",
    "#     if(epoch+1)%val_freq ==0:\n",
    "#         acc=0\n",
    "#         loss = 0\n",
    "#         val_batches=0\n",
    "#         for batch in get_batch(X=validX, Y=validY, batch_size=batch_size):\n",
    "#             val_in, val_target = batch\n",
    "#             val_batches += 1.0 \n",
    "#             loss1 ,acc1 = MC_dropout_model.test(data=val_in,target= val_target,keep_prob=keep_prob,is_dropout=False)\n",
    "#             loss = loss1+loss\n",
    "#             acc = acc1+acc\n",
    "        \n",
    "#         v_acc.append(acc/val_batches)\n",
    "#         v_loss.append(loss/val_batches)\n",
    "#         valid_history.loc[epoch] = [epoch+1, v_loss[epoch], v_acc[epoch] ,time.strftime(\"%Y-%m-%d-%H:%M\", time.localtime())]  \n",
    "        \n",
    "#         print(\"  training loss:\\t{:.6f}\".format(t_loss[epoch]))\n",
    "#         print(\"  training acc:\\t{:.3f}\".format(t_acc[epoch]))\n",
    "#         print(\"  validation loss:\\t{:.6f}\".format(v_loss[epoch]))\n",
    "#         print(\"  validation acc:\\t{:.3f}\".format(v_acc[epoch]))\n"
   ]
  },
  {
   "cell_type": "code",
   "execution_count": 22,
   "metadata": {
    "colab": {},
    "colab_type": "code",
    "id": "rP08N40exg60"
   },
   "outputs": [],
   "source": [
    "# train_history.to_csv(os.path.join(save_path, model_name, \"history_train.csv\"))\n",
    "# valid_history.to_csv(os.path.join(save_path, model_name, \"history_valid.csv\"))"
   ]
  },
  {
   "cell_type": "markdown",
   "metadata": {
    "colab_type": "text",
    "id": "vlFgsib-xg64"
   },
   "source": [
    "# 5.check the result"
   ]
  },
  {
   "cell_type": "markdown",
   "metadata": {
    "colab_type": "text",
    "id": "KgcHlnjVxg65"
   },
   "source": [
    "### with loss and accuracy graph"
   ]
  },
  {
   "cell_type": "code",
   "execution_count": 23,
   "metadata": {
    "colab": {},
    "colab_type": "code",
    "id": "q8-lRSQsxg66"
   },
   "outputs": [],
   "source": [
    "train_history = pd.read_csv(os.path.join(save_path, model_name, \"history_train.csv\"),index_col=0)\n",
    "valid_history = pd.read_csv(os.path.join(save_path, model_name, \"history_valid.csv\"),index_col=0)"
   ]
  },
  {
   "cell_type": "code",
   "execution_count": 24,
   "metadata": {
    "colab": {},
    "colab_type": "code",
    "id": "H3JLFNJZxg69"
   },
   "outputs": [],
   "source": [
    "import matplotlib.pyplot as plt "
   ]
  },
  {
   "cell_type": "code",
   "execution_count": 25,
   "metadata": {
    "colab": {},
    "colab_type": "code",
    "id": "it_9O0Y0xg6_",
    "outputId": "7e684e94-35ca-4ab0-b0b7-7865d434fa4a"
   },
   "outputs": [
    {
     "data": {
      "image/png": "[encoded data removed]",
      "text/plain": [
       "<Figure size 720x360 with 2 Axes>"
      ]
     },
     "metadata": {
      "needs_background": "light"
     },
     "output_type": "display_data"
    }
   ],
   "source": [
    "#Loss graph\n",
    "%matplotlib inline\n",
    "\n",
    "fig = plt.figure(figsize=(10,5))\n",
    "ax = fig.add_subplot(1,2,1)\n",
    "ax.plot(train_history['loss'].tolist(), label='train loss')\n",
    "ax.plot(valid_history['loss'].tolist(), label='valid loss', color='Red')\n",
    "\n",
    "#ax.plot( range(val_freq, len(train_history)+val_freq, val_freq), valid_history['loss'], label='valid loss', marker='o', color='Red')\n",
    "#ax.axis([0, len(train_history), 0, 1.0])\n",
    "plt.xlim(0,None)\n",
    "plt.legend(fontsize=12, loc='upper right')\n",
    "plt.title('Loss graph', fontsize=15)\n",
    "plt.xlabel('epoch', fontsize=13)\n",
    "plt.ylabel('loss', fontsize=13)\n",
    "\n",
    "plt.savefig(os.path.join(save_path, model_name, 'loss_graph.png'))\n",
    "\n",
    "ax = fig.add_subplot(1,2,2)\n",
    "ax.plot(train_history['acc'].tolist(), label='train acc')\n",
    "ax.plot(valid_history['acc'].tolist(), label='valid acc', color='Red')\n",
    "\n",
    "#ax.plot( range(val_freq, len(train_history)+val_freq, val_freq), valid_history['loss'], label='valid loss', marker='o', color='Red')\n",
    "#ax.axis([0, len(train_history), 0, 1.0])\n",
    "plt.xlim(0,None)\n",
    "plt.legend(fontsize=12, loc='upper right')\n",
    "plt.title('Acc graph', fontsize=15)\n",
    "plt.xlabel('epoch', fontsize=13)\n",
    "plt.ylabel('acc', fontsize=13)\n",
    "\n",
    "\n",
    "plt.savefig(os.path.join(save_path, model_name, 'acc_graph.png'))\n"
   ]
  },
  {
   "cell_type": "code",
   "execution_count": 26,
   "metadata": {
    "colab": {},
    "colab_type": "code",
    "id": "N9JDsIyvxg7B",
    "outputId": "126b0146-dbdc-4ca8-de1d-9b14572a8bf1"
   },
   "outputs": [
    {
     "name": "stderr",
     "output_type": "stream",
     "text": [
      "/home/sohee/.local/lib/python3.6/site-packages/numpy/core/fromnumeric.py:61: FutureWarning: \n",
      "The current behaviour of 'Series.argmin' is deprecated, use 'idxmin'\n",
      "instead.\n",
      "The behavior of 'argmin' will be corrected to return the positional\n",
      "minimum in the future. For now, use 'series.values.argmin' or\n",
      "'np.argmin(np.array(values))' to get the position of the minimum\n",
      "row.\n",
      "  return bound(*args, **kwds)\n"
     ]
    }
   ],
   "source": [
    "bestepoch = int(np.argmin(valid_history['loss']))"
   ]
  },
  {
   "cell_type": "code",
   "execution_count": 27,
   "metadata": {
    "colab": {},
    "colab_type": "code",
    "id": "6Nve8UZsxg7D",
    "outputId": "5a50e4f4-3c80-441c-fe62-3f674ca92316"
   },
   "outputs": [
    {
     "name": "stdout",
     "output_type": "stream",
     "text": [
      "error: 0.7950858847238835\n"
     ]
    }
   ],
   "source": [
    "error = valid_history.loc[bestepoch,'loss']\n",
    "print (\"error: {}\".format(error))"
   ]
  },
  {
   "cell_type": "code",
   "execution_count": 28,
   "metadata": {
    "colab": {},
    "colab_type": "code",
    "id": "ogt5Ay-kxg7F",
    "outputId": "603808f4-930e-43cb-ecd5-597125a79523"
   },
   "outputs": [
    {
     "name": "stdout",
     "output_type": "stream",
     "text": [
      "INFO:tensorflow:Restoring parameters from model/346.ckpt\n",
      "Model restored\n"
     ]
    }
   ],
   "source": [
    "bestepoch=bestepoch\n",
    "MC_dropout_model.load(os.path.join(save_path, model_name,str(bestepoch)+'.ckpt'))"
   ]
  },
  {
   "cell_type": "markdown",
   "metadata": {
    "colab_type": "text",
    "id": "5aT9WMWZxg7H"
   },
   "source": [
    "### with confusion matrix"
   ]
  },
  {
   "cell_type": "code",
   "execution_count": 29,
   "metadata": {
    "colab": {},
    "colab_type": "code",
    "id": "KUz6EoWyxg7H"
   },
   "outputs": [],
   "source": [
    "import itertools\n",
    "from sklearn.metrics import confusion_matrix\n",
    "\n",
    "def plot_confusion_matrix(cm, classes,\n",
    "                          title='Confusion matrix',\n",
    "                          cmap=plt.cm.Blues):\n",
    "    \"\"\"\n",
    "    This function prints and plots the confusion matrix.\n",
    "    Normalization can be applied by setting `normalize=True`.\n",
    "    \"\"\"\n",
    "    fig=plt.figure(figsize=(10,5))\n",
    "    plt.subplot(121)\n",
    "    plt.imshow(cm, interpolation='nearest', cmap=cmap)\n",
    "\n",
    "    plt.title(title)\n",
    "    plt.colorbar()\n",
    "    tick_marks = np.arange(len(classes))\n",
    "    plt.xticks(tick_marks, classes, rotation=45)\n",
    "    plt.yticks(tick_marks, classes)\n",
    "\n",
    "    fmt =  'd'\n",
    "    thresh = cm.max() / 2.\n",
    "    for i, j in itertools.product(range(cm.shape[0]), range(cm.shape[1])):\n",
    "        plt.text(j, i, format(cm[i, j], fmt),\n",
    "                 horizontalalignment=\"center\",\n",
    "                 color=\"white\" if cm[i, j] > thresh else \"black\")\n",
    "\n",
    "    plt.ylabel('True label')\n",
    "    plt.xlabel('Predicted label')\n",
    "    \n",
    "    \n",
    "    plt.subplot(122)\n",
    "    cm = cm.astype('float') / cm.sum(axis=1)[:, np.newaxis]\n",
    "    plt.imshow(cm, interpolation='nearest', cmap=cmap)\n",
    "    plt.title(title)\n",
    "    plt.colorbar()\n",
    "    tick_marks = np.arange(len(classes))\n",
    "    plt.xticks(tick_marks, classes, rotation=45)\n",
    "    plt.yticks(tick_marks, classes)\n",
    "\n",
    "    fmt = '.2f' \n",
    "    thresh = cm.max() / 2.\n",
    "    for i, j in itertools.product(range(cm.shape[0]), range(cm.shape[1])):\n",
    "        plt.text(j, i, format(cm[i, j], fmt),\n",
    "                 horizontalalignment=\"center\",\n",
    "                 color=\"white\" if cm[i, j] > thresh else \"black\")\n",
    "\n",
    "    plt.ylabel('True label')\n",
    "    plt.xlabel('Predicted label')\n",
    "    \n",
    "    plt.tight_layout()\n",
    "    plt.show()"
   ]
  },
  {
   "cell_type": "code",
   "execution_count": 30,
   "metadata": {
    "colab": {},
    "colab_type": "code",
    "id": "jnYhx8ffyEfa"
   },
   "outputs": [],
   "source": [
    "class_list = np.unique(trainy, return_counts=False, return_index=True)[0].astype(int)"
   ]
  },
  {
   "cell_type": "markdown",
   "metadata": {
    "colab": {},
    "colab_type": "code",
    "id": "USnpndL2xg7K",
    "outputId": "c81932c3-151f-4d31-9b22-2d5e56514e74"
   },
   "source": [
    "prediction = MC_dropout_model.predict(data=trainX,keep_prob=1.0,is_dropout=False)\n",
    "prediction = np.argmax(prediction,axis=1)\n",
    "target = np.argmax(trainY,axis=1)\n",
    "\n",
    "plot_confusion_matrix(confusion_matrix(prediction,target),                      \n",
    "    classes=class_list,\n",
    "    title='HAR classifcation(train)')"
   ]
  },
  {
   "cell_type": "markdown",
   "metadata": {
    "colab": {},
    "colab_type": "code",
    "id": "8HbKsurAxg7M",
    "outputId": "58e5d399-c33a-4a5f-e102-ad1b74e461ec"
   },
   "source": [
    "prediction = MC_dropout_model.predict(data=testX,keep_prob=1.0,is_dropout=False)\n",
    "prediction = np.argmax(prediction,axis=1)\n",
    "target = np.argmax(testY,axis=1)\n",
    "\n",
    "plot_confusion_matrix(confusion_matrix(prediction,target),                      \n",
    "    classes=class_list,\n",
    "    title='HAR classifcation(test)')"
   ]
  },
  {
   "cell_type": "markdown",
   "metadata": {
    "colab_type": "text",
    "id": "TONUyKSrxg7P"
   },
   "source": [
    "# 6. Trained 된 모델에서 Last Conv output Load하기(MC dropout적용안됨)\n",
    "기존논문에서 이미지타겟으로 p(A>T)=0.005 인것과 비교하여, 시계열에서는 조금 더 낮은 threshold가 패턴을 보기에 필요함.\n",
    "현재 p(A>T) = 0.05로 조정되어있음"
   ]
  },
  {
   "cell_type": "code",
   "execution_count": 31,
   "metadata": {},
   "outputs": [],
   "source": [
    "import random"
   ]
  },
  {
   "cell_type": "code",
   "execution_count": 32,
   "metadata": {},
   "outputs": [
    {
     "name": "stdout",
     "output_type": "stream",
     "text": [
      "(7352, 128, 128)\n",
      "threshold: 5.451408863067627\n"
     ]
    }
   ],
   "source": [
    "last_conv_output = MC_dropout_model.get_last_conv_output(data=trainX,keep_prob=1.0,is_dropout=False)[:,0,:,:]\n",
    "print (last_conv_output.shape)\n",
    "threshold = np.percentile(last_conv_output,99.5)\n",
    "print (\"threshold: {}\".format(threshold))"
   ]
  },
  {
   "cell_type": "code",
   "execution_count": 33,
   "metadata": {},
   "outputs": [],
   "source": [
    "last_conv_bool = last_conv_output>threshold"
   ]
  },
  {
   "cell_type": "markdown",
   "metadata": {},
   "source": [
    "# 7.Result Visualization\n",
    "세로축(데이터) , 가로축(마지막 컨볼루션 채널) : 데이터와 별개로 각 채널마다 일관성있게 threshold를 넘은 구간이 존재함"
   ]
  },
  {
   "cell_type": "code",
   "execution_count": 34,
   "metadata": {},
   "outputs": [
    {
     "data": {
      "text/plain": [
       "<matplotlib.image.AxesImage at 0x7f8704053ba8>"
      ]
     },
     "execution_count": 34,
     "metadata": {},
     "output_type": "execute_result"
    },
    {
     "data": {
      "image/png": "[encoded data removed]",
      "text/plain": [
       "<Figure size 432x288 with 1 Axes>"
      ]
     },
     "metadata": {
      "needs_background": "light"
     },
     "output_type": "display_data"
    }
   ],
   "source": [
    "plt.imshow(last_conv_bool.sum(axis=1),aspect =\"auto\")"
   ]
  },
  {
   "cell_type": "markdown",
   "metadata": {},
   "source": [
    "## pattern candidate 추출(전체길이의 10퍼센트 이상이 highlight 된 부분)"
   ]
  },
  {
   "cell_type": "markdown",
   "metadata": {},
   "source": [
    "## 패턴의 연속성"
   ]
  },
  {
   "cell_type": "code",
   "execution_count": 35,
   "metadata": {},
   "outputs": [],
   "source": [
    "from pylab import rcParams\n",
    "rcParams['figure.figsize'] = 20, 12"
   ]
  },
  {
   "cell_type": "code",
   "execution_count": 36,
   "metadata": {},
   "outputs": [],
   "source": [
    "from itertools import groupby\n",
    "from operator import itemgetter"
   ]
  },
  {
   "cell_type": "code",
   "execution_count": 37,
   "metadata": {},
   "outputs": [
    {
     "data": {
      "text/plain": [
       "6"
      ]
     },
     "execution_count": 37,
     "metadata": {},
     "output_type": "execute_result"
    }
   ],
   "source": [
    "consecutive_num =trainX.shape[2]//20\n",
    "consecutive_num"
   ]
  },
  {
   "cell_type": "code",
   "execution_count": 38,
   "metadata": {},
   "outputs": [],
   "source": [
    "survived_channel = [i for i, x in enumerate(last_conv_bool.sum(axis=1).sum(axis=0)) if x>0]"
   ]
  },
  {
   "cell_type": "code",
   "execution_count": 39,
   "metadata": {},
   "outputs": [
    {
     "data": {
      "text/plain": [
       "[4,\n",
       " 5,\n",
       " 6,\n",
       " 7,\n",
       " 8,\n",
       " 9,\n",
       " 10,\n",
       " 11,\n",
       " 12,\n",
       " 18,\n",
       " 20,\n",
       " 21,\n",
       " 23,\n",
       " 24,\n",
       " 25,\n",
       " 26,\n",
       " 27,\n",
       " 30,\n",
       " 32,\n",
       " 33,\n",
       " 34,\n",
       " 36,\n",
       " 37,\n",
       " 40,\n",
       " 41,\n",
       " 42,\n",
       " 43,\n",
       " 46,\n",
       " 47,\n",
       " 48,\n",
       " 49,\n",
       " 50,\n",
       " 53,\n",
       " 55,\n",
       " 57,\n",
       " 58,\n",
       " 59,\n",
       " 61,\n",
       " 62,\n",
       " 63,\n",
       " 64,\n",
       " 65,\n",
       " 66,\n",
       " 67,\n",
       " 68,\n",
       " 69,\n",
       " 70,\n",
       " 71,\n",
       " 73,\n",
       " 74,\n",
       " 75,\n",
       " 76,\n",
       " 77,\n",
       " 79,\n",
       " 80,\n",
       " 81,\n",
       " 82,\n",
       " 83,\n",
       " 85,\n",
       " 86,\n",
       " 87,\n",
       " 88,\n",
       " 89,\n",
       " 90,\n",
       " 91,\n",
       " 94,\n",
       " 95,\n",
       " 96,\n",
       " 97,\n",
       " 98,\n",
       " 99,\n",
       " 100,\n",
       " 101,\n",
       " 102,\n",
       " 103,\n",
       " 105,\n",
       " 109,\n",
       " 110,\n",
       " 111,\n",
       " 112,\n",
       " 113,\n",
       " 115,\n",
       " 117,\n",
       " 118,\n",
       " 119,\n",
       " 120,\n",
       " 122,\n",
       " 124,\n",
       " 126,\n",
       " 127]"
      ]
     },
     "execution_count": 39,
     "metadata": {},
     "output_type": "execute_result"
    }
   ],
   "source": [
    "survived_channel"
   ]
  },
  {
   "cell_type": "code",
   "execution_count": 40,
   "metadata": {},
   "outputs": [
    {
     "data": {
      "text/plain": [
       "(500, 1, 128, 1)"
      ]
     },
     "execution_count": 40,
     "metadata": {},
     "output_type": "execute_result"
    }
   ],
   "source": [
    "trainX[:500,:,:,[0]].shape"
   ]
  },
  {
   "cell_type": "code",
   "execution_count": 41,
   "metadata": {},
   "outputs": [],
   "source": [
    "input_channel = 3\n",
    "consecutive_pattern=[]\n",
    "for data_idx,data in enumerate(trainX[:500,:,:,[input_channel]]):\n",
    "    for output_channel_idx in survived_channel:\n",
    "        pattern_bool =pd.DataFrame(last_conv_bool[data_idx][:,output_channel_idx])\n",
    "        pattern_idx = [p for p, x in enumerate(last_conv_bool[data_idx][:,output_channel_idx]) if x]\n",
    "        if pattern_idx:\n",
    "            groups = []\n",
    "            for _, g in groupby(pattern_idx, key=lambda n, c=itertools.count(): n-next(c)):\n",
    "                groups.append(list(g))    # Store group iterator as a list\n",
    "            for g in groups:\n",
    "                if len(g)>=consecutive_num:\n",
    "                    for c in range(0,data.shape[2]):\n",
    "                        consecutive_pattern.append({\"data_idx\":data_idx, \"pattern_idx\":g, \"pattern\":data[0,g,c]})   "
   ]
  },
  {
   "cell_type": "code",
   "execution_count": 42,
   "metadata": {},
   "outputs": [],
   "source": [
    "pattern_candidate = [x['pattern'] for x in consecutive_pattern]"
   ]
  },
  {
   "cell_type": "markdown",
   "metadata": {},
   "source": [
    "consecutive_pattern 에는 (data_idx, pattern_idx, pattern) 이 dictionary 형태로 들어가있습니다.\n",
    "여기서 pattern만 모아 pattern_candidate에 저장되어있습니다.\n",
    "pattern_candidate을 클러스터링 하면 될 것 같습니다."
   ]
  },
  {
   "cell_type": "markdown",
   "metadata": {},
   "source": [
    "pattern candidate의 길이가 매우 다양하여 이것을 어떻게 deal하면 좋을지 의논을 할 필요가 있는듯?"
   ]
  },
  {
   "cell_type": "code",
   "execution_count": 43,
   "metadata": {},
   "outputs": [],
   "source": [
    "l_pattern=[]\n",
    "for l in np.unique([len(x) for x in pattern_candidate]):\n",
    "    l_pattern.append(len([x for x in pattern_candidate if len(x)==l]))"
   ]
  },
  {
   "cell_type": "markdown",
   "metadata": {},
   "source": [
    "l_pattern_dict :패턴의 길이와 해당 길이의 패턴의 수를 매칭시켜놓은 변수"
   ]
  },
  {
   "cell_type": "code",
   "execution_count": 44,
   "metadata": {},
   "outputs": [],
   "source": [
    "l_pattern_dict=dict()\n",
    "for i,l in enumerate(l_pattern):\n",
    "    l_pattern_dict[str(np.unique([len(x) for x in pattern_candidate])[i])]=l"
   ]
  },
  {
   "cell_type": "code",
   "execution_count": 45,
   "metadata": {},
   "outputs": [
    {
     "data": {
      "text/plain": [
       "191"
      ]
     },
     "execution_count": 45,
     "metadata": {},
     "output_type": "execute_result"
    }
   ],
   "source": [
    "l_pattern_candidate = np.asarray([x for x in pattern_candidate if len(x)==6])\n",
    "len(l_pattern_candidate)"
   ]
  },
  {
   "cell_type": "code",
   "execution_count": 46,
   "metadata": {},
   "outputs": [],
   "source": [
    "data_candidate = [x['data_idx'] for x in consecutive_pattern]"
   ]
  },
  {
   "cell_type": "code",
   "execution_count": 47,
   "metadata": {},
   "outputs": [
    {
     "data": {
      "text/plain": [
       "191"
      ]
     },
     "execution_count": 47,
     "metadata": {},
     "output_type": "execute_result"
    }
   ],
   "source": [
    "l_data_candidate = [data_candidate[idx] for idx, x in enumerate(pattern_candidate) if len(x)==6]\n",
    "len(l_data_candidate)"
   ]
  },
  {
   "cell_type": "code",
   "execution_count": 48,
   "metadata": {},
   "outputs": [],
   "source": [
    "pattern_idx_candidate = [x['pattern_idx'] for x in consecutive_pattern]"
   ]
  },
  {
   "cell_type": "code",
   "execution_count": 49,
   "metadata": {},
   "outputs": [
    {
     "data": {
      "text/plain": [
       "191"
      ]
     },
     "execution_count": 49,
     "metadata": {},
     "output_type": "execute_result"
    }
   ],
   "source": [
    "l_pattern_idx_candidate = [pattern_idx_candidate[idx] for idx, x in enumerate(pattern_idx_candidate) if len(x)==6]\n",
    "len(l_pattern_idx_candidate)"
   ]
  },
  {
   "cell_type": "code",
   "execution_count": 50,
   "metadata": {},
   "outputs": [
    {
     "data": {
      "text/plain": [
       "[[14, 15, 16, 17, 18, 19],\n",
       " [6, 7, 8, 9, 10, 11],\n",
       " [65, 66, 67, 68, 69, 70],\n",
       " [80, 81, 82, 83, 84, 85],\n",
       " [1, 2, 3, 4, 5, 6],\n",
       " [16, 17, 18, 19, 20, 21],\n",
       " [74, 75, 76, 77, 78, 79],\n",
       " [10, 11, 12, 13, 14, 15],\n",
       " [66, 67, 68, 69, 70, 71],\n",
       " [2, 3, 4, 5, 6, 7],\n",
       " [122, 123, 124, 125, 126, 127],\n",
       " [122, 123, 124, 125, 126, 127],\n",
       " [14, 15, 16, 17, 18, 19],\n",
       " [82, 83, 84, 85, 86, 87],\n",
       " [82, 83, 84, 85, 86, 87],\n",
       " [83, 84, 85, 86, 87, 88],\n",
       " [82, 83, 84, 85, 86, 87],\n",
       " [97, 98, 99, 100, 101, 102],\n",
       " [18, 19, 20, 21, 22, 23],\n",
       " [18, 19, 20, 21, 22, 23],\n",
       " [19, 20, 21, 22, 23, 24],\n",
       " [18, 19, 20, 21, 22, 23],\n",
       " [33, 34, 35, 36, 37, 38],\n",
       " [113, 114, 115, 116, 117, 118],\n",
       " [49, 50, 51, 52, 53, 54],\n",
       " [122, 123, 124, 125, 126, 127],\n",
       " [122, 123, 124, 125, 126, 127],\n",
       " [64, 65, 66, 67, 68, 69],\n",
       " [64, 65, 66, 67, 68, 69],\n",
       " [63, 64, 65, 66, 67, 68],\n",
       " [63, 64, 65, 66, 67, 68],\n",
       " [64, 65, 66, 67, 68, 69],\n",
       " [64, 65, 66, 67, 68, 69],\n",
       " [64, 65, 66, 67, 68, 69],\n",
       " [64, 65, 66, 67, 68, 69],\n",
       " [0, 1, 2, 3, 4, 5],\n",
       " [0, 1, 2, 3, 4, 5],\n",
       " [0, 1, 2, 3, 4, 5],\n",
       " [0, 1, 2, 3, 4, 5],\n",
       " [0, 1, 2, 3, 4, 5],\n",
       " [0, 1, 2, 3, 4, 5],\n",
       " [0, 1, 2, 3, 4, 5],\n",
       " [0, 1, 2, 3, 4, 5],\n",
       " [0, 1, 2, 3, 4, 5],\n",
       " [0, 1, 2, 3, 4, 5],\n",
       " [0, 1, 2, 3, 4, 5],\n",
       " [0, 1, 2, 3, 4, 5],\n",
       " [0, 1, 2, 3, 4, 5],\n",
       " [0, 1, 2, 3, 4, 5],\n",
       " [0, 1, 2, 3, 4, 5],\n",
       " [0, 1, 2, 3, 4, 5],\n",
       " [0, 1, 2, 3, 4, 5],\n",
       " [0, 1, 2, 3, 4, 5],\n",
       " [80, 81, 82, 83, 84, 85],\n",
       " [16, 17, 18, 19, 20, 21],\n",
       " [108, 109, 110, 111, 112, 113],\n",
       " [44, 45, 46, 47, 48, 49],\n",
       " [97, 98, 99, 100, 101, 102],\n",
       " [83, 84, 85, 86, 87, 88],\n",
       " [19, 20, 21, 22, 23, 24],\n",
       " [117, 118, 119, 120, 121, 122],\n",
       " [53, 54, 55, 56, 57, 58],\n",
       " [72, 73, 74, 75, 76, 77],\n",
       " [8, 9, 10, 11, 12, 13],\n",
       " [91, 92, 93, 94, 95, 96],\n",
       " [27, 28, 29, 30, 31, 32],\n",
       " [73, 74, 75, 76, 77, 78],\n",
       " [9, 10, 11, 12, 13, 14],\n",
       " [99, 100, 101, 102, 103, 104],\n",
       " [35, 36, 37, 38, 39, 40],\n",
       " [80, 81, 82, 83, 84, 85],\n",
       " [120, 121, 122, 123, 124, 125],\n",
       " [16, 17, 18, 19, 20, 21],\n",
       " [109, 110, 111, 112, 113, 114],\n",
       " [56, 57, 58, 59, 60, 61],\n",
       " [45, 46, 47, 48, 49, 50],\n",
       " [86, 87, 88, 89, 90, 91],\n",
       " [22, 23, 24, 25, 26, 27],\n",
       " [65, 66, 67, 68, 69, 70],\n",
       " [1, 2, 3, 4, 5, 6],\n",
       " [72, 73, 74, 75, 76, 77],\n",
       " [8, 9, 10, 11, 12, 13],\n",
       " [73, 74, 75, 76, 77, 78],\n",
       " [9, 10, 11, 12, 13, 14],\n",
       " [106, 107, 108, 109, 110, 111],\n",
       " [93, 94, 95, 96, 97, 98],\n",
       " [42, 43, 44, 45, 46, 47],\n",
       " [93, 94, 95, 96, 97, 98],\n",
       " [93, 94, 95, 96, 97, 98],\n",
       " [93, 94, 95, 96, 97, 98],\n",
       " [29, 30, 31, 32, 33, 34],\n",
       " [29, 30, 31, 32, 33, 34],\n",
       " [62, 63, 64, 65, 66, 67],\n",
       " [29, 30, 31, 32, 33, 34],\n",
       " [29, 30, 31, 32, 33, 34],\n",
       " [97, 98, 99, 100, 101, 102],\n",
       " [120, 121, 122, 123, 124, 125],\n",
       " [33, 34, 35, 36, 37, 38],\n",
       " [56, 57, 58, 59, 60, 61],\n",
       " [63, 64, 65, 66, 67, 68],\n",
       " [70, 71, 72, 73, 74, 75],\n",
       " [6, 7, 8, 9, 10, 11],\n",
       " [94, 95, 96, 97, 98, 99],\n",
       " [30, 31, 32, 33, 34, 35],\n",
       " [71, 72, 73, 74, 75, 76],\n",
       " [71, 72, 73, 74, 75, 76],\n",
       " [7, 8, 9, 10, 11, 12],\n",
       " [7, 8, 9, 10, 11, 12],\n",
       " [62, 63, 64, 65, 66, 67],\n",
       " [88, 89, 90, 91, 92, 93],\n",
       " [24, 25, 26, 27, 28, 29],\n",
       " [68, 69, 70, 71, 72, 73],\n",
       " [4, 5, 6, 7, 8, 9],\n",
       " [69, 70, 71, 72, 73, 74],\n",
       " [5, 6, 7, 8, 9, 10],\n",
       " [98, 99, 100, 101, 102, 103],\n",
       " [122, 123, 124, 125, 126, 127],\n",
       " [34, 35, 36, 37, 38, 39],\n",
       " [58, 59, 60, 61, 62, 63],\n",
       " [46, 47, 48, 49, 50, 51],\n",
       " [103, 104, 105, 106, 107, 108],\n",
       " [103, 104, 105, 106, 107, 108],\n",
       " [53, 54, 55, 56, 57, 58],\n",
       " [78, 79, 80, 81, 82, 83],\n",
       " [39, 40, 41, 42, 43, 44],\n",
       " [39, 40, 41, 42, 43, 44],\n",
       " [14, 15, 16, 17, 18, 19],\n",
       " [6, 7, 8, 9, 10, 11],\n",
       " [88, 89, 90, 91, 92, 93],\n",
       " [24, 25, 26, 27, 28, 29],\n",
       " [81, 82, 83, 84, 85, 86],\n",
       " [110, 111, 112, 113, 114, 115],\n",
       " [46, 47, 48, 49, 50, 51],\n",
       " [104, 105, 106, 107, 108, 109],\n",
       " [40, 41, 42, 43, 44, 45],\n",
       " [91, 92, 93, 94, 95, 96],\n",
       " [27, 28, 29, 30, 31, 32],\n",
       " [66, 67, 68, 69, 70, 71],\n",
       " [66, 67, 68, 69, 70, 71],\n",
       " [2, 3, 4, 5, 6, 7],\n",
       " [2, 3, 4, 5, 6, 7],\n",
       " [105, 106, 107, 108, 109, 110],\n",
       " [41, 42, 43, 44, 45, 46],\n",
       " [88, 89, 90, 91, 92, 93],\n",
       " [111, 112, 113, 114, 115, 116],\n",
       " [24, 25, 26, 27, 28, 29],\n",
       " [119, 120, 121, 122, 123, 124],\n",
       " [47, 48, 49, 50, 51, 52],\n",
       " [115, 116, 117, 118, 119, 120],\n",
       " [55, 56, 57, 58, 59, 60],\n",
       " [51, 52, 53, 54, 55, 56],\n",
       " [114, 115, 116, 117, 118, 119],\n",
       " [50, 51, 52, 53, 54, 55],\n",
       " [80, 81, 82, 83, 84, 85],\n",
       " [16, 17, 18, 19, 20, 21],\n",
       " [105, 106, 107, 108, 109, 110],\n",
       " [41, 42, 43, 44, 45, 46],\n",
       " [85, 86, 87, 88, 89, 90],\n",
       " [21, 22, 23, 24, 25, 26],\n",
       " [97, 98, 99, 100, 101, 102],\n",
       " [33, 34, 35, 36, 37, 38],\n",
       " [119, 120, 121, 122, 123, 124],\n",
       " [55, 56, 57, 58, 59, 60],\n",
       " [0, 1, 2, 3, 4, 5],\n",
       " [114, 115, 116, 117, 118, 119],\n",
       " [50, 51, 52, 53, 54, 55],\n",
       " [43, 44, 45, 46, 47, 48],\n",
       " [43, 44, 45, 46, 47, 48],\n",
       " [64, 65, 66, 67, 68, 69],\n",
       " [0, 1, 2, 3, 4, 5],\n",
       " [88, 89, 90, 91, 92, 93],\n",
       " [24, 25, 26, 27, 28, 29],\n",
       " [98, 99, 100, 101, 102, 103],\n",
       " [122, 123, 124, 125, 126, 127],\n",
       " [34, 35, 36, 37, 38, 39],\n",
       " [84, 85, 86, 87, 88, 89],\n",
       " [84, 85, 86, 87, 88, 89],\n",
       " [20, 21, 22, 23, 24, 25],\n",
       " [20, 21, 22, 23, 24, 25],\n",
       " [58, 59, 60, 61, 62, 63],\n",
       " [101, 102, 103, 104, 105, 106],\n",
       " [37, 38, 39, 40, 41, 42],\n",
       " [79, 80, 81, 82, 83, 84],\n",
       " [15, 16, 17, 18, 19, 20],\n",
       " [111, 112, 113, 114, 115, 116],\n",
       " [111, 112, 113, 114, 115, 116],\n",
       " [36, 37, 38, 39, 40, 41],\n",
       " [36, 37, 38, 39, 40, 41],\n",
       " [107, 108, 109, 110, 111, 112],\n",
       " [65, 66, 67, 68, 69, 70],\n",
       " [93, 94, 95, 96, 97, 98]]"
      ]
     },
     "execution_count": 50,
     "metadata": {},
     "output_type": "execute_result"
    }
   ],
   "source": [
    "l_pattern_idx_candidate"
   ]
  },
  {
   "cell_type": "markdown",
   "metadata": {},
   "source": [
    "## pattern standardization\n",
    "\n",
    "1. pattern 원본 그대로 사용\n",
    "2. 평균0, 분산1 형태로 standardization\n",
    "3. 각 패턴이 0~1 사이로 min,max normalization \n",
    "\n",
    "1,2,3 방법 혹은 어떤 방법으로 정규화 할지를 같이 정하면 될것 같습니다.\n",
    "저는 우선 2번,3번 방법으로 진행해보았습니다"
   ]
  },
  {
   "cell_type": "markdown",
   "metadata": {},
   "source": [
    "#1. pattern 원본 그대로 사용\n",
    "normalized_pattern_candidate =l_pattern_candidate"
   ]
  },
  {
   "cell_type": "markdown",
   "metadata": {},
   "source": [
    "#2. 평균0, 분산1 형태로 standardization\n",
    "normalized_pattern_candidate =StandardScaler().fit_transform(np.asarray(l_pattern_candidate))"
   ]
  },
  {
   "cell_type": "code",
   "execution_count": 51,
   "metadata": {},
   "outputs": [],
   "source": [
    "#3.각 패턴이 0~1 사이로 min,max normalization\n",
    "normalized_pattern_candidate = (l_pattern_candidate.T - l_pattern_candidate.min(axis=1))/(l_pattern_candidate.max(axis=1)- l_pattern_candidate.min(axis=1))\n",
    "normalized_pattern_candidate = normalized_pattern_candidate.T"
   ]
  },
  {
   "cell_type": "markdown",
   "metadata": {},
   "source": [
    "## spectral clustering, gmm clustering"
   ]
  },
  {
   "cell_type": "code",
   "execution_count": 52,
   "metadata": {},
   "outputs": [],
   "source": [
    "from sklearn import mixture,cluster\n",
    "from sklearn.preprocessing import MinMaxScaler"
   ]
  },
  {
   "cell_type": "code",
   "execution_count": 182,
   "metadata": {
    "scrolled": true
   },
   "outputs": [
    {
     "data": {
      "image/png": "[encoded data removed]",
      "text/plain": [
       "<Figure size 1080x216 with 5 Axes>"
      ]
     },
     "metadata": {
      "needs_background": "light"
     },
     "output_type": "display_data"
    }
   ],
   "source": [
    "color = [\"crimson\",\"orange\",\"olive\",'seagreen',\"royalblue\",\"purple\",\"pink\",\"grey\",\n",
    "    \"crimson\",\"orange\",\"olive\",'seagreen',\"royalblue\",\"purple\",\"pink\",\"grey\"]\n",
    "random.seed(300)\n",
    "\n",
    "gmm =  mixture.GaussianMixture(n_components=5, covariance_type='full')\n",
    "g_pred = gmm.fit_predict(normalized_pattern_candidate)\n",
    "\n",
    "fig = plt.figure(figsize=(len(np.unique(g_pred))*3,3))\n",
    "plt.title(\"Patterns\")\n",
    "for class_ in np.unique(g_pred):\n",
    "    ax = plt.subplot(2,len(np.unique(g_pred)),len(np.unique(g_pred))+class_+1)\n",
    "    class_idx = [i for i,x in enumerate(g_pred) if x ==class_]\n",
    "    try:\n",
    "        ax.plot(normalized_pattern_candidate[random.sample(class_idx,30)].T, color =color[class_],alpha=0.6)\n",
    "        ax.plot(normalized_pattern_candidate[class_idx].mean(axis=0), color ='black',alpha=1,linewidth=5)\n",
    "    except:\n",
    "        ax.plot(normalized_pattern_candidate[class_idx].T, color =color[class_],alpha=0.6)\n",
    "        ax.plot(normalized_pattern_candidate[class_idx].mean(axis=0), color ='black',alpha=1,linewidth=5)\n",
    "#fig.suptitle(\"Spectral Clustering: {} \\nGMM: {}\".format(s_params,g_params),y=0.98)\n",
    "plt.tight_layout()\n"
   ]
  },
  {
   "cell_type": "code",
   "execution_count": 107,
   "metadata": {},
   "outputs": [],
   "source": [
    "class_0 = [i for i,x in enumerate(g_pred) if x ==0]"
   ]
  },
  {
   "cell_type": "code",
   "execution_count": 116,
   "metadata": {},
   "outputs": [],
   "source": [
    "class_1 = [i for i,x in enumerate(g_pred) if x ==1]"
   ]
  },
  {
   "cell_type": "code",
   "execution_count": 117,
   "metadata": {},
   "outputs": [],
   "source": [
    "class_2 = [i for i,x in enumerate(g_pred) if x ==2]"
   ]
  },
  {
   "cell_type": "code",
   "execution_count": 150,
   "metadata": {},
   "outputs": [],
   "source": [
    "class_3 = [i for i,x in enumerate(g_pred) if x ==3]"
   ]
  },
  {
   "cell_type": "code",
   "execution_count": 151,
   "metadata": {},
   "outputs": [],
   "source": [
    "class_4 = [i for i,x in enumerate(g_pred) if x ==4]"
   ]
  },
  {
   "cell_type": "code",
   "execution_count": 160,
   "metadata": {},
   "outputs": [],
   "source": [
    "class_list = [class_0, class_1, class_2, class_3, class_4]"
   ]
  },
  {
   "cell_type": "code",
   "execution_count": 192,
   "metadata": {},
   "outputs": [
    {
     "data": {
      "text/plain": [
       "5"
      ]
     },
     "execution_count": 192,
     "metadata": {},
     "output_type": "execute_result"
    }
   ],
   "source": [
    "int(np.argmax(trainY[67]))"
   ]
  },
  {
   "cell_type": "code",
   "execution_count": 194,
   "metadata": {},
   "outputs": [
    {
     "data": {
      "image/png": "[encoded data removed]",
      "text/plain": [
       "<Figure size 1080x216 with 1 Axes>"
      ]
     },
     "metadata": {
      "needs_background": "light"
     },
     "output_type": "display_data"
    }
   ],
   "source": [
    "input_num = 67\n",
    "flag = True\n",
    "plt.figure(figsize=[15,3])\n",
    "plt.title(\"[HAR] id :{}, true label : {}, {}th in_channel, {}th out_channel, GMM Clustering\".format(input_num,int(np.argmax(trainY[input_num])),input_channel,output_channel_idx))\n",
    "plt.xlim(0,128)\n",
    "for c, this_class in enumerate(class_list) :\n",
    "    for this_idx in this_class: \n",
    "        if l_data_candidate[this_idx] == 67 :\n",
    "            data = trainX[l_data_candidate[this_idx],0,:,0]\n",
    "            g = l_pattern_idx_candidate[this_idx]\n",
    "            g_mean = normalized_pattern_candidate[this_class].mean(axis=0)\n",
    "            x = g_mean[:,np.newaxis] #returns a numpy array\n",
    "            min_max_scaler = MinMaxScaler(feature_range=(data[g].min(), data[g].max()))\n",
    "            x_scaled = min_max_scaler.fit_transform(x)\n",
    "            if flag:\n",
    "                plt.plot(data, color='black', alpha=1)\n",
    "                flag = False\n",
    "            plt.plot(g, data[g],color = color[c], alpha=1, linewidth=5)\n",
    "            plt.plot(g, x_scaled ,color =  color[c], alpha=0.3, linewidth=15)\n",
    "plt.show()"
   ]
  },
  {
   "cell_type": "code",
   "execution_count": 195,
   "metadata": {},
   "outputs": [
    {
     "data": {
      "image/png": "[encoded data removed]",
      "text/plain": [
       "<Figure size 1080x216 with 1 Axes>"
      ]
     },
     "metadata": {
      "needs_background": "light"
     },
     "output_type": "display_data"
    }
   ],
   "source": [
    "input_num = 404\n",
    "flag = True\n",
    "plt.figure(figsize=[15,3])\n",
    "plt.title(\"[HAR] id :{}, true label : {}, {}th in_channel, {}th out_channel, GMM Clustering\".format(input_num,int(np.argmax(trainY[input_num])),input_channel,output_channel_idx))\n",
    "plt.xlim(0,128)\n",
    "for c, this_class in enumerate(class_list) :\n",
    "    for this_idx in this_class: \n",
    "        if l_data_candidate[this_idx] == input_num :\n",
    "            data = trainX[l_data_candidate[this_idx],0,:,0]\n",
    "            g = l_pattern_idx_candidate[this_idx]\n",
    "            g_mean = normalized_pattern_candidate[this_class].mean(axis=0)\n",
    "            x = g_mean[:,np.newaxis] #returns a numpy array\n",
    "            min_max_scaler = MinMaxScaler(feature_range=(data[g].min(), data[g].max()))\n",
    "            x_scaled = min_max_scaler.fit_transform(x)\n",
    "            if flag:\n",
    "                plt.plot(data, color='black', alpha=1)\n",
    "                flag = False\n",
    "            plt.plot(g, data[g],color = color[c], alpha=1, linewidth=5)\n",
    "            plt.plot(g, x_scaled ,color =  color[c], alpha=0.3, linewidth=15)\n",
    "plt.show()"
   ]
  },
  {
   "cell_type": "code",
   "execution_count": 196,
   "metadata": {},
   "outputs": [
    {
     "data": {
      "image/png": "[encoded data removed]",
      "text/plain": [
       "<Figure size 1080x216 with 1 Axes>"
      ]
     },
     "metadata": {
      "needs_background": "light"
     },
     "output_type": "display_data"
    }
   ],
   "source": [
    "input_num = 304\n",
    "flag = True\n",
    "plt.figure(figsize=[15,3])\n",
    "plt.title(\"[HAR] id :{}, true label : {}, {}th in_channel, {}th out_channel, GMM Clustering\".format(input_num,int(np.argmax(trainY[input_num])),input_channel,output_channel_idx))\n",
    "plt.xlim(0,128)\n",
    "for c, this_class in enumerate(class_list) :\n",
    "    for this_idx in this_class: \n",
    "        if l_data_candidate[this_idx] == input_num :\n",
    "            data = trainX[l_data_candidate[this_idx],0,:,0]\n",
    "            g = l_pattern_idx_candidate[this_idx]\n",
    "            g_mean = normalized_pattern_candidate[this_class].mean(axis=0)\n",
    "            x = g_mean[:,np.newaxis] #returns a numpy array\n",
    "            min_max_scaler = MinMaxScaler(feature_range=(data[g].min(), data[g].max()))\n",
    "            x_scaled = min_max_scaler.fit_transform(x)\n",
    "            if flag:\n",
    "                plt.plot(data, color='black', alpha=1)\n",
    "                flag = False\n",
    "            plt.plot(g, data[g],color = color[c], alpha=1, linewidth=5)\n",
    "            plt.plot(g, x_scaled ,color =  color[c], alpha=0.3, linewidth=15)\n",
    "plt.show()"
   ]
  },
  {
   "cell_type": "code",
   "execution_count": 197,
   "metadata": {},
   "outputs": [
    {
     "data": {
      "image/png": "[encoded data removed]",
      "text/plain": [
       "<Figure size 1080x216 with 1 Axes>"
      ]
     },
     "metadata": {
      "needs_background": "light"
     },
     "output_type": "display_data"
    }
   ],
   "source": [
    "input_num = 60\n",
    "flag = True\n",
    "plt.figure(figsize=[15,3])\n",
    "plt.title(\"[HAR] id :{}, true label : {}, {}th in_channel, {}th out_channel, GMM Clustering\".format(input_num,int(np.argmax(trainY[input_num])),input_channel,output_channel_idx))\n",
    "plt.xlim(0,128)\n",
    "for c, this_class in enumerate(class_list) :\n",
    "    for this_idx in this_class: \n",
    "        if l_data_candidate[this_idx] == input_num :\n",
    "            data = trainX[l_data_candidate[this_idx],0,:,0]\n",
    "            g = l_pattern_idx_candidate[this_idx]\n",
    "            g_mean = normalized_pattern_candidate[this_class].mean(axis=0)\n",
    "            x = g_mean[:,np.newaxis] #returns a numpy array\n",
    "            min_max_scaler = MinMaxScaler(feature_range=(data[g].min(), data[g].max()))\n",
    "            x_scaled = min_max_scaler.fit_transform(x)\n",
    "            if flag:\n",
    "                plt.plot(data, color='black', alpha=1)\n",
    "                flag = False\n",
    "            plt.plot(g, data[g],color = color[c], alpha=1, linewidth=5)\n",
    "            plt.plot(g, x_scaled ,color =  color[c], alpha=0.3, linewidth=15)\n",
    "plt.show()"
   ]
  },
  {
   "cell_type": "code",
   "execution_count": 199,
   "metadata": {},
   "outputs": [
    {
     "data": {
      "image/png": "[encoded data removed]",
      "text/plain": [
       "<Figure size 1080x216 with 1 Axes>"
      ]
     },
     "metadata": {
      "needs_background": "light"
     },
     "output_type": "display_data"
    }
   ],
   "source": [
    "input_num = 66\n",
    "flag = True\n",
    "plt.figure(figsize=[15,3])\n",
    "plt.title(\"[HAR] id :{}, true label : {}, {}th in_channel, {}th out_channel, GMM Clustering\".format(input_num,int(np.argmax(trainY[input_num])),input_channel,output_channel_idx))\n",
    "plt.xlim(0,128)\n",
    "for c, this_class in enumerate(class_list) :\n",
    "    for this_idx in this_class: \n",
    "        if l_data_candidate[this_idx] == input_num :\n",
    "            data = trainX[l_data_candidate[this_idx],0,:,0]\n",
    "            g = l_pattern_idx_candidate[this_idx]\n",
    "            g_mean = normalized_pattern_candidate[this_class].mean(axis=0)\n",
    "            x = g_mean[:,np.newaxis] #returns a numpy array\n",
    "            min_max_scaler = MinMaxScaler(feature_range=(data[g].min(), data[g].max()))\n",
    "            x_scaled = min_max_scaler.fit_transform(x)\n",
    "            if flag:\n",
    "                plt.plot(data, color='black', alpha=1)\n",
    "                flag = False\n",
    "            plt.plot(g, data[g],color = color[c], alpha=1, linewidth=5)\n",
    "            plt.plot(g, x_scaled ,color =  color[c], alpha=0.3, linewidth=15)\n",
    "plt.show()"
   ]
  },
  {
   "cell_type": "code",
   "execution_count": null,
   "metadata": {},
   "outputs": [],
   "source": [
    "input_num = 304\n",
    "flag = True\n",
    "plt.figure(figsize=[15,3])\n",
    "plt.title(\"[HAR] id :{}, true label : {}, {}th in_channel, {}th out_channel, GMM Clustering\".format(input_num,int(np.argmax(trainY[input_num])),input_channel,output_channel_idx))\n",
    "plt.xlim(0,128)\n",
    "for c, this_class in enumerate(class_list) :\n",
    "    for this_idx in this_class: \n",
    "        if l_data_candidate[this_idx] == input_num :\n",
    "            data = trainX[l_data_candidate[this_idx],0,:,0]\n",
    "            g = l_pattern_idx_candidate[this_idx]\n",
    "            g_mean = normalized_pattern_candidate[this_class].mean(axis=0)\n",
    "            x = g_mean[:,np.newaxis] #returns a numpy array\n",
    "            min_max_scaler = MinMaxScaler(feature_range=(data[g].min(), data[g].max()))\n",
    "            x_scaled = min_max_scaler.fit_transform(x)\n",
    "            if flag:\n",
    "                plt.plot(data, color='black', alpha=1)\n",
    "                flag = False\n",
    "            plt.plot(g, data[g],color = color[c], alpha=1, linewidth=5)\n",
    "            plt.plot(g, x_scaled ,color =  color[c], alpha=0.3, linewidth=15)\n",
    "plt.show()"
   ]
  },
  {
   "cell_type": "code",
   "execution_count": 175,
   "metadata": {},
   "outputs": [
    {
     "data": {
      "text/plain": [
       "(array([ 66,  67,  82,  83,  85,  94,  95,  98,  99, 101, 102, 111, 112,\n",
       "        130, 131, 136, 137, 146, 147, 168, 169, 237, 267, 268, 288, 289,\n",
       "        292, 293, 304, 305, 307, 308, 314, 315, 332, 333]),\n",
       " array([5, 5, 1, 1, 1, 1, 1, 1, 1, 1, 1, 1, 1, 1, 1, 1, 1, 1, 1, 1, 1, 1,\n",
       "        1, 2, 1, 1, 2, 2, 1, 1, 1, 1, 1, 1, 1, 1]))"
      ]
     },
     "execution_count": 175,
     "metadata": {},
     "output_type": "execute_result"
    }
   ],
   "source": [
    "np.unique([l_data_candidate[i] for i in class_0], return_counts=True)"
   ]
  },
  {
   "cell_type": "code",
   "execution_count": 176,
   "metadata": {},
   "outputs": [
    {
     "data": {
      "text/plain": [
       "(array([ 66,  67,  70,  82,  83,  85,  94,  95,  98,  99, 101, 102, 103,\n",
       "        104, 111, 112, 113, 114, 130, 131, 136, 137, 143, 144, 146, 147,\n",
       "        148, 162, 164, 165, 166, 168, 169, 237, 267, 268, 288, 289, 292,\n",
       "        293, 304, 305, 306, 307, 308, 314, 315, 327, 328, 332, 333, 342,\n",
       "        343, 344, 467, 468, 480]),\n",
       " array([5, 5, 2, 1, 1, 1, 1, 1, 1, 1, 1, 1, 1, 1, 1, 1, 1, 1, 1, 1, 1, 1,\n",
       "        4, 5, 2, 2, 1, 1, 1, 2, 1, 1, 1, 1, 1, 2, 1, 1, 2, 2, 1, 2, 1, 1,\n",
       "        1, 1, 1, 1, 1, 1, 1, 1, 1, 1, 2, 2, 2]))"
      ]
     },
     "execution_count": 176,
     "metadata": {},
     "output_type": "execute_result"
    }
   ],
   "source": [
    "np.unique([l_data_candidate[i] for i in class_1], return_counts=True)"
   ]
  },
  {
   "cell_type": "code",
   "execution_count": 187,
   "metadata": {},
   "outputs": [
    {
     "data": {
      "text/plain": [
       "(array([ 51,  53,  54,  56,  57,  59,  60,  61,  67,  68,  69,  79,  80,\n",
       "         95,  96, 113, 114, 115, 117, 118, 120, 121, 152, 153, 162, 163,\n",
       "        167, 168, 213, 237, 238, 256, 280, 281, 304, 305, 306, 404, 405,\n",
       "        411, 412, 413, 414, 474, 475, 476, 481, 487]),\n",
       " array([1, 1, 1, 1, 1, 1, 2, 1, 1, 1, 2, 1, 1, 1, 1, 1, 2, 1, 1, 1, 1, 1,\n",
       "        1, 1, 1, 1, 1, 1, 1, 3, 3, 1, 1, 1, 1, 2, 1, 1, 1, 1, 1, 2, 1, 1,\n",
       "        2, 1, 2, 1]))"
      ]
     },
     "execution_count": 187,
     "metadata": {},
     "output_type": "execute_result"
    }
   ],
   "source": [
    "np.unique([l_data_candidate[i] for i in class_2], return_counts=True)"
   ]
  },
  {
   "cell_type": "code",
   "execution_count": 177,
   "metadata": {},
   "outputs": [
    {
     "data": {
      "text/plain": [
       "(array([ 51,  60,  61,  67,  68,  69, 152, 153, 237, 238, 337, 338, 404,\n",
       "        473, 481, 487]),\n",
       " array([1, 1, 1, 1, 1, 2, 1, 1, 1, 1, 1, 1, 2, 1, 2, 2]))"
      ]
     },
     "execution_count": 177,
     "metadata": {},
     "output_type": "execute_result"
    }
   ],
   "source": [
    "np.unique([l_data_candidate[i] for i in class_3], return_counts=True)"
   ]
  },
  {
   "cell_type": "code",
   "execution_count": 178,
   "metadata": {},
   "outputs": [
    {
     "data": {
      "text/plain": [
       "(array([ 51,  53,  54,  56,  57,  59,  60, 114, 115, 167, 168, 213, 237,\n",
       "        238, 256, 280, 281, 304, 305, 306, 404, 405, 413, 414, 474, 475,\n",
       "        476]),\n",
       " array([1, 1, 1, 1, 1, 1, 1, 1, 1, 1, 1, 1, 2, 2, 1, 1, 1, 1, 2, 1, 1, 1,\n",
       "        2, 1, 1, 2, 1]))"
      ]
     },
     "execution_count": 178,
     "metadata": {},
     "output_type": "execute_result"
    }
   ],
   "source": [
    "np.unique([l_data_candidate[i] for i in class_4], return_counts=True)"
   ]
  },
  {
   "cell_type": "markdown",
   "metadata": {},
   "source": [
    "parameter 조절하며 시각화"
   ]
  },
  {
   "cell_type": "code",
   "execution_count": 61,
   "metadata": {
    "scrolled": false
   },
   "outputs": [
    {
     "ename": "NameError",
     "evalue": "name 'spectral_option' is not defined",
     "output_type": "error",
     "traceback": [
      "\u001b[0;31m---------------------------------------------------------------------------\u001b[0m",
      "\u001b[0;31mNameError\u001b[0m                                 Traceback (most recent call last)",
      "\u001b[0;32m<ipython-input-61-a0515f02ec7a>\u001b[0m in \u001b[0;36m<module>\u001b[0;34m\u001b[0m\n\u001b[1;32m      2\u001b[0m         \"crimson\",\"orange\",\"olive\",'seagreen',\"royalblue\",\"purple\",\"pink\",\"grey\"]\n\u001b[1;32m      3\u001b[0m \u001b[0mrandom\u001b[0m\u001b[0;34m.\u001b[0m\u001b[0mseed\u001b[0m\u001b[0;34m(\u001b[0m\u001b[0;36m300\u001b[0m\u001b[0;34m)\u001b[0m\u001b[0;34m\u001b[0m\u001b[0;34m\u001b[0m\u001b[0m\n\u001b[0;32m----> 4\u001b[0;31m \u001b[0;32mfor\u001b[0m \u001b[0ms_option\u001b[0m\u001b[0;34m,\u001b[0m\u001b[0mg_option\u001b[0m \u001b[0;32min\u001b[0m \u001b[0mzip\u001b[0m\u001b[0;34m(\u001b[0m\u001b[0mspectral_option\u001b[0m\u001b[0;34m,\u001b[0m\u001b[0mgmm_option\u001b[0m\u001b[0;34m)\u001b[0m\u001b[0;34m:\u001b[0m\u001b[0;34m\u001b[0m\u001b[0;34m\u001b[0m\u001b[0m\n\u001b[0m\u001b[1;32m      5\u001b[0m     \u001b[0ms_params\u001b[0m \u001b[0;34m=\u001b[0m \u001b[0mdefault_spectral\u001b[0m\u001b[0;34m.\u001b[0m\u001b[0mcopy\u001b[0m\u001b[0;34m(\u001b[0m\u001b[0;34m)\u001b[0m\u001b[0;34m\u001b[0m\u001b[0;34m\u001b[0m\u001b[0m\n\u001b[1;32m      6\u001b[0m     \u001b[0ms_params\u001b[0m\u001b[0;34m.\u001b[0m\u001b[0mupdate\u001b[0m\u001b[0;34m(\u001b[0m\u001b[0ms_option\u001b[0m\u001b[0;34m)\u001b[0m\u001b[0;34m\u001b[0m\u001b[0;34m\u001b[0m\u001b[0m\n",
      "\u001b[0;31mNameError\u001b[0m: name 'spectral_option' is not defined"
     ]
    }
   ],
   "source": [
    "color = [\"crimson\",\"orange\",\"olive\",'seagreen',\"royalblue\",\"purple\",\"pink\",\"grey\",\n",
    "        \"crimson\",\"orange\",\"olive\",'seagreen',\"royalblue\",\"purple\",\"pink\",\"grey\"]\n",
    "random.seed(300)\n",
    "for s_option,g_option in zip(spectral_option,gmm_option):\n",
    "    s_params = default_spectral.copy()\n",
    "    s_params.update(s_option)\n",
    "    \n",
    "    g_params = default_gmm.copy()\n",
    "\n",
    "    \n",
    "    gmm =  mixture.GaussianMixture(\n",
    "        n_components=g_params['n_clusters'], \n",
    "        covariance_type=g_params['covariance_type'])\n",
    "    \n",
    "    s_pred = spectral.fit_predict(normalized_pattern_candidate)\n",
    "    g_pred = gmm.fit_predict(normalized_pattern_candidate)\n",
    "    \n",
    "    fig = plt.figure(figsize=(len(np.unique(s_pred))*3,3))\n",
    "    for class_ in np.unique(s_pred): \n",
    "        ax = plt.subplot(2,len(np.unique(s_pred)),len(np.unique(s_pred))+class_+1)\n",
    "        class_idx = [i for i,x in enumerate(g_pred) if x ==class_]\n",
    "        try:\n",
    "            ax.plot(normalized_pattern_candidate[random.sample(class_idx,30)].T, color =color[class_],alpha=0.6)\n",
    "            ax.plot(normalized_pattern_candidate[class_idx].mean(axis=0), color ='black',alpha=1,linewidth=5)\n",
    "        except:\n",
    "            ax.plot(normalized_pattern_candidate[class_idx].T, color =color[class_],alpha=0.6)\n",
    "            ax.plot(normalized_pattern_candidate[class_idx].mean(axis=0), color ='black',alpha=1,linewidth=5)\n",
    "    #fig.suptitle(\"Spectral Clustering: {} \\nGMM: {}\".format(s_params,g_params),y=0.98)\n",
    "    plt.tight_layout()\n"
   ]
  },
  {
   "cell_type": "markdown",
   "metadata": {},
   "source": [
    "특정 파라미터에 해당하는 클러스터 시각화"
   ]
  },
  {
   "cell_type": "code",
   "execution_count": null,
   "metadata": {},
   "outputs": [],
   "source": [
    "import matplotlib.patheffects as pe"
   ]
  },
  {
   "cell_type": "code",
   "execution_count": null,
   "metadata": {},
   "outputs": [],
   "source": [
    "random.seed(300)\n",
    "sample_data_idx = random.sample(range(0,len(normalized_pattern_candidate)),30)\n",
    "color = [\"crimson\",\"orange\",\"olive\",'seagreen',\"royalblue\",\"purple\",\"pink\",\"grey\",\n",
    "        \"crimson\",\"orange\",\"olive\",'seagreen',\"royalblue\",\"purple\",\"pink\",\"grey\"]"
   ]
  },
  {
   "cell_type": "code",
   "execution_count": null,
   "metadata": {},
   "outputs": [],
   "source": [
    "for s_option,g_option in zip(spectral_option[::-1],gmm_option[::-1]):\n",
    "    s_params = default_spectral.copy()\n",
    "    s_params.update(s_option)\n",
    "    \n",
    "    g_params = default_gmm.copy()\n",
    "    g_params.update(g_option)\n",
    "    \n",
    "    spectral = cluster.SpectralClustering(\n",
    "        n_clusters=s_params['n_clusters'], \n",
    "        eigen_solver=s_params['eigen_solver'],\n",
    "        affinity=s_params['affinity'])\n",
    "    \n",
    "    gmm =  mixture.GaussianMixture(\n",
    "        n_components=g_params['n_clusters'], \n",
    "        covariance_type=g_params['covariance_type'])\n",
    "    \n",
    "    spectral.fit(normalized_pattern_candidate)\n",
    "    gmm.fit(normalized_pattern_candidate)\n",
    "    \n",
    "    s_pred = spectral.labels_[sample_data_idx]\n",
    "    g_pred = gmm.predict(normalized_pattern_candidate[sample_data_idx])\n",
    "    \n",
    "    num_class = len(list(set(np.unique(s_pred)).union(set(np.unique(g_pred)))))\n",
    "    fig = plt.figure(figsize=(18,5))\n",
    "    axes = fig.subplots(2,num_class)    \n",
    "    \n",
    "    for class_ in range(0,num_class):\n",
    "        class_idx = [i for i,x in enumerate(s_pred) if x ==class_]\n",
    "        try:\n",
    "            axes[0][class_+1].plot(normalized_pattern_candidate[[sample_data_idx[x] for x in class_idx]].T, color =color[class_],alpha=0.6)\n",
    "            axes[0][0].plot(normalized_pattern_candidate[[sample_data_idx[x] for x in class_idx]].mean(axis=0), color = 'black',alpha=1,linewidth=3,\n",
    "                   path_effects=[pe.Stroke(linewidth=10, foreground=color[class_]), pe.Normal()])\n",
    "        except:\n",
    "            pass\n",
    "        \n",
    "        class_idx = [i for i,x in enumerate(g_pred) if x ==class_]\n",
    "        try:\n",
    "            axes[1][class_+1].plot(normalized_pattern_candidate[[sample_data_idx[x] for x in class_idx]].T, color =color[class_],alpha=0.6)\n",
    "            axes[1][0].plot(normalized_pattern_candidate[[sample_data_idx[x] for x in class_idx]].mean(axis=0), color ='black',alpha=1,linewidth=3,\n",
    "                    path_effects=[pe.Stroke(linewidth=10, foreground=color[class_]), pe.Normal()])\n",
    "        except:\n",
    "            pass\n",
    "    #fig.suptitle(\"Spectral Clustering: {} \\nGMM: {}\".format(s_params,g_params),y=0.98)\n",
    "    plt.tight_layout()\n",
    "    break"
   ]
  },
  {
   "cell_type": "markdown",
   "metadata": {},
   "source": [
    "s_option =spectral_option[-1]\n",
    "g_option=gmm_option[-1]\n",
    "s_params = default_spectral.copy()\n",
    "s_params.update(s_option)\n",
    "\n",
    "g_params = default_gmm.copy()\n",
    "g_params.update(g_option)\n",
    "\n",
    "spectral = cluster.SpectralClustering(\n",
    "    n_clusters=s_params['n_clusters'], \n",
    "    eigen_solver=s_params['eigen_solver'],\n",
    "    affinity=s_params['affinity'])\n",
    "\n",
    "gmm =  mixture.GaussianMixture(\n",
    "    n_components=g_params['n_clusters'], \n",
    "    covariance_type=g_params['covariance_type'])\n",
    "\n",
    "s_pred = spectral.fit_predict(normalized_pattern_candidate)\n",
    "g_pred = gmm.fit_predict(normalized_pattern_candidate)\n",
    "\n",
    "s_representative_pattern =[]\n",
    "g_representative_pattern =[]\n",
    "for class_ in np.unique(s_pred):\n",
    "\n",
    "    s_class_idx = [i for i,x in enumerate(s_pred) if x ==class_]\n",
    "    s_representative_pattern.append(normalized_pattern_candidate[s_class_idx].mean(axis=0))\n",
    "\n",
    "    g_class_idx = [i for i,x in enumerate(g_pred) if x ==class_]\n",
    "    g_representative_pattern.append(normalized_pattern_candidate[g_class_idx].mean(axis=0))\n"
   ]
  },
  {
   "cell_type": "markdown",
   "metadata": {},
   "source": [
    "from mpl_toolkits.mplot3d import axes3d"
   ]
  },
  {
   "cell_type": "markdown",
   "metadata": {},
   "source": [
    "fig = plt.figure(figsize=(20,8))\n",
    "ax = fig.add_subplot(1, 2, 1,projection='3d')\n",
    "\n",
    "x = ((g_representative_pattern[0]*len(normalized_pattern_candidate)-normalized_pattern_candidate)**2).sum(axis=1)\n",
    "y = ((g_representative_pattern[1]*len(normalized_pattern_candidate)-normalized_pattern_candidate)**2).sum(axis=1)\n",
    "z = ((g_representative_pattern[2]*len(normalized_pattern_candidate)-normalized_pattern_candidate)**2).sum(axis=1)\n",
    "\n",
    "ax.scatter(x,y,z, c = g_pred)\n",
    "\n",
    "ax.set_xlabel('class1')\n",
    "ax.set_ylabel('class2')\n",
    "ax.set_zlabel('class3')\n",
    "ax.set_xticks([])\n",
    "ax.set_yticks([])\n",
    "ax.set_zticks([])\n",
    "#ax.axis('off')\n",
    "\n",
    "ax2 = fig.add_subplot(1, 2, 2,projection='3d')\n",
    "\n",
    "x = ((s_representative_pattern[0]*len(normalized_pattern_candidate)-normalized_pattern_candidate)**2).sum(axis=1)\n",
    "y = ((s_representative_pattern[1]*len(normalized_pattern_candidate)-normalized_pattern_candidate)**2).sum(axis=1)\n",
    "z = ((s_representative_pattern[2]*len(normalized_pattern_candidate)-normalized_pattern_candidate)**2).sum(axis=1)\n",
    "\n",
    "ax2.scatter(x,y,z, c = s_pred)\n",
    "\n",
    "ax2.set_xlabel('class1')\n",
    "ax2.set_ylabel('class2')\n",
    "ax2.set_zlabel('class3')\n",
    "ax2.set_xticks([])\n",
    "ax2.set_yticks([])\n",
    "ax2.set_zticks([])"
   ]
  },
  {
   "cell_type": "markdown",
   "metadata": {},
   "source": [
    "color = [\"crimson\",\"orange\",\"olive\",'seagreen',\"royalblue\",\"purple\",\"pink\",\"grey\",\n",
    "        \"crimson\",\"orange\",\"olive\",'seagreen',\"royalblue\",\"purple\",\"pink\",\"grey\"]\n",
    "random.seed(300)\n",
    "for s_option,g_option in zip(spectral_option,gmm_option):\n",
    "    s_params = default_spectral.copy()\n",
    "    s_params.update(s_option)\n",
    "    \n",
    "    g_params = default_gmm.copy()\n",
    "    g_params.update(g_option)\n",
    "    \n",
    "    spectral = cluster.SpectralClustering(\n",
    "        n_clusters=s_params['n_clusters'], \n",
    "        eigen_solver=s_params['eigen_solver'],\n",
    "        affinity=s_params['affinity'])\n",
    "    \n",
    "    gmm =  mixture.GaussianMixture(\n",
    "        n_components=g_params['n_clusters'], \n",
    "        covariance_type=g_params['covariance_type'])\n",
    "    \n",
    "    s_pred = spectral.fit(normalized_pattern_candidate)\n",
    "    g_pred = gmm.fit(normalized_pattern_candidate)\n",
    "    \n",
    "    sample_data_idx = random.sample(range(0,len(normalized_pattern_candidate)),100)\n",
    "    \n",
    "    s_pred = spectral.labels_[sample_data_idx]\n",
    "    g_pred = gmm.predict(normalized_pattern_candidate[sample_data_idx])\n",
    "    \n",
    "    fig = plt.figure(figsize=(15,3))\n",
    "    for class_ in np.unique(s_pred):\n",
    "        ax = plt.subplot(1,2,1)\n",
    "        class_idx = [sample_data_idx[i] for i,x in enumerate(s_pred) if x ==class_]\n",
    "        ax.plot(normalized_pattern_candidate[class_idx].T, color =color[class_],alpha=0.2)\n",
    "        ax.plot(normalized_pattern_candidate[class_idx].mean(axis=0), color =color[class_],alpha=1,linewidth=5)\n",
    "\n",
    "        ax2 = plt.subplot(1,2,2)\n",
    "        class_idx = [sample_data_idx[i] for i,x in enumerate(g_pred) if x ==class_]\n",
    "        try:\n",
    "            #ax2.plot(normalized_pattern_candidate[class_idx].T, color =color[class_],alpha=0.2)\n",
    "            ax2.plot(normalized_pattern_candidate[class_idx].mean(axis=0), color =color[class_],alpha=1,linewidth=5)\n",
    "        except:\n",
    "            continue\n",
    "\n",
    "    fig.suptitle(\"Spectral Clustering: {} \\nGMM: {}\".format(s_params,g_params))\n",
    "    plt.tight_layout()\n"
   ]
  },
  {
   "cell_type": "markdown",
   "metadata": {},
   "source": [
    "### plotly visualization을 위해 샘플 데이터 및 패턴 저장"
   ]
  },
  {
   "cell_type": "code",
   "execution_count": null,
   "metadata": {},
   "outputs": [],
   "source": [
    "sample_data_idx=87\n",
    "sample_output_channel = 79\n",
    "sample_data = pd.DataFrame(trainX[sample_data_idx].reshape(-1,9))"
   ]
  },
  {
   "cell_type": "code",
   "execution_count": null,
   "metadata": {},
   "outputs": [],
   "source": [
    "sample_pattern_bool =pd.DataFrame(last_conv_bool[sample_data_idx][:,sample_output_channel])\n",
    "pattern_idx = [p for p, x in enumerate(last_conv_bool[sample_data_idx][:,sample_output_channel]) if x]"
   ]
  },
  {
   "cell_type": "code",
   "execution_count": null,
   "metadata": {},
   "outputs": [],
   "source": [
    "last_conv_bool[sample_data_idx][:,sample_output_channel].sum()"
   ]
  },
  {
   "cell_type": "code",
   "execution_count": null,
   "metadata": {},
   "outputs": [],
   "source": [
    "groups = []\n",
    "for _, g in groupby(pattern_idx, key=lambda n, c=itertools.count(): n-next(c)):\n",
    "    groups.append(list(g))    # Store group iterator as a list"
   ]
  },
  {
   "cell_type": "code",
   "execution_count": null,
   "metadata": {},
   "outputs": [],
   "source": [
    "consecutive_pattern=[]\n",
    "for g in groups:\n",
    "    if len(g)>consecutive_num:\n",
    "        consecutive_pattern.extend(g)\n",
    "        \n",
    "consecutive_pattern_bool=[]\n",
    "for x in range(0,128):\n",
    "    if x in np.asarray(consecutive_pattern).flatten():\n",
    "        consecutive_pattern_bool.append(True)\n",
    "    else:\n",
    "        consecutive_pattern_bool.append(False)"
   ]
  },
  {
   "cell_type": "code",
   "execution_count": null,
   "metadata": {},
   "outputs": [],
   "source": [
    "sample_consecutive_pattern_bool= pd.DataFrame(consecutive_pattern_bool)"
   ]
  },
  {
   "cell_type": "markdown",
   "metadata": {},
   "source": [
    "sample_data.to_csv('./sample_data+pattern/'+str(sample_data_idx)+'_data.csv')\n",
    "sample_pattern_bool.to_csv('./sample_data+pattern/'+str(sample_data_idx)+'_pattern.csv')\n",
    "sample_consecutive_pattern_bool.to_csv('./sample_data+pattern/'+str(sample_data_idx)+'_consecutive_pattern.csv')"
   ]
  },
  {
   "cell_type": "markdown",
   "metadata": {},
   "source": [
    "## 2d visualization"
   ]
  },
  {
   "cell_type": "code",
   "execution_count": null,
   "metadata": {},
   "outputs": [],
   "source": [
    "import plotly\n",
    "from plotly.subplots import make_subplots\n",
    "import plotly.graph_objects as go\n",
    "\n",
    "DEFAULT_PLOTLY_COLORS=['rgba(31, 119, 180, {})', 'rgba(255, 127, 14, {})',\n",
    "                       'rgba(44, 160, 44, {})', 'rgba(214, 39, 40, {})',\n",
    "                       'rgba(148, 103, 189, {})', 'rgba(140, 86, 75, {})',\n",
    "                       'rgba(227, 119, 194, {})', 'rgba(127, 127, 127, {})',\n",
    "                       'rgba(188, 189, 34, {})', 'rgba(23, 190, 207, {})']\n",
    "\n",
    "normalized_data = (sample_data.values - sample_data.values.min(axis=0))/(sample_data.values.max(axis=0) - sample_data.values.min(axis=0))\n",
    "for cidx in range(0,sample_data.shape[1]):\n",
    "    normalized_data[:,cidx] =normalized_data[:,cidx] + cidx \n",
    "    \n",
    "    \n",
    "fig = make_subplots(\n",
    "    rows=1, cols=1, shared_xaxes=True, vertical_spacing=0.02\n",
    ")\n",
    "\n",
    "for cidx in range(sample_data.shape[-1]):\n",
    "    fig.add_trace(go.Scatter(x=np.arange(sample_data.shape[0]), \n",
    "                             y=normalized_data[:,cidx],  \n",
    "                            line_color=\"black\",\n",
    "                             line_width=1,\n",
    "                             showlegend=False,\n",
    "                             ),\n",
    "                  row=1, col=1)\n",
    "    \n",
    "    fig.add_trace(go.Scatter(x=np.arange(sample_data.shape[0])[consecutive_pattern_bool], \n",
    "                            y=normalized_data[consecutive_pattern_bool,cidx],  \n",
    "#                               fill='toself',\n",
    "                            line_color='rgba(200, 0, 200, 0.6)',\n",
    "                            line_width=5,\n",
    "                            showlegend=False,\n",
    "                            ),\n",
    "                   row=1, col=1)\n",
    "    \n",
    "fig.update_xaxes(showline=True, linewidth=2, linecolor='black',ticks=\"inside\")\n",
    "fig.update_yaxes(showline=True, linewidth=2, linecolor='black',\n",
    "                 ticks=\"inside\",nticks=sample_data.shape[1], tickwidth=2, tickcolor='black', ticklen=10,title_text='Input Channel',\n",
    "                showgrid=True, gridwidth=1, gridcolor='grey',\n",
    "                ticktext=[\"Channel1\", \"Channel2\", \"Channel3\", \"Channel4\",\"Channel5\", \"Channel6\", \"Channel7\", \"Channel8\", \"Channel9\"],\n",
    "                tickvals=[\"1\", \"2\", \"3\", \"4\", \"5\", \"6\",\"7\", \"8\", \"9\"],\n",
    "                range=[0,9])\n",
    "\n",
    "\n",
    "fig.update_layout(height=600, width=800,plot_bgcolor='rgb(256,256,256)',\n",
    "                  title_text=\"Input\")\n",
    "\n",
    "fig.show()"
   ]
  },
  {
   "cell_type": "markdown",
   "metadata": {},
   "source": [
    "## 3d visualization"
   ]
  },
  {
   "cell_type": "code",
   "execution_count": null,
   "metadata": {},
   "outputs": [],
   "source": [
    "from mpl_toolkits.mplot3d import Axes3D\n",
    "%matplotlib notebook\n",
    "%matplotlib inline\n",
    "%matplotlib qt"
   ]
  },
  {
   "cell_type": "code",
   "execution_count": null,
   "metadata": {},
   "outputs": [],
   "source": [
    "random.seed = 10005\n",
    "\n",
    "class_color= [\"cyan\",\"orange\",\"lime\",\"pink\",\"cyan\",\"orange\",\"lime\",\"pink\",\"cyan\"]\n",
    "consecutive_class_color= [\"dodgerblue\",\"coral\",\"seagreen\",\"indianred\",\"dodgerblue\",\"coral\",\"seagreen\",\"indianred\",\"dodgerblue\"]\n",
    "survived_channel = [i for i, x in enumerate(last_conv_bool.sum(axis=1).sum(axis=0)) if x>0]\n",
    "sample_channel = random.sample(survived_channel,1)\n",
    "\n",
    "consecutive_num =trainX.shape[2]//20\n",
    "\n",
    "for class_i in class_list:\n",
    "    \n",
    "    sample_data_idx =random.sample([i for i, e in enumerate(np.argmax(trainY,axis=1)) if e == (class_i-1)],1)\n",
    "    fig = plt.figure()\n",
    "    ax = fig.add_subplot(111,projection='3d')\n",
    "    fig.suptitle(\"Last Conv ({}) Consecutive ({}) ,Output(class{}) \".format(sample_channel,consecutive_num,class_i-1))\n",
    "    \n",
    "    for c in range(0,input_channel):\n",
    "        data = trainX[sample_data_idx,:,:,c].reshape(-1,1)\n",
    "        data = (data-data.min())/(data.max()-data.min())\n",
    "        pattern_idx = [p for p, x in enumerate(last_conv_bool[sample_data_idx[0],:,c]) if x]\n",
    "        #ax = fig.gca(projection='3d')\n",
    "\n",
    "        ax.plot([c]*len(data),range(0,len(data)), data.flatten())\n",
    "        # 패턴의 연속성을 찾는 구간\n",
    "        groups = []\n",
    "        for _, g in groupby(pattern_idx, key=lambda n, c=itertools.count(): n-next(c)):\n",
    "            groups.append(list(g))    # Store group iterator as a list\n",
    "        for g in groups:\n",
    "            if len(g)>consecutive_num:\n",
    "                ax.scatter([c]*len(g) ,g,data[g],color = consecutive_class_color[c], s =12,alpha=0.7)\n",
    "                #ax.add_collection3d(plt.fill_between(np.arange(g[0],g[-1]),data[g[0]:g[-1]],0), zs=1, zdir='y')\n",
    "                #ax[j].text(g[0],0,len(g))\n",
    "            #else:\n",
    "                #ax.scatter(g,[c]*len(g), data[g],color = class_color[c],s=12)\n",
    "                \n",
    "        ax.set_xticks=[]\n",
    "        ax.set_yticks=[]\n",
    "        #ax.get_proj = lambda: np.dot(Axes3D.get_proj(ax), np.diag([1, 0.8, 0.2, 1]))\n",
    "    break"
   ]
  },
  {
   "cell_type": "markdown",
   "metadata": {},
   "source": [
    "## hierarchical clustering"
   ]
  },
  {
   "cell_type": "code",
   "execution_count": null,
   "metadata": {},
   "outputs": [],
   "source": [
    "import math\n",
    "import scipy.cluster.hierarchy as hac\n",
    "import matplotlib.gridspec as gridspec\n",
    "\n",
    "D = hac.linkage(normalized_pattern_candidate, method='single',metric='euclidean')\n",
    "cut_off_level = 10\n",
    "#Dendrogram\n",
    "plt.figure(figsize=(15, 5))\n",
    "plt.title('Dendrogram of time series clustering',fontsize=25, fontweight='bold')\n",
    "plt.xlabel('sample index', fontsize=25, fontweight='bold')\n",
    "plt.ylabel('distance', fontsize=25, fontweight='bold')\n",
    "hac.dendrogram(D, leaf_rotation=90., leaf_font_size=15., ) # font size for the x axis labels\n",
    "plt.show()\n",
    "\n",
    "#result for cut_off_level\n",
    "result = pd.Series(hac.fcluster(D, cut_off_level, criterion='maxclust'))\n",
    "TimeSeries = pd.DataFrame(normalized_pattern_candidate)\n",
    "clusters = result.unique()       \n",
    "figX = 20; figY = 15\n",
    "fig = plt.subplots(figsize=(figX, figY))   \n",
    "mimg = math.ceil(cut_off_level/2.0)\n",
    "gs = gridspec.GridSpec(mimg,2, width_ratios=[1,1])   \n",
    "for ipic, c in enumerate(clusters):\n",
    "    cluster_index = result[result==c].index\n",
    "    print(ipic, \"Cluster number %d has %d elements\" % (c, len(cluster_index)))\n",
    "    ax1 = plt.subplot(gs[ipic])\n",
    "    ax1.plot(TimeSeries.T.iloc[:,cluster_index])\n",
    "    ax1.set_title(('Cluster number '+str(c)), fontsize=15, fontweight='bold')      \n",
    "plt.show()"
   ]
  },
  {
   "cell_type": "markdown",
   "metadata": {},
   "source": [
    "## SOM\n",
    "\n",
    "pip3 install git+https://github.com/compmonks/SOMPY.git --user"
   ]
  },
  {
   "cell_type": "code",
   "execution_count": null,
   "metadata": {},
   "outputs": [],
   "source": [
    "import sompy"
   ]
  },
  {
   "cell_type": "code",
   "execution_count": null,
   "metadata": {},
   "outputs": [],
   "source": [
    "som = sompy.SOMFactory.build(normalized_pattern_candidate, mapsize=None, normalization='var', initialization='pca', neighborhood='gaussian', training='batch', name='sompy')  # this will use the default parameters, but i can change the initialization and neighborhood methods\n",
    "som.train(n_job=1, verbose=False)  # verbose='debug' will print more, and verbose=None wont print anything"
   ]
  },
  {
   "cell_type": "code",
   "execution_count": null,
   "metadata": {},
   "outputs": [],
   "source": [
    "from sompy.visualization.hitmap import HitMapView\n",
    "som.cluster(4)\n",
    "hits  = HitMapView(20,20,\"Clustering\",text_size=12)\n",
    "a=hits.show(som)"
   ]
  },
  {
   "cell_type": "code",
   "execution_count": null,
   "metadata": {},
   "outputs": [],
   "source": [
    "from sompy.visualization.mapview import View2D\n",
    "view2D  = View2D(10,10,\"rand data\",text_size=10)\n",
    "view2D.show(som, col_sz=4, which_dim=\"all\", desnormalize=True)"
   ]
  },
  {
   "cell_type": "code",
   "execution_count": null,
   "metadata": {},
   "outputs": [],
   "source": [
    "from sompy.visualization.bmuhits import BmuHitsView\n",
    "\n",
    "vhts  = BmuHitsView(4,4,\"Hits Map\",text_size=12)\n",
    "vhts.show(som, anotate=True, onlyzeros=False, labelsize=12, cmap=\"Greys\", logaritmic=False)"
   ]
  }
 ],
 "metadata": {
  "colab": {
   "name": "model.ipynb",
   "provenance": []
  },
  "kernelspec": {
   "display_name": "Python 3",
   "language": "python",
   "name": "python3"
  },
  "language_info": {
   "codemirror_mode": {
    "name": "ipython",
    "version": 3
   },
   "file_extension": ".py",
   "mimetype": "text/x-python",
   "name": "python",
   "nbconvert_exporter": "python",
   "pygments_lexer": "ipython3",
   "version": "3.6.8"
  }
 },
 "nbformat": 4,
 "nbformat_minor": 1
}
